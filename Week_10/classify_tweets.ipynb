{
 "metadata": {
  "name": "classify_tweets.ipynb"
 },
 "nbformat": 3,
 "nbformat_minor": 0,
 "worksheets": [
  {
   "cells": [
    {
     "cell_type": "heading",
     "level": 3,
     "metadata": {},
     "source": [
      "Naive Bayes Classifier - twitter data"
     ]
    },
    {
     "cell_type": "raw",
     "metadata": {},
     "source": [
      "- binary classifier: decides between two labels: positive, negative\n",
      "- multi-label classifier: can assign one or more labels to pieces of text\n",
      "\n",
      "The classifier learns from labeled feature sets (training data), and then classifies an unlabeled feature set. \n",
      "The labels can be either predefined or automatically extracted.\n",
      "A feature set is basically a key-value mapping of feature names to feature values. When classifying text, the feature names are usually words, and the values are all True."
     ]
    },
    {
     "cell_type": "heading",
     "level": 4,
     "metadata": {},
     "source": [
      "Bag of Words Approach"
     ]
    },
    {
     "cell_type": "raw",
     "metadata": {},
     "source": [
      "- constructs a word presence feature set\n",
      "- feature extraction is the process of transforming a list of words into a feature set\n",
      "- when using NLTK classifier, it expects dict style feature sets"
     ]
    },
    {
     "cell_type": "code",
     "collapsed": false,
     "input": [
      "import twitter\n",
      "import json\n",
      "\n",
      "#CONSUMER_KEY = ''\n",
      "#CONSUMER_SECRET = ''\n",
      "\n",
      "#OAUTH_TOKEN = ''\n",
      "#OAUTH_TOKEN_SECRET = ''\n",
      "\n",
      "\n",
      "auth = twitter.oauth.OAuth(OAUTH_TOKEN, OAUTH_TOKEN_SECRET,\n",
      "                           CONSUMER_KEY, CONSUMER_SECRET)\n",
      "\n",
      "twitter_api = twitter.Twitter(auth=auth)"
     ],
     "language": "python",
     "metadata": {},
     "outputs": []
    },
    {
     "cell_type": "code",
     "collapsed": false,
     "input": [
      "q1 = 'bieber' \n",
      "count = 100\n",
      "\n",
      "# See https://dev.twitter.com/docs/api/1.1/get/search/tweets\n",
      "search_results = twitter_api.search.tweets(q=q1, count=count)\n",
      "q1_texts = search_results['statuses']\n",
      "\n",
      "# use a loop\n",
      "num_iterations = 10\n",
      "\n",
      "for i in range(num_iterations):\n",
      "    params = {a:b for a,b in [x.split('=') for x in search_results['search_metadata']['next_results'][1:].split('&')]}\n",
      "    max_id = int(params['max_id'])    \n",
      "    search_results = twitter_api.search.tweets(q=q1, count=count, max_id=max_id)\n",
      "    q1_texts += search_results['statuses']"
     ],
     "language": "python",
     "metadata": {},
     "outputs": []
    },
    {
     "cell_type": "code",
     "collapsed": false,
     "input": [
      "q1_texts = [status['text'] for status in q1_texts]\n",
      "words_bieber = [w.lower() for t in q1_texts for w in t.split()]"
     ],
     "language": "python",
     "metadata": {},
     "outputs": []
    },
    {
     "cell_type": "code",
     "collapsed": false,
     "input": [
      "q1_texts[:10]"
     ],
     "language": "python",
     "metadata": {},
     "outputs": []
    },
    {
     "cell_type": "code",
     "collapsed": false,
     "input": [
      "q2 = 'kardashian' \n",
      "count = 100\n",
      "\n",
      "# See https://dev.twitter.com/docs/api/1.1/get/search/tweets\n",
      "search_results = twitter_api.search.tweets(q=q2, count=count)\n",
      "q2_tweets = search_results['statuses']\n",
      "\n",
      "# use a loop\n",
      "num_iterations = 10\n",
      "\n",
      "for i in range(num_iterations):\n",
      "    params = {a:b for a,b in [x.split('=') for x in search_results['search_metadata']['next_results'][1:].split('&')]}\n",
      "    max_id = int(params['max_id'])    \n",
      "    search_results = twitter_api.search.tweets(q=q2, count=count, max_id=max_id)\n",
      "    q2_tweets += search_results['statuses']"
     ],
     "language": "python",
     "metadata": {},
     "outputs": []
    },
    {
     "cell_type": "code",
     "collapsed": false,
     "input": [
      "q2_texts = [status['text'] for status in q2_tweets]\n",
      "words_kardashian = [w.lower() for t in q2_texts for w in t.split()]"
     ],
     "language": "python",
     "metadata": {},
     "outputs": []
    },
    {
     "cell_type": "code",
     "collapsed": false,
     "input": [
      "q2_texts[:10]"
     ],
     "language": "python",
     "metadata": {},
     "outputs": []
    },
    {
     "cell_type": "heading",
     "level": 3,
     "metadata": {},
     "source": [
      "prepare our featuresets"
     ]
    },
    {
     "cell_type": "code",
     "collapsed": false,
     "input": [
      "import nltk\n",
      "from nltk.corpus import stopwords\n",
      "import re\n",
      "\n",
      "stub = re.compile('[^A-Za-z]')\n",
      "common_words = ['rt']\n",
      "\n",
      "def bag_of_non_stopwords(text):\n",
      "    # create array of words\n",
      "    words = [stub.sub('', w).lower() for w in text.split()]\n",
      "\n",
      "    # remove English stop words and common words\n",
      "    finalwords = set(words) - set(stopwords.words('english')) - set(common_words)\n",
      "    \n",
      "    # format feature set data object\n",
      "    featureset = dict([(word, True) for word in finalwords if not word.startswith('http') and len(word)>2])\n",
      "    \n",
      "    return featureset\n",
      "\n",
      "bag_of_non_stopwords(q1_texts[30])"
     ],
     "language": "python",
     "metadata": {},
     "outputs": []
    },
    {
     "cell_type": "code",
     "collapsed": false,
     "input": [
      "from collections import defaultdict\n",
      "\n",
      "def extract_features(text):\n",
      "    return bag_of_non_stopwords(text)\n",
      "\n",
      "label_features = defaultdict(list)\n",
      "\n",
      "for tweet_text in q2_texts:\n",
      "    features = extract_features(tweet_text)\n",
      "    label_features['kardashian'].append(features)"
     ],
     "language": "python",
     "metadata": {},
     "outputs": []
    },
    {
     "cell_type": "code",
     "collapsed": false,
     "input": [
      "label_features['kardashian'][1]"
     ],
     "language": "python",
     "metadata": {},
     "outputs": []
    },
    {
     "cell_type": "code",
     "collapsed": false,
     "input": [
      "for tweet_text in q1_texts:\n",
      "    features = extract_features(tweet_text)\n",
      "    label_features['bieber'].append(features)"
     ],
     "language": "python",
     "metadata": {},
     "outputs": []
    },
    {
     "cell_type": "code",
     "collapsed": false,
     "input": [
      "label_features['bieber'][3]"
     ],
     "language": "python",
     "metadata": {},
     "outputs": []
    },
    {
     "cell_type": "code",
     "collapsed": false,
     "input": [
      "label_features.keys()"
     ],
     "language": "python",
     "metadata": {},
     "outputs": []
    },
    {
     "cell_type": "code",
     "collapsed": false,
     "input": [
      "def split_label_feats(lfeats, split=0.75):\n",
      "\ttrain_feats = []\n",
      "\ttest_feats = []\n",
      "\t\n",
      "\tfor label, feats in lfeats.iteritems():\n",
      "\t\tcutoff = int(len(feats) * split)\n",
      "\t\ttrain_feats.extend([(feat, label) for feat in feats[:cutoff]])\n",
      "\t\ttest_feats.extend([(feat, label) for feat in feats[cutoff:]])\n",
      "\t\n",
      "\treturn train_feats, test_feats"
     ],
     "language": "python",
     "metadata": {},
     "outputs": []
    },
    {
     "cell_type": "code",
     "collapsed": false,
     "input": [
      "# Split data into training/testing - (split = 0.75) by default\n",
      "train_feats, test_feats = split_label_feats(label_features)\n",
      "\n",
      "print len(train_feats)\n",
      "print len(test_feats)"
     ],
     "language": "python",
     "metadata": {},
     "outputs": []
    },
    {
     "cell_type": "code",
     "collapsed": false,
     "input": [
      "# Naive Bayes Classifier\n",
      "from nltk.classify import NaiveBayesClassifier\n",
      "\n",
      "nb = NaiveBayesClassifier.train(train_feats)"
     ],
     "language": "python",
     "metadata": {},
     "outputs": []
    },
    {
     "cell_type": "code",
     "collapsed": false,
     "input": [
      "ex1_features = extract_features(\"omfg I just love him so much\")\n",
      "nb.classify(ex1_features)"
     ],
     "language": "python",
     "metadata": {},
     "outputs": []
    },
    {
     "cell_type": "code",
     "collapsed": false,
     "input": [
      "ex2_features = extract_features(\"that nude picture was @#$@#$\")\n",
      "nb.classify(ex2_features)"
     ],
     "language": "python",
     "metadata": {},
     "outputs": []
    },
    {
     "cell_type": "code",
     "collapsed": false,
     "input": [
      "# Calculate accuracy\n",
      "from nltk.classify.util import accuracy\n",
      "\n",
      "accuracy(nb, test_feats)"
     ],
     "language": "python",
     "metadata": {},
     "outputs": []
    },
    {
     "cell_type": "code",
     "collapsed": false,
     "input": [
      "# getting classification probability of each label\n",
      "probs = nb.prob_classify(test_feats[6][0])\n",
      "\n",
      "print probs.samples()\n",
      "print probs.max()\n",
      "print probs.prob('bieber')\n",
      "print probs.prob('kardashian')"
     ],
     "language": "python",
     "metadata": {},
     "outputs": []
    },
    {
     "cell_type": "code",
     "collapsed": false,
     "input": [
      "test_feats[6][0]"
     ],
     "language": "python",
     "metadata": {},
     "outputs": []
    },
    {
     "cell_type": "code",
     "collapsed": false,
     "input": [
      "# most informative feature - feature value will always be True\n",
      "\n",
      "nb.most_informative_features(10)"
     ],
     "language": "python",
     "metadata": {},
     "outputs": []
    },
    {
     "cell_type": "code",
     "collapsed": false,
     "input": [
      "# more information on the chosen label\n",
      "\n",
      "nb.show_most_informative_features(10)"
     ],
     "language": "python",
     "metadata": {},
     "outputs": []
    },
    {
     "cell_type": "code",
     "collapsed": false,
     "input": [],
     "language": "python",
     "metadata": {},
     "outputs": []
    }
   ],
   "metadata": {}
  }
 ]
}