{
 "cells": [
  {
   "cell_type": "markdown",
   "metadata": {},
   "source": [
    "# Introduction to Python"
   ]
  },
  {
   "cell_type": "code",
   "execution_count": 3,
   "metadata": {
    "collapsed": false
   },
   "outputs": [
    {
     "name": "stdout",
     "output_type": "stream",
     "text": [
      "Hello World\n"
     ]
    }
   ],
   "source": [
    "print \"Hello World\""
   ]
  },
  {
   "cell_type": "code",
   "execution_count": 5,
   "metadata": {
    "collapsed": false
   },
   "outputs": [
    {
     "data": {
      "text/plain": [
       "\"it's a string!\""
      ]
     },
     "execution_count": 5,
     "metadata": {},
     "output_type": "execute_result"
    }
   ],
   "source": [
    "# Literal Constants\n",
    "5\n",
    "1.23\n",
    "'this is a string'\n",
    "\"it's a string!\""
   ]
  },
  {
   "cell_type": "code",
   "execution_count": 7,
   "metadata": {
    "collapsed": false
   },
   "outputs": [
    {
     "name": "stdout",
     "output_type": "stream",
     "text": [
      "2\n",
      "3.23\n",
      "0.00523\n"
     ]
    }
   ],
   "source": [
    "# Numbers: integers and floats - int can be an integer of any size\n",
    "print 2\n",
    "print 3.23\n",
    "print 52.3E-4 # = 52.3 * 10 to the power of -4"
   ]
  },
  {
   "cell_type": "code",
   "execution_count": 8,
   "metadata": {
    "collapsed": false
   },
   "outputs": [
    {
     "data": {
      "text/plain": [
       "'This is a multi-line string. This is the first line.\\nThis is the second line.\\n\"What\\'s your name?,\" I asked.\\nHe said \"Bond, James Bond.\"\\n'"
      ]
     },
     "execution_count": 8,
     "metadata": {},
     "output_type": "execute_result"
    }
   ],
   "source": [
    "# Triple quotes - used to write freely \n",
    "'''This is a multi-line string. This is the first line.\n",
    "This is the second line.\n",
    "\"What's your name?,\" I asked.\n",
    "He said \"Bond, James Bond.\"\n",
    "'''\n",
    "# Strings are immutable"
   ]
  },
  {
   "cell_type": "code",
   "execution_count": 9,
   "metadata": {
    "collapsed": false
   },
   "outputs": [],
   "source": [
    "# The format method\n",
    "\n",
    "age = 20\n",
    "name = 'Gilad'"
   ]
  },
  {
   "cell_type": "code",
   "execution_count": 15,
   "metadata": {
    "collapsed": false
   },
   "outputs": [
    {
     "name": "stdout",
     "output_type": "stream",
     "text": [
      "Gilad was 21 years old when he wrote the book\n"
     ]
    }
   ],
   "source": [
    "print '{0} was {1} years old when he wrote the book'.format(name, age)\n",
    "age=22"
   ]
  },
  {
   "cell_type": "code",
   "execution_count": null,
   "metadata": {
    "collapsed": false
   },
   "outputs": [],
   "source": [
    "name + ' is ' + str(age) + ' years old'"
   ]
  },
  {
   "cell_type": "code",
   "execution_count": 17,
   "metadata": {
    "collapsed": false
   },
   "outputs": [
    {
     "data": {
      "text/plain": [
       "'Gilad is the name'"
      ]
     },
     "execution_count": 17,
     "metadata": {},
     "output_type": "execute_result"
    }
   ],
   "source": [
    "\"%s is the name\" % name"
   ]
  },
  {
   "cell_type": "code",
   "execution_count": 18,
   "metadata": {
    "collapsed": false
   },
   "outputs": [
    {
     "name": "stdout",
     "output_type": "stream",
     "text": [
      "This is a multi-line string.\n",
      "This is the second line.\n"
     ]
    }
   ],
   "source": [
    "s = '''This is a multi-line string.\n",
    "This is the second line.'''\n",
    "print s"
   ]
  },
  {
   "cell_type": "code",
   "execution_count": 19,
   "metadata": {
    "collapsed": false
   },
   "outputs": [
    {
     "name": "stdout",
     "output_type": "stream",
     "text": [
      "5\n",
      "6\n"
     ]
    }
   ],
   "source": [
    "i = 5\n",
    "print i\n",
    "i = i + 1\n",
    "print i"
   ]
  },
  {
   "cell_type": "code",
   "execution_count": 21,
   "metadata": {
    "collapsed": false
   },
   "outputs": [
    {
     "name": "stdout",
     "output_type": "stream",
     "text": [
      "Value is  5\n"
     ]
    }
   ],
   "source": [
    "# WATCH FOR INDENT\n",
    "i = 5\n",
    "\n",
    "# Error below! Notice a single space at the start of the line\n",
    "print 'Value is ', i"
   ]
  },
  {
   "cell_type": "code",
   "execution_count": null,
   "metadata": {
    "collapsed": false
   },
   "outputs": [],
   "source": [
    "print 'I repeat, the value is ', i"
   ]
  },
  {
   "cell_type": "code",
   "execution_count": 22,
   "metadata": {
    "collapsed": false
   },
   "outputs": [
    {
     "data": {
      "text/plain": [
       "5"
      ]
     },
     "execution_count": 22,
     "metadata": {},
     "output_type": "execute_result"
    }
   ],
   "source": [
    "# Operators\n",
    "\n",
    "2+3"
   ]
  },
  {
   "cell_type": "code",
   "execution_count": 23,
   "metadata": {
    "collapsed": false
   },
   "outputs": [
    {
     "data": {
      "text/plain": [
       "15"
      ]
     },
     "execution_count": 23,
     "metadata": {},
     "output_type": "execute_result"
    }
   ],
   "source": [
    "3*5"
   ]
  },
  {
   "cell_type": "code",
   "execution_count": 24,
   "metadata": {
    "collapsed": false
   },
   "outputs": [
    {
     "data": {
      "text/plain": [
       "81"
      ]
     },
     "execution_count": 24,
     "metadata": {},
     "output_type": "execute_result"
    }
   ],
   "source": [
    "3**4"
   ]
  },
  {
   "cell_type": "code",
   "execution_count": 25,
   "metadata": {
    "collapsed": false
   },
   "outputs": [
    {
     "name": "stdout",
     "output_type": "stream",
     "text": [
      "4\n",
      "4.33333333333\n"
     ]
    }
   ],
   "source": [
    "print 13/3\n",
    "print 13.0/3"
   ]
  },
  {
   "cell_type": "code",
   "execution_count": 26,
   "metadata": {
    "collapsed": false
   },
   "outputs": [
    {
     "data": {
      "text/plain": [
       "1"
      ]
     },
     "execution_count": 26,
     "metadata": {},
     "output_type": "execute_result"
    }
   ],
   "source": [
    "# MODULO Operation\n",
    "13%3"
   ]
  },
  {
   "cell_type": "code",
   "execution_count": 27,
   "metadata": {
    "collapsed": false
   },
   "outputs": [
    {
     "data": {
      "text/plain": [
       "True"
      ]
     },
     "execution_count": 27,
     "metadata": {},
     "output_type": "execute_result"
    }
   ],
   "source": [
    "13>3"
   ]
  },
  {
   "cell_type": "code",
   "execution_count": 28,
   "metadata": {
    "collapsed": false
   },
   "outputs": [
    {
     "data": {
      "text/plain": [
       "True"
      ]
     },
     "execution_count": 28,
     "metadata": {},
     "output_type": "execute_result"
    }
   ],
   "source": [
    "x = 2\n",
    "y = 2\n",
    "\n",
    "x == y"
   ]
  },
  {
   "cell_type": "code",
   "execution_count": 29,
   "metadata": {
    "collapsed": false
   },
   "outputs": [
    {
     "data": {
      "text/plain": [
       "False"
      ]
     },
     "execution_count": 29,
     "metadata": {},
     "output_type": "execute_result"
    }
   ],
   "source": [
    "x = 'str'\n",
    "y = 'stR'\n",
    "\n",
    "x == y"
   ]
  },
  {
   "cell_type": "code",
   "execution_count": 32,
   "metadata": {
    "collapsed": false
   },
   "outputs": [
    {
     "data": {
      "text/plain": [
       "'slkdfjSDKLJsdlkjl'"
      ]
     },
     "execution_count": 32,
     "metadata": {},
     "output_type": "execute_result"
    }
   ],
   "source": [
    "'slkdfjSDKLJsdlkjl'"
   ]
  },
  {
   "cell_type": "code",
   "execution_count": null,
   "metadata": {
    "collapsed": false
   },
   "outputs": [],
   "source": [
    "length = 5\n",
    "breadth = 2\n",
    "\n",
    "area = length * breadth\n",
    "print 'Area is', area\n",
    "print 'Perimeter is', 2 * (length + breadth)"
   ]
  },
  {
   "cell_type": "code",
   "execution_count": 4,
   "metadata": {
    "collapsed": false
   },
   "outputs": [
    {
     "name": "stdout",
     "output_type": "stream",
     "text": [
      "Yes, the string starts with \"it\"\n",
      "Yes, it contains the string \"p\"\n",
      "Yes, it contains the string \"tp\"\n"
     ]
    }
   ],
   "source": [
    "# This is a string object\n",
    "name = 'itp'\n",
    "\n",
    "if name.startswith('it'):\n",
    "    print 'Yes, the string starts with \"it\"'\n",
    "\n",
    "if 'p' in name:\n",
    "    print 'Yes, it contains the string \"p\"'\n",
    "\n",
    "if name.find('tp') != -1:\n",
    "    print 'Yes, it contains the string \"tp\"'"
   ]
  },
  {
   "cell_type": "code",
   "execution_count": null,
   "metadata": {
    "collapsed": false
   },
   "outputs": [],
   "source": [
    "# GOTO - DATA STRUCTURES (BELOW) FIRST\n",
    "\n",
    "delimiter = '_*_'\n",
    "mylist = ['tigoe', 'cshirky', 'dano', 'nancy']\n",
    "print delimiter.join(mylist)"
   ]
  },
  {
   "cell_type": "code",
   "execution_count": null,
   "metadata": {
    "collapsed": false
   },
   "outputs": [],
   "source": [
    "# some names are reserved in Python - you SHOULD NOT use them as variable names\n",
    "import keyword\n",
    "\n",
    "keyword.iskeyword('str')"
   ]
  },
  {
   "cell_type": "code",
   "execution_count": null,
   "metadata": {
    "collapsed": false
   },
   "outputs": [],
   "source": [
    "keyword.kwlist"
   ]
  },
  {
   "cell_type": "code",
   "execution_count": null,
   "metadata": {
    "collapsed": false
   },
   "outputs": [],
   "source": [
    "# Python will not stop you\n",
    "\n",
    "print unicode('will this work') # returns the unicode version of the given string"
   ]
  },
  {
   "cell_type": "code",
   "execution_count": null,
   "metadata": {
    "collapsed": false
   },
   "outputs": [],
   "source": [
    "unicode = 'will this work?'\n",
    "print unicode"
   ]
  },
  {
   "cell_type": "code",
   "execution_count": null,
   "metadata": {
    "collapsed": false
   },
   "outputs": [],
   "source": [
    "unicode('will this work?')"
   ]
  },
  {
   "cell_type": "code",
   "execution_count": null,
   "metadata": {
    "collapsed": false
   },
   "outputs": [],
   "source": [
    "del unicode\n",
    "print unicode('did that fix it?')"
   ]
  },
  {
   "cell_type": "markdown",
   "metadata": {},
   "source": [
    "## Control Flow"
   ]
  },
  {
   "cell_type": "code",
   "execution_count": 65,
   "metadata": {
    "collapsed": false
   },
   "outputs": [
    {
     "name": "stdout",
     "output_type": "stream",
     "text": [
      "Enter an integer : 10\n",
      "No, it is a little higher than that\n",
      "Done\n"
     ]
    }
   ],
   "source": [
    "# the if statement\n",
    "number = 23\n",
    "guess = int(raw_input('Enter an integer : '))\n",
    "\n",
    "if guess == number:\n",
    "    # New block starts here\n",
    "    print 'Congratulations, you guessed it.'\n",
    "    print '(but you do not win any prizes!)'\n",
    "    # New block ends here\n",
    "elif guess < number:\n",
    "    # Another block\n",
    "    print 'No, it is a little higher than that'\n",
    "    # You can do whatever you want in a block ...\n",
    "else:\n",
    "    print 'No, it is a little lower than that'\n",
    "    # you must have guessed > number to reach here\n",
    "\n",
    "print 'Done'\n",
    "# This last statement is always executed,\n",
    "# after the if statement is executed."
   ]
  },
  {
   "cell_type": "code",
   "execution_count": null,
   "metadata": {
    "collapsed": false
   },
   "outputs": [],
   "source": [
    "# the while statement\n",
    "number = 23\n",
    "running = True\n",
    "\n",
    "while running:\n",
    "    guess = int(raw_input('Enter an integer : '))\n",
    "\n",
    "    if guess == number:\n",
    "        print 'Congratulations, you guessed it.'\n",
    "        # this causes the while loop to stop\n",
    "        running = False\n",
    "    elif guess < number:\n",
    "        print 'No, it is a little higher than that.'\n",
    "    else:\n",
    "        print 'No, it is a little lower than that.'\n",
    "else:\n",
    "    print 'The while loop is over.'\n",
    "    # Do anything else you want to do here\n",
    "\n",
    "print 'Done'"
   ]
  },
  {
   "cell_type": "code",
   "execution_count": null,
   "metadata": {
    "collapsed": false
   },
   "outputs": [],
   "source": [
    "# the for loop\n",
    "for i in range(1, 5):\n",
    "    print i\n",
    "else:\n",
    "    print 'The for loop is over'"
   ]
  },
  {
   "cell_type": "code",
   "execution_count": null,
   "metadata": {
    "collapsed": false
   },
   "outputs": [],
   "source": [
    "# the break statement: break out of a loop statement\n",
    "while True:\n",
    "    s = raw_input('Enter something : ')\n",
    "    if s == 'quit':\n",
    "        break\n",
    "    print 'Length of the string is', len(s)\n",
    "print 'Done'"
   ]
  },
  {
   "cell_type": "code",
   "execution_count": null,
   "metadata": {
    "collapsed": false
   },
   "outputs": [],
   "source": [
    "# the continue statement: continues on to the next iteration of the loop\n",
    "while True:\n",
    "    s = raw_input('Enter something : ')\n",
    "    if s == 'quit':\n",
    "        break\n",
    "    if len(s) < 3:\n",
    "        print 'Too small'\n",
    "        continue\n",
    "    print 'Input is of sufficient length'\n",
    "    # Do other kinds of processing here..."
   ]
  },
  {
   "cell_type": "markdown",
   "metadata": {},
   "source": [
    "## Functions"
   ]
  },
  {
   "cell_type": "code",
   "execution_count": null,
   "metadata": {
    "collapsed": false
   },
   "outputs": [],
   "source": [
    "def say_hello():\n",
    "    # block belonging to the function\n",
    "    print 'hello world'\n",
    "# End of function\n",
    "\n",
    "say_hello() # call the function\n",
    "say_hello() # call the function again"
   ]
  },
  {
   "cell_type": "code",
   "execution_count": null,
   "metadata": {
    "collapsed": false
   },
   "outputs": [],
   "source": [
    "def print_max(a, b):\n",
    "    if a > b:\n",
    "        print a, 'is maximum'\n",
    "    elif a == b:\n",
    "        print a, 'is equal to', b\n",
    "    else:\n",
    "        print b, 'is maximum'\n",
    "\n",
    "# directly pass literal values\n",
    "print_max(3, 4)\n",
    "\n",
    "x = 5\n",
    "y = 7\n",
    "\n",
    "# pass variables as arguments\n",
    "print_max(x, y)"
   ]
  },
  {
   "cell_type": "code",
   "execution_count": null,
   "metadata": {
    "collapsed": false
   },
   "outputs": [],
   "source": [
    "# local variables\n",
    "x = 50\n",
    "\n",
    "def func(x):\n",
    "    print 'x is', x\n",
    "    x = 2\n",
    "    print 'Changed local x to', x\n",
    "\n",
    "func(x)\n",
    "print 'x is still', x"
   ]
  },
  {
   "cell_type": "code",
   "execution_count": null,
   "metadata": {
    "collapsed": false
   },
   "outputs": [],
   "source": [
    "# the global statement\n",
    "x = 50\n",
    "\n",
    "def func():\n",
    "    global x\n",
    "\n",
    "    print 'x is', x\n",
    "    x = 2\n",
    "    print 'Changed global x to', x\n",
    "\n",
    "func()\n",
    "print 'Value of x is', x"
   ]
  },
  {
   "cell_type": "code",
   "execution_count": null,
   "metadata": {
    "collapsed": false
   },
   "outputs": [],
   "source": [
    "# default argument types\n",
    "def say(message, times=1):\n",
    "    print message * times\n",
    "\n",
    "say('Hello')\n",
    "say('World', 5)"
   ]
  },
  {
   "cell_type": "code",
   "execution_count": null,
   "metadata": {
    "collapsed": false
   },
   "outputs": [],
   "source": [
    "# keyword arguments: no need to worry about argument order\n",
    "def func(a, b=5, c=10):\n",
    "    print 'a:', a, ', b:', b, ', c:', c\n",
    "\n",
    "func(3, 7)\n",
    "func(25, c=24)\n",
    "func(c=50, a=100)"
   ]
  },
  {
   "cell_type": "code",
   "execution_count": null,
   "metadata": {
    "collapsed": false
   },
   "outputs": [],
   "source": [
    "# The return statement\n",
    "def maximum(x, y):\n",
    "    if x > y:\n",
    "        return x\n",
    "    elif x == y:\n",
    "        return 'The numbers are equal'\n",
    "    else:\n",
    "        return y\n",
    "\n",
    "print maximum(2, 3)"
   ]
  },
  {
   "cell_type": "markdown",
   "metadata": {},
   "source": [
    "## Data Structures"
   ]
  },
  {
   "cell_type": "markdown",
   "metadata": {},
   "source": [
    "#### List"
   ]
  },
  {
   "cell_type": "code",
   "execution_count": 36,
   "metadata": {
    "collapsed": false
   },
   "outputs": [],
   "source": [
    "# List - holds an ordered collection of items\n",
    "\n",
    "# This is my shopping list\n",
    "shoplist = ['apple', 'mango', 'carrot', 'banana']"
   ]
  },
  {
   "cell_type": "code",
   "execution_count": 39,
   "metadata": {
    "collapsed": false
   },
   "outputs": [
    {
     "name": "stdout",
     "output_type": "stream",
     "text": [
      "I have 4 items to purchase.\n"
     ]
    }
   ],
   "source": [
    "print 'I have', len(shoplist), 'items to purchase.'"
   ]
  },
  {
   "cell_type": "code",
   "execution_count": 45,
   "metadata": {
    "collapsed": false
   },
   "outputs": [
    {
     "name": "stdout",
     "output_type": "stream",
     "text": [
      "apple mango carrot\n"
     ]
    }
   ],
   "source": [
    "print shoplist[0],shoplist[1],shoplist[2]"
   ]
  },
  {
   "cell_type": "code",
   "execution_count": 42,
   "metadata": {
    "collapsed": false
   },
   "outputs": [
    {
     "name": "stdout",
     "output_type": "stream",
     "text": [
      "These items are:\n",
      "apple\n",
      "mango\n",
      "carrot\n",
      "banana\n"
     ]
    }
   ],
   "source": [
    "print 'These items are:'\n",
    "\n",
    "for i in shoplist:\n",
    "    print i"
   ]
  },
  {
   "cell_type": "code",
   "execution_count": 46,
   "metadata": {
    "collapsed": false
   },
   "outputs": [
    {
     "name": "stdout",
     "output_type": "stream",
     "text": [
      "\n",
      "I also have to buy rice.\n",
      "My shopping list is now ['apple', 'mango', 'carrot', 'banana', 'rice']\n"
     ]
    }
   ],
   "source": [
    "print '\\nI also have to buy rice.'\n",
    "\n",
    "shoplist.append('rice')\n",
    "print 'My shopping list is now', shoplist"
   ]
  },
  {
   "cell_type": "code",
   "execution_count": 47,
   "metadata": {
    "collapsed": false
   },
   "outputs": [
    {
     "name": "stdout",
     "output_type": "stream",
     "text": [
      "I will sort my list now\n",
      "Sorted shopping list is ['apple', 'banana', 'carrot', 'mango', 'rice']\n"
     ]
    }
   ],
   "source": [
    "print 'I will sort my list now'\n",
    "shoplist.sort()\n",
    "print 'Sorted shopping list is', shoplist"
   ]
  },
  {
   "cell_type": "code",
   "execution_count": 48,
   "metadata": {
    "collapsed": false
   },
   "outputs": [
    {
     "name": "stdout",
     "output_type": "stream",
     "text": [
      "The first item I will buy is apple\n",
      "I bought the apple\n",
      "My shopping list is now ['banana', 'carrot', 'mango', 'rice']\n"
     ]
    }
   ],
   "source": [
    "print 'The first item I will buy is', shoplist[0]\n",
    "olditem = shoplist[0]\n",
    "del shoplist[0]\n",
    "print 'I bought the', olditem\n",
    "print 'My shopping list is now', shoplist"
   ]
  },
  {
   "cell_type": "markdown",
   "metadata": {},
   "source": [
    "shoplist.append([1,2,3,4,5])"
   ]
  },
  {
   "cell_type": "code",
   "execution_count": 64,
   "metadata": {
    "collapsed": false
   },
   "outputs": [
    {
     "data": {
      "text/plain": [
       "4"
      ]
     },
     "execution_count": 64,
     "metadata": {},
     "output_type": "execute_result"
    }
   ],
   "source": []
  },
  {
   "cell_type": "markdown",
   "metadata": {},
   "source": [
    "#### Tuple"
   ]
  },
  {
   "cell_type": "code",
   "execution_count": null,
   "metadata": {
    "collapsed": false
   },
   "outputs": [],
   "source": [
    "# Tuples are used to hold together multiple objects\n",
    "\n",
    "# I would recommend always using parentheses\n",
    "# to indicate start and end of tuple\n",
    "# even though parentheses are optional.\n",
    "\n",
    "shopping_list = ('milk', 'eggs', 'bacon')\n",
    "print 'Number of items in the shopping list is', len(shopping_list)"
   ]
  },
  {
   "cell_type": "code",
   "execution_count": null,
   "metadata": {
    "collapsed": true
   },
   "outputs": [],
   "source": [
    "updated_shopping_list = [\n",
    "    ('milk',1),\n",
    "    ('eggs',12),\n",
    "    ('bacon',20)\n",
    "]"
   ]
  },
  {
   "cell_type": "code",
   "execution_count": null,
   "metadata": {
    "collapsed": false
   },
   "outputs": [],
   "source": [
    "updated_shopping_list"
   ]
  },
  {
   "cell_type": "code",
   "execution_count": null,
   "metadata": {
    "collapsed": false
   },
   "outputs": [],
   "source": [
    "updated_shopping_list[0]"
   ]
  },
  {
   "cell_type": "code",
   "execution_count": null,
   "metadata": {
    "collapsed": false
   },
   "outputs": [],
   "source": [
    "# What's the total number of items in our shopping list?\n"
   ]
  },
  {
   "cell_type": "code",
   "execution_count": null,
   "metadata": {
    "collapsed": false
   },
   "outputs": [],
   "source": [
    "# you can add whichever items you'd like as a tuple\n",
    "updated_shopping_list.append((\"don't\",4,\"get\",\"the\",\"ice-cream\",\"!!!!!\"))"
   ]
  },
  {
   "cell_type": "code",
   "execution_count": null,
   "metadata": {
    "collapsed": false
   },
   "outputs": [],
   "source": [
    "updated_shopping_list"
   ]
  },
  {
   "cell_type": "markdown",
   "metadata": {},
   "source": [
    "#### Dictionary"
   ]
  },
  {
   "cell_type": "code",
   "execution_count": null,
   "metadata": {
    "collapsed": false
   },
   "outputs": [],
   "source": [
    "# A dictionary is like an address-book, given a key, you are returned a value\n",
    "\n",
    "faves = {  'Larry'   : 'ice-cream',\n",
    "        'Harry'     : 'bacon',\n",
    "        'Mary' : 'cookies',\n",
    "        'Barry'   : 'pancakes'\n",
    "    }\n",
    "\n",
    "print \"Larry's top vice is\", faves['Larry']"
   ]
  },
  {
   "cell_type": "code",
   "execution_count": null,
   "metadata": {
    "collapsed": false
   },
   "outputs": [],
   "source": [
    "# Deleting a key-value pair\n",
    "del faves['Barry']\n",
    "\n",
    "print 'There are %s users in the dictionary\\n' % (len(faves))"
   ]
  },
  {
   "cell_type": "code",
   "execution_count": null,
   "metadata": {
    "collapsed": false
   },
   "outputs": [],
   "source": [
    "for name, address in faves.items():\n",
    "    print '%s loves %s' % (name, address)"
   ]
  },
  {
   "cell_type": "code",
   "execution_count": null,
   "metadata": {
    "collapsed": false
   },
   "outputs": [],
   "source": [
    "# Adding a key-value pair\n",
    "faves['danah'] = 'bacon'\n",
    "\n",
    "if 'danah' in faves:\n",
    "    print \"danah's favorite vice is\", faves['danah']"
   ]
  },
  {
   "cell_type": "code",
   "execution_count": null,
   "metadata": {
    "collapsed": false
   },
   "outputs": [],
   "source": [
    "alphabet = 'abcdefghijklmnopqrstuvwxyz'\n",
    "\n",
    "print alphabet.split\n",
    "print alphabet.split()\n",
    "print alphabet.lower()"
   ]
  },
  {
   "cell_type": "code",
   "execution_count": null,
   "metadata": {
    "collapsed": false
   },
   "outputs": [],
   "source": [
    "print 'What are the attributes (AKA member methods and data attributes) for this type of object?'\n",
    "print dir(alphabet)"
   ]
  },
  {
   "cell_type": "code",
   "execution_count": null,
   "metadata": {
    "collapsed": false
   },
   "outputs": [],
   "source": [
    "print type(alphabet)\n",
    "print list(alphabet)\n",
    "print len(alphabet)"
   ]
  },
  {
   "cell_type": "code",
   "execution_count": null,
   "metadata": {
    "collapsed": false
   },
   "outputs": [],
   "source": [
    "print ','.join(alphabet)"
   ]
  },
  {
   "cell_type": "code",
   "execution_count": null,
   "metadata": {
    "collapsed": false
   },
   "outputs": [],
   "source": [
    "numbers = '0123456789'\n",
    "\n",
    "baz = {}\n",
    "baz['c'] = alphabet\n",
    "baz"
   ]
  },
  {
   "cell_type": "code",
   "execution_count": null,
   "metadata": {
    "collapsed": false
   },
   "outputs": [],
   "source": [
    "baz['d'] = numbers\n",
    "baz"
   ]
  },
  {
   "cell_type": "code",
   "execution_count": null,
   "metadata": {
    "collapsed": false
   },
   "outputs": [],
   "source": [
    "baz['e'] = list(numbers)\n",
    "baz"
   ]
  },
  {
   "cell_type": "code",
   "execution_count": null,
   "metadata": {
    "collapsed": false
   },
   "outputs": [],
   "source": [
    "baz['f'] = {'a': 1, 'b': 2}\n",
    "baz"
   ]
  },
  {
   "cell_type": "code",
   "execution_count": null,
   "metadata": {
    "collapsed": false
   },
   "outputs": [],
   "source": [
    "baz[alphabet] = '1'\n",
    "baz"
   ]
  },
  {
   "cell_type": "markdown",
   "metadata": {},
   "source": [
    "#### Slicing"
   ]
  },
  {
   "cell_type": "code",
   "execution_count": null,
   "metadata": {
    "collapsed": false
   },
   "outputs": [],
   "source": [
    "shoplist = ['apple', 'mango', 'carrot', 'banana']\n",
    "name = 'Gilad'\n",
    "\n",
    "# Indexing or 'Subscription' operation #\n",
    "print 'Item 0 is', shoplist[0]\n",
    "print 'Item 1 is', shoplist[1]\n",
    "print 'Item 2 is', shoplist[2]\n",
    "print 'Item 3 is', shoplist[3]\n",
    "print 'Item -1 is', shoplist[-1]\n",
    "print 'Item -2 is', shoplist[-2]\n",
    "print 'Character 0 is', name[0]"
   ]
  },
  {
   "cell_type": "code",
   "execution_count": null,
   "metadata": {
    "collapsed": false
   },
   "outputs": [],
   "source": [
    "# Slicing on a list #\n",
    "print 'Item 1 to 3 is', shoplist[1:3]\n",
    "print 'Item 2 to end is', shoplist[2:]\n",
    "print 'Item 1 to -1 is', shoplist[1:-1]\n",
    "print 'Item start to end is', shoplist[:]"
   ]
  },
  {
   "cell_type": "code",
   "execution_count": null,
   "metadata": {
    "collapsed": false
   },
   "outputs": [],
   "source": [
    "# Slicing on a string #\n",
    "print 'characters 1 to 3 is', name[1:3]\n",
    "print 'characters 2 to end is', name[2:]\n",
    "print 'characters 1 to -1 is', name[1:-1]\n",
    "print 'characters start to end is', name[:]"
   ]
  },
  {
   "cell_type": "markdown",
   "metadata": {},
   "source": [
    "#### Set"
   ]
  },
  {
   "cell_type": "code",
   "execution_count": null,
   "metadata": {
    "collapsed": false
   },
   "outputs": [],
   "source": [
    "# unique items: highly optimized for lookups, not sorted\n",
    "\n",
    "bri = set(['brazil', 'russia', 'india'])\n",
    "print 'india' in bri\n",
    "print 'usa' in bri"
   ]
  },
  {
   "cell_type": "code",
   "execution_count": null,
   "metadata": {
    "collapsed": false
   },
   "outputs": [],
   "source": [
    "bric = bri.copy()\n",
    "bric.add('china')\n",
    "print bric.issuperset(bri)"
   ]
  },
  {
   "cell_type": "code",
   "execution_count": null,
   "metadata": {
    "collapsed": false
   },
   "outputs": [],
   "source": [
    "bri.remove('russia')\n",
    "bri & bric # OR bri.intersection(bric)\n",
    "{'brazil', 'india'}"
   ]
  },
  {
   "cell_type": "markdown",
   "metadata": {},
   "source": [
    "#### List Comprehension"
   ]
  },
  {
   "cell_type": "code",
   "execution_count": null,
   "metadata": {
    "collapsed": false
   },
   "outputs": [],
   "source": [
    "# extremely useful way to derive a new list from an existing list\n",
    "\n",
    "listone = [2, 3, 4]\n",
    "listtwo = [2*i for i in listone if i > 2]\n",
    "print listtwo"
   ]
  },
  {
   "cell_type": "code",
   "execution_count": null,
   "metadata": {
    "collapsed": false
   },
   "outputs": [],
   "source": [
    "print [i for i in list(alphabet)[:5]] # AKA List comprehension (note that strings are iterables!)"
   ]
  },
  {
   "cell_type": "code",
   "execution_count": null,
   "metadata": {
    "collapsed": false
   },
   "outputs": [],
   "source": [
    "print [i.upper() for i in alphabet[::3]]"
   ]
  },
  {
   "cell_type": "markdown",
   "metadata": {},
   "source": [
    "#### References"
   ]
  },
  {
   "cell_type": "code",
   "execution_count": null,
   "metadata": {
    "collapsed": false
   },
   "outputs": [],
   "source": [
    "print 'Simple Assignment'\n",
    "shoplist = ['apple', 'mango', 'carrot', 'banana']\n",
    "# mylist is just another name pointing to the same object!\n",
    "mylist = shoplist\n",
    "\n",
    "# I purchased the first item, so I remove it from the list\n",
    "del shoplist[0]\n",
    "\n",
    "print 'shoplist is', shoplist\n",
    "print 'mylist is', mylist\n",
    "# Notice that both shoplist and mylist both print\n",
    "# the same list without the 'apple' confirming that\n",
    "# they point to the same object\n",
    "\n",
    "print 'Copy by making a full slice'\n",
    "# Make a copy by doing a full slice\n",
    "mylist = shoplist[:]\n",
    "# Remove first item\n",
    "del mylist[0]\n",
    "\n",
    "print 'shoplist is', shoplist\n",
    "print 'mylist is', mylist\n",
    "# Notice that now the two lists are different"
   ]
  },
  {
   "cell_type": "markdown",
   "metadata": {},
   "source": [
    "## Modules"
   ]
  },
  {
   "cell_type": "code",
   "execution_count": null,
   "metadata": {
    "collapsed": false
   },
   "outputs": [],
   "source": [
    "from math import sqrt\n",
    "print \"Square root of 16 is\", sqrt(16)"
   ]
  },
  {
   "cell_type": "code",
   "execution_count": null,
   "metadata": {
    "collapsed": false
   },
   "outputs": [],
   "source": [
    "presidency_platforms_url = 'http://www.presidency.ucsb.edu/platforms.php'\n",
    "HTML(\"<iframe src=\" + presidency_platforms_url + \" width=100% height=400px></iframe>\")"
   ]
  },
  {
   "cell_type": "code",
   "execution_count": null,
   "metadata": {
    "collapsed": false
   },
   "outputs": [],
   "source": [
    "import requests\n",
    "\n",
    "r = requests.get(presidency_platforms_url)\n",
    "\n",
    "print 'Server response status code = %d' % r.status_code"
   ]
  },
  {
   "cell_type": "code",
   "execution_count": null,
   "metadata": {
    "collapsed": false
   },
   "outputs": [],
   "source": [
    "r.text[:1000]"
   ]
  },
  {
   "cell_type": "markdown",
   "metadata": {},
   "source": [
    "## Files"
   ]
  },
  {
   "cell_type": "code",
   "execution_count": null,
   "metadata": {
    "collapsed": false
   },
   "outputs": [],
   "source": [
    "poem = '''\\\n",
    "Programming is fun\n",
    "When the work is done\n",
    "if you wanna make your work also fun:\n",
    "    use Python!\n",
    "'''\n",
    "\n",
    "# Open for 'w'riting\n",
    "f = open('poem.txt', 'w')\n",
    "# Write text to file\n",
    "f.write(poem)\n",
    "# Close the file\n",
    "f.close()\n",
    "\n",
    "# If no mode is specified,\n",
    "# 'r'ead mode is assumed by default\n",
    "f = open('poem.txt')\n",
    "while True:\n",
    "    line = f.readline()\n",
    "    # Zero length indicates EOF\n",
    "    if len(line) == 0:\n",
    "        break\n",
    "    # The `line` already has a newline\n",
    "    # at the end of each line\n",
    "    # since it is reading from a file.\n",
    "    print line,\n",
    "# close the file\n",
    "f.close()"
   ]
  },
  {
   "cell_type": "markdown",
   "metadata": {},
   "source": [
    "## Pickle"
   ]
  },
  {
   "cell_type": "code",
   "execution_count": null,
   "metadata": {
    "collapsed": false
   },
   "outputs": [],
   "source": [
    "# Great for storing any plain Python object in a file - easy to get it back later\n",
    "import pickle\n",
    "\n",
    "# The name of the file where we will store the object\n",
    "shoplistfile = 'shoplist.data'\n",
    "# The list of things to buy\n",
    "shoplist = ['apple', 'mango', 'carrot']\n",
    "\n",
    "# Write to the file\n",
    "f = open(shoplistfile, 'wb')\n",
    "# Dump the object to a file\n",
    "pickle.dump(shoplist, f)\n",
    "f.close()\n",
    "\n",
    "# Destroy the shoplist variable\n",
    "del shoplist\n",
    "\n",
    "# Read back from the storage\n",
    "f = open(shoplistfile, 'rb')\n",
    "# Load the object from the file\n",
    "storedlist = pickle.load(f)\n",
    "print storedlist"
   ]
  },
  {
   "cell_type": "markdown",
   "metadata": {},
   "source": [
    "## Lambda Statement"
   ]
  },
  {
   "cell_type": "code",
   "execution_count": null,
   "metadata": {
    "collapsed": false
   },
   "outputs": [],
   "source": [
    "# A lambda statement is used to create new function objects\n",
    "\n",
    "points = [ { 'x' : 2, 'y' : 3 },\n",
    "           { 'x' : 4, 'y' : 1 } ]\n",
    "points.sort(key=lambda i : i['y'])\n",
    "print points"
   ]
  },
  {
   "cell_type": "markdown",
   "metadata": {},
   "source": [
    "This tutorial heavily relies on the following sources:\n",
    "\n",
    "- http://www.rebeccaweiss.info/VAM-Python/VAM.html\n",
    "- http://www.swaroopch.com/notes/python\n"
   ]
  }
 ],
 "metadata": {
  "kernelspec": {
   "display_name": "Python 2",
   "language": "python",
   "name": "python2"
  },
  "language_info": {
   "codemirror_mode": {
    "name": "ipython",
    "version": 2
   },
   "file_extension": ".py",
   "mimetype": "text/x-python",
   "name": "python",
   "nbconvert_exporter": "python",
   "pygments_lexer": "ipython2",
   "version": "2.7.6"
  }
 },
 "nbformat": 4,
 "nbformat_minor": 0
}
