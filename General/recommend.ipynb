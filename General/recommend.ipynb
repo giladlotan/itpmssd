{
 "metadata": {
  "name": "recommend.ipynb"
 },
 "nbformat": 3,
 "nbformat_minor": 0,
 "worksheets": [
  {
   "cells": [
    {
     "cell_type": "heading",
     "level": 3,
     "metadata": {},
     "source": [
      "Recommending"
     ]
    },
    {
     "cell_type": "code",
     "collapsed": false,
     "input": [
      "users = {\"Angelica\": {\"Blues Traveler\": 3.5, \"Broken Bells\": 2.0, \n",
      "                      \"Norah Jones\": 4.5, \"Phoenix\": 5.0, \n",
      "                      \"Slightly Stoopid\": 1.5, \n",
      "                      \"The Strokes\": 2.5, \"Vampire Weekend\": 2.0}, \n",
      "         \"Bill\":     {\"Blues Traveler\": 2.0, \"Broken Bells\": 3.5, \n",
      "                      \"Deadmau5\": 4.0, \n",
      "                      \"Phoenix\": 2.0, \"Slightly Stoopid\": 3.5, \n",
      "                      \"Vampire Weekend\": 3.0}, \n",
      "         \"Chan\":     {\"Blues Traveler\": 5.0, \"Broken Bells\": 1.0, \n",
      "                      \"Deadmau5\": 1.0, \"Norah Jones\": 3.0, \n",
      "                      \"Phoenix\": 5, \"Slightly Stoopid\": 1.0}, \n",
      "         \"Dan\":      {\"Blues Traveler\": 3.0, \"Broken Bells\": 4.0, \n",
      "                      \"Deadmau5\": 4.5, \"Phoenix\": 3.0, \n",
      "                      \"Slightly Stoopid\": 4.5, \"The Strokes\": 4.0, \n",
      "                      \"Vampire Weekend\": 2.0}, \n",
      "         \"Hailey\":   {\"Broken Bells\": 4.0, \"Deadmau5\": 1.0, \n",
      "                      \"Norah Jones\": 4.0, \"The Strokes\": 4.0, \n",
      "                      \"Vampire Weekend\": 1.0}, \n",
      "         \"Jordyn\":   {\"Broken Bells\": 4.5, \"Deadmau5\": 4.0, \"Norah Jones\": 5.0, \n",
      "                      \"Phoenix\": 5.0, \"Slightly Stoopid\": 4.5, \n",
      "                      \"The Strokes\": 4.0, \"Vampire Weekend\": 4.0}, \n",
      "         \"Sam\":      {\"Blues Traveler\": 5.0, \"Broken Bells\": 2.0, \n",
      "                      \"Norah Jones\": 3.0, \"Phoenix\": 5.0, \n",
      "                      \"Slightly Stoopid\": 4.0, \"The Strokes\": 5.0}, \n",
      "         \"Veronica\": {\"Blues Traveler\": 3.0, \"Norah Jones\": 5.0, \n",
      "                      \"Phoenix\": 4.0, \"Slightly Stoopid\": 2.5, \n",
      "                      \"The Strokes\": 3.0}}"
     ],
     "language": "python",
     "metadata": {},
     "outputs": []
    },
    {
     "cell_type": "code",
     "collapsed": false,
     "input": [
      "users[\"Veronica\"]"
     ],
     "language": "python",
     "metadata": {},
     "outputs": []
    },
    {
     "cell_type": "code",
     "collapsed": false,
     "input": [
      "users[\"Hailey\"]"
     ],
     "language": "python",
     "metadata": {},
     "outputs": []
    },
    {
     "cell_type": "code",
     "collapsed": false,
     "input": [
      "def manhattan(rating1, rating2): \n",
      "    \"\"\"Computes the Manhattan distance. Both rating1 and rating2 are \n",
      "    dictionaries of the form {'The Strokes': 3.0, 'Slightly \n",
      "    Stoopid': 2.5}\"\"\"\n",
      "    distance = 0 \n",
      "    commonRatings = False\n",
      "\n",
      "    for key in rating1: \n",
      "        if key in rating2: \n",
      "            distance += abs(rating1[key] - rating2[key]) \n",
      "            commonRatings = True\n",
      "        if commonRatings: \n",
      "            return distance \n",
      "        else: \n",
      "            return -1 #Indicates no ratings in common"
     ],
     "language": "python",
     "metadata": {},
     "outputs": []
    },
    {
     "cell_type": "code",
     "collapsed": false,
     "input": [
      "manhattan(users['Hailey'], users['Veronica']) "
     ],
     "language": "python",
     "metadata": {},
     "outputs": []
    },
    {
     "cell_type": "code",
     "collapsed": false,
     "input": [
      "manhattan(users['Hailey'], users['Jordyn'])"
     ],
     "language": "python",
     "metadata": {},
     "outputs": []
    },
    {
     "cell_type": "raw",
     "metadata": {},
     "source": [
      "Now a function to find the closest person (actually this returns a sorted list with the closest person first):"
     ]
    },
    {
     "cell_type": "code",
     "collapsed": false,
     "input": [
      "def compute_nearest_neighbor(username, users):\n",
      "    \"\"\"\n",
      "    creates a sorted list of users based on their distance to username\n",
      "    \"\"\" \n",
      "    distances = [] \n",
      "    for user in users: \n",
      "        if user != username: \n",
      "            distance = manhattan(users[user], users[username]) \n",
      "            distances.append((distance, user)) \n",
      "            # sort based on distance -- closest first\n",
      "            distances.sort() \n",
      "            return distances"
     ],
     "language": "python",
     "metadata": {},
     "outputs": []
    },
    {
     "cell_type": "code",
     "collapsed": false,
     "input": [
      "compute_nearest_neighbor('Hailey', users)"
     ],
     "language": "python",
     "metadata": {},
     "outputs": []
    },
    {
     "cell_type": "raw",
     "metadata": {},
     "source": [
      "Now we can make recommendations. If we do this for Hailey:\n",
      "1. find nearest neighbor\u2014Veronica. \n",
      "2. find bands that Veronica has rated but Hailey has not (assume that Hailey would have rated the bands the same as (or at least very similar to) Veronica). \n",
      "3. Hailey has not rated the band Phoenix. Veronica has rated Phoenix a '4' so we will assume Hailey is likely to enjoy the band as well."
     ]
    },
    {
     "cell_type": "code",
     "collapsed": false,
     "input": [
      "def recommend(username, users):\n",
      "    \"\"\"\n",
      "    Give list of recommendations\n",
      "    \"\"\"\n",
      "    # first find nearest neighbor\n",
      "    nearest = compute_nearest_neighbor(username, users)[0][1] \n",
      "    recommendations = [] \n",
      "    # now find bands neighbor rated that user didn't \n",
      "    neighborRatings = users[nearest] \n",
      "    userRatings = users[username] \n",
      "    for artist in neighborRatings: \n",
      "        if not artist in userRatings:\n",
      "            recommendations.append((artist, neighborRatings[artist]))\n",
      "            recommendations.sort(key=lambda artistTuple: artistTuple[1], \n",
      "            reverse = True)\n",
      "            return recommendations"
     ],
     "language": "python",
     "metadata": {},
     "outputs": []
    },
    {
     "cell_type": "code",
     "collapsed": false,
     "input": [
      "recommend('Hailey', users)"
     ],
     "language": "python",
     "metadata": {},
     "outputs": []
    },
    {
     "cell_type": "heading",
     "level": 3,
     "metadata": {},
     "source": [
      "Pearson Correlation Coefficient"
     ]
    },
    {
     "cell_type": "raw",
     "metadata": {},
     "source": [
      "Grade Inflation: Does Hailey's '4' mean the same as Jordyn's '4'?\n",
      "We can use Pearson Correlation Coefficient to help fix this.\n",
      "\n",
      "Pearson Correlation Coefficient is a measure of correlation between two variables. Ranges between -1 (disagreement) and 1 (agreement). \n"
     ]
    },
    {
     "cell_type": "code",
     "collapsed": false,
     "input": [
      "def pearson(rating1, rating2):\n",
      "    sum_xy = 0 \n",
      "    sum_x = 0 \n",
      "    sum_y = 0 \n",
      "    sum_x2 = 0 \n",
      "    sum_y2 = 0 \n",
      "    n = 0 \n",
      "    for key in rating1: \n",
      "        if key in rating2: \n",
      "            n += 1 \n",
      "            x = rating1[key] \n",
      "            y = rating2[key] \n",
      "            sum_xy += x * y \n",
      "            sum_x += x \n",
      "            sum_y += y \n",
      "            sum_x2 += x**2 \n",
      "            sum_y2 += y**2 \n",
      "    # now compute denominator \n",
      "    denominator = sqrt(sum_x2 - (sum_x**2) / n) * sqrt(sum_y2 -(sum_y**2) / n) \n",
      "    if denominator == 0: \n",
      "        return 0 \n",
      "    else: \n",
      "        return (sum_xy - (sum_x * sum_y) / n) / denominator"
     ],
     "language": "python",
     "metadata": {},
     "outputs": []
    },
    {
     "cell_type": "code",
     "collapsed": false,
     "input": [
      "pearson(users['Angelica'], users['Bill']) "
     ],
     "language": "python",
     "metadata": {},
     "outputs": []
    },
    {
     "cell_type": "code",
     "collapsed": false,
     "input": [
      "pearson(users['Angelica'], users['Hailey']) "
     ],
     "language": "python",
     "metadata": {},
     "outputs": []
    },
    {
     "cell_type": "code",
     "collapsed": false,
     "input": [
      "pearson(users['Angelica'], users['Jordyn']) "
     ],
     "language": "python",
     "metadata": {},
     "outputs": []
    },
    {
     "cell_type": "heading",
     "level": 3,
     "metadata": {},
     "source": [
      "Cosine Similarity & K-nearest neighbor"
     ]
    },
    {
     "cell_type": "code",
     "collapsed": false,
     "input": [
      "import pickle\n",
      "path = '/Users/giladlotan/Documents/ITP Course/code/Week6/'\n",
      "used_tag = 'halloween'\n",
      "\n",
      "all_media = pickle.load(open(path+'%s_ig.p' % used_tag,'rb'))"
     ],
     "language": "python",
     "metadata": {},
     "outputs": []
    },
    {
     "cell_type": "code",
     "collapsed": false,
     "input": [
      "all_tags_nonunique = []\n",
      "for m in all_media:\n",
      "    if hasattr(m, 'tags'):\n",
      "        all_tags_nonunique += [t.name for t in m.tags]\n",
      "all_tags = set(all_tags_nonunique)"
     ],
     "language": "python",
     "metadata": {},
     "outputs": []
    },
    {
     "cell_type": "code",
     "collapsed": false,
     "input": [
      "len(all_tags)"
     ],
     "language": "python",
     "metadata": {},
     "outputs": []
    },
    {
     "cell_type": "code",
     "collapsed": false,
     "input": [
      "all_tags = list(all_tags)\n",
      "all_tags[:10]"
     ],
     "language": "python",
     "metadata": {},
     "outputs": []
    },
    {
     "cell_type": "code",
     "collapsed": false,
     "input": [
      "all_users = list(set([m.user.username for m in all_media]))"
     ],
     "language": "python",
     "metadata": {},
     "outputs": []
    },
    {
     "cell_type": "code",
     "collapsed": false,
     "input": [
      "len(all_users)"
     ],
     "language": "python",
     "metadata": {},
     "outputs": []
    },
    {
     "cell_type": "code",
     "collapsed": false,
     "input": [
      "all_users[:10]"
     ],
     "language": "python",
     "metadata": {},
     "outputs": []
    },
    {
     "cell_type": "code",
     "collapsed": false,
     "input": [
      "from collections import Counter\n",
      "\n",
      "c = Counter(all_tags_nonunique)"
     ],
     "language": "python",
     "metadata": {},
     "outputs": []
    },
    {
     "cell_type": "code",
     "collapsed": false,
     "input": [
      "c.most_common(10)"
     ],
     "language": "python",
     "metadata": {},
     "outputs": []
    },
    {
     "cell_type": "code",
     "collapsed": false,
     "input": [
      "t = 'costume'\n",
      "all_tags.index(t)"
     ],
     "language": "python",
     "metadata": {},
     "outputs": []
    },
    {
     "cell_type": "code",
     "collapsed": false,
     "input": [
      "users_to_tags = {}\n",
      "for u in all_users:\n",
      "    users_to_tags[u]=[0]*len(all_tags)"
     ],
     "language": "python",
     "metadata": {},
     "outputs": []
    },
    {
     "cell_type": "code",
     "collapsed": false,
     "input": [
      "for m in all_media:\n",
      "    if hasattr(m, 'tags'):\n",
      "        for t in m.tags:\n",
      "            #if t.name in all_tags:\n",
      "            cur_index = all_tags.index(t.name)\n",
      "            users_to_tags[m.user.username][cur_index]+=1"
     ],
     "language": "python",
     "metadata": {},
     "outputs": []
    },
    {
     "cell_type": "raw",
     "metadata": {},
     "source": [
      "Now we have a matrix (dict of lists) where IG usernames are the keys and hashtag usage are values (as a very sparse vector)"
     ]
    },
    {
     "cell_type": "code",
     "collapsed": false,
     "input": [
      "len(users_to_tags['spooky_minecraft__pokemon_'])"
     ],
     "language": "python",
     "metadata": {},
     "outputs": []
    },
    {
     "cell_type": "code",
     "collapsed": false,
     "input": [
      "import numpy as np\n",
      "np.sum(np.array(users_to_tags['spooky_minecraft__pokemon_']))"
     ],
     "language": "python",
     "metadata": {},
     "outputs": []
    },
    {
     "cell_type": "code",
     "collapsed": false,
     "input": [
      "np.array([x for x in users_to_tags['spooky_minecraft__pokemon_'] if x > 0])"
     ],
     "language": "python",
     "metadata": {},
     "outputs": []
    },
    {
     "cell_type": "code",
     "collapsed": false,
     "input": [
      "[x for x in users_to_tags['maddecourcey'] if x > 0]"
     ],
     "language": "python",
     "metadata": {},
     "outputs": []
    },
    {
     "cell_type": "code",
     "collapsed": false,
     "input": [
      "import numpy.linalg as LA\n",
      "import numpy as np\n",
      "\n",
      "cx = lambda a, b : round(np.inner(a, b)/(LA.norm(a)*LA.norm(b)), 3)"
     ],
     "language": "python",
     "metadata": {},
     "outputs": []
    },
    {
     "cell_type": "code",
     "collapsed": false,
     "input": [
      "v1 = users_to_tags['spooky_minecraft__pokemon_']\n",
      "v2 = users_to_tags['maddecourcey']\n",
      "\n",
      "cos = cx(v1,v2)\n",
      "cos"
     ],
     "language": "python",
     "metadata": {},
     "outputs": []
    },
    {
     "cell_type": "code",
     "collapsed": false,
     "input": [
      "# get top matches\n",
      "k = 5\n",
      "person = 'spooky_minecraft__pokemon_'\n",
      "scores = [(cx(users_to_tags[person], users_to_tags[other]),other) for other in all_users if other != person]"
     ],
     "language": "python",
     "metadata": {},
     "outputs": []
    },
    {
     "cell_type": "code",
     "collapsed": false,
     "input": [
      "max(scores)"
     ],
     "language": "python",
     "metadata": {},
     "outputs": []
    },
    {
     "cell_type": "code",
     "collapsed": false,
     "input": [
      "scores.sort()\n",
      "scores.reverse()\n",
      "print scores[:k]"
     ],
     "language": "python",
     "metadata": {},
     "outputs": []
    },
    {
     "cell_type": "heading",
     "level": 3,
     "metadata": {},
     "source": [
      "Item-based (tag)"
     ]
    },
    {
     "cell_type": "code",
     "collapsed": false,
     "input": [
      "tags_to_users = {}\n",
      "for t in all_tags:\n",
      "    tags_to_users[t]=[0]*len(all_users)"
     ],
     "language": "python",
     "metadata": {},
     "outputs": []
    },
    {
     "cell_type": "code",
     "collapsed": false,
     "input": [
      "for m in all_media:\n",
      "    if hasattr(m, 'tags'):\n",
      "        for t in m.tags:\n",
      "            #if t.name in all_tags:\n",
      "            cur_index = all_users.index(m.user.username)\n",
      "            tags_to_users[t.name][cur_index]+=1"
     ],
     "language": "python",
     "metadata": {},
     "outputs": []
    },
    {
     "cell_type": "code",
     "collapsed": false,
     "input": [
      "len(tags_to_users['horror'])"
     ],
     "language": "python",
     "metadata": {},
     "outputs": []
    },
    {
     "cell_type": "code",
     "collapsed": false,
     "input": [
      "# get top matches\n",
      "k = 5\n",
      "tag = 'horror'\n",
      "scores = [(cx(tags_to_users[tag], tags_to_users[other]),other) for other in all_tags if other != tag]\n",
      "\n",
      "scores.sort()\n",
      "scores.reverse()\n",
      "print scores[:k]"
     ],
     "language": "python",
     "metadata": {},
     "outputs": []
    },
    {
     "cell_type": "code",
     "collapsed": false,
     "input": [
      "# get top matches\n",
      "k = 5\n",
      "tag = 'vampire'\n",
      "scores = [(cx(tags_to_users[tag], tags_to_users[other]),other) for other in all_tags if other != tag]\n",
      "\n",
      "scores.sort()\n",
      "scores.reverse()\n",
      "print scores[:k]"
     ],
     "language": "python",
     "metadata": {},
     "outputs": []
    },
    {
     "cell_type": "code",
     "collapsed": false,
     "input": [
      "# get top matches\n",
      "k = 5\n",
      "tag = 'spider'\n",
      "scores = [(cx(tags_to_users[tag], tags_to_users[other]),other) for other in all_tags if other != tag]\n",
      "\n",
      "scores.sort()\n",
      "scores.reverse()\n",
      "print scores[:k]"
     ],
     "language": "python",
     "metadata": {},
     "outputs": []
    },
    {
     "cell_type": "heading",
     "level": 3,
     "metadata": {},
     "source": [
      "Assignment"
     ]
    },
    {
     "cell_type": "raw",
     "metadata": {},
     "source": [
      "1. Run both user-based and item-based Collaborative Filtering on a chosen dataset (Twitter, Instagram)\n",
      "\n",
      "2. Pick which signals you're using in order to compare (users, instagram_media, hashtags, mentions, RTs)\n",
      "\n",
      "3. Try out two different similarity metrics. How do they compare? What are the advantage/disadvantages of each?\n",
      "\n",
      "4. Bonus: Use a graph to compute similarities between items and make recommendations. How different are these?\n",
      "\n",
      "5. Email me your work... sorry - sitedrop is dying"
     ]
    },
    {
     "cell_type": "code",
     "collapsed": false,
     "input": [],
     "language": "python",
     "metadata": {},
     "outputs": []
    },
    {
     "cell_type": "code",
     "collapsed": false,
     "input": [],
     "language": "python",
     "metadata": {},
     "outputs": []
    },
    {
     "cell_type": "code",
     "collapsed": false,
     "input": [],
     "language": "python",
     "metadata": {},
     "outputs": []
    },
    {
     "cell_type": "code",
     "collapsed": false,
     "input": [],
     "language": "python",
     "metadata": {},
     "outputs": []
    },
    {
     "cell_type": "code",
     "collapsed": false,
     "input": [],
     "language": "python",
     "metadata": {},
     "outputs": []
    },
    {
     "cell_type": "code",
     "collapsed": false,
     "input": [],
     "language": "python",
     "metadata": {},
     "outputs": []
    },
    {
     "cell_type": "code",
     "collapsed": false,
     "input": [],
     "language": "python",
     "metadata": {},
     "outputs": []
    },
    {
     "cell_type": "heading",
     "level": 3,
     "metadata": {},
     "source": [
      "Jaccard Distance"
     ]
    },
    {
     "cell_type": "markdown",
     "metadata": {},
     "source": [
      "Jaccard Distance calculates the relative overlap of two vectors ( a single row of the above user/item matrix). "
     ]
    },
    {
     "cell_type": "code",
     "collapsed": false,
     "input": [
      "from IPython.core.display import Image \n",
      "path = '/Users/giladlotan/Documents/ITP Course/code/Week7/'\n",
      "Image(filename=path+'jaccard.png')"
     ],
     "language": "python",
     "metadata": {},
     "outputs": []
    },
    {
     "cell_type": "markdown",
     "metadata": {},
     "source": [
      "The overlap (Intersect) is scaled by the overall set size (the union): So let us look at an example two sets from our example data-set X6 and X7\n",
      "\n",
      "x=[1001111010] and y=[0111111111]\n",
      "\n",
      "The intersect is x\u2229y=5\n",
      "\n",
      "The union is x\u222ay=10\n",
      "\n",
      "Jacc(x,y)=1\u22120.5=0.5"
     ]
    },
    {
     "cell_type": "code",
     "collapsed": false,
     "input": [],
     "language": "python",
     "metadata": {},
     "outputs": []
    },
    {
     "cell_type": "raw",
     "metadata": {},
     "source": [
      "Thanks - http://guidetodatamining.com/guide/ch2/DataMining-ch2.pdf"
     ]
    }
   ],
   "metadata": {}
  }
 ]
}