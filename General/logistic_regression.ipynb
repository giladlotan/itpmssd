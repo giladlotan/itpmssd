{
 "metadata": {
  "name": "logistic_regression.ipynb"
 },
 "nbformat": 3,
 "nbformat_minor": 0,
 "worksheets": [
  {
   "cells": [
    {
     "cell_type": "heading",
     "level": 3,
     "metadata": {},
     "source": [
      "Logistic Regression"
     ]
    },
    {
     "cell_type": "raw",
     "metadata": {},
     "source": [
      "What are the odds that an event will happen? \n",
      "- answering yes/no questions...\n",
      "\n",
      "What is the probability of getting a loan of 10,000 dollars at 12% or less interest, with a FICO score of 720?\n",
      "--> Let's set a threshold: if we get a probability of less than 0.67 it means we won't get the loan.\n",
      "\n",
      "Our model:\n",
      "\n",
      "    InterestRate = a0 + a1\u2217FICOScore + a2\u2217LoanAmount\n",
      "\n",
      "Z = Prob(InterestRate < 12%)"
     ]
    },
    {
     "cell_type": "code",
     "collapsed": false,
     "input": [
      "import pandas as pd\n",
      "\n",
      "path = '/Users/giladlotan/Documents/ITP Course/code/Week10/'\n",
      "df = pd.read_csv(path+'loanf.csv')"
     ],
     "language": "python",
     "metadata": {},
     "outputs": []
    },
    {
     "cell_type": "code",
     "collapsed": false,
     "input": [
      "# lets add a column which indicates True/False -> whether the interest rate is <= 12\n",
      "df['TF'] = df['Interest.Rate']<=12\n",
      "df.head()"
     ],
     "language": "python",
     "metadata": {},
     "outputs": []
    },
    {
     "cell_type": "code",
     "collapsed": false,
     "input": [
      "# verify\n",
      "d = df[df['Interest.Rate']==10]\n",
      "d.head()"
     ],
     "language": "python",
     "metadata": {},
     "outputs": []
    },
    {
     "cell_type": "code",
     "collapsed": false,
     "input": [
      "import statsmodels.api as sm\n",
      "# use logistic regression modeler\n",
      "\n",
      "df['intercept']=1.0 # add constant column representing the intercept\n",
      "\n",
      "ind_cols = ['FICO.Score','Loan.Amount','intercept']\n",
      "logit = sm.Logit(df['TF'], df[ind_cols])\n",
      "f = logit.fit()"
     ],
     "language": "python",
     "metadata": {},
     "outputs": []
    },
    {
     "cell_type": "code",
     "collapsed": false,
     "input": [
      "coeff = f.params\n",
      "coeff"
     ],
     "language": "python",
     "metadata": {},
     "outputs": []
    },
    {
     "cell_type": "raw",
     "metadata": {},
     "source": [
      "Using the coefficients that we've just calculated, we fill in our multivariate linear regression:\n",
      "\n",
      "z = \u221260.125 + 0.087423\u2217FicoScore \u2212 0.000174\u2217LoanAmount\n",
      "\n",
      "p(z) --> probability calculated below"
     ]
    },
    {
     "cell_type": "code",
     "collapsed": false,
     "input": [
      "def pz(fico,amt,coeff):\n",
      "  # compute the linear expression by multipyling the inputs by their respective coefficients.\n",
      "  # note that the coefficient array has the intercept coefficient at the end\n",
      "  z = coeff[0]*fico + coeff[1]*amt + coeff[2]\n",
      "  return 1/(1+exp(-1*z))"
     ],
     "language": "python",
     "metadata": {},
     "outputs": []
    },
    {
     "cell_type": "code",
     "collapsed": false,
     "input": [
      "pz(720, 10000, coeff)"
     ],
     "language": "python",
     "metadata": {},
     "outputs": []
    },
    {
     "cell_type": "raw",
     "metadata": {},
     "source": [
      "This tells us that we have a good chance of getting the loan we want (result is above 0.67)."
     ]
    },
    {
     "cell_type": "code",
     "collapsed": false,
     "input": [
      "print(\"Trying multiple FICO Loan Amount combinations: \")\n",
      "print('----')\n",
      "print(\"fico=720, amt=10,000\")\n",
      "print(pz(720,10000,coeff))\n",
      "print(\"fico=720, amt=20,000\")\n",
      "print(pz(720,20000,coeff))\n",
      "print(\"fico=720, amt=30,000\")\n",
      "print(pz(720,30000,coeff))\n",
      "print(\"fico=820, amt=10,000\")\n",
      "print(pz(820,10000,coeff))\n",
      "print(\"fico=820, amt=20,000\")\n",
      "print(pz(820,20000,coeff))\n",
      "print(\"fico=820, amt=30,000\")\n",
      "print(pz(820,30000,coeff))"
     ],
     "language": "python",
     "metadata": {},
     "outputs": []
    },
    {
     "cell_type": "raw",
     "metadata": {},
     "source": [
      "As expected -> person with a 720 FICO score will have decreasing probability of getting loans with higher amounts, but a person with 820 FICO score is very likely to get loans with those amounts... as expected."
     ]
    },
    {
     "cell_type": "raw",
     "metadata": {},
     "source": [
      "Excample adapted from:\n",
      "- http://nborwankar.github.io/LearnDataScience/"
     ]
    },
    {
     "cell_type": "raw",
     "metadata": {},
     "source": [
      "A few other good examples:\n",
      "- http://nbviewer.ipython.org/urls/s3.amazonaws.com/datarobotblog/notebooks/classification_in_python.ipynb\n",
      "- http://nbviewer.ipython.org/github/justmarkham/gadsdc1/blob/master/logistic_assignment/kevin_logistic_sklearn.ipynb"
     ]
    }
   ],
   "metadata": {}
  }
 ]
}