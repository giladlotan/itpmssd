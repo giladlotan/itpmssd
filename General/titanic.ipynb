{
 "metadata": {
  "name": "titanic.ipynb"
 },
 "nbformat": 3,
 "nbformat_minor": 0,
 "worksheets": [
  {
   "cells": [
    {
     "cell_type": "heading",
     "level": 3,
     "metadata": {},
     "source": [
      "Titanic Passengers Dataset"
     ]
    },
    {
     "cell_type": "raw",
     "metadata": {},
     "source": [
      "The sinking of the RMS Titanic is one of the most infamous shipwrecks in history.  On April 15, 1912, during her maiden voyage, the Titanic sank after colliding with an iceberg, killing 1502 out of 2224 passengers and crew. This sensational tragedy shocked the international community and led to better safety regulations for ships.\n",
      "\n",
      "One of the reasons that the shipwreck led to such loss of life was that there were not enough lifeboats for the passengers and crew. Although there was some element of luck involved in surviving the sinking, some groups of people were more likely to survive than others, such as women, children, and the upper-class.\n",
      "\n",
      "What sorts of people were likely to survive? Wonder what we can learn from the data...!"
     ]
    },
    {
     "cell_type": "code",
     "collapsed": false,
     "input": [
      "import pandas as pd\n",
      "\n",
      "path = '/Users/giladlotan/Documents/ITP Course/code/Week9/'\n",
      "titanic = pd.read_csv(path+'titanic.csv')"
     ],
     "language": "python",
     "metadata": {},
     "outputs": []
    },
    {
     "cell_type": "code",
     "collapsed": false,
     "input": [
      "# 5 rows, 12 columns\n",
      "titanic.head()"
     ],
     "language": "python",
     "metadata": {},
     "outputs": []
    },
    {
     "cell_type": "raw",
     "metadata": {},
     "source": [
      "Pclass is a proxy for socio-economic status (SES)\n",
      " 1st ~ Upper; 2nd ~ Middle; 3rd ~ Lower\n",
      "\n",
      "sibsp           Number of Siblings/Spouses Aboard\n",
      "parch           Number of Parents/Children Aboard\n",
      "\n",
      "Sibling:  Brother, Sister, Stepbrother, or Stepsister of Passenger Aboard Titanic\n",
      "Spouse:   Husband or Wife of Passenger Aboard Titanic (Mistresses and Fiances Ignored)\n",
      "Parent:   Mother or Father of Passenger Aboard Titanic\n",
      "Child:    Son, Daughter, Stepson, or Stepdaughter of Passenger Aboard Titanic\n",
      "\n",
      "For a child who travelled with only a nanny, parch=0"
     ]
    },
    {
     "cell_type": "code",
     "collapsed": false,
     "input": [
      "titanic.describe() "
     ],
     "language": "python",
     "metadata": {},
     "outputs": []
    },
    {
     "cell_type": "raw",
     "metadata": {},
     "source": [
      "Percentile is a measure used in statistics indicating the value below which a given percentage of observations in a group of observations fall. 25th percentile is the value below which 25 percent of the observations may be found."
     ]
    },
    {
     "cell_type": "code",
     "collapsed": false,
     "input": [
      "titanic.Age.hist(bins=25)"
     ],
     "language": "python",
     "metadata": {},
     "outputs": []
    },
    {
     "cell_type": "code",
     "collapsed": false,
     "input": [
      "# not different\n",
      "# plt.hist(titanic.Age.dropna(),bins=25)"
     ],
     "language": "python",
     "metadata": {},
     "outputs": []
    },
    {
     "cell_type": "code",
     "collapsed": false,
     "input": [
      "grouped = titanic.groupby('Sex')\n",
      "grouped.Age.median()"
     ],
     "language": "python",
     "metadata": {},
     "outputs": []
    },
    {
     "cell_type": "code",
     "collapsed": false,
     "input": [
      "grouped.Age.describe()"
     ],
     "language": "python",
     "metadata": {},
     "outputs": []
    },
    {
     "cell_type": "code",
     "collapsed": false,
     "input": [
      "grouped.get_group('male').Age.hist(bins=20, figsize=(12,6), label=\"male\")\n",
      "grouped.get_group('female').Age.hist(bins=20, label=\"female\")\n",
      "plt.legend()\n",
      "plt.title(\"distribution of passengers by age/sex\")\n",
      "plt.xlabel(\"age\")\n"
     ],
     "language": "python",
     "metadata": {},
     "outputs": []
    },
    {
     "cell_type": "code",
     "collapsed": false,
     "input": [
      "# Boxplot - red line: median, blue rectangle: upper,lower quartiles (25%), Top/Bottom bars - Min, Max data\n",
      "# dots -> outliers, more than 3/2 times of upper quartile or less than 3/2 times of lower quartile\n",
      "\n",
      "grouped.boxplot(column='Age')"
     ],
     "language": "python",
     "metadata": {},
     "outputs": []
    },
    {
     "cell_type": "code",
     "collapsed": false,
     "input": [
      "# using Seaborn plotting library - pip install seaborn\n",
      "import seaborn as sns\n",
      "\n",
      "sns.boxplot(titanic.Age, titanic.Sex, vert=False)"
     ],
     "language": "python",
     "metadata": {},
     "outputs": []
    },
    {
     "cell_type": "code",
     "collapsed": false,
     "input": [
      "# Kernel Density Estimate Plot -> KDE is a way to estimate the probability density function\n",
      "# default kernel is Gaussian\n",
      "\n",
      "sns.kdeplot(titanic.Age.dropna(), shade=True)"
     ],
     "language": "python",
     "metadata": {},
     "outputs": []
    },
    {
     "cell_type": "code",
     "collapsed": false,
     "input": [
      "pal = sns.blend_palette([sns.desaturate(\"royalblue\", 0), \"royalblue\"], 5)\n",
      "bws = [.1, .25, .5, 1, 2]\n",
      "\n",
      "# bw = bandwidth\n",
      "# lw = line width\n",
      "for bw, c in zip(bws, pal):\n",
      "    sns.kdeplot(titanic.Age.dropna(), bw=bw, color=c, lw=1.8, label=bw)\n",
      "\n",
      "plt.legend(title=\"kernel bandwidth\")\n",
      "sns.rugplot(titanic.Age.dropna(), color=\"#333333\");"
     ],
     "language": "python",
     "metadata": {},
     "outputs": []
    },
    {
     "cell_type": "code",
     "collapsed": false,
     "input": [
      "sns.kdeplot(grouped.get_group('male').Age.dropna(),label='male')\n",
      "sns.kdeplot(grouped.get_group('female').Age.dropna(),label='female')"
     ],
     "language": "python",
     "metadata": {},
     "outputs": []
    },
    {
     "cell_type": "code",
     "collapsed": false,
     "input": [
      "# Age: distribution plot - histogram + kde\n",
      "\n",
      "sns.distplot(titanic.Age.dropna())"
     ],
     "language": "python",
     "metadata": {},
     "outputs": []
    },
    {
     "cell_type": "code",
     "collapsed": false,
     "input": [
      "# Violin Plot - effectively a box plot with a rotated kernel density plot on each side\n",
      "# in addition to showing what box plots show, they also present the probability density of the data at different values\n",
      "\n",
      "sns.violinplot(titanic.Age.dropna())"
     ],
     "language": "python",
     "metadata": {},
     "outputs": []
    },
    {
     "cell_type": "code",
     "collapsed": false,
     "input": [
      "sns.violinplot(titanic.Age.dropna(), titanic.Sex)"
     ],
     "language": "python",
     "metadata": {},
     "outputs": []
    },
    {
     "cell_type": "code",
     "collapsed": false,
     "input": [
      "sns.corrplot(titanic)"
     ],
     "language": "python",
     "metadata": {},
     "outputs": []
    },
    {
     "cell_type": "code",
     "collapsed": false,
     "input": [
      "# take a look at all these incredible things you can do:\n",
      "# http://stanford.edu/~mwaskom/software/seaborn/tutorial/quantitative_linear_models.html?highlight=figsize"
     ],
     "language": "python",
     "metadata": {},
     "outputs": []
    },
    {
     "cell_type": "raw",
     "metadata": {},
     "source": [
      "if you want your mind blown: (Kaggle Comopetition)\n",
      "\n",
      "http://nbviewer.ipython.org/github/agconti/kaggle-titanic/blob/master/Titanic.ipynb"
     ]
    }
   ],
   "metadata": {}
  }
 ]
}