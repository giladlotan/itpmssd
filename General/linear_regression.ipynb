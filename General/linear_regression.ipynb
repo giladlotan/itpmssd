{
 "metadata": {
  "name": "linear_regression.ipynb"
 },
 "nbformat": 3,
 "nbformat_minor": 0,
 "worksheets": [
  {
   "cells": [
    {
     "cell_type": "heading",
     "level": 3,
     "metadata": {},
     "source": [
      "Linear Regression"
     ]
    },
    {
     "cell_type": "raw",
     "metadata": {},
     "source": [
      "Let's use a dataset of loan data from Lending Club, a peer lending web site. They have anonymiazed data on borrowers and loans that have been made. Loan data has many attributes - let's look at how borrower FICO score affects interest rate charged. \n",
      "\n",
      "https://www.lendingclub.com/ - the services\n",
      "https://www.lendingclub.com/info/download-data.action - available datasets"
     ]
    },
    {
     "cell_type": "code",
     "collapsed": false,
     "input": [
      "import pandas as pd\n",
      "# here's a reduced version of the datset from Lending Club\n",
      "loansData = pd.read_csv('https://spark-public.s3.amazonaws.com/dataanalysis/loansData.csv')"
     ],
     "language": "python",
     "metadata": {},
     "outputs": []
    },
    {
     "cell_type": "code",
     "collapsed": false,
     "input": [
      "loansData['Interest.Rate'][0:5] # first five rows of Interest.Rate"
     ],
     "language": "python",
     "metadata": {},
     "outputs": []
    },
    {
     "cell_type": "code",
     "collapsed": false,
     "input": [
      "loansData['Loan.Length'][0:5] # first five rows of Loan.Length"
     ],
     "language": "python",
     "metadata": {},
     "outputs": []
    },
    {
     "cell_type": "code",
     "collapsed": false,
     "input": [
      "loansData['FICO.Range'][0:5] # first five rows of FICO.Range"
     ],
     "language": "python",
     "metadata": {},
     "outputs": []
    },
    {
     "cell_type": "raw",
     "metadata": {},
     "source": [
      "Need to clean up the data\n",
      "- '%' symbol\n",
      "- 'months'\n",
      "- FICO score is represented as a range\n",
      "- we may want to remove outliers in our data (there's one with monthly income > 100K$+)"
     ]
    },
    {
     "cell_type": "code",
     "collapsed": false,
     "input": [
      "# to save time in class - let's use a cleaned up version of the data\n",
      "\n",
      "path = '/Users/giladlotan/Documents/ITP Course/code/Week10/'\n",
      "loansmin = pd.read_csv(path+'loanf.csv')"
     ],
     "language": "python",
     "metadata": {},
     "outputs": []
    },
    {
     "cell_type": "code",
     "collapsed": false,
     "input": [
      "loansmin.head()"
     ],
     "language": "python",
     "metadata": {},
     "outputs": []
    },
    {
     "cell_type": "code",
     "collapsed": false,
     "input": [
      "# Histogram\n",
      "\n",
      "fico = loansmin['FICO.Score']\n",
      "fico.hist()"
     ],
     "language": "python",
     "metadata": {},
     "outputs": []
    },
    {
     "cell_type": "raw",
     "metadata": {},
     "source": [
      "FICO score = primary determinant of interest rate. The histogram shows us that the distribution is not a normal or gaussian distribution, but that there are some other factors that might be affecting or distorting the shape of the distribution away from the bell curve. "
     ]
    },
    {
     "cell_type": "code",
     "collapsed": false,
     "input": [
      "# Box Plot\n",
      "\n",
      "p = loansmin.boxplot('Interest.Rate','FICO.Score', figsize=(22,12))\n",
      "p.set_xticklabels(['640','','','','660','','','','680','','','','700',\n",
      "  '720','','','','740','','','','760','','','','780','','','','800','','','','820','','','','840'])\n",
      "\n",
      "xlabel('FICO Score')\n",
      "ylabel('Interest Rate %')"
     ],
     "language": "python",
     "metadata": {},
     "outputs": []
    },
    {
     "cell_type": "raw",
     "metadata": {},
     "source": [
      "- this tells us that there's a general downward trend in interest rate for higher FICO scores\n",
      "- but given a small bucket of FICO scores, we see a wide range of interest rates\n",
      "\n",
      "--> it appears there are other factors determining interest rate\n",
      "- risk? size of loan?... let's look at multiple factors simultaneously"
     ]
    },
    {
     "cell_type": "heading",
     "level": 3,
     "metadata": {},
     "source": [
      "Scatterplot Matrix"
     ]
    },
    {
     "cell_type": "raw",
     "metadata": {},
     "source": [
      "shows the relationship of each variable against each other - we'll create one for five variables in our data"
     ]
    },
    {
     "cell_type": "code",
     "collapsed": false,
     "input": [
      "a = pd.scatter_matrix(loansmin,alpha=0.05,figsize=(10,10), diagonal='hist')"
     ],
     "language": "python",
     "metadata": {},
     "outputs": []
    },
    {
     "cell_type": "raw",
     "metadata": {},
     "source": [
      "- diagonal: histogram plots of the variable itself ==> its distribution\n",
      "- noticeable trends:\n",
      "    - interest rates vs. FICO scores ==> unmistakeable linear trend\n",
      "    - interest rates vs. monthly income ==> monthly income is not impacted as interest rate changes\n",
      "    - no obvious variation for loan length, but distinct (increasing) trend for loan amount\n",
      "\n",
      "CONCLUSION:\n",
      "- we should use FICO score and loan amount in our model as independent variables - while monthly income and loan length don't seem to be too useful as independent variables"
     ]
    },
    {
     "cell_type": "code",
     "collapsed": false,
     "input": [
      "a = pd.scatter_matrix(loansmin,alpha=0.05,figsize=(10,10), diagonal='kde')"
     ],
     "language": "python",
     "metadata": {},
     "outputs": []
    },
    {
     "cell_type": "heading",
     "level": 4,
     "metadata": {},
     "source": [
      "Analysis"
     ]
    },
    {
     "cell_type": "code",
     "collapsed": false,
     "input": [
      "intrate = loansmin['Interest.Rate']\n",
      "loanamt = loansmin['Loan.Amount']\n",
      "fico = loansmin['FICO.Score']"
     ],
     "language": "python",
     "metadata": {},
     "outputs": []
    },
    {
     "cell_type": "code",
     "collapsed": false,
     "input": [
      "scatter(intrate,fico, alpha=0.2)"
     ],
     "language": "python",
     "metadata": {},
     "outputs": []
    },
    {
     "cell_type": "code",
     "collapsed": false,
     "input": [
      "y = intrate # response\n",
      "x = fico\n",
      "X = sm.add_constant(x)\n",
      "X"
     ],
     "language": "python",
     "metadata": {},
     "outputs": []
    },
    {
     "cell_type": "code",
     "collapsed": false,
     "input": [
      "# Ordinary Least Squares\n",
      "est = sm.OLS(y,X)\n",
      "f = est.fit()\n",
      "#f.summary()"
     ],
     "language": "python",
     "metadata": {},
     "outputs": []
    },
    {
     "cell_type": "code",
     "collapsed": false,
     "input": [
      "f.params"
     ],
     "language": "python",
     "metadata": {},
     "outputs": []
    },
    {
     "cell_type": "code",
     "collapsed": false,
     "input": [
      "# generate regression line\n",
      "import numpy as np\n",
      "\n",
      "X_prime = np.linspace(X['FICO.Score'].min(), X['FICO.Score'].max(), 100)[:, np.newaxis]\n",
      "X_prime = sm.add_constant(X_prime)\n",
      "X_prime"
     ],
     "language": "python",
     "metadata": {},
     "outputs": []
    },
    {
     "cell_type": "code",
     "collapsed": false,
     "input": [
      "# now we calculate the predicted values\n",
      "y_hat = f.predict(X_prime)\n",
      "y_hat"
     ],
     "language": "python",
     "metadata": {},
     "outputs": []
    },
    {
     "cell_type": "code",
     "collapsed": false,
     "input": [
      "scatter(x, y, alpha=0.2)\n",
      "plot(X_prime[:, 1], y_hat, 'r', alpha=0.9) # regression line"
     ],
     "language": "python",
     "metadata": {},
     "outputs": []
    },
    {
     "cell_type": "code",
     "collapsed": false,
     "input": [],
     "language": "python",
     "metadata": {},
     "outputs": []
    },
    {
     "cell_type": "code",
     "collapsed": false,
     "input": [],
     "language": "python",
     "metadata": {},
     "outputs": []
    },
    {
     "cell_type": "raw",
     "metadata": {},
     "source": [
      "Let's define a linear model with two independent variables determining the dependent variable -> interest rate.\n",
      "--> effectively, investigate FICO score and loan amount as predictors of interest rate for the lending club sample of 2500 loans. \n",
      "\n",
      "If we use Multivariate Linear Regression to model interest rate variance with FICO score and loan amount:\n",
      "\n",
      "InterestRate = a0 + a1 * FICO_score + a2 * Loan_amount\n",
      "\n",
      "Let's generate model coefficients - a0, a1, a2 - and then error estimates"
     ]
    },
    {
     "cell_type": "code",
     "collapsed": false,
     "input": [
      "import numpy as np\n",
      "\n",
      "# reshape data from pandas Series to columns\n",
      "\n",
      "y = np.matrix(intrate).transpose() # the dependent variable\n",
      "x1 = np.matrix(fico).transpose() # independent variable\n",
      "x2 = np.matrix(loanamt).transpose() # independent variable\n",
      "x1"
     ],
     "language": "python",
     "metadata": {},
     "outputs": []
    },
    {
     "cell_type": "code",
     "collapsed": false,
     "input": [
      "# lets put the two independent variable columns together to create an input matrix\n",
      "x = np.column_stack([x1,x2])\n",
      "x"
     ],
     "language": "python",
     "metadata": {},
     "outputs": []
    },
    {
     "cell_type": "code",
     "collapsed": false,
     "input": [
      "import statsmodels.api as sm\n",
      "\n",
      "# create a linear model and fit it to the data\n",
      "X = sm.add_constant(x)\n",
      "X"
     ],
     "language": "python",
     "metadata": {},
     "outputs": []
    },
    {
     "cell_type": "code",
     "collapsed": false,
     "input": [
      "# create a linear model and fit it to the data\n",
      "model = sm.OLS(y,X) # Ordinary Least Squares\n",
      "f = model.fit()"
     ],
     "language": "python",
     "metadata": {},
     "outputs": []
    },
    {
     "cell_type": "code",
     "collapsed": false,
     "input": [
      "print 'Coefficients: ', f.params[0:2]\n",
      "print 'Intercept: ', f.params[2]\n",
      "print 'P-Values: ', f.pvalues\n",
      "print 'R-Squared: ', f.rsquared"
     ],
     "language": "python",
     "metadata": {},
     "outputs": []
    },
    {
     "cell_type": "raw",
     "metadata": {},
     "source": [
      "- intercept: a0\n",
      "- coefficients: a1, a2\n",
      "\n",
      "How *good* are these values?\n",
      "- P-Values: probability that the respective coefficient is invalid --> we want these probabilies to be close to 0. conventionally, we need it to be 0.05 or less -> gives us good confidence in the model.\n",
      "- R-Squared: measure of how much of the variance in the data is captured by the model --> how well the model captures the *spread* of the observed values not just the average trend."
     ]
    },
    {
     "cell_type": "code",
     "collapsed": false,
     "input": [],
     "language": "python",
     "metadata": {},
     "outputs": []
    },
    {
     "cell_type": "code",
     "collapsed": false,
     "input": [],
     "language": "python",
     "metadata": {},
     "outputs": []
    },
    {
     "cell_type": "code",
     "collapsed": false,
     "input": [],
     "language": "python",
     "metadata": {},
     "outputs": []
    },
    {
     "cell_type": "code",
     "collapsed": false,
     "input": [],
     "language": "python",
     "metadata": {},
     "outputs": []
    },
    {
     "cell_type": "code",
     "collapsed": false,
     "input": [],
     "language": "python",
     "metadata": {},
     "outputs": []
    },
    {
     "cell_type": "raw",
     "metadata": {},
     "source": [
      "Heavily based on - \n",
      "http://nborwankar.github.io/LearnDataScience/"
     ]
    }
   ],
   "metadata": {}
  }
 ]
}