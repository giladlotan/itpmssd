{
 "cells": [
  {
   "cell_type": "markdown",
   "metadata": {},
   "source": [
    "### Back to Twitter Trends Data"
   ]
  },
  {
   "cell_type": "code",
   "execution_count": 1,
   "metadata": {
    "collapsed": false
   },
   "outputs": [],
   "source": [
    "import pandas as pd"
   ]
  },
  {
   "cell_type": "code",
   "execution_count": null,
   "metadata": {
    "collapsed": false
   },
   "outputs": [],
   "source": [
    "import pandas as pd\n",
    "\n",
    "path = 'tts_2014_sept_oct.csv'\n",
    "df = pd.read_csv(path, header=0, names=[\"id\",\"name\",\"woeid\",\"location\",\"datetime\"], index_col='datetime', parse_dates=True)\n",
    "df = df.drop(['id','woeid'], 1) # 1 -> axis = 1"
   ]
  },
  {
   "cell_type": "code",
   "execution_count": null,
   "metadata": {
    "collapsed": false
   },
   "outputs": [],
   "source": [
    "ronaldo = df[df['name']=='Ronaldo']\n",
    "ronaldo.head()"
   ]
  },
  {
   "cell_type": "code",
   "execution_count": null,
   "metadata": {
    "collapsed": false
   },
   "outputs": [],
   "source": [
    "g_ronaldo = ronaldo.groupby([ronaldo.index.date]).size()\n",
    "g_ronaldo"
   ]
  },
  {
   "cell_type": "code",
   "execution_count": null,
   "metadata": {
    "collapsed": false
   },
   "outputs": [],
   "source": [
    "g_ronaldo.plot()"
   ]
  },
  {
   "cell_type": "code",
   "execution_count": null,
   "metadata": {
    "collapsed": false
   },
   "outputs": [],
   "source": [
    "# we see a standard deviation of 525.85 in this case - for Ronaldo in the given period\n",
    "\n",
    "g_ronaldo.describe()"
   ]
  },
  {
   "cell_type": "code",
   "execution_count": null,
   "metadata": {
    "collapsed": false
   },
   "outputs": [],
   "source": [
    "import numpy as np\n",
    "\n",
    "arr = np.array(g_ronaldo)\n",
    "arr"
   ]
  },
  {
   "cell_type": "code",
   "execution_count": null,
   "metadata": {
    "collapsed": false
   },
   "outputs": [],
   "source": [
    "# in order to identify spikes, we look at the derivative function -> differences between adjacent items, measuring diffs, changes\n",
    "\n",
    "np.diff(arr)"
   ]
  },
  {
   "cell_type": "code",
   "execution_count": null,
   "metadata": {
    "collapsed": false
   },
   "outputs": [],
   "source": [
    "messi = df[df['name']=='Messi']\n",
    "g_messi = messi.groupby([messi.index.date]).size()"
   ]
  },
  {
   "cell_type": "code",
   "execution_count": null,
   "metadata": {
    "collapsed": false
   },
   "outputs": [],
   "source": [
    "new_pd = pd.concat([g_messi, g_ronaldo], axis=1)\n",
    "new_pd = pd.DataFrame({'Messi': g_messi,'Ronaldo':g_ronaldo})"
   ]
  },
  {
   "cell_type": "code",
   "execution_count": null,
   "metadata": {
    "collapsed": false
   },
   "outputs": [],
   "source": [
    "wanted_range = pd.date_range(start=min(new_pd.index),end=max(new_pd.index))\n",
    "new_pd = new_pd.reindex(wanted_range).fillna(0)"
   ]
  },
  {
   "cell_type": "code",
   "execution_count": null,
   "metadata": {
    "collapsed": false
   },
   "outputs": [],
   "source": [
    "new_pd.plot(rot=25, figsize=(12,6))"
   ]
  },
  {
   "cell_type": "code",
   "execution_count": null,
   "metadata": {
    "collapsed": false
   },
   "outputs": [],
   "source": [
    "new_pd.plot(kind=\"bar\", rot=25, figsize=(22,8))"
   ]
  },
  {
   "cell_type": "code",
   "execution_count": null,
   "metadata": {
    "collapsed": false
   },
   "outputs": [],
   "source": [
    "new_pd.Messi.plot(figsize=(12,6))"
   ]
  },
  {
   "cell_type": "code",
   "execution_count": null,
   "metadata": {
    "collapsed": false
   },
   "outputs": [],
   "source": [
    "import seaborn as sns\n",
    "sns.set_context(rc={\"figure.figsize\": (12, 6)})\n",
    "\n",
    "sns.kdeplot(new_pd.Messi.dropna(), shade=True)\n"
   ]
  },
  {
   "cell_type": "code",
   "execution_count": null,
   "metadata": {
    "collapsed": false
   },
   "outputs": [],
   "source": [
    "pal = sns.blend_palette([sns.desaturate(\"royalblue\", 0), \"royalblue\"], 5)\n",
    "bws = [.1, .25, .5, 1, 2]\n",
    "\n",
    "# bw = bandwidth\n",
    "# lw = line width\n",
    "for bw, c in zip(bws, pal):\n",
    "    sns.kdeplot(new_pd.Messi.dropna(), bw=bw, color=c, lw=1.8, label=bw)\n",
    "\n",
    "plt.legend(title=\"kernel bandwidth\")\n",
    "sns.rugplot(new_pd.Messi.dropna(), color=\"#333333\");"
   ]
  },
  {
   "cell_type": "code",
   "execution_count": null,
   "metadata": {
    "collapsed": false
   },
   "outputs": [],
   "source": [
    "sns.kdeplot(new_pd.Messi.dropna(),label='Messi')\n",
    "sns.kdeplot(new_pd.Ronaldo.dropna(),label='Ronaldo')"
   ]
  },
  {
   "cell_type": "code",
   "execution_count": null,
   "metadata": {
    "collapsed": false
   },
   "outputs": [],
   "source": [
    "sns.distplot(new_pd.Messi.dropna(), bins=25)"
   ]
  },
  {
   "cell_type": "code",
   "execution_count": null,
   "metadata": {
    "collapsed": false
   },
   "outputs": [],
   "source": [
    "sns.distplot(new_pd.Ronaldo.dropna(), bins=25)"
   ]
  },
  {
   "cell_type": "code",
   "execution_count": null,
   "metadata": {
    "collapsed": false
   },
   "outputs": [],
   "source": [
    "sns.jointplot(new_pd.Ronaldo.dropna(), new_pd.Messi.dropna(), kind=\"hex\")"
   ]
  },
  {
   "cell_type": "code",
   "execution_count": null,
   "metadata": {
    "collapsed": false
   },
   "outputs": [],
   "source": [
    "sns.violinplot(new_pd.Ronaldo.dropna())"
   ]
  },
  {
   "cell_type": "code",
   "execution_count": null,
   "metadata": {
    "collapsed": false
   },
   "outputs": [],
   "source": [
    "sns.corrplot(new_pd)"
   ]
  },
  {
   "cell_type": "markdown",
   "metadata": {},
   "source": [
    "### Top trends - correlate?"
   ]
  },
  {
   "cell_type": "code",
   "execution_count": null,
   "metadata": {
    "collapsed": false
   },
   "outputs": [],
   "source": [
    "# top twitter trends --> unicode here important\n",
    "#top = [x.decode('utf-8') for x in df.groupby('name').size().order(ascending=False)[:4].keys()]\n",
    "top = [x for x in df.groupby('name').size().order(ascending=False)[:3].keys()]"
   ]
  },
  {
   "cell_type": "code",
   "execution_count": null,
   "metadata": {
    "collapsed": false
   },
   "outputs": [],
   "source": [
    "top"
   ]
  },
  {
   "cell_type": "code",
   "execution_count": null,
   "metadata": {
    "collapsed": false
   },
   "outputs": [],
   "source": [
    "top_pd = df[[x in top for x in df.name]]"
   ]
  },
  {
   "cell_type": "code",
   "execution_count": null,
   "metadata": {
    "collapsed": false
   },
   "outputs": [],
   "source": [
    "g_top = top_pd.groupby(['name',top_pd.index.date]).size()"
   ]
  },
  {
   "cell_type": "code",
   "execution_count": null,
   "metadata": {
    "collapsed": false
   },
   "outputs": [],
   "source": [
    "final_pd = pd.DataFrame()\n",
    "\n",
    "for trend in top:\n",
    "    final_pd[trend]=g_top[trend].reindex(wanted_range).fillna(0)"
   ]
  },
  {
   "cell_type": "code",
   "execution_count": null,
   "metadata": {
    "collapsed": false
   },
   "outputs": [],
   "source": [
    "# a total mess to simply plot\n",
    "#plot(final_pd)"
   ]
  },
  {
   "cell_type": "code",
   "execution_count": null,
   "metadata": {
    "collapsed": false
   },
   "outputs": [],
   "source": [
    "sns.corrplot(final_pd)"
   ]
  },
  {
   "cell_type": "code",
   "execution_count": null,
   "metadata": {
    "collapsed": false
   },
   "outputs": [],
   "source": [
    "# what about a correlation matrix\n",
    "\n",
    "sns.corrplot(final_pd)"
   ]
  }
 ],
 "metadata": {
  "kernelspec": {
   "display_name": "Python 2",
   "language": "python",
   "name": "python2"
  },
  "language_info": {
   "codemirror_mode": {
    "name": "ipython",
    "version": 2
   },
   "file_extension": ".py",
   "mimetype": "text/x-python",
   "name": "python",
   "nbconvert_exporter": "python",
   "pygments_lexer": "ipython2",
   "version": "2.7.6"
  }
 },
 "nbformat": 4,
 "nbformat_minor": 0
}
