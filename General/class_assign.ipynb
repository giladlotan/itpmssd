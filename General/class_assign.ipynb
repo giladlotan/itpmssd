{
 "metadata": {
  "name": "class_assign.ipynb"
 },
 "nbformat": 3,
 "nbformat_minor": 0,
 "worksheets": [
  {
   "cells": [
    {
     "cell_type": "heading",
     "level": 2,
     "metadata": {},
     "source": [
      "ITPSDA Student Rando-mizer"
     ]
    },
    {
     "cell_type": "code",
     "collapsed": false,
     "input": [
      "# lets read student names from the file\n",
      "fname = 'itpsda_students.txt'\n",
      "students = set()\n",
      "data = open(fname,'r')\n",
      "\n",
      "for r in data.readlines():\n",
      "    print r.rstrip()"
     ],
     "language": "python",
     "metadata": {},
     "outputs": [
      {
       "ename": "IOError",
       "evalue": "[Errno 2] No such file or directory: 'itpsda_students.txt'",
       "output_type": "pyerr",
       "traceback": [
        "\u001b[0;31m---------------------------------------------------------------------------\u001b[0m\n\u001b[0;31mIOError\u001b[0m                                   Traceback (most recent call last)",
        "\u001b[0;32m<ipython-input-50-a69aff8adf22>\u001b[0m in \u001b[0;36m<module>\u001b[0;34m()\u001b[0m\n\u001b[1;32m      2\u001b[0m \u001b[0mfname\u001b[0m \u001b[0;34m=\u001b[0m \u001b[0;34m'itpsda_students.txt'\u001b[0m\u001b[0;34m\u001b[0m\u001b[0m\n\u001b[1;32m      3\u001b[0m \u001b[0mstudents\u001b[0m \u001b[0;34m=\u001b[0m \u001b[0mset\u001b[0m\u001b[0;34m(\u001b[0m\u001b[0;34m)\u001b[0m\u001b[0;34m\u001b[0m\u001b[0m\n\u001b[0;32m----> 4\u001b[0;31m \u001b[0mdata\u001b[0m \u001b[0;34m=\u001b[0m \u001b[0mopen\u001b[0m\u001b[0;34m(\u001b[0m\u001b[0mfname\u001b[0m\u001b[0;34m,\u001b[0m\u001b[0;34m'r'\u001b[0m\u001b[0;34m)\u001b[0m\u001b[0;34m\u001b[0m\u001b[0m\n\u001b[0m\u001b[1;32m      5\u001b[0m \u001b[0;34m\u001b[0m\u001b[0m\n\u001b[1;32m      6\u001b[0m \u001b[0;32mfor\u001b[0m \u001b[0mr\u001b[0m \u001b[0;32min\u001b[0m \u001b[0mdata\u001b[0m\u001b[0;34m.\u001b[0m\u001b[0mreadlines\u001b[0m\u001b[0;34m(\u001b[0m\u001b[0;34m)\u001b[0m\u001b[0;34m:\u001b[0m\u001b[0;34m\u001b[0m\u001b[0m\n",
        "\u001b[0;31mIOError\u001b[0m: [Errno 2] No such file or directory: 'itpsda_students.txt'"
       ]
      }
     ],
     "prompt_number": 50
    },
    {
     "cell_type": "code",
     "collapsed": false,
     "input": [
      "# get directory\n",
      "import os\n",
      "print os.getcwd()"
     ],
     "language": "python",
     "metadata": {},
     "outputs": [
      {
       "output_type": "stream",
       "stream": "stdout",
       "text": [
        "/\n"
       ]
      }
     ],
     "prompt_number": 1
    },
    {
     "cell_type": "code",
     "collapsed": false,
     "input": [
      "path = os.getcwd()\n",
      "path += 'Users/giladlotan/Documents/ITP Course/code/Week4/'\n",
      "files = os.listdir(path)\n",
      "print files"
     ],
     "language": "python",
     "metadata": {},
     "outputs": [
      {
       "output_type": "stream",
       "stream": "stdout",
       "text": [
        "['class_assign.ipynb', 'graph.json', 'itpsda_students.txt', 'karate.gml', 'network_analysis.ipynb', 'network_analysis_week4.ipynb', 'power.gml', 'simple.txt', 'students.p']\n"
       ]
      }
     ],
     "prompt_number": 2
    },
    {
     "cell_type": "code",
     "collapsed": false,
     "input": [
      "# now lets do it\n",
      "fname = 'itpsda_students.txt'\n",
      "students = set()\n",
      "data = open(path+fname,'r')\n",
      "\n",
      "for r in data.readlines():\n",
      "    print r.rstrip()\n",
      "    students.add(r.rstrip())"
     ],
     "language": "python",
     "metadata": {},
     "outputs": [
      {
       "output_type": "stream",
       "stream": "stdout",
       "text": [
        "Aankit Patel\n",
        "Adarsh Kosuru\n",
        "Alejandro Puentes\n",
        "Batu Sayici\n",
        "Brian Clifton\n",
        "David Tracy\n",
        "Diana Freed\n",
        "Jason Sigal\n",
        "Jiwon Yoon\n",
        "Karam Byun\n",
        "Karl Ward\n",
        "Maximo Sica\n",
        "Neil Solomon\n",
        "Luna Chen\n",
        "Salem Almansoori\n",
        "Ziv Schneider\n",
        "Jeff Ong\n",
        "Aaron Arntz\n",
        "John Choi\n",
        "John Farrell\n"
       ]
      }
     ],
     "prompt_number": 3
    },
    {
     "cell_type": "code",
     "collapsed": false,
     "input": [
      "len(students)"
     ],
     "language": "python",
     "metadata": {},
     "outputs": [
      {
       "metadata": {},
       "output_type": "pyout",
       "prompt_number": 4,
       "text": [
        "20"
       ]
      }
     ],
     "prompt_number": 4
    },
    {
     "cell_type": "code",
     "collapsed": false,
     "input": [
      "students_list = list(students)\n",
      "students_list"
     ],
     "language": "python",
     "metadata": {},
     "outputs": [
      {
       "metadata": {},
       "output_type": "pyout",
       "prompt_number": 14,
       "text": [
        "['Alejandro Puentes',\n",
        " 'Jason Sigal',\n",
        " 'Aaron Arntz',\n",
        " 'Aankit Patel',\n",
        " 'Jiwon Yoon',\n",
        " 'Salem Almansoori',\n",
        " 'John Choi',\n",
        " 'Brian Clifton',\n",
        " 'Batu Sayici',\n",
        " 'Ziv Schneider',\n",
        " 'Jeff Ong',\n",
        " 'John Farrell',\n",
        " 'Diana Freed',\n",
        " 'Adarsh Kosuru',\n",
        " 'Maximo Sica',\n",
        " 'Neil Solomon',\n",
        " 'Luna Chen',\n",
        " 'Karam Byun',\n",
        " 'David Tracy',\n",
        " 'Karl Ward']"
       ]
      }
     ],
     "prompt_number": 14
    },
    {
     "cell_type": "code",
     "collapsed": false,
     "input": [
      "import random\n",
      "order = []\n",
      "\n",
      "for i in range(len(students_list)):\n",
      "    chosen_one = random.choice(students_list)\n",
      "    order.append(chosen_one)\n",
      "    students_list.remove(chosen_one)\n",
      "\n",
      "order"
     ],
     "language": "python",
     "metadata": {},
     "outputs": [
      {
       "metadata": {},
       "output_type": "pyout",
       "prompt_number": 8,
       "text": [
        "['Salem Almansoori',\n",
        " 'Jeff Ong',\n",
        " 'Jason Sigal',\n",
        " 'Aankit Patel',\n",
        " 'Jiwon Yoon',\n",
        " 'Neil Solomon',\n",
        " 'Alejandro Puentes',\n",
        " 'Luna Chen',\n",
        " 'Batu Sayici',\n",
        " 'Ziv Schneider',\n",
        " 'John Farrell',\n",
        " 'David Tracy',\n",
        " 'Maximo Sica',\n",
        " 'Karl Ward',\n",
        " 'Brian Clifton',\n",
        " 'Aaron Arntz',\n",
        " 'Adarsh Kosuru',\n",
        " 'John Choi',\n",
        " 'Diana Freed',\n",
        " 'Karam Byun']"
       ]
      }
     ],
     "prompt_number": 8
    },
    {
     "cell_type": "code",
     "collapsed": false,
     "input": [
      "import pickle\n",
      "pickle.dump(order, open(path+'order.p','wb'))"
     ],
     "language": "python",
     "metadata": {},
     "outputs": [],
     "prompt_number": 11
    },
    {
     "cell_type": "heading",
     "level": 3,
     "metadata": {},
     "source": [
      "We can also use a Queue"
     ]
    },
    {
     "cell_type": "code",
     "collapsed": false,
     "input": [
      "import Queue\n",
      "\n",
      "# Basic FIFO Queue\n",
      "q = Queue.Queue()"
     ],
     "language": "python",
     "metadata": {},
     "outputs": [],
     "prompt_number": 13
    },
    {
     "cell_type": "code",
     "collapsed": false,
     "input": [
      "students_list = list(students)\n",
      "\n",
      "for i in range(len(students_list)):\n",
      "    chosen_one = random.choice(students_list)\n",
      "    q.put(chosen_one)\n",
      "    students_list.remove(chosen_one)"
     ],
     "language": "python",
     "metadata": {},
     "outputs": [],
     "prompt_number": 15
    },
    {
     "cell_type": "code",
     "collapsed": false,
     "input": [
      "#while not q.empty():\n",
      "#    print q.get()"
     ],
     "language": "python",
     "metadata": {},
     "outputs": [],
     "prompt_number": 18
    },
    {
     "cell_type": "code",
     "collapsed": false,
     "input": [],
     "language": "python",
     "metadata": {},
     "outputs": []
    },
    {
     "cell_type": "heading",
     "level": 2,
     "metadata": {},
     "source": [
      "Layout Algorithms & Display Methods - Project"
     ]
    },
    {
     "cell_type": "code",
     "collapsed": false,
     "input": [
      "import random\n",
      "\n",
      "algo_layout_items = set(['Force Atlas','Fruchterman Reingold / Force Directed Graph','Opern Ord', \\\n",
      "                  'Radial Axis Layout','Yifan Hu (proportional / multilevel','Hive Plot', \\\n",
      "                  'Arc Diagram','Adjacency Matrix Diagram','Chord Diagram','Spectral Layout' \\\n",
      "                  'Dendrograms'])"
     ],
     "language": "python",
     "metadata": {},
     "outputs": [],
     "prompt_number": 76
    },
    {
     "cell_type": "code",
     "collapsed": false,
     "input": [
      "len(algo_layout_items)"
     ],
     "language": "python",
     "metadata": {},
     "outputs": [
      {
       "metadata": {},
       "output_type": "pyout",
       "prompt_number": 77,
       "text": [
        "10"
       ]
      }
     ],
     "prompt_number": 77
    },
    {
     "cell_type": "code",
     "collapsed": false,
     "input": [
      "pairs = []\n",
      "\n",
      "for i in range(10):\n",
      "    cur_pair = random.sample(s,2)\n",
      "    s.remove(cur_pair[0])\n",
      "    s.remove(cur_pair[1])\n",
      "    \n",
      "    pairs.append(cur_pair)"
     ],
     "language": "python",
     "metadata": {},
     "outputs": [],
     "prompt_number": 90
    },
    {
     "cell_type": "code",
     "collapsed": false,
     "input": [
      "pairs"
     ],
     "language": "python",
     "metadata": {},
     "outputs": [
      {
       "metadata": {},
       "output_type": "pyout",
       "prompt_number": 91,
       "text": [
        "[['Jason Sigal', 'Brian Clifton'],\n",
        " ['Ziv Schneider', 'Adarsh Kosuru'],\n",
        " ['Diana Freed', 'David Tracy'],\n",
        " ['Alejandro Puentes', 'Jeff Ong'],\n",
        " ['Aaron Arntz', 'Maximo Sica'],\n",
        " ['Luna Chen', 'John Choi'],\n",
        " ['Jiwon Yoon', 'Karam Byun'],\n",
        " ['Aankit Patel', 'John Farrell'],\n",
        " ['Batu Sayici', 'Karl Ward'],\n",
        " ['Salem Almansoori', 'Neil Solomon']]"
       ]
      }
     ],
     "prompt_number": 91
    },
    {
     "cell_type": "code",
     "collapsed": false,
     "input": [
      "# map the two structures\n",
      "\n",
      "for i,j in zip(algo_layout_items, pairs):\n",
      "    print i,j,'\\n'"
     ],
     "language": "python",
     "metadata": {},
     "outputs": [
      {
       "output_type": "stream",
       "stream": "stdout",
       "text": [
        "Chord Diagram ['Jason Sigal', 'Brian Clifton'] \n",
        "\n",
        "Opern Ord ['Ziv Schneider', 'Adarsh Kosuru'] \n",
        "\n",
        "Spectral LayoutDendrograms ['Diana Freed', 'David Tracy'] \n",
        "\n",
        "Radial Axis Layout ['Alejandro Puentes', 'Jeff Ong'] \n",
        "\n",
        "Arc Diagram ['Aaron Arntz', 'Maximo Sica'] \n",
        "\n",
        "Adjacency Matrix Diagram ['Luna Chen', 'John Choi'] \n",
        "\n",
        "Force Atlas ['Jiwon Yoon', 'Karam Byun'] \n",
        "\n",
        "Hive Plot ['Aankit Patel', 'John Farrell'] \n",
        "\n",
        "Yifan Hu (proportional / multilevel ['Batu Sayici', 'Karl Ward'] \n",
        "\n",
        "Fruchterman Reingold / Force Directed Graph ['Salem Almansoori', 'Neil Solomon'] \n",
        "\n"
       ]
      }
     ],
     "prompt_number": 92
    }
   ],
   "metadata": {}
  }
 ]
}