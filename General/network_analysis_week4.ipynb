{
 "metadata": {
  "name": "network_analysis_week4.ipynb"
 },
 "nbformat": 3,
 "nbformat_minor": 0,
 "worksheets": [
  {
   "cells": [
    {
     "cell_type": "heading",
     "level": 2,
     "metadata": {},
     "source": [
      "Getting Started with Networkx"
     ]
    },
    {
     "cell_type": "markdown",
     "metadata": {},
     "source": [
      "NetworkX documentation: https://networkx.github.io/documentation/latest/"
     ]
    },
    {
     "cell_type": "code",
     "collapsed": false,
     "input": [
      "import networkx as nx\n",
      "\n",
      "g = nx.Graph()\n",
      "g"
     ],
     "language": "python",
     "metadata": {},
     "outputs": []
    },
    {
     "cell_type": "code",
     "collapsed": false,
     "input": [
      "g.nodes()\n",
      "g.edges()"
     ],
     "language": "python",
     "metadata": {},
     "outputs": []
    },
    {
     "cell_type": "code",
     "collapsed": false,
     "input": [
      "g.add_node(1)\n",
      "g.add_nodes_from([2,3])\n",
      "print g.nodes()\n",
      "g.add_nodes_from(range(4,11,1))\n",
      "print g.nodes()"
     ],
     "language": "python",
     "metadata": {},
     "outputs": []
    },
    {
     "cell_type": "raw",
     "metadata": {},
     "source": [
      "A node can be any hashable object (immutable), such as strings, numbers, files, functions and more. "
     ]
    },
    {
     "cell_type": "code",
     "collapsed": false,
     "input": [
      "g2 = nx.Graph()\n",
      "import math\n",
      "g2.add_node(math.cos)\n",
      "g2.add_node('x')\n",
      "g2.nodes()"
     ],
     "language": "python",
     "metadata": {},
     "outputs": []
    },
    {
     "cell_type": "raw",
     "metadata": {},
     "source": [
      "Now let's add edges"
     ]
    },
    {
     "cell_type": "code",
     "collapsed": false,
     "input": [
      "g.add_edge(1,2)\n",
      "g.add_edges_from([(2,3),(3,4)])\n",
      "for i in range(4,10,1):\n",
      "    g.add_edge(i,i+1)\n",
      "g.edges()"
     ],
     "language": "python",
     "metadata": {},
     "outputs": []
    },
    {
     "cell_type": "code",
     "collapsed": false,
     "input": [
      "print g.number_of_nodes()\n",
      "print g.number_of_edges()"
     ],
     "language": "python",
     "metadata": {},
     "outputs": []
    },
    {
     "cell_type": "raw",
     "metadata": {},
     "source": [
      "We can annotate nodes and edges with attributes"
     ]
    },
    {
     "cell_type": "code",
     "collapsed": false,
     "input": [
      "g[1][2]['weight'] = 1.0\n",
      "g[1][2]"
     ],
     "language": "python",
     "metadata": {},
     "outputs": []
    },
    {
     "cell_type": "code",
     "collapsed": false,
     "input": [
      "for i in range(2,10,1):\n",
      "    g[i][i+1]['weight'] = i*1.0\n",
      "g.node[1]['name']='one'\n",
      "g.node[1]"
     ],
     "language": "python",
     "metadata": {},
     "outputs": []
    },
    {
     "cell_type": "raw",
     "metadata": {},
     "source": [
      "And it is easy to iterate over the nodes and edges of a graph"
     ]
    },
    {
     "cell_type": "code",
     "collapsed": false,
     "input": [
      "# naming every node in the graph\n",
      "names = ['one','two','three','four','five','six','seven','eight','nine','ten']\n",
      "for node in g.nodes():\n",
      "    g.node[node]['name'] = names[node-1]"
     ],
     "language": "python",
     "metadata": {},
     "outputs": []
    },
    {
     "cell_type": "code",
     "collapsed": false,
     "input": [
      "# print all edge weights\n",
      "for u,v in g.edges():\n",
      "    print u,v, g[u][v]['weight']"
     ],
     "language": "python",
     "metadata": {},
     "outputs": []
    },
    {
     "cell_type": "code",
     "collapsed": false,
     "input": [
      "# find neighbors of a particular node\n",
      "for node in g.nodes():\n",
      "    print node, g.neighbors(node)"
     ],
     "language": "python",
     "metadata": {},
     "outputs": []
    },
    {
     "cell_type": "heading",
     "level": 2,
     "metadata": {},
     "source": [
      "Drawing Graphs"
     ]
    },
    {
     "cell_type": "code",
     "collapsed": false,
     "input": [
      "import matplotlib.pyplot as plt\n",
      "\n",
      "nx.draw(g)\n",
      "nx.draw_random(g)\n",
      "nx.draw_circular(g)\n",
      "nx.draw_spectral(g)\n",
      "nx.draw_spring(g)\n",
      "nx.draw_shell(g)"
     ],
     "language": "python",
     "metadata": {},
     "outputs": []
    },
    {
     "cell_type": "code",
     "collapsed": false,
     "input": [
      "# define G as the \"path graph\" w/8 nodes\n",
      "G=nx.path_graph(8)\n",
      "\n",
      "# 3 commands needed to draw/plot/save\n",
      "nx.draw(G)\n",
      "#plt.savefig(\"simple_path.png\") # save as png\n",
      "plt.show() # display"
     ],
     "language": "python",
     "metadata": {},
     "outputs": []
    },
    {
     "cell_type": "code",
     "collapsed": false,
     "input": [
      "# Small world properties - short avg. path lengths, high clustering\n",
      "# WS-graph with 24 nodes, each of which is linked to its four nearest neighbors. The probability of rewiring is set to .3.\n",
      "ws_g = nx.watts_strogatz_graph(24,4,.3)\n",
      "nx.draw_spring(ws_g)"
     ],
     "language": "python",
     "metadata": {},
     "outputs": []
    },
    {
     "cell_type": "code",
     "collapsed": false,
     "input": [
      "# Barabasi-Albert graph: random network model used to demonstrate preferential attachment (\"rich get richer\") effect\n",
      "# degree distribution follows a power-law curve\n",
      "ba_g = nx.barabasi_albert_graph(24,2)\n",
      "nx.draw_spring(ba_g)"
     ],
     "language": "python",
     "metadata": {},
     "outputs": []
    },
    {
     "cell_type": "code",
     "collapsed": false,
     "input": [
      "# let's try this for a 20-node star graph\n",
      "G=nx.star_graph(20)\n",
      "pos=nx.spring_layout(G)\n",
      "colors=range(20) \n",
      "nx.draw(G,pos,node_color='#A0CBE2',edge_color=colors,width=4,edge_cmap=plt.cm.Blues,with_labels=True)\n",
      "#plt.savefig(\"edge_colormap.png\") # save as png\n",
      "plt.show() # display"
     ],
     "language": "python",
     "metadata": {},
     "outputs": []
    },
    {
     "cell_type": "heading",
     "level": 2,
     "metadata": {},
     "source": [
      "Graph Properties"
     ]
    },
    {
     "cell_type": "code",
     "collapsed": false,
     "input": [
      "print(\"radius: %d\" % nx.radius(G)) # min graph eccentricity \n",
      "print(\"diameter: %d\" % nx.diameter(G)) # longest shortest path\n",
      "print(\"eccentricity: %s\" % nx.eccentricity(G)) # max graph distance between node and other vertex of the graph\n",
      "print(\"center: %s\" % nx.center(G)) # max degree\n",
      "print(\"periphery: %s\" % nx.periphery(G)) # subgraph induced by vertices that have graph eccentricities equal to the graph diameter\n",
      "print(\"density: %s\" % nx.density(G)) # number of edges is close to the maximal number of edges"
     ],
     "language": "python",
     "metadata": {},
     "outputs": []
    },
    {
     "cell_type": "code",
     "collapsed": false,
     "input": [],
     "language": "python",
     "metadata": {},
     "outputs": []
    },
    {
     "cell_type": "heading",
     "level": 2,
     "metadata": {},
     "source": [
      "Karate Club"
     ]
    },
    {
     "cell_type": "raw",
     "metadata": {},
     "source": [
      "In 1977, anthropologist Wayne Zachary published his study of a small karate club [ZACHARY1977]. He represented the findings of his ethnographic study as a graph, defined as follows: A line is drawn between two points when the two individuals being represented consistently interacted in contexts outside those of karate classes, workouts, and club meetings.\n",
      "\n",
      "The diagrams below shows two views of the network he constructed, one using an algorithm that simply positions the nodes on a circle, the other using Fruchterman-Reingold (FR), are shown below."
     ]
    },
    {
     "cell_type": "markdown",
     "metadata": {},
     "source": [
      "<img src=\"http://www-rohan.sdsu.edu/~gawron/python_for_ss/course_core/book_draft/_images/karate_club_circular.png\"/>\n",
      "\n",
      "Zachary\u2019s karate club network: View 1 (Circular layout)"
     ]
    },
    {
     "cell_type": "markdown",
     "metadata": {},
     "source": [
      "<img src=\"http://www-rohan.sdsu.edu/~gawron/python_for_ss/course_core/book_draft/_images/karate_club_spring.png\"/>\n",
      "\n",
      "Zachary\u2019s karate club network: View 2 (Fruchterman-Reingold layout)"
     ]
    },
    {
     "cell_type": "raw",
     "metadata": {},
     "source": [
      "Again, choosing the appropriate layout for a graph proves to be revealing. What the figure laid out by FR shows is that there are two key nodes, node 1 (actually the karate club instructor) and node 34, (actually the club president), which are central to different groups within the club. The next figure uses the same layout and colors the two groups differently, based on Zachary\u2019s data. As can be seen, the two subgroups Zachary found (which he called factions) correspond closely to the grouping the force-spring algorithm finds, based on the interconnectedness of the nodes. "
     ]
    },
    {
     "cell_type": "markdown",
     "metadata": {},
     "source": [
      "<img src=\"http://www-rohan.sdsu.edu/~gawron/python_for_ss/course_core/book_draft/_images/karate_factions.png\"/>\n",
      "\n",
      "Zachary\u2019s karate club network: The 2 factions (using community detection)"
     ]
    },
    {
     "cell_type": "raw",
     "metadata": {},
     "source": [
      "During the course of study, after a dispute between the club president and the instructor, the club split along the lines of the two factions shown above. We would like to see whether it is possible to define the two factions purely on the basis of structural properties of the graph. The FR layout is one kind of evidence that it is, but the two groups we find in the layout are still largely matters of visual intuition. Note that it is not clear how to derive two-colored graph from the one-colored graph, because it is not clear exactly where the boundaries of each group should be drawn, in part because there are numerous inter-group connections."
     ]
    },
    {
     "cell_type": "code",
     "collapsed": false,
     "input": [
      "kn=nx.karate_club_graph()\n",
      "print(\"Node Degree\")\n",
      "for v in kn:\n",
      "    print('%s %s' % (v,kn.degree(v)))"
     ],
     "language": "python",
     "metadata": {},
     "outputs": []
    },
    {
     "cell_type": "code",
     "collapsed": false,
     "input": [
      "# prefer this version - starts with #1 (corresponds to the images)\n",
      "path = '/Users/giladlotan/Documents/ITP Course/code/Week4/'\n",
      "kn = nx.read_gml(path+'karate.gml')"
     ],
     "language": "python",
     "metadata": {},
     "outputs": []
    },
    {
     "cell_type": "code",
     "collapsed": false,
     "input": [
      "print(\"radius: %d\" % nx.radius(kn))\n",
      "print(\"diameter: %d\" % nx.diameter(kn))\n",
      "print(\"eccentricity: %s\" % nx.eccentricity(kn))\n",
      "print(\"center: %s\" % nx.center(kn))\n",
      "print(\"periphery: %s\" % nx.periphery(kn))\n",
      "print(\"density: %s\" % nx.density(kn))"
     ],
     "language": "python",
     "metadata": {},
     "outputs": []
    },
    {
     "cell_type": "heading",
     "level": 3,
     "metadata": {},
     "source": [
      "Centrality Measures"
     ]
    },
    {
     "cell_type": "code",
     "collapsed": false,
     "input": [
      "betweenness = nx.betweenness_centrality(kn)\n",
      "print betweenness"
     ],
     "language": "python",
     "metadata": {},
     "outputs": []
    },
    {
     "cell_type": "code",
     "collapsed": false,
     "input": [
      "sorted(betweenness.items(), key=lambda x:-x[1])[:10]"
     ],
     "language": "python",
     "metadata": {},
     "outputs": []
    },
    {
     "cell_type": "code",
     "collapsed": false,
     "input": [
      "# nodes 1 and 34 have highest betweenness scores - thought to be most central people in this social organization\n",
      "# lets compare with degree centrality -> results aren't very different\n",
      "\n",
      "deg = nx.degree_centrality(kn)"
     ],
     "language": "python",
     "metadata": {},
     "outputs": []
    },
    {
     "cell_type": "code",
     "collapsed": false,
     "input": [
      "sorted(deg.items(), key=lambda x:-x[1])[:10]"
     ],
     "language": "python",
     "metadata": {},
     "outputs": []
    },
    {
     "cell_type": "heading",
     "level": 3,
     "metadata": {},
     "source": [
      "Other graph analysis tools implemented in networkx"
     ]
    },
    {
     "cell_type": "raw",
     "metadata": {},
     "source": [
      "- edge_betweenness(G): Illustrated below in the the Girvan-Newman example.\n",
      "\n",
      "- eigenvector_centrality(G): (also eigenvector_centrality_numpy). Explaining this concept of centrality is beyond the scope of this course. It requires computing the eigenvectors of the adjacency matrix of the graph, and is closely related to pagerank score used by Google to rank the centrality of websites on the Internet.\n",
      "\n",
      "- nx.closeness_centrality(G). Closeness centrality of a node u is the reciprocal of the sum of the shortest path distances from u to all n-1 other nodes. Since the sum of distances depends on the number of nodes in the graph, closeness is normalized by the sum of minimum possible distances n-1. So if node n is a neighbor of all n-1 other nodes in the graph, closeness_centrality is 1.\n",
      "\n",
      "- current_flow_betweenness_centrality. This kind of centrality was first discussed in [NEWMAN2003] . Newman calls it \u201crandom walk centrality\u201d. The current flow centrality of a node n can be defined as the probability of passing through n on a random walk starting at some node s and ending at some other node t (neither equal to n), Newman argues that betweenness for some social networks should not be computed just as a function of shortest paths, but of all paths, assigning the shortest the greatest weight. This is because messages in in such networks may get to where they\u2019re going not by the shortest path, but by a random path, such as that of sexual disease through a sexual contact network.\n",
      "\n",
      "- nx.clustering coefficient(G): clustering(G, nbunch=None, with_labels=False, weights=False) Clustering coefficient for each node in nbunch.\n",
      "\n",
      "- nx.average_clustering(G): Average clustering coefficient for a graph. Note: this is a space saving function ; It might be faster to use clustering to get a list and then take average.\n",
      "\n",
      "- nx.triangles(G, nbunch=None, with_labels=False): Returns number of triangles for nbunch of nodes as a dictionary. If nbunch is None, then return triangles for every node. If with_labels is True, return a dict keyed by node. Note: Each triangle is counted three times: once at each vertex. Note if G is the graph, and t is thenumber triangles of a node n, and d is its degree, then :math: nx.clustering_coefficient(G,n) = frac{t}{d(d-1)}\n",
      "\n",
      "- nx.connected_component_subgraphs(G): Used in the Girvan-Newman implementation below. This returns a list of the fully connected components of graph G. If the graph is fully connected it returns a list containing the graph\n",
      "\n",
      "- nx.number_connected_components(G): This just returns the length of the list returned by nx.connected_component_subgraphs(G)."
     ]
    },
    {
     "cell_type": "heading",
     "level": 2,
     "metadata": {},
     "source": [
      "Community Detection"
     ]
    },
    {
     "cell_type": "code",
     "collapsed": false,
     "input": [
      "# take the karate club network - find edge with highest betweenness\n",
      "\n",
      "eb = nx.edge_betweenness_centrality(kn)\n",
      "eb_il = eb.items()\n",
      "eb_il.sort(key=lambda x: x[1], reverse=True)\n",
      "print eb_il[0][0]"
     ],
     "language": "python",
     "metadata": {},
     "outputs": []
    },
    {
     "cell_type": "code",
     "collapsed": false,
     "input": [
      "pos=nx.spring_layout(kn)\n",
      "nx.draw(kn, pos, with_labels=True) # use Frechterman-Reingold force-directed algorithm \n",
      "print kn.number_of_edges()"
     ],
     "language": "python",
     "metadata": {},
     "outputs": []
    },
    {
     "cell_type": "code",
     "collapsed": false,
     "input": [
      "kn.remove_edge(1,32)\n",
      "nx.draw(kn, pos, with_labels=True)\n",
      "print kn.number_of_edges()"
     ],
     "language": "python",
     "metadata": {},
     "outputs": []
    },
    {
     "cell_type": "code",
     "collapsed": false,
     "input": [
      "eb = nx.edge_betweenness_centrality(kn)\n",
      "eb_il = eb.items()\n",
      "eb_il.sort(key=lambda x: x[1], reverse=True)\n",
      "n1,n2 = eb_il[0][0]\n",
      "kn.remove_edge(n1,n2)\n",
      "nx.draw(kn, pos, with_labels=True)\n",
      "print kn.number_of_edges()"
     ],
     "language": "python",
     "metadata": {},
     "outputs": []
    },
    {
     "cell_type": "code",
     "collapsed": false,
     "input": [
      "eb = nx.edge_betweenness_centrality(kn)\n",
      "eb_il = eb.items()\n",
      "eb_il.sort(key=lambda x: x[1], reverse=True)\n",
      "n1,n2 = eb_il[0][0]\n",
      "kn.remove_edge(n1,n2)\n",
      "nx.draw(kn, pos, with_labels=True)\n",
      "print kn.number_of_edges()"
     ],
     "language": "python",
     "metadata": {},
     "outputs": []
    },
    {
     "cell_type": "code",
     "collapsed": false,
     "input": [
      "eb = nx.edge_betweenness_centrality(kn)\n",
      "eb_il = eb.items()\n",
      "eb_il.sort(key=lambda x: x[1], reverse=True)\n",
      "n1,n2 = eb_il[0][0]\n",
      "kn.remove_edge(n1,n2)\n",
      "nx.draw(kn, pos, with_labels=True)\n",
      "print kn.number_of_edges()"
     ],
     "language": "python",
     "metadata": {},
     "outputs": []
    },
    {
     "cell_type": "code",
     "collapsed": false,
     "input": [
      "eb = nx.edge_betweenness_centrality(kn)\n",
      "eb_il = eb.items()\n",
      "eb_il.sort(key=lambda x: x[1], reverse=True)\n",
      "n1,n2 = eb_il[0][0]\n",
      "kn.remove_edge(n1,n2)\n",
      "nx.draw(kn, pos, with_labels=True)\n",
      "print kn.number_of_edges()"
     ],
     "language": "python",
     "metadata": {},
     "outputs": []
    },
    {
     "cell_type": "code",
     "collapsed": false,
     "input": [
      "eb = nx.edge_betweenness_centrality(kn)\n",
      "eb_il = eb.items()\n",
      "eb_il.sort(key=lambda x: x[1], reverse=True)\n",
      "n1,n2 = eb_il[0][0]\n",
      "kn.remove_edge(n1,n2)\n",
      "nx.draw(kn, pos, with_labels=True)\n",
      "print kn.number_of_edges()"
     ],
     "language": "python",
     "metadata": {},
     "outputs": []
    },
    {
     "cell_type": "code",
     "collapsed": false,
     "input": [
      "eb = nx.edge_betweenness_centrality(kn)\n",
      "eb_il = eb.items()\n",
      "eb_il.sort(key=lambda x: x[1], reverse=True)\n",
      "n1,n2 = eb_il[0][0]\n",
      "kn.remove_edge(n1,n2)\n",
      "nx.draw(kn, pos, with_labels=True)\n",
      "print kn.number_of_edges()"
     ],
     "language": "python",
     "metadata": {},
     "outputs": []
    },
    {
     "cell_type": "code",
     "collapsed": false,
     "input": [
      "eb = nx.edge_betweenness_centrality(kn)\n",
      "eb_il = eb.items()\n",
      "eb_il.sort(key=lambda x: x[1], reverse=True)\n",
      "n1,n2 = eb_il[0][0]\n",
      "kn.remove_edge(n1,n2)\n",
      "nx.draw(kn, pos, with_labels=True)\n",
      "print kn.number_of_edges()"
     ],
     "language": "python",
     "metadata": {},
     "outputs": []
    },
    {
     "cell_type": "code",
     "collapsed": false,
     "input": [
      "eb = nx.edge_betweenness_centrality(kn)\n",
      "eb_il = eb.items()\n",
      "eb_il.sort(key=lambda x: x[1], reverse=True)\n",
      "n1,n2 = eb_il[0][0]\n",
      "kn.remove_edge(n1,n2)\n",
      "nx.draw(kn, pos, with_labels=True)\n",
      "print kn.number_of_edges()"
     ],
     "language": "python",
     "metadata": {},
     "outputs": []
    },
    {
     "cell_type": "code",
     "collapsed": false,
     "input": [
      "eb = nx.edge_betweenness_centrality(kn)\n",
      "eb_il = eb.items()\n",
      "eb_il.sort(key=lambda x: x[1], reverse=True)\n",
      "n1,n2 = eb_il[0][0]\n",
      "kn.remove_edge(n1,n2)\n",
      "nx.draw(kn, pos, with_labels=True)\n",
      "print kn.number_of_edges()"
     ],
     "language": "python",
     "metadata": {},
     "outputs": []
    },
    {
     "cell_type": "code",
     "collapsed": false,
     "input": [
      "eb = nx.edge_betweenness_centrality(kn)\n",
      "eb_il = eb.items()\n",
      "eb_il.sort(key=lambda x: x[1], reverse=True)\n",
      "n1,n2 = eb_il[0][0]\n",
      "kn.remove_edge(n1,n2)\n",
      "nx.draw(kn, pos, with_labels=True)\n",
      "print kn.number_of_edges()"
     ],
     "language": "python",
     "metadata": {},
     "outputs": []
    },
    {
     "cell_type": "code",
     "collapsed": false,
     "input": [
      "components = sorted(nx.connected_component_subgraphs(kn), key=len, reverse=True)"
     ],
     "language": "python",
     "metadata": {},
     "outputs": []
    },
    {
     "cell_type": "code",
     "collapsed": false,
     "input": [
      "for c in components:\n",
      "    print c.number_of_nodes()"
     ],
     "language": "python",
     "metadata": {},
     "outputs": []
    },
    {
     "cell_type": "heading",
     "level": 3,
     "metadata": {},
     "source": [
      "Implementing Girvan-Newman Algorithm"
     ]
    },
    {
     "cell_type": "code",
     "collapsed": false,
     "input": [
      "import networkx as nx\n",
      "\n",
      "def girvan_newman(G):\n",
      "\n",
      "    if len(G.nodes()) == 1:\n",
      "        return [G.nodes()]\n",
      "\n",
      "    def find_best_edge(G0):\n",
      "        \"\"\"\n",
      "        Networkx implementation of edge_betweenness\n",
      "        returns a dictionary. Make this into a list,\n",
      "        sort it and return the edge with highest betweenness.\n",
      "        \"\"\"\n",
      "        eb = nx.edge_betweenness_centrality(G0)\n",
      "        eb_il = eb.items()\n",
      "        eb_il.sort(key=lambda x: x[1], reverse=True)\n",
      "        return eb_il[0][0]\n",
      "\n",
      "    components = list(nx.connected_component_subgraphs(G))\n",
      "    while len(components) == 1:\n",
      "        G.remove_edge(*find_best_edge(G))\n",
      "        components = list(nx.connected_component_subgraphs(G))\n",
      "\n",
      "    result = [c.nodes() for c in components]\n",
      "\n",
      "    for c in components:\n",
      "        result.extend(girvan_newman(c))\n",
      "\n",
      "    return result"
     ],
     "language": "python",
     "metadata": {},
     "outputs": []
    },
    {
     "cell_type": "raw",
     "metadata": {},
     "source": [
      "Note the use of a while loop in line 21. This keeps removing the remaining edge with highest betweenness. Each time an edge is removed we recompute the edge with highest betweenness as well as the components in the graph. When we get two components, the condition for re-entering the while loop fails, and we exit the loop, having succeeded in splitting the graph. For densely connected graphs, many edges may have to be removed to split the graph."
     ]
    },
    {
     "cell_type": "code",
     "collapsed": false,
     "input": [
      "gn = girvan_newman(kn)"
     ],
     "language": "python",
     "metadata": {},
     "outputs": []
    },
    {
     "cell_type": "code",
     "collapsed": false,
     "input": [
      "gn"
     ],
     "language": "python",
     "metadata": {},
     "outputs": []
    },
    {
     "cell_type": "code",
     "collapsed": false,
     "input": [
      "print gn[0]\n",
      "print gn[1]"
     ],
     "language": "python",
     "metadata": {},
     "outputs": []
    },
    {
     "cell_type": "heading",
     "level": 3,
     "metadata": {},
     "source": [
      "Louvain Modularity"
     ]
    },
    {
     "cell_type": "code",
     "collapsed": false,
     "input": [
      "kn = nx.read_gml(path+'karate.gml')\n",
      "components = sorted(nx.connected_component_subgraphs(kn), key=len, reverse=True)"
     ],
     "language": "python",
     "metadata": {},
     "outputs": []
    },
    {
     "cell_type": "code",
     "collapsed": false,
     "input": [
      "# pip install python-louvain\n",
      "from community import *\n",
      "part = best_partition(components[0]) # mapping of node_id -> cluster_id"
     ],
     "language": "python",
     "metadata": {},
     "outputs": []
    },
    {
     "cell_type": "code",
     "collapsed": false,
     "input": [
      "part"
     ],
     "language": "python",
     "metadata": {},
     "outputs": []
    },
    {
     "cell_type": "code",
     "collapsed": false,
     "input": [
      "import community\n",
      "\n",
      "# find modularity\n",
      "part = community.best_partition(kn)\n",
      "mod = community.modularity(part, kn)"
     ],
     "language": "python",
     "metadata": {},
     "outputs": []
    },
    {
     "cell_type": "code",
     "collapsed": false,
     "input": [
      "# color maps here - http://matplotlib.org/examples/color/colormaps_reference.html\n",
      "\n",
      "values = [part.get(node) for node in kn.nodes()]\n",
      "\n",
      "nx.draw(kn, pos, cmap = plt.get_cmap('jet'), node_color = values, node_size=800, with_labels=True)"
     ],
     "language": "python",
     "metadata": {},
     "outputs": []
    },
    {
     "cell_type": "code",
     "collapsed": false,
     "input": [
      "# create histogram of membership to modularity group\n",
      "part_vals = sorted(set(part_sm.values()))\n",
      "part_hist = [part_sm.values().count(x) for x in part_vals]\n",
      "\n",
      "plot(part_vals, part_hist, 'ro-')\n",
      "title('membership to cluster group')\n",
      "xlabel('cluster group #')\n",
      "ylabel('membership size')\n",
      "rcParams['figure.figsize'] = 10,3\n",
      "\n",
      "top_clusters = []\n",
      "print 'top clusters:'\n",
      "max_wanted_clusters = 8\n",
      "for i in sorted(part_hist, reverse=True)[:max_wanted_clusters]:\n",
      "    if part_hist.index(i) in top_clusters or i<200:\n",
      "        continue\n",
      "    print 'cluster %s has %s members' % (part_hist.index(i), i)\n",
      "    top_clusters.append(part_hist.index(i))"
     ],
     "language": "python",
     "metadata": {},
     "outputs": []
    },
    {
     "cell_type": "heading",
     "level": 2,
     "metadata": {},
     "source": [
      "The Seven Bridges of Konigsberg"
     ]
    },
    {
     "cell_type": "markdown",
     "metadata": {},
     "source": [
      "<img src=\"http://www.maa.org/sites/default/files/images/cms_upload/Konigsberg_colour37936.jpg\"/>"
     ]
    },
    {
     "cell_type": "raw",
     "metadata": {},
     "source": [
      "A historically notable problem in mathematics. Its negative resolution by Leonhard Euler in 1735 laid the foundations of graph theory. The problem: find a walk through the city that would cross each bridge once and only once. The islands could not be reached by any route other than the bridges and every bridge must have been crossed completely every time (can't go halfway). Euler proved that the problem has NO solution. "
     ]
    },
    {
     "cell_type": "raw",
     "metadata": {},
     "source": [
      "To model the bridges of Konigsberg problem that Euler solved, we need a graph that supports multiple edges between nodes. Such a graph is called a multigraph. We set up the graph with four nodes and edges labeled by bridges."
     ]
    },
    {
     "cell_type": "code",
     "collapsed": false,
     "input": [
      "mg = nx.MultiGraph()\n",
      "mg.add_nodes_from(['A','B','C','D'])\n",
      "mg.add_edge('A','C','b1')\n",
      "mg.add_edge('A','C','b2')\n",
      "mg.add_edge('A','D','b4')\n",
      "mg.add_edge('A','D','b5')\n",
      "mg.add_edge('A','B','b7')\n",
      "mg.add_edge('C','B','b3')\n",
      "mg.add_edge('D','B','b6')"
     ],
     "language": "python",
     "metadata": {},
     "outputs": []
    },
    {
     "cell_type": "raw",
     "metadata": {},
     "source": [
      "Now we can check if there is a walk through the city that crosses each bridge once and only once, and begins and ends at the same point. Such a walk is called an Eulerian circuit of a multigraph. The networkx function is_eulerian computes whether or not a Eulerian circuit exists in a multigraph."
     ]
    },
    {
     "cell_type": "code",
     "collapsed": false,
     "input": [
      "nx.is_eulerian(mg)"
     ],
     "language": "python",
     "metadata": {},
     "outputs": []
    },
    {
     "cell_type": "heading",
     "level": 2,
     "metadata": {},
     "source": [
      "Custom Graph Plotting"
     ]
    },
    {
     "cell_type": "code",
     "collapsed": false,
     "input": [
      "def simple_graph():\n",
      "\n",
      "    #create an empty graph\n",
      "    G = nx.Graph()\n",
      "    \n",
      "    #add three edges\n",
      "    G.add_edge('A','B');\n",
      "    G.add_edge('B','C');\n",
      "    G.add_edge('C','A');\n",
      "\n",
      "    #draw the graph\n",
      "    nx.draw(G, with_labels=True)\n",
      "\n",
      "    #show\n",
      "    plt.show()\n",
      "\n",
      "simple_graph()"
     ],
     "language": "python",
     "metadata": {},
     "outputs": []
    },
    {
     "cell_type": "code",
     "collapsed": false,
     "input": [
      "def custom_labels_and_size_of_nodes():\n",
      "    #create an empty graph\n",
      "    G = nx.Graph()\n",
      "    \n",
      "    #add three edges\n",
      "    G.add_edge('A','B');\n",
      "    G.add_edge('B','C');\n",
      "    G.add_edge('C','A');\n",
      "\n",
      "    #draw the graph\n",
      "    nx.draw(G, with_labels=True)\n",
      "\n",
      "    #show the created graphs\n",
      "    plt.show()\n",
      "\n",
      "    custom_labels={}\n",
      "    custom_labels['A'] = 'Custom Label A'\n",
      "    custom_labels['B'] = 'Custom Label B'\n",
      "    custom_labels['C'] = 'Custom Label C'\n",
      "\n",
      "    custom_node_sizes={}\n",
      "    custom_node_sizes['A'] = 1000\n",
      "    custom_node_sizes['B'] = 2000\n",
      "    custom_node_sizes['C'] = 3000\n",
      "\n",
      "    #draw the graph\n",
      "    nx.draw(G,labels=custom_labels,node_list = custom_node_sizes.keys(), node_size=custom_node_sizes.values(), with_labels=True)\n",
      "\n",
      "    #show with custom labels\n",
      "    plt.show()\n",
      "custom_labels_and_size_of_nodes()"
     ],
     "language": "python",
     "metadata": {},
     "outputs": []
    },
    {
     "cell_type": "code",
     "collapsed": false,
     "input": [
      "def custom_node_colors():\n",
      "    #create an empty graph\n",
      "    G = nx.Graph()\n",
      "    \n",
      "    #add three edges\n",
      "    G.add_edge('A','B');\n",
      "    G.add_edge('B','C');\n",
      "    G.add_edge('C','A');\n",
      "\n",
      "    #draw the graph\n",
      "    nx.draw(G, with_labels=True)\n",
      "\n",
      "    #show the created graphs\n",
      "    plt.show()\n",
      "\n",
      "    custom_node_color={}\n",
      "    custom_node_color['A'] = 'c'\n",
      "    custom_node_color['B'] = 'm'\n",
      "    custom_node_color['C'] = 'y'\n",
      "\n",
      "    #draw the graph\n",
      "    nx.draw(G,node_list = custom_node_color.keys(), node_color=custom_node_color.values(), with_labels=True)\n",
      "\n",
      "    #show with custom node colors\n",
      "    plt.show()\n",
      "\n",
      "custom_node_colors()"
     ],
     "language": "python",
     "metadata": {},
     "outputs": []
    },
    {
     "cell_type": "code",
     "collapsed": false,
     "input": [
      "def custom_edge_colors():\n",
      "    #create an empty graph\n",
      "    G = nx.Graph()\n",
      "    \n",
      "    #add three edges\n",
      "    G.add_edge('A','B');\n",
      "    G.add_edge('B','C');\n",
      "    G.add_edge('C','A');\n",
      "\n",
      "    #draw the graph\n",
      "    nx.draw(G, with_labels=True)\n",
      "\n",
      "    #show the created graphs\n",
      "    plt.show()\n",
      "\n",
      "    custom_edge_color={}\n",
      "    custom_edge_color['A','B'] = 'c'\n",
      "    custom_edge_color['B','C'] = 'm'\n",
      "    custom_edge_color['C','A'] = 'y'\n",
      "\n",
      "    #draw the graph\n",
      "    nx.draw(G,edge_list = custom_edge_color.keys(), edge_color=custom_edge_color.values(), with_labels=True)\n",
      "\n",
      "    #show with custom node colors\n",
      "    plt.show()\n",
      "\n",
      "custom_edge_colors()"
     ],
     "language": "python",
     "metadata": {},
     "outputs": []
    },
    {
     "cell_type": "code",
     "collapsed": false,
     "input": [
      "def weighted_graph_with_edge_labels():\n",
      "    #create an empty graph\n",
      "    G = nx.Graph()\n",
      "    \n",
      "    #add three edges\n",
      "    G.add_edge('A','B');\n",
      "    G.add_edge('B','C');\n",
      "    G.add_edge('C','A');\n",
      "    G.add_edge('D','A');\n",
      "    G.add_edge('E','A');\n",
      "\n",
      "    G['A']['B']['weight'] = 10\n",
      "    G['B']['C']['weight'] = 14\n",
      "    G['C']['A']['weight'] = 25\n",
      "    G['D']['A']['weight'] = 50\n",
      "    G['E']['A']['weight'] = 700\n",
      "\n",
      "    # position the nodes by Force Layout\n",
      "    pos = nx.spring_layout(G)\n",
      "    \n",
      "    #position the nodes according the output\n",
      "    # from the spring/force layout algorithm\n",
      "    nx.draw(G, pos, with_labels=True)\n",
      "\n",
      "    #show the created graph\n",
      "    plt.show()\n",
      "    #shorter edge length indicates higher weight\n",
      "\n",
      "    edge_weight=dict([((u,v,),int(d['weight'])) for u,v,d in G.edges(data=True)])\n",
      "\n",
      "    nx.draw_networkx_edge_labels(G,pos,edge_labels=edge_weight)\n",
      "    nx.draw_networkx_nodes(G,pos)\n",
      "    nx.draw_networkx_edges(G,pos)\n",
      "    nx.draw_networkx_labels(G,pos)\n",
      "    plt.axis('off')\n",
      "    plt.show()\n",
      "\n",
      "weighted_graph_with_edge_labels()"
     ],
     "language": "python",
     "metadata": {},
     "outputs": []
    },
    {
     "cell_type": "code",
     "collapsed": false,
     "input": [
      "# place images on nodes\n",
      "\n",
      "def display_images_on_nodes():\n",
      "\n",
      "    import urllib \n",
      "    import cStringIO\n",
      "    import Image\n",
      "    import ImageOps\n",
      "\n",
      "    #Read the smiley image\n",
      "    img = Image\n",
      "    image_path = \"http://www.neurosciencemarketing.com/blog/wp-content/photos/smiley1.jpg\"\n",
      "    f = cStringIO.StringIO(urllib.urlopen(image_path).read())\n",
      "    img = Image.open(f)\n",
      "    \n",
      "    #create an empty graph\n",
      "    G = nx.Graph()\n",
      "    \n",
      "    #add three edges\n",
      "    G.add_edge('A','B');\n",
      "    G.add_edge('B','C');\n",
      "    G.add_edge('C','A');\n",
      "    G.add_edge('D','A');\n",
      "    G.add_edge('E','A');\n",
      "\n",
      "    G['A']['B']['Weight'] = 10\n",
      "    G['B']['C']['Weight'] = 14\n",
      "    G['C']['A']['Weight'] = 25\n",
      "    G['D']['A']['Weight'] = 30\n",
      "    G['E']['A']['Weight'] = 70\n",
      "\n",
      "\n",
      "    # There are two plots here:\n",
      "    # First one for the graph\n",
      "    # Second one for the corresponding node images\n",
      "    fig = plt.figure(1)\n",
      "    ax = plt.subplot(111)\n",
      "    plt.axis('off')\n",
      "\n",
      "\n",
      "    pos = nx.spring_layout(G)\n",
      "    nx.draw_networkx_nodes(G, pos)\n",
      "    nx.draw_networkx_edges(G, pos)\n",
      "    \n",
      "    trans = ax.transData.transform\n",
      "    trans2 = fig.transFigure.inverted().transform\n",
      "    \n",
      "    cut = 1.00\n",
      "    xmax = cut * max(xx for xx, yy in pos.values())\n",
      "    ymax = cut * max(yy for xx, yy in pos.values())\n",
      "    plt.xlim(0, xmax)\n",
      "    plt.ylim(0, ymax)\n",
      "\n",
      "    #height and width of the image\n",
      "    h = 50.0\n",
      "    w  = 50.0\n",
      "    for each_node in G:\n",
      "\n",
      "        # figure coordinates\n",
      "        xx, yy = trans(pos[each_node])\n",
      "        # axes coordinates\n",
      "        xa, ya = trans2((xx, yy))  \n",
      "        \n",
      "        # this is the image size\n",
      "        piesize_1 = (300.0 / (h*80)) \n",
      "        piesize_2 = (300.0 / (w*80))\n",
      "        p2_2 = piesize_2 / 2\n",
      "        p2_1 = piesize_1 / 2\n",
      "        a = plt.axes([xa - p2_2, ya - p2_1, piesize_2, piesize_1])\n",
      "\n",
      "        #insert image into the node\n",
      "        G.node[each_node]['image'] = img\n",
      "        #display it\n",
      "        a.imshow(G.node[each_node]['image'])\n",
      "        #turn off the axis from minor plot\n",
      "        a.axis('off') \n",
      "\n",
      "    #turn off the axis from major plot\n",
      "    nx.draw_networkx_edges(G, pos)\n",
      "    plt.axis('off') \n",
      "    plt.show()\n",
      "\n",
      "display_images_on_nodes()"
     ],
     "language": "python",
     "metadata": {},
     "outputs": []
    },
    {
     "cell_type": "code",
     "collapsed": false,
     "input": [],
     "language": "python",
     "metadata": {},
     "outputs": []
    }
   ],
   "metadata": {}
  }
 ]
}