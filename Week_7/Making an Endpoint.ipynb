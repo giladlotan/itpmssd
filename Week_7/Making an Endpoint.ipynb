{
 "cells": [
  {
   "cell_type": "markdown",
   "metadata": {},
   "source": [
    "## Flask"
   ]
  },
  {
   "cell_type": "markdown",
   "metadata": {},
   "source": [
    "- Super useful framework\n",
    "- With a few lines of code, we easily create an endpoint\n",
    "- Documentation here: http://flask.pocoo.org/docs/0.10/"
   ]
  },
  {
   "cell_type": "code",
   "execution_count": null,
   "metadata": {
    "collapsed": true
   },
   "outputs": [],
   "source": [
    "# pip install Flask (your machines should already have it installed)\n",
    "\n",
    "from flask import Flask # here we import the Flask class\n",
    "app = Flask(__name__) # we create an instance of the Flask class -> '__name__'\n",
    "\n",
    "@app.route(\"/\") # we use whats called a 'decorator' to tell Flask what URL should trigger our function\n",
    "def hello():\n",
    "    return \"Hello World!\" \n",
    "\n",
    "\n",
    "# only runs if the script is executed directly from the Python interpreter (and not used as an imported module)\n",
    "if __name__ == \"__main__\":  \n",
    "\n",
    "    app.debug = True # we want to get error messages\n",
    "    app.run(host='0.0.0.0', port=8886) # make your endpoint publicly available "
   ]
  },
  {
   "cell_type": "markdown",
   "metadata": {},
   "source": [
    "- we move this code to its own file\n",
    "- then we run it on our remote machine (execute it directly from the Python interpreter)\n",
    "- remember to open up the port \n",
    "- and now we can see its results when we navigate to:\n",
    "    - http://[YOUR_PUBLIC_DNS]:8886/\n",
    "\n",
    "- HELLO WORLD!"
   ]
  },
  {
   "cell_type": "code",
   "execution_count": null,
   "metadata": {
    "collapsed": true
   },
   "outputs": [],
   "source": [
    "# let's add a function -> given a tag, return the most recent instagram image for the tag\n",
    "\n",
    "@app.route('/igtag/<tag>')\n",
    "def ig_recent_tag(tag):\n",
    "    \n",
    "    # here we write our function that calls instagram and grabs the latest IG media per tag\n",
    "    \n",
    "    \n",
    "    \n",
    "    \n"
   ]
  },
  {
   "cell_type": "code",
   "execution_count": null,
   "metadata": {
    "collapsed": true
   },
   "outputs": [],
   "source": []
  },
  {
   "cell_type": "code",
   "execution_count": null,
   "metadata": {
    "collapsed": true
   },
   "outputs": [],
   "source": []
  },
  {
   "cell_type": "code",
   "execution_count": null,
   "metadata": {
    "collapsed": true
   },
   "outputs": [],
   "source": []
  },
  {
   "cell_type": "code",
   "execution_count": null,
   "metadata": {
    "collapsed": true
   },
   "outputs": [],
   "source": []
  }
 ],
 "metadata": {
  "kernelspec": {
   "display_name": "Python 2",
   "language": "python",
   "name": "python2"
  },
  "language_info": {
   "codemirror_mode": {
    "name": "ipython",
    "version": 2
   },
   "file_extension": ".py",
   "mimetype": "text/x-python",
   "name": "python",
   "nbconvert_exporter": "python",
   "pygments_lexer": "ipython2",
   "version": "2.7.6"
  }
 },
 "nbformat": 4,
 "nbformat_minor": 0
}
