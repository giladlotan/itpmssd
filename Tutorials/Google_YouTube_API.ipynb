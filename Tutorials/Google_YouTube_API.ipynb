{
 "cells": [
  {
   "cell_type": "code",
   "execution_count": null,
   "metadata": {
    "collapsed": false
   },
   "outputs": [],
   "source": [
    "# YouTube V3"
   ]
  },
  {
   "cell_type": "code",
   "execution_count": 5,
   "metadata": {
    "collapsed": false
   },
   "outputs": [],
   "source": [
    "# pip install --upgrade google-api-python-client\n",
    "# pip install urllib3\n",
    "from apiclient.discovery import build\n",
    "from apiclient.errors import HttpError\n",
    "from oauth2client.tools import argparser\n",
    "\n",
    "\n",
    "# Set DEVELOPER_KEY to the API key value from the APIs & auth > Registered apps\n",
    "# tab of\n",
    "#   https://cloud.google.com/console\n",
    "# Please ensure that you have enabled the YouTube Data API for your project.\n",
    "DEVELOPER_KEY = \"\"\n",
    "YOUTUBE_API_SERVICE_NAME = \"youtube\"\n",
    "YOUTUBE_API_VERSION = \"v3\""
   ]
  },
  {
   "cell_type": "code",
   "execution_count": 6,
   "metadata": {
    "collapsed": true
   },
   "outputs": [],
   "source": [
    "def youtube_search(_q, _max_results):\n",
    "  youtube = build(YOUTUBE_API_SERVICE_NAME, YOUTUBE_API_VERSION, developerKey=DEVELOPER_KEY)\n",
    "\n",
    "  # Call the search.list method to retrieve results matching the specified\n",
    "  # query term.\n",
    "  search_response = youtube.search().list(\n",
    "    q=_q,\n",
    "    part=\"id,snippet\",\n",
    "    maxResults=_max_results\n",
    "  ).execute()\n",
    "\n",
    "  videos = []\n",
    "  channels = []\n",
    "  playlists = []\n",
    "\n",
    "  # Add each result to the appropriate list, and then display the lists of\n",
    "  # matching videos, channels, and playlists.\n",
    "  for search_result in search_response.get(\"items\", []):\n",
    "    if search_result[\"id\"][\"kind\"] == \"youtube#video\":\n",
    "      videos.append(\"%s (%s)\" % (search_result[\"snippet\"][\"title\"],\n",
    "                                 search_result[\"id\"][\"videoId\"]))\n",
    "    elif search_result[\"id\"][\"kind\"] == \"youtube#channel\":\n",
    "      channels.append(\"%s (%s)\" % (search_result[\"snippet\"][\"title\"],\n",
    "                                   search_result[\"id\"][\"channelId\"]))\n",
    "    elif search_result[\"id\"][\"kind\"] == \"youtube#playlist\":\n",
    "      playlists.append(\"%s (%s)\" % (search_result[\"snippet\"][\"title\"],\n",
    "                                    search_result[\"id\"][\"playlistId\"]))\n",
    "\n",
    "  print \"Videos:\\n\", \"\\n\".join(videos), \"\\n\"\n",
    "  print \"Channels:\\n\", \"\\n\".join(channels), \"\\n\"\n",
    "  print \"Playlists:\\n\", \"\\n\".join(playlists), \"\\n\""
   ]
  },
  {
   "cell_type": "code",
   "execution_count": 7,
   "metadata": {
    "collapsed": false
   },
   "outputs": [
    {
     "name": "stdout",
     "output_type": "stream",
     "text": [
      "Videos:\n",
      "Big Data - \"Dangerous (feat. Joywave)\" [Official Music Video] (E8b4xYbEugo)\n",
      "Explaining Big Data (7D1CQ_LOizA)\n",
      "What is Big Data? Big Data Explained (Hadoop & MapReduce) (c4BwefH5Ve8)\n",
      "Kenneth Cukier: Big data is better data (8pHzROP1D-w)\n",
      "What is Big Data and Hadoop? (FHVuRxJpiwI)\n",
      "Qué es Big Data (WgAakVRAAwM)\n",
      "Big Data and Hadoop 1 | Hadoop Tutorial 1 | Big Data Tutorial 1 | Hadoop Tutorial for Beginners - 1 (A02SRdyoshM)\n",
      "Big Data - \"The Business of Emotion (feat. White Sea)\" [Official Music Video] (ckGpFjV5yXA) \n",
      "\n",
      "Channels:\n",
      "Big Data (UCEtR1hAjm4M2yZxuk8-S8JA) \n",
      "\n",
      "Playlists:\n",
      "Big Data - 2.0 [Debut Album] - out NOW! (PLQP4bDto6xR3bj8Grac7fQWIRIZsJhOR5) \n",
      "\n"
     ]
    }
   ],
   "source": [
    "q = 'big data'\n",
    "max_results = 10\n",
    "youtube_search(q, max_results)\n"
   ]
  },
  {
   "cell_type": "code",
   "execution_count": null,
   "metadata": {
    "collapsed": true
   },
   "outputs": [],
   "source": []
  },
  {
   "cell_type": "code",
   "execution_count": null,
   "metadata": {
    "collapsed": true
   },
   "outputs": [],
   "source": []
  },
  {
   "cell_type": "code",
   "execution_count": null,
   "metadata": {
    "collapsed": true
   },
   "outputs": [],
   "source": []
  }
 ],
 "metadata": {
  "kernelspec": {
   "display_name": "Python 2",
   "language": "python",
   "name": "python2"
  },
  "language_info": {
   "codemirror_mode": {
    "name": "ipython",
    "version": 2
   },
   "file_extension": ".py",
   "mimetype": "text/x-python",
   "name": "python",
   "nbconvert_exporter": "python",
   "pygments_lexer": "ipython2",
   "version": "2.7.6"
  }
 },
 "nbformat": 4,
 "nbformat_minor": 0
}
