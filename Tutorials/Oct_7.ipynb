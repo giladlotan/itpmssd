{
 "cells": [
  {
   "cell_type": "markdown",
   "metadata": {},
   "source": [
    "### Instagram"
   ]
  },
  {
   "cell_type": "code",
   "execution_count": null,
   "metadata": {
    "collapsed": false
   },
   "outputs": [],
   "source": [
    "%pylab inline\n",
    "\n",
    "client_id = ''\n",
    "client_secret = ''\n",
    "\n",
    "from instagram.client import InstagramAPI\n",
    "api = InstagramAPI(client_id=client_id, client_secret=client_secret)"
   ]
  },
  {
   "cell_type": "code",
   "execution_count": null,
   "metadata": {
    "collapsed": false,
    "scrolled": true
   },
   "outputs": [],
   "source": [
    "tag = 'NationalKaleDay'\n",
    "print api.tag(tag).media_count\n",
    "\n",
    "# get ig media based on tag\n",
    "\n",
    "max_tag_id = 0\n",
    "media_per_query = 33\n",
    "MAX_ITEMS = 10000\n",
    "\n",
    "all_media, next_ = api.tag_recent_media(media_per_query, max_tag_id, tag)\n",
    "\n",
    "while next_:\n",
    "    more_media, next_ = api.tag_recent_media(count=media_per_query, tag_name=tag, with_next_url=next_)\n",
    "    all_media.extend(more_media)\n",
    "        \n",
    "    #print len(all_media)\n",
    "    if len(all_media)>MAX_ITEMS:\n",
    "        break"
   ]
  },
  {
   "cell_type": "code",
   "execution_count": null,
   "metadata": {
    "collapsed": true
   },
   "outputs": [],
   "source": [
    "# create a dataframe and add the Instagram data we just collected\n",
    "import pandas as pd\n",
    "\n",
    "df = pd.DataFrame({\n",
    "        'times':[m.created_time for m in all_media], \n",
    "        'users':[m.user.username for m in all_media]\n",
    "    })"
   ]
  },
  {
   "cell_type": "code",
   "execution_count": null,
   "metadata": {
    "collapsed": false
   },
   "outputs": [],
   "source": [
    "# since we need hourly counts, let's create a function that sets the second/minute value to zero\n",
    "def make_date(d):\n",
    "    d = d.replace(second=0, minute=0)\n",
    "    return d\n",
    "\n",
    "df['dt']=df[['times']].apply(lambda x: make_date(x['times']), axis=1)\n",
    "ig_df = df.set_index('dt')"
   ]
  },
  {
   "cell_type": "code",
   "execution_count": null,
   "metadata": {
    "collapsed": false
   },
   "outputs": [],
   "source": [
    "# now we have everything we need in our dataframe\n",
    "ig_df.head()"
   ]
  },
  {
   "cell_type": "code",
   "execution_count": null,
   "metadata": {
    "collapsed": false
   },
   "outputs": [],
   "source": [
    "# let's plot it over time, group by hour, which is effectively our 'dt' column (or the index in this case)\n",
    "\n",
    "df.groupby(df.dt).size().plot(figsize=(20,6))\n",
    "title('#%s - IG posts over time' % tag)"
   ]
  },
  {
   "cell_type": "code",
   "execution_count": null,
   "metadata": {
    "collapsed": false
   },
   "outputs": [],
   "source": [
    "# slice only the past week -> since Twitter only lets us search back for a week\n",
    "ig_df.groupby(ig_df.index).size()['2015-10-01':].plot(figsize=(20,6))"
   ]
  },
  {
   "cell_type": "markdown",
   "metadata": {},
   "source": [
    "### Twitter"
   ]
  },
  {
   "cell_type": "code",
   "execution_count": null,
   "metadata": {
    "collapsed": true
   },
   "outputs": [],
   "source": [
    "# pip install twitter\n",
    "import twitter\n",
    "\n",
    "# Twitter API keys go here\n",
    "CONSUMER_KEY = ''\n",
    "CONSUMER_SECRET = ''\n",
    "\n",
    "OAUTH_TOKEN = ''\n",
    "OAUTH_TOKEN_SECRET = ''\n",
    "\n",
    "\n",
    "auth = twitter.oauth.OAuth(OAUTH_TOKEN, OAUTH_TOKEN_SECRET,\n",
    "                           CONSUMER_KEY, CONSUMER_SECRET)\n",
    "\n",
    "twitter_api = twitter.Twitter(auth=auth)"
   ]
  },
  {
   "cell_type": "code",
   "execution_count": null,
   "metadata": {
    "collapsed": false
   },
   "outputs": [],
   "source": [
    "count = 100\n",
    "\n",
    "# here's how we make a basic call to twitter search -> given a query that's a hashtag\n",
    "search_results = twitter_api.search.tweets(q='#'+tag, count=count)"
   ]
  },
  {
   "cell_type": "code",
   "execution_count": null,
   "metadata": {
    "collapsed": false
   },
   "outputs": [],
   "source": [
    "# the results have a metadata portion which gives us all the information we need for further pagination \n",
    "search_results['search_metadata']"
   ]
  },
  {
   "cell_type": "code",
   "execution_count": null,
   "metadata": {
    "collapsed": true
   },
   "outputs": [],
   "source": [
    "# we need to parse the 'max_id' value from the 'next_results' item (in order to paginate through the next results)\n",
    "\n",
    "def parse_twitter_next(_metadata):\n",
    "    try:\n",
    "        params = {a:b for a,b in [x.split('=') for x in _metadata['next_results'][1:].split('&')]}\n",
    "        return int(params['max_id'])\n",
    "    except:\n",
    "        return None    "
   ]
  },
  {
   "cell_type": "code",
   "execution_count": null,
   "metadata": {
    "collapsed": false
   },
   "outputs": [],
   "source": [
    "# our newly created function works!! (extracts the value of the max_id variable in the 'next_results' url)\n",
    "parse_twitter_next(search_results['search_metadata'])"
   ]
  },
  {
   "cell_type": "code",
   "execution_count": null,
   "metadata": {
    "collapsed": false
   },
   "outputs": [],
   "source": [
    "# paginate through Twitter results -> GET ALL THE DATA!\n",
    "num_iterations = 30\n",
    "\n",
    "search_results = twitter_api.search.tweets(q='#'+tag, count=count)\n",
    "statuses = search_results['statuses']\n",
    "\n",
    "for i in range(num_iterations):\n",
    "    max_id = parse_twitter_next(search_results['search_metadata'])   \n",
    "    search_results = twitter_api.search.tweets(q='#'+tag, count=count, max_id=max_id)\n",
    "    statuses += search_results['statuses']\n",
    "\n",
    "print len(statuses)"
   ]
  },
  {
   "cell_type": "code",
   "execution_count": null,
   "metadata": {
    "collapsed": false
   },
   "outputs": [],
   "source": [
    "# create a DataFrame to hold the tweets\n",
    "tw_df = pd.DataFrame({\n",
    "        'times':[s['created_at'] for s in statuses], \n",
    "        'users':[s['user']['screen_name'] for s in statuses]\n",
    "    })"
   ]
  },
  {
   "cell_type": "code",
   "execution_count": null,
   "metadata": {
    "collapsed": false
   },
   "outputs": [],
   "source": [
    "tw_df.head()"
   ]
  },
  {
   "cell_type": "code",
   "execution_count": null,
   "metadata": {
    "collapsed": true
   },
   "outputs": [],
   "source": [
    "# Here its a bit more complicated - we need to parse the date string into a datetime object, which we can then\n",
    "# use to set our second/minute value to zero (just like we did above for instagram)\n",
    "\n",
    "from datetime import datetime\n",
    "\n",
    "def make_tw_date(dt_str):\n",
    "    d = datetime.strptime(dt_str, '%a %b %d %H:%M:%S +0000 %Y')\n",
    "    d = d.replace(second=0, minute=0)\n",
    "    return d\n",
    "\n",
    "tw_df['dt']=tw_df[['times']].apply(lambda x: make_tw_date(x['times']), axis=1)\n",
    "tw_df = tw_df.set_index('dt')"
   ]
  },
  {
   "cell_type": "markdown",
   "metadata": {
    "collapsed": true
   },
   "source": [
    "### Merge Two DataFrames"
   ]
  },
  {
   "cell_type": "code",
   "execution_count": null,
   "metadata": {
    "collapsed": false
   },
   "outputs": [],
   "source": [
    "tw_df.groupby(tw_df.index).size()['2015-10-07':].plot(figsize=(20,6), label='tweets')\n",
    "ig_df.groupby(ig_df.index).size()['2015-10-07':].plot(figsize=(20,6), label='instagram')\n",
    "legend()\n",
    "title('#%s - tweets and instagram posts' % tag)\n",
    "xlabel('hourly counts')\n",
    "ylabel('number of posts')"
   ]
  },
  {
   "cell_type": "code",
   "execution_count": null,
   "metadata": {
    "collapsed": true
   },
   "outputs": [],
   "source": []
  },
  {
   "cell_type": "code",
   "execution_count": null,
   "metadata": {
    "collapsed": true
   },
   "outputs": [],
   "source": []
  },
  {
   "cell_type": "code",
   "execution_count": null,
   "metadata": {
    "collapsed": true
   },
   "outputs": [],
   "source": []
  }
 ],
 "metadata": {
  "kernelspec": {
   "display_name": "Python 2",
   "language": "python",
   "name": "python2"
  },
  "language_info": {
   "codemirror_mode": {
    "name": "ipython",
    "version": 2
   },
   "file_extension": ".py",
   "mimetype": "text/x-python",
   "name": "python",
   "nbconvert_exporter": "python",
   "pygments_lexer": "ipython2",
   "version": "2.7.6"
  }
 },
 "nbformat": 4,
 "nbformat_minor": 0
}
