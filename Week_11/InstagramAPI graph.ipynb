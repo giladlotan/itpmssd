{
 "cells": [
  {
   "cell_type": "markdown",
   "metadata": {},
   "source": [
    "### Instagram API"
   ]
  },
  {
   "cell_type": "code",
   "execution_count": null,
   "metadata": {
    "collapsed": false
   },
   "outputs": [],
   "source": [
    "client_id = ''\n",
    "client_secret = ''\n",
    "\n",
    "from instagram.client import InstagramAPI\n",
    "\n",
    "# documentation here - https://github.com/Instagram/python-instagram\n",
    "api = InstagramAPI(client_id=client_id, client_secret=client_secret)"
   ]
  },
  {
   "cell_type": "code",
   "execution_count": null,
   "metadata": {
    "collapsed": false
   },
   "outputs": [],
   "source": [
    "# get ig tag info\n",
    "used_tag = 'sanbernardino'\n",
    "ans = api.tag(used_tag).media_count\n",
    "print ans"
   ]
  },
  {
   "cell_type": "code",
   "execution_count": null,
   "metadata": {
    "collapsed": false
   },
   "outputs": [],
   "source": [
    "import pickle\n",
    "path = '/class/itpmssd/datasets/'\n",
    "\n",
    "all_media = pickle.load(open(path+'%s_ig.p' % used_tag,'rb'))"
   ]
  },
  {
   "cell_type": "markdown",
   "metadata": {},
   "source": [
    "### Building an Instagram co-tag graph"
   ]
  },
  {
   "cell_type": "code",
   "execution_count": null,
   "metadata": {
    "collapsed": false
   },
   "outputs": [],
   "source": [
    "# pip install networkx\n",
    "\n",
    "import networkx as nx\n",
    "\n",
    "# functions that help us construct the graph\n",
    "def graph_add_node(n, g):\n",
    "    try:\n",
    "        if g.has_node(n):\n",
    "            g.node[n]['weight']+=1\n",
    "        else:\n",
    "            g.add_node(n)\n",
    "            g.node[n]['label'] = n\n",
    "            g.node[n]['weight'] = 1\n",
    "    except:\n",
    "        return\n",
    "            \n",
    "def graph_add_edge(n1, n2, g):\n",
    "    if g.has_edge(n1, n2):\n",
    "        g[n1][n2]['weight']+=1\n",
    "    else:\n",
    "        g.add_edge(n1,n2)\n",
    "        g[n1][n2]['weight']=1"
   ]
  },
  {
   "cell_type": "code",
   "execution_count": null,
   "metadata": {
    "collapsed": false
   },
   "outputs": [],
   "source": [
    "from itertools import combinations\n",
    "\n",
    "g = nx.Graph()\n",
    "\n",
    "for m in all_media:\n",
    "    if not hasattr(m, 'tags'):\n",
    "        continue\n",
    "        \n",
    "    cur_tags = [t.name for t in m.tags]\n",
    "    for t in m.tags:\n",
    "        graph_add_node(t.name, g)\n",
    "        \n",
    "    for t1, t2 in combinations(cur_tags, 2):\n",
    "        graph_add_edge(t1, t2, g)"
   ]
  },
  {
   "cell_type": "code",
   "execution_count": null,
   "metadata": {
    "collapsed": false
   },
   "outputs": [],
   "source": [
    "print 'num nodes:', nx.number_of_nodes(g)\n",
    "print 'num edges:', nx.number_of_edges(g)"
   ]
  },
  {
   "cell_type": "code",
   "execution_count": null,
   "metadata": {
    "collapsed": false
   },
   "outputs": [],
   "source": [
    "# pip install community\n",
    "# pip install python-louvain\n",
    "\n",
    "from community import *"
   ]
  },
  {
   "cell_type": "code",
   "execution_count": null,
   "metadata": {
    "collapsed": false
   },
   "outputs": [],
   "source": [
    "# partition the graph using Louvain Modularity\n",
    "\n",
    "part = best_partition(g)"
   ]
  },
  {
   "cell_type": "code",
   "execution_count": null,
   "metadata": {
    "collapsed": false
   },
   "outputs": [],
   "source": [
    "part"
   ]
  },
  {
   "cell_type": "code",
   "execution_count": null,
   "metadata": {
    "collapsed": true
   },
   "outputs": [],
   "source": [
    "part_vals = sorted(set(part.values()))\n",
    "part_hist = [part.values().count(x) for x in part_vals]"
   ]
  },
  {
   "cell_type": "code",
   "execution_count": null,
   "metadata": {
    "collapsed": false
   },
   "outputs": [],
   "source": [
    "%pylab inline\n",
    "\n",
    "plot(part_vals, part_hist, 'ro-')\n",
    "title('membership to cluster group')\n",
    "xlabel('cluster group #')\n",
    "ylabel('membership size')\n",
    "rcParams['figure.figsize'] = 16,8\n",
    "\n",
    "top_clusters = []\n",
    "limit = 10\n",
    "print 'top %s clusters:' % limit\n",
    "for i in sorted(part_hist, reverse=True)[:limit]:\n",
    "    print 'cluster %s has %s members' % (part_hist.index(i), i)\n",
    "    top_clusters.append(part_hist.index(i))"
   ]
  },
  {
   "cell_type": "code",
   "execution_count": null,
   "metadata": {
    "collapsed": false
   },
   "outputs": [],
   "source": [
    "cl_cen = {}\n",
    "\n",
    "for c in top_clusters:\n",
    "    g_sub=g.subgraph(g.nbunch_iter([x for x,y in part.items() if y==c]))\n",
    "    avg_deg = round(mean(nx.degree(g_sub).values()),5)\n",
    "    \n",
    "    # calculate degree centrality per node\n",
    "    cl_cen[c] = nx.degree_centrality(g_sub)\n",
    "\n",
    "    print '%s) avg_deg:%s [%s,%s]' % (c, avg_deg, g_sub.order() ,g_sub.size())"
   ]
  },
  {
   "cell_type": "code",
   "execution_count": null,
   "metadata": {
    "collapsed": false,
    "scrolled": true
   },
   "outputs": [],
   "source": [
    "# show top words from within clusters, sorted by node centrality\n",
    "for c in top_clusters:\n",
    "\n",
    "    members = {}  \n",
    "    \n",
    "    for m_id in [x for x,y in part.items() if y==c]:\n",
    "        cur_sn = g.node[m_id]['label']\n",
    "        cur_deg = round(cl_cen[c][cur_sn],4)\n",
    "        \n",
    "        members[cur_sn]=cur_deg\n",
    "    \n",
    "    print 'cluster %s' % c\n",
    "    print sorted(members.items(), key=lambda x: -x[1])[:30]\n",
    "    print ''\n"
   ]
  },
  {
   "cell_type": "code",
   "execution_count": null,
   "metadata": {
    "collapsed": false
   },
   "outputs": [],
   "source": [
    "path = '/class/itpmssd/datasets/'\n",
    "nx.write_gexf(g, path+'%s_insta_tags.gexf' % used_tag)\n",
    "print path+'%s_insta_tags.gexf' % used_tag"
   ]
  },
  {
   "cell_type": "markdown",
   "metadata": {},
   "source": [
    "### Now let's add location"
   ]
  },
  {
   "cell_type": "code",
   "execution_count": null,
   "metadata": {
    "collapsed": false
   },
   "outputs": [],
   "source": [
    "import networkx as nx\n",
    "\n",
    "def graph_add_node(n, g, params):\n",
    "    \n",
    "    try:\n",
    "        if g.has_node(n):\n",
    "            g.node[n]['weight']+=1\n",
    "        else:\n",
    "            g.add_node(n)\n",
    "            g.node[n]['weight'] = 1\n",
    "            for k,v in params.items():\n",
    "                g.node[n][k]=v\n",
    "    except:\n",
    "        return\n",
    "            \n",
    "def graph_add_edge(n1, n2, weight, g):\n",
    "    g.add_edge(n1,n2)\n",
    "    g[n1][n2]['weight']=weight"
   ]
  },
  {
   "cell_type": "code",
   "execution_count": null,
   "metadata": {
    "collapsed": true
   },
   "outputs": [],
   "source": [
    "# what should our edges be?\n",
    "# Let's try to show users with overlapping tags\n",
    "\n",
    "from collections import defaultdict\n",
    "\n",
    "tag_info = defaultdict(set)\n",
    "users_to_tags = defaultdict(set)\n",
    "\n",
    "for m in all_media:\n",
    "    for tag in [t.name for t in m.tags]:\n",
    "        tag_info[tag].add(m.user.id)\n",
    "        users_to_tags[m.user.id].add(tag)"
   ]
  },
  {
   "cell_type": "code",
   "execution_count": null,
   "metadata": {
    "collapsed": true
   },
   "outputs": [],
   "source": [
    "g = nx.DiGraph()\n",
    "\n",
    "# add nodes only to those users with geo location\n",
    "for m in all_media:\n",
    "    \n",
    "    if not hasattr(m, 'tags'):\n",
    "        continue\n",
    "        \n",
    "    if not hasattr(m, 'location'):\n",
    "        continue\n",
    "        \n",
    "    try:\n",
    "        params = {'label':m.user.username, \n",
    "                  'likes':m.like_count, \n",
    "                  'comments':m.comment_count,\n",
    "                  'location_name':m.location.name, \n",
    "                  'lat':m.location.point.latitude, \n",
    "                  'lng':m.location.point.longitude\n",
    "                  }\n",
    "    \n",
    "        graph_add_node(m.user.id, g, params)\n",
    "        \n",
    "    except:\n",
    "        continue"
   ]
  },
  {
   "cell_type": "code",
   "execution_count": null,
   "metadata": {
    "collapsed": false
   },
   "outputs": [],
   "source": [
    "# here we get all users who used a hashtag\n",
    "tag_info['prayfor']"
   ]
  },
  {
   "cell_type": "code",
   "execution_count": null,
   "metadata": {
    "collapsed": false
   },
   "outputs": [],
   "source": [
    "users_to_tags['2130803277']"
   ]
  },
  {
   "cell_type": "code",
   "execution_count": null,
   "metadata": {
    "collapsed": false
   },
   "outputs": [],
   "source": [
    "# now lets generate a list of edges -> users who have at least 2 tags in common\n",
    "\n",
    "edgelist = defaultdict(int)\n",
    "\n",
    "for u1,u2 in combinations(users_to_tags.keys(), 2):\n",
    "    t1 = users_to_tags[u1]\n",
    "    t2 = users_to_tags[u2]\n",
    "    \n",
    "    # if the two users have more than one tag in common, add them to our edgelist\n",
    "    if len(t1 & t2)>1:\n",
    "        edgelist[(u1,u2)]=len(t1 & t2)\n",
    "    "
   ]
  },
  {
   "cell_type": "code",
   "execution_count": null,
   "metadata": {
    "collapsed": false
   },
   "outputs": [],
   "source": [
    "edgelist.keys()"
   ]
  },
  {
   "cell_type": "code",
   "execution_count": null,
   "metadata": {
    "collapsed": false
   },
   "outputs": [],
   "source": [
    "for n1,n2 in combinations(g.nodes(), 2):\n",
    "    ans = edgelist.get((n1,n2), None) or edgelist.get((n1,n2), None)\n",
    "    if ans:\n",
    "        graph_add_edge(n1,n2,ans,g)"
   ]
  },
  {
   "cell_type": "code",
   "execution_count": null,
   "metadata": {
    "collapsed": false
   },
   "outputs": [],
   "source": [
    "print g.number_of_nodes()\n",
    "print g.number_of_edges()"
   ]
  },
  {
   "cell_type": "code",
   "execution_count": null,
   "metadata": {
    "collapsed": false
   },
   "outputs": [],
   "source": [
    "nx.write_gexf(g, path+'%s_insta_location.gexf' % used_tag)\n",
    "print path+'%s_insta_location.gexf' % used_tag"
   ]
  },
  {
   "cell_type": "raw",
   "metadata": {},
   "source": [
    "Using Gephi, I'd love to see something like this:"
   ]
  },
  {
   "cell_type": "markdown",
   "metadata": {},
   "source": [
    "<img src=\"http://i.imgur.com/06mvfnK.png\"/>"
   ]
  },
  {
   "cell_type": "raw",
   "metadata": {},
   "source": [
    "Or these:"
   ]
  },
  {
   "cell_type": "markdown",
   "metadata": {},
   "source": [
    "<img src=\"http://i.imgur.com/lChkrbz.png\"/>"
   ]
  },
  {
   "cell_type": "markdown",
   "metadata": {},
   "source": [
    "<img src=\"http://i.imgur.com/tGpaULp.png\"/>"
   ]
  }
 ],
 "metadata": {
  "kernelspec": {
   "display_name": "Python 2",
   "language": "python",
   "name": "python2"
  },
  "language_info": {
   "codemirror_mode": {
    "name": "ipython",
    "version": 2
   },
   "file_extension": ".py",
   "mimetype": "text/x-python",
   "name": "python",
   "nbconvert_exporter": "python",
   "pygments_lexer": "ipython2",
   "version": "2.7.6"
  }
 },
 "nbformat": 4,
 "nbformat_minor": 0
}
