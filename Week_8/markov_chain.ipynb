{
 "cells": [
  {
   "cell_type": "markdown",
   "metadata": {},
   "source": [
    "# Markov Chain based text generation for Tweets"
   ]
  },
  {
   "cell_type": "raw",
   "metadata": {},
   "source": [
    "- given the present, the future is conditionally independent of the past\n",
    "- is a stochastic process with markov property -> state changes are probabilistic, and future state depend on current state only."
   ]
  },
  {
   "cell_type": "code",
   "execution_count": 83,
   "metadata": {
    "collapsed": false
   },
   "outputs": [],
   "source": [
    "# pip install tweepy\n",
    "import tweepy\n",
    "\n",
    "CONSUMER_KEY = ''\n",
    "CONSUMER_SECRET = ''\n",
    "\n",
    "OAUTH_TOKEN = ''\n",
    "OAUTH_TOKEN_SECRET = ''\n",
    "\n",
    "CONSUMER_KEY = 'z3XcRz4Q29Tf0euTQAc8L3vbf'\n",
    "CONSUMER_SECRET = 'cgnX70ALspaaMtLmjgXGbevcpDUgnmphyOPMEjJXPf9EyfziOm'\n",
    "\n",
    "OAUTH_TOKEN = '3183721-djVqbJPwaQik8v1TnvO7v7ZreiBwuwj2T2aXUmAiFf'\n",
    "OAUTH_TOKEN_SECRET = 'cbKHKtpSOoLGWVZydzS4lxB8OT8wyZ02Q5lP0TRJfcWBb'\n",
    "\n",
    "def get_user_tweets(screen_name):\n",
    "\n",
    "    auth = tweepy.OAuthHandler(CONSUMER_KEY, CONSUMER_SECRET)\n",
    "    auth.set_access_token(OAUTH_TOKEN, OAUTH_TOKEN_SECRET)\n",
    "    api = tweepy.API(auth)\n",
    "\n",
    "    ans = []\n",
    "    for p in tweepy.Cursor(api.user_timeline, screen_name=screen_name, count=200, include_rts=True).pages():\n",
    "        for t in p:\n",
    "            ans.append(t)\n",
    "    return [tweet.text for tweet in ans]"
   ]
  },
  {
   "cell_type": "code",
   "execution_count": 84,
   "metadata": {
    "collapsed": false
   },
   "outputs": [
    {
     "name": "stderr",
     "output_type": "stream",
     "text": [
      "/usr/local/lib/python2.7/dist-packages/requests/packages/urllib3/util/ssl_.py:100: InsecurePlatformWarning: A true SSLContext object is not available. This prevents urllib3 from configuring SSL appropriately and may cause certain SSL connections to fail. For more information, see https://urllib3.readthedocs.org/en/latest/security.html#insecureplatformwarning.\n",
      "  InsecurePlatformWarning\n"
     ]
    }
   ],
   "source": [
    "tweets = get_user_tweets('RealDonaldTrump')"
   ]
  },
  {
   "cell_type": "code",
   "execution_count": 85,
   "metadata": {
    "collapsed": false
   },
   "outputs": [
    {
     "data": {
      "text/plain": [
       "3205"
      ]
     },
     "execution_count": 85,
     "metadata": {},
     "output_type": "execute_result"
    }
   ],
   "source": [
    "len(tweets)"
   ]
  },
  {
   "cell_type": "code",
   "execution_count": 86,
   "metadata": {
    "collapsed": true
   },
   "outputs": [],
   "source": [
    "import re\n",
    "\n",
    "# text cleanup\n",
    "def tweet_cleanup(tw):\n",
    "    tw = re.sub('[\"]','',tw)\n",
    "    \n",
    "    cleaned = []\n",
    "    for w in tw.split():\n",
    "        if w.startswith('@'):\n",
    "            continue\n",
    "        if 'RT' in w:\n",
    "            continue\n",
    "        if 'http' in w:\n",
    "            continue\n",
    "        if 'via' in w:\n",
    "            continue\n",
    "        cleaned.append(w)\n",
    "        \n",
    "    return cleaned"
   ]
  },
  {
   "cell_type": "code",
   "execution_count": 87,
   "metadata": {
    "collapsed": false
   },
   "outputs": [
    {
     "data": {
      "text/plain": [
       "u'\"@giatny:  Rubio an orator/liar like Obama but totally unqualified. Rubio visa bill did NOT protect American workers. See Disney.\"'"
      ]
     },
     "execution_count": 87,
     "metadata": {},
     "output_type": "execute_result"
    }
   ],
   "source": [
    "t = tweets[0]\n",
    "t"
   ]
  },
  {
   "cell_type": "code",
   "execution_count": 89,
   "metadata": {
    "collapsed": false
   },
   "outputs": [
    {
     "data": {
      "text/plain": [
       "u'Rubio an orator/liar like Obama but totally unqualified. Rubio visa bill did NOT protect American workers. See Disney.'"
      ]
     },
     "execution_count": 89,
     "metadata": {},
     "output_type": "execute_result"
    }
   ],
   "source": [
    "' '.join(tweet_cleanup(t))"
   ]
  },
  {
   "cell_type": "code",
   "execution_count": 90,
   "metadata": {
    "collapsed": false
   },
   "outputs": [
    {
     "data": {
      "text/plain": [
       "46896"
      ]
     },
     "execution_count": 90,
     "metadata": {},
     "output_type": "execute_result"
    }
   ],
   "source": [
    "# place all the words in one long array\n",
    "\n",
    "all_words = (' '.join([' '.join(tweet_cleanup(tw)) for tw in tweets])).split()\n",
    "len(all_words)"
   ]
  },
  {
   "cell_type": "code",
   "execution_count": 92,
   "metadata": {
    "collapsed": false
   },
   "outputs": [
    {
     "data": {
      "text/plain": [
       "[u'Rubio',\n",
       " u'an',\n",
       " u'orator/liar',\n",
       " u'like',\n",
       " u'Obama',\n",
       " u'but',\n",
       " u'totally',\n",
       " u'unqualified.',\n",
       " u'Rubio',\n",
       " u'visa']"
      ]
     },
     "execution_count": 92,
     "metadata": {},
     "output_type": "execute_result"
    }
   ],
   "source": [
    "all_words[:10]"
   ]
  },
  {
   "cell_type": "code",
   "execution_count": null,
   "metadata": {
    "collapsed": true
   },
   "outputs": [],
   "source": [
    "# triples - create combinations of three consecutive words from long array\n",
    "\n",
    "def triples(words):\n",
    "    for i in range(len(words) - 2):\n",
    "        yield (words[i], words[i+1], words[i+2])"
   ]
  },
  {
   "cell_type": "code",
   "execution_count": 93,
   "metadata": {
    "collapsed": false,
    "scrolled": true
   },
   "outputs": [
    {
     "name": "stdout",
     "output_type": "stream",
     "text": [
      "(u'Rubio', u'an', u'orator/liar')\n",
      "(u'an', u'orator/liar', u'like')\n",
      "(u'orator/liar', u'like', u'Obama')\n",
      "(u'like', u'Obama', u'but')\n",
      "(u'Obama', u'but', u'totally')\n",
      "(u'but', u'totally', u'unqualified.')\n",
      "(u'totally', u'unqualified.', u'Rubio')\n",
      "(u'unqualified.', u'Rubio', u'visa')\n"
     ]
    }
   ],
   "source": [
    "for i in triples(all_words[:10]):\n",
    "    print i"
   ]
  },
  {
   "cell_type": "code",
   "execution_count": 94,
   "metadata": {
    "collapsed": true
   },
   "outputs": [],
   "source": [
    "from collections import defaultdict\n",
    "\n",
    "# create a dictionary of all transitions: keys are \"source\" state (tuple of two words), and the list represents \n",
    "# the \"destination\" state, which includes all options for the next word, given the existing two words\n",
    "\n",
    "transitions = defaultdict(list)\n",
    "for w1, w2, w3 in triples(all_words):\n",
    "    transitions[(w1,w2)].append(w3)"
   ]
  },
  {
   "cell_type": "code",
   "execution_count": 96,
   "metadata": {
    "collapsed": false
   },
   "outputs": [
    {
     "data": {
      "text/plain": [
       "[(u'benefits', u'than'),\n",
       " (u'Trump..Please..He', u'is'),\n",
       " (u'MONEY,', u\"HE'S\"),\n",
       " (u'has', u'awakened'),\n",
       " (u'yesterday,', u'massive'),\n",
       " (u'#trump2016', u'So'),\n",
       " (u'ppl', u'that'),\n",
       " (u'I', u\"don't\"),\n",
       " (u'ridiculous', u'$1,000,000'),\n",
       " (u'us', u'out')]"
      ]
     },
     "execution_count": 96,
     "metadata": {},
     "output_type": "execute_result"
    }
   ],
   "source": [
    "transitions.keys()[:10]"
   ]
  },
  {
   "cell_type": "code",
   "execution_count": 98,
   "metadata": {
    "collapsed": false,
    "scrolled": true
   },
   "outputs": [
    {
     "data": {
      "text/plain": [
       "[u'now',\n",
       " u'sure',\n",
       " u'leaving',\n",
       " u'fighting',\n",
       " u'winning',\n",
       " u'giving',\n",
       " u'not',\n",
       " u'going',\n",
       " u'Hispanic',\n",
       " u'now',\n",
       " u'having',\n",
       " u'attracting',\n",
       " u'in',\n",
       " u'having',\n",
       " u'ahead',\n",
       " u'with',\n",
       " u'72',\n",
       " u'not',\n",
       " u'only',\n",
       " u'self-funding',\n",
       " u'very',\n",
       " u'in',\n",
       " u'self',\n",
       " u'trying',\n",
       " u'with',\n",
       " u'going',\n",
       " u'looking',\n",
       " u'elected',\n",
       " u'very',\n",
       " u'a',\n",
       " u'so',\n",
       " u'rapidly',\n",
       " u'#1',\n",
       " u'now',\n",
       " u'a',\n",
       " u'going',\n",
       " u'not',\n",
       " u'no',\n",
       " u'now',\n",
       " u'Protestant',\n",
       " u'#1',\n",
       " u'#1',\n",
       " u'gonna',\n",
       " u'so',\n",
       " u'campaigning',\n",
       " u'standing',\n",
       " u'right.',\n",
       " u'the',\n",
       " u'the',\n",
       " u'a',\n",
       " u'number',\n",
       " u'sure',\n",
       " u'with',\n",
       " u'really',\n",
       " u'really',\n",
       " u'alone',\n",
       " u'so',\n",
       " u'running',\n",
       " u'behind',\n",
       " u'stunned',\n",
       " u'officially',\n",
       " u'a',\n",
       " u'really',\n",
       " u'betting',\n",
       " u'to']"
      ]
     },
     "execution_count": 98,
     "metadata": {},
     "output_type": "execute_result"
    }
   ],
   "source": [
    "transitions[('I','am')]"
   ]
  },
  {
   "cell_type": "code",
   "execution_count": null,
   "metadata": {
    "collapsed": true
   },
   "outputs": [],
   "source": []
  },
  {
   "cell_type": "code",
   "execution_count": 109,
   "metadata": {
    "collapsed": false
   },
   "outputs": [
    {
     "name": "stdout",
     "output_type": "stream",
     "text": [
      "Went really well. big and wonderful crowd. just arrived in l.a. aboard the - the battleship of join-\n"
     ]
    }
   ],
   "source": [
    "import numpy as np\n",
    "\n",
    "# let's pick a start position by random (called: seed)\n",
    "seed = np.random.choice(len(all_words)-2)\n",
    "\n",
    "# our beginning two words\n",
    "w1, w2 = all_words[seed], all_words[seed+1]\n",
    "\n",
    "# some parameters for our generated text\n",
    "max_length = 20\n",
    "min_length = 5\n",
    "generated = []\n",
    "\n",
    "# choose a somewhat random length for our text\n",
    "chosen_length = np.random.random_integers(min_length, max_length)\n",
    "\n",
    "# create the text using our transitions dictionary\n",
    "while len(generated)<max_length:\n",
    "    \n",
    "    generated.append(w1)\n",
    "    w1, w2 = w2, np.random.choice(transitions[(w1, w2)])\n",
    "    \n",
    "    # if our generated string is longer or equal to our wanted length\n",
    "    if len(generated)>=chosen_length:\n",
    "        \n",
    "        # if our current last word doesn't end with punctuation\n",
    "        if w2[-1] not in '.!?-:':\n",
    "            \n",
    "            # simply add punctuation to it\n",
    "            w2+=np.random.choice(['!','.','?','-'])\n",
    "        break\n",
    "\n",
    "# attach the last word to our string\n",
    "generated.append(w2)    \n",
    "\n",
    "\n",
    "print ' '.join(generated).capitalize()"
   ]
  },
  {
   "cell_type": "code",
   "execution_count": null,
   "metadata": {
    "collapsed": true
   },
   "outputs": [],
   "source": []
  },
  {
   "cell_type": "code",
   "execution_count": null,
   "metadata": {
    "collapsed": true
   },
   "outputs": [],
   "source": []
  },
  {
   "cell_type": "code",
   "execution_count": null,
   "metadata": {
    "collapsed": true
   },
   "outputs": [],
   "source": []
  },
  {
   "cell_type": "code",
   "execution_count": null,
   "metadata": {
    "collapsed": true
   },
   "outputs": [],
   "source": []
  },
  {
   "cell_type": "code",
   "execution_count": null,
   "metadata": {
    "collapsed": true
   },
   "outputs": [],
   "source": []
  }
 ],
 "metadata": {
  "kernelspec": {
   "display_name": "Python 2",
   "language": "python",
   "name": "python2"
  },
  "language_info": {
   "codemirror_mode": {
    "name": "ipython",
    "version": 2
   },
   "file_extension": ".py",
   "mimetype": "text/x-python",
   "name": "python",
   "nbconvert_exporter": "python",
   "pygments_lexer": "ipython2",
   "version": "2.7.6"
  }
 },
 "nbformat": 4,
 "nbformat_minor": 0
}
