{
 "cells": [
  {
   "cell_type": "markdown",
   "metadata": {},
   "source": [
    "# Markov Chain based text generation for Tweets"
   ]
  },
  {
   "cell_type": "raw",
   "metadata": {},
   "source": [
    "- given the present, the future is conditionally independent of the past\n",
    "- is a stochastic process with markov property -> state changes are probabilistic, and future state depend on current state only."
   ]
  },
  {
   "cell_type": "code",
   "execution_count": null,
   "metadata": {
    "collapsed": false
   },
   "outputs": [],
   "source": [
    "# pip install tweepy\n",
    "import tweepy\n",
    "\n",
    "CONSUMER_KEY = ''\n",
    "CONSUMER_SECRET = ''\n",
    "\n",
    "OAUTH_TOKEN = ''\n",
    "OAUTH_TOKEN_SECRET = ''\n",
    "\n",
    "\n",
    "def get_user_tweets(screen_name):\n",
    "\n",
    "    auth = tweepy.OAuthHandler(CONSUMER_KEY, CONSUMER_SECRET)\n",
    "    auth.set_access_token(OAUTH_TOKEN, OAUTH_TOKEN_SECRET)\n",
    "    api = tweepy.API(auth)\n",
    "\n",
    "    ans = []\n",
    "    for p in tweepy.Cursor(api.user_timeline, screen_name=screen_name, count=200, include_rts=True).pages():\n",
    "        for t in p:\n",
    "            ans.append(t)\n",
    "    return [tweet.text for tweet in ans]"
   ]
  },
  {
   "cell_type": "code",
   "execution_count": null,
   "metadata": {
    "collapsed": false
   },
   "outputs": [],
   "source": [
    "tweets = get_user_tweets('RealDonaldTrump')"
   ]
  },
  {
   "cell_type": "code",
   "execution_count": null,
   "metadata": {
    "collapsed": false
   },
   "outputs": [],
   "source": [
    "len(tweets)"
   ]
  },
  {
   "cell_type": "code",
   "execution_count": null,
   "metadata": {
    "collapsed": true
   },
   "outputs": [],
   "source": [
    "import re\n",
    "\n",
    "# text cleanup\n",
    "def tweet_cleanup(tw):\n",
    "    tw = re.sub('[\"]','',tw)\n",
    "    \n",
    "    cleaned = []\n",
    "    for w in tw.split():\n",
    "        if w.startswith('@'):\n",
    "            continue\n",
    "        if 'RT' in w:\n",
    "            continue\n",
    "        if 'http' in w:\n",
    "            continue\n",
    "        if 'via' in w:\n",
    "            continue\n",
    "        cleaned.append(w)\n",
    "        \n",
    "    return cleaned"
   ]
  },
  {
   "cell_type": "code",
   "execution_count": null,
   "metadata": {
    "collapsed": false
   },
   "outputs": [],
   "source": [
    "t = tweets[0]\n",
    "t"
   ]
  },
  {
   "cell_type": "code",
   "execution_count": null,
   "metadata": {
    "collapsed": false
   },
   "outputs": [],
   "source": [
    "tweet_cleanup(t)"
   ]
  },
  {
   "cell_type": "code",
   "execution_count": null,
   "metadata": {
    "collapsed": false
   },
   "outputs": [],
   "source": [
    "# place all the words in one long array\n",
    "\n",
    "all_words = (' '.join([' '.join(tweet_cleanup(tw)) for tw in tweets])).split()\n",
    "len(all_words)"
   ]
  },
  {
   "cell_type": "code",
   "execution_count": null,
   "metadata": {
    "collapsed": true
   },
   "outputs": [],
   "source": [
    "# triples - create combinations of three consecutive words from long array\n",
    "\n",
    "def triples(words):\n",
    "    for i in range(len(words) - 2):\n",
    "        yield (words[i], words[i+1], words[i+2])"
   ]
  },
  {
   "cell_type": "code",
   "execution_count": null,
   "metadata": {
    "collapsed": false,
    "scrolled": true
   },
   "outputs": [],
   "source": [
    "for i in triples(all_words[:10]):\n",
    "    print i"
   ]
  },
  {
   "cell_type": "code",
   "execution_count": null,
   "metadata": {
    "collapsed": true
   },
   "outputs": [],
   "source": [
    "from collections import defaultdict\n",
    "\n",
    "# create a dictionary of all transitions: keys are \"source\" state (tuple of two words), and the list represents \n",
    "# the \"destination\" state, which includes all options for the next word, given the existing two words\n",
    "\n",
    "transitions = defaultdict(list)\n",
    "for w1, w2, w3 in triples(all_words):\n",
    "    transitions[(w1,w2)].append(w3)"
   ]
  },
  {
   "cell_type": "code",
   "execution_count": null,
   "metadata": {
    "collapsed": false
   },
   "outputs": [],
   "source": [
    "import numpy as np\n",
    "\n",
    "# let's pick a start position by random (called: seed)\n",
    "seed = np.random.choice(len(all_words)-2)\n",
    "\n",
    "# our beginning two words\n",
    "w1, w2 = all_words[seed], all_words[seed+1]\n",
    "\n",
    "# some parameters for our generated text\n",
    "max_length = 20\n",
    "min_length = 5\n",
    "generated = []\n",
    "\n",
    "# choose a somewhat random length for our text\n",
    "chosen_length = np.random.random_integers(min_length, max_length)\n",
    "\n",
    "# create the text using our transitions dictionary\n",
    "while len(generated)<max_length:\n",
    "    \n",
    "    generated.append(w1)\n",
    "    w1, w2 = w2, np.random.choice(transitions[(w1, w2)])\n",
    "    \n",
    "    # if our generated string is longer or equal to our wanted length\n",
    "    if len(generated)>=chosen_length:\n",
    "        \n",
    "        # if our current last word doesn't end with punctuation\n",
    "        if w2[-1] not in '.!?-:':\n",
    "            \n",
    "            # simply add punctuation to it\n",
    "            w2+=np.random.choice(['!','.','?','-'])\n",
    "        break\n",
    "\n",
    "# attach the last word to our string\n",
    "generated.append(w2)    \n",
    "\n",
    "\n",
    "print ' '.join(generated).capitalize()"
   ]
  },
  {
   "cell_type": "code",
   "execution_count": null,
   "metadata": {
    "collapsed": true
   },
   "outputs": [],
   "source": []
  },
  {
   "cell_type": "code",
   "execution_count": null,
   "metadata": {
    "collapsed": true
   },
   "outputs": [],
   "source": []
  },
  {
   "cell_type": "code",
   "execution_count": null,
   "metadata": {
    "collapsed": true
   },
   "outputs": [],
   "source": []
  },
  {
   "cell_type": "code",
   "execution_count": null,
   "metadata": {
    "collapsed": true
   },
   "outputs": [],
   "source": []
  },
  {
   "cell_type": "code",
   "execution_count": null,
   "metadata": {
    "collapsed": true
   },
   "outputs": [],
   "source": []
  }
 ],
 "metadata": {
  "kernelspec": {
   "display_name": "Python 2",
   "language": "python",
   "name": "python2"
  },
  "language_info": {
   "codemirror_mode": {
    "name": "ipython",
    "version": 2
   },
   "file_extension": ".py",
   "mimetype": "text/x-python",
   "name": "python",
   "nbconvert_exporter": "python",
   "pygments_lexer": "ipython2",
   "version": "2.7.6"
  }
 },
 "nbformat": 4,
 "nbformat_minor": 0
}
