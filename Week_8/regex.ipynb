{
 "cells": [
  {
   "cell_type": "markdown",
   "metadata": {},
   "source": [
    "### Using Python's re module"
   ]
  },
  {
   "cell_type": "markdown",
   "metadata": {},
   "source": [
    "The complete documentation of the Python re module can be found here https://docs.python.org/3.4/howto/regex.html. Below are the most important methods:\n",
    "\n",
    "* re.match() : Determine if the RE matches at the beginning of the string.\n",
    "* re.search() : Scan through a string, looking for any location where this RE matches.\n",
    "* re.findall() : Find all substrings where the RE matches, and returns them as a list.\n",
    "* re.finditer() : Find all substrings where the RE matches, and returns them as an iterator.\n",
    "\n",
    "If you are using the same regular expression multiple times, it is recommended to compile it for improved performance.\n",
    "\n",
    "compiled_re = re.compile(r'some_regexpr')    \n",
    "for word in text:\n",
    "    match = comp.search(compiled_re))\n",
    "    # do something with the match\n"
   ]
  },
  {
   "cell_type": "code",
   "execution_count": null,
   "metadata": {
    "collapsed": false
   },
   "outputs": [],
   "source": [
    "import re\n",
    "\n",
    "s = 'I was having a good day untill my mum got me Strawberry Cornetto #firstworldproblems http://bit.ly/sKej1U'"
   ]
  },
  {
   "cell_type": "raw",
   "metadata": {},
   "source": [
    "Does any word start with 'http://' ?"
   ]
  },
  {
   "cell_type": "code",
   "execution_count": null,
   "metadata": {
    "collapsed": false
   },
   "outputs": [],
   "source": [
    "# Python approach\n",
    "any([w.startswith('http://') for w in s.split()])"
   ]
  },
  {
   "cell_type": "code",
   "execution_count": null,
   "metadata": {
    "collapsed": false
   },
   "outputs": [],
   "source": [
    "# On-the-fly Regular expression in Python\n",
    "any([re.search(r'^(http://)', w) for w in s.split()])"
   ]
  },
  {
   "cell_type": "code",
   "execution_count": null,
   "metadata": {
    "collapsed": false,
    "scrolled": true
   },
   "outputs": [],
   "source": [
    "# Compiled Regular expression in Python\n",
    "comp = re.compile(r'^(http://)') \n",
    "any([comp.search(w) for w in s.split()])"
   ]
  },
  {
   "cell_type": "code",
   "execution_count": null,
   "metadata": {
    "collapsed": false
   },
   "outputs": [],
   "source": [
    "for w in s.split():\n",
    "    m = re.search(r'^(http://|unt)',w)\n",
    "    if m:\n",
    "        # how many objects matched\n",
    "        print m.groups()\n",
    "        print m.group(1)\n",
    "        "
   ]
  },
  {
   "cell_type": "markdown",
   "metadata": {},
   "source": [
    "## Capitalized Phrase"
   ]
  },
  {
   "cell_type": "markdown",
   "metadata": {},
   "source": [
    "- great resource for playing around with regular expressions: https://regex101.com/"
   ]
  },
  {
   "cell_type": "code",
   "execution_count": null,
   "metadata": {
    "collapsed": false
   },
   "outputs": [],
   "source": [
    "comp = re.compile(r'([A-Z][a-z]+(?=\\s[A-Z])(?:\\s[A-Z][a-z]+)+)')"
   ]
  },
  {
   "cell_type": "raw",
   "metadata": {},
   "source": [
    "(                # begin capture\n",
    "  [A-Z]            # one uppercase letter  \\ First Word\n",
    "  [a-z]+           # 1+ lowercase letters  /\n",
    "  (?=\\s[A-Z])      # must have a space and uppercase letter following it\n",
    "  (?:                # non-capturing group\n",
    "    \\s               # space\n",
    "    [A-Z]            # uppercase letter   \\ Additional Word(s)\n",
    "    [a-z]+           # lowercase letter   /\n",
    "  )+              # group can be repeated (more words)\n",
    ")               #end capture"
   ]
  },
  {
   "cell_type": "code",
   "execution_count": null,
   "metadata": {
    "collapsed": false
   },
   "outputs": [],
   "source": [
    "re.findall(comp, s)"
   ]
  },
  {
   "cell_type": "code",
   "execution_count": null,
   "metadata": {
    "collapsed": false
   },
   "outputs": [],
   "source": []
  },
  {
   "cell_type": "code",
   "execution_count": null,
   "metadata": {
    "collapsed": false
   },
   "outputs": [],
   "source": []
  },
  {
   "cell_type": "code",
   "execution_count": null,
   "metadata": {
    "collapsed": false
   },
   "outputs": [],
   "source": []
  }
 ],
 "metadata": {
  "kernelspec": {
   "display_name": "Python 2",
   "language": "python",
   "name": "python2"
  },
  "language_info": {
   "codemirror_mode": {
    "name": "ipython",
    "version": 2
   },
   "file_extension": ".py",
   "mimetype": "text/x-python",
   "name": "python",
   "nbconvert_exporter": "python",
   "pygments_lexer": "ipython2",
   "version": "2.7.6"
  }
 },
 "nbformat": 4,
 "nbformat_minor": 0
}
