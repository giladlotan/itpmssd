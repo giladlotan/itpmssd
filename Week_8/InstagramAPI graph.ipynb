{
 "cells": [
  {
   "cell_type": "markdown",
   "metadata": {},
   "source": [
    "### Instagram API"
   ]
  },
  {
   "cell_type": "code",
   "execution_count": null,
   "metadata": {
    "collapsed": false
   },
   "outputs": [],
   "source": [
    "client_id = ''\n",
    "client_secret = ''\n",
    "\n",
    "from instagram.client import InstagramAPI\n",
    "\n",
    "# documentation here - https://github.com/Instagram/python-instagram\n",
    "api = InstagramAPI(client_id=client_id, client_secret=client_secret)"
   ]
  },
  {
   "cell_type": "code",
   "execution_count": null,
   "metadata": {
    "collapsed": false
   },
   "outputs": [],
   "source": [
    "# get ig tag info\n",
    "used_tag = 'PopeInNYC'\n",
    "ans = api.tag(used_tag).media_count\n",
    "print ans"
   ]
  },
  {
   "cell_type": "code",
   "execution_count": null,
   "metadata": {
    "collapsed": false
   },
   "outputs": [],
   "source": [
    "import pickle\n",
    "path = '/class/itpmssd/datasets/'\n",
    "\n",
    "all_media = pickle.load(open(path+'%s_ig.p' % used_tag,'rb'))"
   ]
  },
  {
   "cell_type": "markdown",
   "metadata": {},
   "source": [
    "### Building an Instagram co-tag graph"
   ]
  },
  {
   "cell_type": "code",
   "execution_count": null,
   "metadata": {
    "collapsed": false
   },
   "outputs": [],
   "source": [
    "# pip install networkx\n",
    "\n",
    "import networkx as nx\n",
    "\n",
    "# functions that help us construct the graph\n",
    "def graph_add_node(n, g):\n",
    "    try:\n",
    "        if g.has_node(n):\n",
    "            g.node[n]['weight']+=1\n",
    "        else:\n",
    "            g.add_node(n)\n",
    "            g.node[n]['label'] = n\n",
    "            g.node[n]['weight'] = 1\n",
    "    except:\n",
    "        return\n",
    "            \n",
    "def graph_add_edge(n1, n2, g):\n",
    "    if g.has_edge(n1, n2):\n",
    "        g[n1][n2]['weight']+=1\n",
    "    else:\n",
    "        g.add_edge(n1,n2)\n",
    "        g[n1][n2]['weight']=1"
   ]
  },
  {
   "cell_type": "code",
   "execution_count": null,
   "metadata": {
    "collapsed": false
   },
   "outputs": [],
   "source": [
    "from itertools import combinations\n",
    "\n",
    "g = nx.Graph()\n",
    "\n",
    "for m in all_media:\n",
    "    if not hasattr(m, 'tags'):\n",
    "        continue\n",
    "        \n",
    "    cur_tags = [t.name for t in m.tags]\n",
    "    for t in m.tags:\n",
    "        graph_add_node(t.name, g)\n",
    "        \n",
    "    for t1, t2 in combinations(cur_tags, 2):\n",
    "        graph_add_edge(t1, t2, g)"
   ]
  },
  {
   "cell_type": "code",
   "execution_count": null,
   "metadata": {
    "collapsed": false
   },
   "outputs": [],
   "source": [
    "print 'num nodes:', nx.number_of_nodes(g)\n",
    "print 'num edges:', nx.number_of_edges(g)"
   ]
  },
  {
   "cell_type": "code",
   "execution_count": null,
   "metadata": {
    "collapsed": false
   },
   "outputs": [],
   "source": [
    "# pip install community\n",
    "# pip install python-louvain\n",
    "\n",
    "from community import *"
   ]
  },
  {
   "cell_type": "code",
   "execution_count": null,
   "metadata": {
    "collapsed": false
   },
   "outputs": [],
   "source": [
    "part = best_partition(g)\n",
    "part_vals = sorted(set(part.values()))\n",
    "part_hist = [part.values().count(x) for x in part_vals]"
   ]
  },
  {
   "cell_type": "code",
   "execution_count": null,
   "metadata": {
    "collapsed": false
   },
   "outputs": [],
   "source": [
    "%pylab inline\n",
    "\n",
    "plot(part_vals, part_hist, 'ro-')\n",
    "title('membership to cluster group')\n",
    "xlabel('cluster group #')\n",
    "ylabel('membership size')\n",
    "rcParams['figure.figsize'] = 16,8\n",
    "\n",
    "top_clusters = []\n",
    "limit = 10\n",
    "print 'top %s clusters:' % limit\n",
    "for i in sorted(part_hist, reverse=True)[:limit]:\n",
    "    print 'cluster %s has %s members' % (part_hist.index(i), i)\n",
    "    top_clusters.append(part_hist.index(i))"
   ]
  },
  {
   "cell_type": "code",
   "execution_count": null,
   "metadata": {
    "collapsed": false
   },
   "outputs": [],
   "source": [
    "gc_sub = {}\n",
    "avg_cc_sub = {}\n",
    "clo_sub = {}\n",
    "cl_cen = {}\n",
    "\n",
    "for c in top_clusters:\n",
    "    gc_sub[c]=g.subgraph(g.nbunch_iter([x for x,y in part.items() if y==c]))\n",
    "    avg_cc_sub[c] = round(nx.average_clustering(gc_sub[c]),5)\n",
    "    avg_deg = round(mean(nx.degree(gc_sub[c]).values()),5)\n",
    "    med_deg = round(median(nx.degree(gc_sub[c]).values()),5)\n",
    "    num_triangles = sum(nx.triangles(gc_sub[c]).values())\n",
    "    cl_cen[c] = nx.degree_centrality(gc_sub[c])\n",
    "\n",
    "    print '%s) avg_cc:%s, avg_deg:%s, med_deg:%s, num_triangles:%s [%s,%s]' % (c, avg_cc_sub[c], avg_deg, med_deg, num_triangles, gc_sub[c].order() ,gc_sub[c].size())"
   ]
  },
  {
   "cell_type": "code",
   "execution_count": null,
   "metadata": {
    "collapsed": false
   },
   "outputs": [],
   "source": [
    "# show top words from within clusters, sorted by centrality\n",
    "for c in top_clusters:\n",
    "\n",
    "    members = {}    \n",
    "    for m_id in [x for x,y in part.items() if y==c]:\n",
    "        cur_sn = g.node[m_id]['label']\n",
    "        #cur_weight = g.node[m_id]['weight']\n",
    "        cur_deg = round(cl_cen[c][cur_sn],4)\n",
    "        \n",
    "        members[cur_sn]=cur_deg\n",
    "    \n",
    "    print 'cluster %s' % c\n",
    "    print sorted(members.items(), key=lambda x: -x[1])[:30]\n",
    "    print ''\n"
   ]
  },
  {
   "cell_type": "code",
   "execution_count": null,
   "metadata": {
    "collapsed": false
   },
   "outputs": [],
   "source": [
    "path = '/class/itpmssd/datasets/'\n",
    "nx.write_gexf(g, path+'%s_insta_tags.gexf' % used_tag)\n",
    "print path+'%s_insta_tags.gexf' % used_tag"
   ]
  },
  {
   "cell_type": "markdown",
   "metadata": {},
   "source": [
    "### Now let's add location"
   ]
  },
  {
   "cell_type": "code",
   "execution_count": null,
   "metadata": {
    "collapsed": false
   },
   "outputs": [],
   "source": [
    "import networkx as nx\n",
    "\n",
    "def graph_add_node(n, g, params):\n",
    "    \n",
    "    try:\n",
    "        if g.has_node(n):\n",
    "            g.node[n]['weight']+=1\n",
    "        else:\n",
    "            g.add_node(n)\n",
    "            g.node[n]['weight'] = 1\n",
    "            for k,v in params.items():\n",
    "                g.node[n][k]=v\n",
    "    except:\n",
    "        return\n",
    "            \n",
    "def graph_add_edge(n1, n2, g):\n",
    "    if g.has_edge(n1, n2):\n",
    "        g[n1][n2]['weight']+=1\n",
    "    else:\n",
    "        g.add_edge(n1,n2)\n",
    "        g[n1][n2]['weight']=1"
   ]
  },
  {
   "cell_type": "code",
   "execution_count": null,
   "metadata": {
    "collapsed": false
   },
   "outputs": [],
   "source": [
    "g = nx.DiGraph()\n",
    "\n",
    "for m in all_media:\n",
    "    if not hasattr(m, 'location'):\n",
    "        continue\n",
    "        \n",
    "    try:\n",
    "        params = {'label':m.user.username, \n",
    "                  'likes':m.like_count, \n",
    "                  'comments':m.comment_count,\n",
    "                  'location_name':m.location.name, \n",
    "                  'lat':m.location.point.latitude, \n",
    "                  'lng':m.location.point.longitude\n",
    "                  }\n",
    "    \n",
    "        graph_add_node(m.user.id, g, params)\n",
    "    except:\n",
    "        continue"
   ]
  },
  {
   "cell_type": "code",
   "execution_count": null,
   "metadata": {
    "collapsed": false
   },
   "outputs": [],
   "source": [
    "print g.number_of_nodes()\n",
    "print g.number_of_edges()"
   ]
  },
  {
   "cell_type": "code",
   "execution_count": null,
   "metadata": {
    "collapsed": false
   },
   "outputs": [],
   "source": [
    "nx.write_gexf(g, path+'%s_insta_location.gexf' % used_tag)\n",
    "print path+'%s_insta_location.gexf' % used_tag"
   ]
  },
  {
   "cell_type": "markdown",
   "metadata": {},
   "source": [
    "### Now add edges to this graph"
   ]
  },
  {
   "cell_type": "raw",
   "metadata": {},
   "source": [
    "I'd love to see something like this:"
   ]
  },
  {
   "cell_type": "markdown",
   "metadata": {},
   "source": [
    "<img src=\"http://i.imgur.com/06mvfnK.png\"/>"
   ]
  },
  {
   "cell_type": "raw",
   "metadata": {},
   "source": [
    "Or these:"
   ]
  },
  {
   "cell_type": "markdown",
   "metadata": {},
   "source": [
    "<img src=\"http://i.imgur.com/lChkrbz.png\"/>"
   ]
  },
  {
   "cell_type": "markdown",
   "metadata": {},
   "source": [
    "<img src=\"http://i.imgur.com/tGpaULp.png\"/>"
   ]
  },
  {
   "cell_type": "raw",
   "metadata": {},
   "source": [
    "This one's up to you to figure out guys. \n",
    "Hints below:"
   ]
  },
  {
   "cell_type": "code",
   "execution_count": null,
   "metadata": {
    "collapsed": false
   },
   "outputs": [],
   "source": [
    "# each IG media object comes with a list of a few ppl who liked it (unfortunately not all)\n",
    "\n",
    "for u in all_media[5].likes:\n",
    "    print u.username, u.id, u.full_name, u.profile_picture"
   ]
  },
  {
   "cell_type": "code",
   "execution_count": null,
   "metadata": {
    "collapsed": false
   },
   "outputs": [],
   "source": [
    "# but you might be able to get other interesting user information directly from the IG API\n",
    "# for user relationship information we're going to have to make authenticated calls\n",
    "# get your instagram access_token here - http://www.pinceladasdaweb.com.br/instagram/access-token/\n",
    "# copy the string from the access token generator\n",
    "# or you can implement it yourself - https://github.com/Instagram/python-instagram/blob/master/get_access_token.py\n",
    "\n",
    "access_token = 'YOUR_ACCESS_TOKEN'\n",
    "api = InstagramAPI(access_token=access_token)"
   ]
  },
  {
   "cell_type": "code",
   "execution_count": null,
   "metadata": {
    "collapsed": false,
    "scrolled": true
   },
   "outputs": [],
   "source": [
    "ans = api.user_follows(user_id=6222601)\n",
    "ans"
   ]
  }
 ],
 "metadata": {
  "kernelspec": {
   "display_name": "Python 2",
   "language": "python",
   "name": "python2"
  },
  "language_info": {
   "codemirror_mode": {
    "name": "ipython",
    "version": 2
   },
   "file_extension": ".py",
   "mimetype": "text/x-python",
   "name": "python",
   "nbconvert_exporter": "python",
   "pygments_lexer": "ipython2",
   "version": "2.7.6"
  }
 },
 "nbformat": 4,
 "nbformat_minor": 0
}
