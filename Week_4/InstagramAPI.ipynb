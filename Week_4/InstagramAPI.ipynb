{
 "cells": [
  {
   "cell_type": "markdown",
   "metadata": {},
   "source": [
    "POST vs. GET methods\n",
    "\n",
    "- two HTTP request methods commonly used for a request-response between a client and a server\n",
    "- GET: query string sent in the URL\n",
    "- POST: query string sent in the HTTP message body\n",
    "\n",
    "Other differences\n",
    "\n",
    "- POST requests are never cached\n",
    "- POST requests do not remain in the browser history\n",
    "- POST requests cannot be bookmarked\n",
    "- POST requests have no restrictions on data length"
   ]
  },
  {
   "cell_type": "markdown",
   "metadata": {},
   "source": [
    "### Instagram API"
   ]
  },
  {
   "cell_type": "markdown",
   "metadata": {},
   "source": [
    "Go here to register your application - http://instagram.com/developer/\n",
    "We need to generate an Oauth token and use the client_id, client_secret when making calls to the IG API.\n",
    "\n",
    "We'll be using a python wrapper (makes things much simpler) which you should intall by running the following\n",
    "command in your remote machine:\n",
    "\n",
    "\n",
    "pip install python-instagram\n",
    "\n",
    "\n",
    "Full documentation of the python library here: https://github.com/Instagram/python-instagram"
   ]
  },
  {
   "cell_type": "code",
   "execution_count": 1,
   "metadata": {
    "collapsed": false
   },
   "outputs": [],
   "source": [
    "#client_id = ''\n",
    "#client_secret = ''\n",
    "\n",
    "client_id = '0db0c30814c14ac48a58c8e27a7b4a5a'\n",
    "client_secret = '8681192578424d78aea183f1bf05f465'\n",
    "\n",
    "from instagram.client import InstagramAPI\n",
    "\n",
    "api = InstagramAPI(client_id=client_id, client_secret=client_secret)"
   ]
  },
  {
   "cell_type": "markdown",
   "metadata": {},
   "source": [
    "### Instagram Tag Count"
   ]
  },
  {
   "cell_type": "code",
   "execution_count": 2,
   "metadata": {
    "collapsed": false
   },
   "outputs": [
    {
     "name": "stdout",
     "output_type": "stream",
     "text": [
      "178247\n"
     ]
    }
   ],
   "source": [
    "# get ig tag info -> how many IG posts have the given hashtag\n",
    "used_tag = 'sanbernardino'\n",
    "num_media_tag = api.tag(used_tag).media_count\n",
    "print num_media_tag"
   ]
  },
  {
   "cell_type": "code",
   "execution_count": null,
   "metadata": {
    "collapsed": false
   },
   "outputs": [],
   "source": [
    "# get ig tag info\n",
    "used_tag = 'GOPdebate'\n",
    "num_media_tag = api.tag(used_tag).media_count\n",
    "print num_media_tag"
   ]
  },
  {
   "cell_type": "code",
   "execution_count": null,
   "metadata": {
    "collapsed": false
   },
   "outputs": [],
   "source": [
    "# get ig tag info\n",
    "used_tag = 'IStandWithAhmed'\n",
    "num_media_tag = api.tag(used_tag).media_count\n",
    "print num_media_tag"
   ]
  },
  {
   "cell_type": "code",
   "execution_count": null,
   "metadata": {
    "collapsed": false
   },
   "outputs": [],
   "source": [
    "# get ig tag info\n",
    "used_tag = 'MillionStudentMarch'\n",
    "num_media_tag = api.tag(used_tag).media_count\n",
    "print num_media_tag"
   ]
  },
  {
   "cell_type": "code",
   "execution_count": null,
   "metadata": {
    "collapsed": false
   },
   "outputs": [],
   "source": [
    "# get ig tag info\n",
    "used_tag = 'PopeInNYC'\n",
    "num_media_tag = api.tag(used_tag).media_count\n",
    "print num_media_tag"
   ]
  },
  {
   "cell_type": "markdown",
   "metadata": {},
   "source": [
    "### Instagram Media"
   ]
  },
  {
   "cell_type": "code",
   "execution_count": 3,
   "metadata": {
    "collapsed": false,
    "scrolled": true
   },
   "outputs": [],
   "source": [
    "# get ig media based on tag\n",
    "\n",
    "max_tag_id = 0\n",
    "media_per_query = 33\n",
    "media, _next = api.tag_recent_media(media_per_query, max_tag_id, used_tag)"
   ]
  },
  {
   "cell_type": "code",
   "execution_count": null,
   "metadata": {
    "collapsed": false
   },
   "outputs": [],
   "source": [
    "print media"
   ]
  },
  {
   "cell_type": "code",
   "execution_count": null,
   "metadata": {
    "collapsed": false
   },
   "outputs": [],
   "source": [
    "print len(media)"
   ]
  },
  {
   "cell_type": "code",
   "execution_count": 4,
   "metadata": {
    "collapsed": false
   },
   "outputs": [
    {
     "data": {
      "text/plain": [
       "Media: 1132263260831759555_272596678"
      ]
     },
     "execution_count": 4,
     "metadata": {},
     "output_type": "execute_result"
    }
   ],
   "source": [
    "m = media[0]\n",
    "m"
   ]
  },
  {
   "cell_type": "code",
   "execution_count": null,
   "metadata": {
    "collapsed": false
   },
   "outputs": [],
   "source": [
    "# object of type: IG media\n",
    "\n",
    "type(m)"
   ]
  },
  {
   "cell_type": "code",
   "execution_count": null,
   "metadata": {
    "collapsed": false,
    "scrolled": true
   },
   "outputs": [],
   "source": [
    "# returns a list of valid attributes for the given object -> IG media object / class\n",
    "\n",
    "dir(m)"
   ]
  },
  {
   "cell_type": "code",
   "execution_count": null,
   "metadata": {
    "collapsed": false
   },
   "outputs": [],
   "source": [
    "print m.link\n",
    "print m.tags\n",
    "print m.likes"
   ]
  },
  {
   "cell_type": "code",
   "execution_count": 5,
   "metadata": {
    "collapsed": false
   },
   "outputs": [
    {
     "name": "stdout",
     "output_type": "stream",
     "text": [
      "2015-12-04 02:32:00\n",
      "1132263260831759555_272596678\n",
      "User: craft_licious\n",
      "https://www.instagram.com/p/-2m2_OGjzD/\n",
      "None\n",
      "\n",
      "2015-12-04 02:31:47\n",
      "1132263151183235982_2094245673\n",
      "User: pentaxflexxink3\n",
      "https://www.instagram.com/p/-2m1ZGiouO/\n",
      "None\n",
      "\n",
      "2015-12-04 02:31:40\n",
      "1132263088104486906_1359974172\n",
      "User: elsteveador_15\n",
      "https://www.instagram.com/p/-2m0eWwTf6/\n",
      "None\n",
      "\n",
      "2015-12-04 02:31:12\n",
      "1132262856452358446_2289528471\n",
      "User: bearwithhat808\n",
      "https://www.instagram.com/p/-2mxGnNkEu/\n",
      "None\n",
      "\n",
      "2015-12-04 02:30:39\n",
      "1132262582086156586_2289528471\n",
      "User: bearwithhat808\n",
      "https://www.instagram.com/p/-2mtHFtkEq/\n",
      "None\n",
      "\n",
      "2015-12-04 02:30:38\n",
      "1132262572524052610_180169359\n",
      "User: aztecparrot\n",
      "https://www.instagram.com/p/-2ms-LxCCC/\n",
      "Location: 237337848 (Point: (34.097346696, -117.295646148))\n",
      "\n",
      "2015-12-04 02:30:30\n",
      "1132262506772748000_2260927996\n",
      "User: renacimientoyouth\n",
      "https://www.instagram.com/p/-2msA8rtbg/\n",
      "None\n",
      "\n",
      "2015-12-04 02:30:28\n",
      "1132262488896464718_1482772840\n",
      "User: catspayneuters\n",
      "https://www.instagram.com/p/-2mrwTLGdO/\n",
      "None\n",
      "\n",
      "2015-12-04 02:30:25\n",
      "1132262464819685000_254881400\n",
      "User: rebecaasobral\n",
      "https://www.instagram.com/p/-2mrZ4FeaI/\n",
      "None\n",
      "\n",
      "2015-12-04 02:30:24\n",
      "1132262454495428901_2289528471\n",
      "User: bearwithhat808\n",
      "https://www.instagram.com/p/-2mrQQtkEl/\n",
      "None\n",
      "\n",
      "2015-12-04 02:30:11\n",
      "1132262343019217188_2289528471\n",
      "User: bearwithhat808\n",
      "https://www.instagram.com/p/-2mpocNkEk/\n",
      "None\n",
      "\n",
      "2015-12-04 02:29:57\n",
      "1132262229050489342_446602397\n",
      "User: heart2coupon\n",
      "https://www.instagram.com/p/-2mn-TJXn-/\n",
      "None\n",
      "\n",
      "2015-12-04 02:29:54\n",
      "1132262198936486177_2289528471\n",
      "User: bearwithhat808\n",
      "https://www.instagram.com/p/-2mniQNkEh/\n",
      "None\n",
      "\n",
      "2015-12-04 02:29:52\n",
      "1132262182863267649_1482772840\n",
      "User: catspayneuters\n",
      "https://www.instagram.com/p/-2mnTSLGdB/\n",
      "None\n",
      "\n",
      "2015-12-04 02:29:42\n",
      "1132262099825082653_2289528471\n",
      "User: bearwithhat808\n",
      "https://www.instagram.com/p/-2mmF8tkEd/\n",
      "None\n",
      "\n",
      "2015-12-04 02:29:32\n",
      "1132262014806961435_1621448882\n",
      "User: m.rrors\n",
      "https://www.instagram.com/p/-2mk2xPK0b/\n",
      "None\n",
      "\n",
      "2015-12-04 02:29:23\n",
      "1132261944375787801_2289528471\n",
      "User: bearwithhat808\n",
      "https://www.instagram.com/p/-2mj1LNkEZ/\n",
      "None\n",
      "\n",
      "2015-12-04 02:29:20\n",
      "1132261917433040360_2215789898\n",
      "User: speechsanity\n",
      "https://www.instagram.com/p/-2mjcFTI3o/\n",
      "None\n",
      "\n",
      "2015-12-04 02:29:17\n",
      "1132261896327163143_2013919762\n",
      "User: karissawritesitall_\n",
      "https://www.instagram.com/p/-2mjIbSm0H/\n",
      "None\n",
      "\n",
      "2015-12-04 02:29:15\n",
      "1132261879104028951_2289528471\n",
      "User: bearwithhat808\n",
      "https://www.instagram.com/p/-2mi4YtkEX/\n",
      "None\n",
      "\n",
      "2015-12-04 02:29:08\n",
      "1132261813632101666_749824602\n",
      "User: wizardofosrin\n",
      "https://www.instagram.com/p/-2mh7aR-0i/\n",
      "Location: 263529075 (Point: (25.6102, -80.4278))\n",
      "\n",
      "2015-12-04 02:28:18\n",
      "1132261393526158888_23455252\n",
      "User: nurseeyeroll\n",
      "https://www.instagram.com/p/-2mb0KA_Yo/\n",
      "None\n",
      "\n",
      "2015-12-04 02:28:14\n",
      "1132261367319982362_55825091\n",
      "User: rubyxalexis\n",
      "https://www.instagram.com/p/-2mbbwAXEa/\n",
      "None\n",
      "\n",
      "2015-12-04 02:28:12\n",
      "1132261345829867417_2201181554\n",
      "User: massartpolice\n",
      "https://www.instagram.com/p/-2mbHvGE-Z/\n",
      "Location: 2918593 (Point: (42.336907923, -71.098919324))\n",
      "\n",
      "2015-12-04 02:28:01\n",
      "1132261257911588037_1143914212\n",
      "User: black_diamond619\n",
      "https://www.instagram.com/p/-2mZ12wdTF/\n",
      "None\n",
      "\n",
      "2015-12-04 02:27:39\n",
      "1132261074475019086_26261401\n",
      "User: ryanries\n",
      "https://www.instagram.com/p/-2mXLBFetO/\n",
      "None\n",
      "\n",
      "2015-12-04 02:27:28\n",
      "1132260979925597817_2308685014\n",
      "User: funsize9o9\n",
      "https://www.instagram.com/p/-2mVy9gD55/\n",
      "None\n",
      "\n",
      "2015-12-04 02:27:09\n",
      "1132260821457590156_255716172\n",
      "User: mej58\n",
      "https://www.instagram.com/p/-2mTfYEleM/\n",
      "None\n",
      "\n",
      "2015-12-04 02:27:07\n",
      "1132260804102370250_1566211963\n",
      "User: farshooter308\n",
      "https://www.instagram.com/p/-2mTPNnrPK/\n",
      "None\n",
      "\n",
      "2015-12-04 02:27:06\n",
      "1132260794147113099_13523937\n",
      "User: taleiyah\n",
      "https://www.instagram.com/p/-2mTF8PYiL/\n",
      "Location: 6809117 (Point: (34.075338937, -117.277836509))\n",
      "\n",
      "2015-12-04 02:27:01\n",
      "1132260749307194520_193731194\n",
      "User: soldier_and_child_of_yahweh\n",
      "https://www.instagram.com/p/-2mScLkqyY/\n",
      "None\n",
      "\n",
      "2015-12-04 02:27:00\n",
      "1132260745694036220_2289528471\n",
      "User: bearwithhat808\n",
      "https://www.instagram.com/p/-2mSY0NkD8/\n",
      "None\n",
      "\n",
      "2015-12-04 02:26:55\n",
      "1132260698365973886_189968924\n",
      "User: raerunlove\n",
      "https://www.instagram.com/p/-2mRsvPVV-/\n",
      "None\n",
      "\n"
     ]
    }
   ],
   "source": [
    "# let's save all media items into an array called 'all_media'\n",
    "\n",
    "all_media = []\n",
    "\n",
    "for m in media:\n",
    "    print m.created_time\n",
    "    print m.id\n",
    "    print m.user\n",
    "    print m.link\n",
    "    print m.__dict__.get('location',None)\n",
    "    print ''\n",
    "    all_media.append(m)"
   ]
  },
  {
   "cell_type": "code",
   "execution_count": null,
   "metadata": {
    "collapsed": false
   },
   "outputs": [],
   "source": [
    "# this item helps us paginate through the IG media results\n",
    "\n",
    "print _next"
   ]
  },
  {
   "cell_type": "code",
   "execution_count": null,
   "metadata": {
    "collapsed": false
   },
   "outputs": [],
   "source": [
    "# one way to parse data from the '_next_' object\n",
    "\n",
    "from urlparse import urlparse\n",
    "\n",
    "parsed = urlparse(next_)\n",
    "print parsed\n",
    "print ''\n",
    "print parsed.query"
   ]
  },
  {
   "cell_type": "code",
   "execution_count": null,
   "metadata": {
    "collapsed": false
   },
   "outputs": [],
   "source": [
    "# splitting the query portion of the parsed URL by '&' character\n",
    "\n",
    "parsed.query.split('&')"
   ]
  },
  {
   "cell_type": "code",
   "execution_count": null,
   "metadata": {
    "collapsed": false
   },
   "outputs": [],
   "source": [
    "# now splitting by the '=' character\n",
    "\n",
    "[x.split('=') for x in parsed.query.split('&')]"
   ]
  },
  {
   "cell_type": "code",
   "execution_count": null,
   "metadata": {
    "collapsed": false
   },
   "outputs": [],
   "source": [
    "# creating a dictionary \n",
    "\n",
    "print {a:b for a,b in [x.split('=') for x in parsed.query.split('&')]}"
   ]
  },
  {
   "cell_type": "code",
   "execution_count": 6,
   "metadata": {
    "collapsed": false
   },
   "outputs": [],
   "source": [
    "# lets make a function out of this -> parse out the max_tag_id parameter\n",
    "\n",
    "def extract_max_tag_id(txt):\n",
    "    parsed = urlparse(txt)\n",
    "    params = {a:b for a,b in [x.split('=') for x in parsed.query.split('&')]}\n",
    "    return params['max_tag_id']\n"
   ]
  },
  {
   "cell_type": "code",
   "execution_count": 7,
   "metadata": {
    "collapsed": false,
    "scrolled": true
   },
   "outputs": [
    {
     "name": "stdout",
     "output_type": "stream",
     "text": [
      "66\n",
      "99\n",
      "132\n",
      "165\n",
      "198\n",
      "231\n",
      "264\n",
      "297\n",
      "330\n",
      "363\n",
      "396\n",
      "429\n",
      "462\n",
      "495\n",
      "528\n",
      "561\n",
      "594\n",
      "627\n",
      "660\n",
      "693\n",
      "726\n",
      "759\n",
      "792\n",
      "825\n",
      "858\n",
      "891\n",
      "924\n",
      "957\n",
      "990\n",
      "1023\n",
      "1056\n",
      "1089\n",
      "1122\n",
      "1155\n",
      "1188\n",
      "1221\n",
      "1254\n",
      "1287\n",
      "1320\n",
      "1353\n",
      "1386\n",
      "1419\n",
      "1452\n",
      "1485\n",
      "1518\n",
      "1551\n",
      "1584\n",
      "1617\n",
      "1650\n",
      "1683\n",
      "1716\n",
      "1749\n",
      "1782\n",
      "1815\n",
      "1848\n",
      "1881\n",
      "1914\n",
      "1947\n",
      "1980\n",
      "2013\n",
      "2046\n",
      "2079\n",
      "2112\n",
      "2145\n",
      "2178\n",
      "2211\n",
      "2244\n",
      "2277\n",
      "2310\n",
      "2343\n",
      "2376\n",
      "2409\n",
      "2442\n",
      "2475\n",
      "2508\n",
      "2541\n",
      "2574\n",
      "2607\n",
      "2640\n",
      "2673\n",
      "2706\n",
      "2739\n",
      "2772\n",
      "2805\n",
      "2838\n",
      "2871\n",
      "2904\n",
      "2937\n",
      "2970\n",
      "3003\n",
      "3036\n",
      "3069\n",
      "3102\n",
      "3135\n",
      "3168\n",
      "3201\n",
      "3234\n",
      "3267\n",
      "3300\n",
      "3333\n",
      "3366\n",
      "3399\n",
      "3432\n",
      "3465\n",
      "3498\n",
      "3531\n",
      "3564\n",
      "3597\n",
      "3630\n",
      "3663\n",
      "3696\n",
      "3729\n",
      "3762\n",
      "3795\n",
      "3828\n",
      "3861\n",
      "3894\n",
      "3927\n",
      "3960\n",
      "3993\n",
      "4026\n",
      "4059\n",
      "4092\n",
      "4125\n",
      "4158\n",
      "4191\n",
      "4224\n",
      "4257\n",
      "4290\n",
      "4323\n",
      "4356\n",
      "4389\n",
      "4422\n",
      "4455\n",
      "4488\n",
      "4521\n",
      "4554\n",
      "4587\n",
      "4620\n",
      "4653\n",
      "4686\n",
      "4719\n",
      "4752\n",
      "4785\n",
      "4818\n",
      "4851\n",
      "4884\n",
      "4917\n",
      "4950\n",
      "4983\n",
      "5016\n",
      "5049\n",
      "5082\n",
      "5115\n",
      "5148\n",
      "5181\n",
      "5214\n",
      "5247\n",
      "5280\n",
      "5313\n",
      "5346\n",
      "5379\n",
      "5412\n",
      "5445\n",
      "5478\n",
      "5511\n",
      "5544\n",
      "5577\n",
      "5610\n",
      "5643\n",
      "5676\n",
      "5709\n",
      "5742\n",
      "5775\n",
      "5808\n",
      "5841\n",
      "5874\n",
      "5907\n",
      "5940\n",
      "5973\n",
      "6006\n",
      "6039\n",
      "6072\n",
      "6105\n",
      "6138\n",
      "6171\n",
      "6204\n",
      "6237\n",
      "6270\n",
      "6303\n",
      "6336\n",
      "6369\n",
      "6402\n",
      "6435\n",
      "6468\n",
      "6501\n",
      "6534\n",
      "6567\n",
      "6600\n",
      "6633\n",
      "6666\n",
      "6699\n",
      "6732\n",
      "6765\n",
      "6798\n",
      "6831\n",
      "6864\n",
      "6897\n",
      "6930\n",
      "6963\n",
      "6996\n",
      "7029\n",
      "7062\n",
      "7095\n",
      "7128\n",
      "7161\n",
      "7194\n",
      "7227\n",
      "7260\n",
      "7293\n",
      "7326\n",
      "7359\n",
      "7392\n",
      "7425\n",
      "7458\n",
      "7491\n",
      "7524\n",
      "7557\n",
      "7590\n",
      "7623\n",
      "7656\n",
      "7689\n",
      "7722\n",
      "7755\n",
      "7788\n",
      "7821\n",
      "7854\n",
      "7887\n",
      "7920\n",
      "7953\n",
      "7986\n",
      "8019\n",
      "8052\n",
      "8085\n",
      "8118\n",
      "8151\n",
      "8184\n",
      "8217\n",
      "8250\n",
      "8283\n",
      "8316\n",
      "8349\n",
      "8382\n",
      "8415\n",
      "8448\n",
      "8481\n",
      "8514\n",
      "8547\n",
      "8580\n",
      "8613\n",
      "8646\n",
      "8679\n",
      "8712\n",
      "8745\n",
      "8778\n",
      "8811\n",
      "8844\n",
      "8877\n",
      "8910\n",
      "8943\n",
      "8976\n",
      "9009\n",
      "9042\n",
      "9075\n",
      "9108\n",
      "9141\n",
      "9174\n",
      "9207\n",
      "9240\n",
      "9273\n",
      "9306\n",
      "9339\n",
      "9372\n",
      "9405\n",
      "9438\n",
      "9471\n",
      "9504\n",
      "9537\n",
      "9570\n",
      "9603\n",
      "9636\n",
      "9669\n",
      "9702\n",
      "9735\n",
      "9768\n",
      "9801\n",
      "9834\n",
      "9867\n",
      "9900\n",
      "9933\n",
      "9966\n",
      "9999\n",
      "10032\n",
      "10065\n",
      "10098\n",
      "10131\n",
      "10164\n",
      "10197\n",
      "10230\n",
      "10263\n",
      "10296\n",
      "10329\n",
      "10362\n",
      "10395\n",
      "10428\n",
      "10461\n",
      "10494\n",
      "10527\n",
      "10560\n",
      "10593\n",
      "10626\n",
      "10659\n",
      "10692\n",
      "10725\n",
      "10758\n",
      "10791\n",
      "10824\n",
      "10857\n",
      "10890\n",
      "10923\n",
      "10956\n",
      "10989\n",
      "11022\n",
      "11055\n",
      "11088\n",
      "11121\n",
      "11154\n",
      "11187\n",
      "11220\n",
      "11253\n",
      "11286\n",
      "11319\n",
      "11352\n",
      "11385\n",
      "11418\n",
      "11451\n",
      "11484\n",
      "11517\n",
      "11550\n",
      "11583\n",
      "11616\n",
      "11649\n",
      "11682\n",
      "11715\n",
      "11748\n",
      "11781\n",
      "11814\n",
      "11847\n",
      "11880\n",
      "11913\n",
      "11946\n",
      "11979\n",
      "12012\n",
      "12045\n",
      "12078\n",
      "12111\n",
      "12144\n",
      "12177\n",
      "12210\n",
      "12243\n",
      "12276\n",
      "12309\n",
      "12342\n",
      "12375\n",
      "12408\n",
      "12441\n",
      "12474\n",
      "12507\n",
      "12540\n",
      "12573\n",
      "12606\n",
      "12639\n",
      "12672\n",
      "12705\n",
      "12738\n",
      "12771\n",
      "12804\n",
      "12837\n",
      "12870\n",
      "12903\n",
      "12936\n",
      "12969\n",
      "13002\n",
      "13035\n",
      "13068\n",
      "13101\n",
      "13134\n",
      "13167\n",
      "13200\n",
      "13233\n",
      "13266\n",
      "13299\n",
      "13332\n",
      "13365\n",
      "13398\n",
      "13431\n",
      "13464\n",
      "13497\n",
      "13530\n",
      "13563\n",
      "13596\n",
      "13629\n",
      "13662\n",
      "13695\n",
      "13728\n",
      "13761\n",
      "13794\n",
      "13827\n",
      "13860\n",
      "13893\n",
      "13926\n",
      "13959\n",
      "13992\n",
      "14025\n",
      "14058\n",
      "14091\n",
      "14124\n",
      "14157\n",
      "14190\n",
      "14223\n",
      "14256\n",
      "14289\n",
      "14322\n",
      "14355\n",
      "14388\n",
      "14421\n",
      "14454\n",
      "14487\n",
      "14520\n",
      "14553\n",
      "14586\n",
      "14619\n",
      "14652\n",
      "14685\n",
      "14718\n",
      "14751\n",
      "14784\n",
      "14817\n",
      "14850\n",
      "14883\n",
      "14916\n",
      "14949\n",
      "14982\n",
      "15015\n",
      "15048\n",
      "15081\n",
      "15114\n",
      "15147\n",
      "15180\n",
      "15213\n",
      "15246\n",
      "15279\n",
      "15312\n",
      "15345\n",
      "15378\n",
      "15411\n",
      "15444\n",
      "15477\n",
      "15510\n",
      "15543\n",
      "15576\n",
      "15609\n",
      "15642\n",
      "15675\n",
      "15708\n",
      "15741\n",
      "15774\n",
      "15807\n",
      "15840\n",
      "15873\n",
      "15906\n",
      "15939\n",
      "15972\n",
      "16005\n",
      "16038\n",
      "16071\n",
      "16104\n",
      "16137\n",
      "16170\n",
      "16203\n",
      "16236\n",
      "16269\n",
      "16302\n",
      "16335\n",
      "16368\n",
      "16401\n",
      "16434\n",
      "16467\n",
      "16500\n",
      "16533\n",
      "16566\n",
      "16599\n",
      "16632\n",
      "16665\n",
      "16698\n",
      "16731\n",
      "16764\n",
      "16797\n",
      "16830\n",
      "16863\n",
      "16896\n",
      "16929\n",
      "16962\n",
      "16995\n",
      "17028\n",
      "17061\n",
      "17094\n",
      "17127\n",
      "17160\n",
      "17193\n",
      "17226\n",
      "17259\n",
      "17292\n",
      "17325\n",
      "17358\n",
      "17391\n",
      "17424\n",
      "17457\n",
      "17490\n",
      "17523\n",
      "17556\n",
      "17589\n",
      "17622\n",
      "17655\n",
      "17688\n",
      "17721\n",
      "17754\n",
      "17787\n",
      "17820\n",
      "17853\n",
      "17886\n",
      "17919\n",
      "17952\n",
      "17985\n",
      "18018\n",
      "18051\n",
      "18084\n",
      "18117\n",
      "18150\n",
      "18183\n",
      "18216\n",
      "18249\n",
      "18282\n",
      "18315\n",
      "18348\n",
      "18381\n",
      "18414\n",
      "18447\n",
      "18480\n",
      "18513\n",
      "18546\n",
      "18579\n",
      "18612\n",
      "18645\n",
      "18678\n",
      "18711\n",
      "18744\n",
      "18777\n",
      "18810\n",
      "18843\n",
      "18876\n",
      "18909\n",
      "18942\n",
      "18975\n",
      "19008\n",
      "19041\n",
      "19074\n",
      "19107\n",
      "19140\n",
      "19173\n",
      "19206\n",
      "19239\n",
      "19272\n",
      "19305\n",
      "19338\n",
      "19371\n",
      "19404\n",
      "19437\n",
      "19470\n",
      "19503\n",
      "19536\n",
      "19569\n",
      "19602\n",
      "19635\n",
      "19668\n",
      "19701\n",
      "19734\n",
      "19767\n",
      "19800\n",
      "19833\n",
      "19866\n",
      "19899\n",
      "19932\n",
      "19965\n",
      "19998\n",
      "20031\n"
     ]
    }
   ],
   "source": [
    "max_tag_id = 0\n",
    "media_per_query = 33\n",
    "MAX_ITEMS = 20000\n",
    "\n",
    "all_media, next_ = api.tag_recent_media(media_per_query, max_tag_id, used_tag)\n",
    "\n",
    "while next_:\n",
    "    more_media, next_ = api.tag_recent_media(count=media_per_query, tag_name=used_tag, with_next_url=next_)\n",
    "    all_media.extend(more_media)\n",
    "        \n",
    "    print len(all_media)\n",
    "    if len(all_media)>MAX_ITEMS:\n",
    "        break"
   ]
  },
  {
   "cell_type": "code",
   "execution_count": 9,
   "metadata": {
    "collapsed": false
   },
   "outputs": [
    {
     "data": {
      "text/plain": [
       "20031"
      ]
     },
     "execution_count": 9,
     "metadata": {},
     "output_type": "execute_result"
    }
   ],
   "source": [
    "len(all_media)"
   ]
  },
  {
   "cell_type": "code",
   "execution_count": 8,
   "metadata": {
    "collapsed": false
   },
   "outputs": [],
   "source": [
    "# save our data in pickled format (this is in case our notebook crashes __gasp__ - so that we don't ahve to grab it again)\n",
    "\n",
    "import pickle\n",
    "path = '/class/itpmssd/datasets/'\n",
    "\n",
    "pickle.dump(all_media, open(path+'%s_ig.p' % used_tag,'wb'))"
   ]
  },
  {
   "cell_type": "code",
   "execution_count": null,
   "metadata": {
    "collapsed": false
   },
   "outputs": [],
   "source": [
    "import pickle\n",
    "path = '/class/itpmssd/datasets/'\n",
    "\n",
    "all_media = pickle.load(open(path+'%s_ig.p' % used_tag,'rb'))"
   ]
  },
  {
   "cell_type": "markdown",
   "metadata": {},
   "source": [
    "### Let's look at our data"
   ]
  },
  {
   "cell_type": "code",
   "execution_count": null,
   "metadata": {
    "collapsed": false
   },
   "outputs": [],
   "source": [
    "# Number of unique users\n",
    "\n",
    "users = set([m.user.username for m in all_media])\n",
    "len(users)"
   ]
  },
  {
   "cell_type": "code",
   "execution_count": null,
   "metadata": {
    "collapsed": false,
    "scrolled": true
   },
   "outputs": [],
   "source": [
    "# Show ten most liked IG posts\n",
    "\n",
    "for m in sorted(all_media, key=lambda x: -x.like_count)[:10]:\n",
    "    print m.like_count\n",
    "    print m.caption\n",
    "    print m.link, '\\n'"
   ]
  },
  {
   "cell_type": "code",
   "execution_count": null,
   "metadata": {
    "collapsed": false,
    "scrolled": true
   },
   "outputs": [],
   "source": [
    "# comments - 10 most commented on post\n",
    "\n",
    "for m in sorted(all_media, key=lambda x: -x.comment_count)[:10]:\n",
    "    print m.like_count, m.caption, m.link, '\\n'"
   ]
  },
  {
   "cell_type": "code",
   "execution_count": null,
   "metadata": {
    "collapsed": false,
    "scrolled": true
   },
   "outputs": [],
   "source": [
    "# comments - most commented on post\n",
    "\n",
    "for m in sorted(all_media, key=lambda x: -x.like_count)[:20]:\n",
    "    print m.like_count, m.comment_count, m.link"
   ]
  },
  {
   "cell_type": "code",
   "execution_count": null,
   "metadata": {
    "collapsed": false,
    "scrolled": true
   },
   "outputs": [],
   "source": [
    "# use pandas - plot over time\n",
    "\n",
    "import pandas as pd\n",
    "\n",
    "df = pd.DataFrame({'times':[m.created_time for m in all_media], 'users':[m.user.username for m in all_media], 'posts':[m.link for m in all_media]})"
   ]
  },
  {
   "cell_type": "code",
   "execution_count": null,
   "metadata": {
    "collapsed": false
   },
   "outputs": [],
   "source": [
    "def make_date(d):\n",
    "    d = d.replace(second=0, minute=0)\n",
    "    return d\n",
    "\n",
    "df['dt']=df[['times']].apply(lambda x: make_date(x['times']), axis=1)"
   ]
  },
  {
   "cell_type": "code",
   "execution_count": null,
   "metadata": {
    "collapsed": false,
    "scrolled": true
   },
   "outputs": [],
   "source": [
    "df.set_index('dt')"
   ]
  },
  {
   "cell_type": "code",
   "execution_count": null,
   "metadata": {
    "collapsed": false
   },
   "outputs": [],
   "source": [
    "%pylab inline\n",
    "\n",
    "df.groupby(df.dt).size().plot(figsize=(20,6))\n",
    "title('#%s - IG posts over time' % used_tag)"
   ]
  },
  {
   "cell_type": "code",
   "execution_count": null,
   "metadata": {
    "collapsed": false
   },
   "outputs": [],
   "source": [
    "df[-10:]"
   ]
  },
  {
   "cell_type": "code",
   "execution_count": null,
   "metadata": {
    "collapsed": false
   },
   "outputs": [],
   "source": [
    "df.groupby(df.dt).size()['2015-09-20':].plot(figsize=(20,6))\n",
    "title('#%s - IG posts over time' % used_tag)"
   ]
  },
  {
   "cell_type": "markdown",
   "metadata": {
    "collapsed": true
   },
   "source": [
    "### Scatter Plot"
   ]
  },
  {
   "cell_type": "code",
   "execution_count": null,
   "metadata": {
    "collapsed": false
   },
   "outputs": [],
   "source": [
    "%pylab inline\n",
    "\n",
    "l = [m.like_count for m in all_media]\n",
    "c = [m.comment_count for m in all_media]\n",
    "\n",
    "# let's plot the relationship between these two variables\n",
    "\n",
    "scatter(l,c,s=50,alpha=.1)\n",
    "title('likes vs. comments')\n",
    "ylabel('comment count')\n",
    "xlabel('like count')\n"
   ]
  },
  {
   "cell_type": "code",
   "execution_count": null,
   "metadata": {
    "collapsed": false
   },
   "outputs": [],
   "source": [
    "l_log = [log(m.like_count) for m in all_media]\n",
    "c_log = [log(m.comment_count) for m in all_media]\n",
    "\n",
    "# let's plot the relationship between these two variables\n",
    "rcParams['figure.figsize'] = 12,6\n",
    "scatter(l_log,c_log,s=50,alpha=.1)\n",
    "title('likes vs. comments')\n",
    "ylabel('comment count')\n",
    "xlabel('like count')\n"
   ]
  },
  {
   "cell_type": "raw",
   "metadata": {},
   "source": [
    "In the future we'll want to be able to describe the relationship between the two variables -> is there a general patterns? Given one can we predict the other?\n",
    "\n",
    "We will come back to:\n",
    "- curve fitting\n",
    "- least squares regression"
   ]
  },
  {
   "cell_type": "markdown",
   "metadata": {},
   "source": [
    "### tags"
   ]
  },
  {
   "cell_type": "code",
   "execution_count": null,
   "metadata": {
    "collapsed": false
   },
   "outputs": [],
   "source": [
    "from collections import Counter\n",
    "\n",
    "#all_tags = [t.name for t in m.tags for m in all_media if hasattr(m, 'tags')]"
   ]
  },
  {
   "cell_type": "code",
   "execution_count": null,
   "metadata": {
    "collapsed": false
   },
   "outputs": [],
   "source": [
    "all_tags = []\n",
    "for m in all_media:\n",
    "    if hasattr(m, 'tags'):\n",
    "        all_tags += [t.name for t in m.tags]"
   ]
  },
  {
   "cell_type": "code",
   "execution_count": null,
   "metadata": {
    "collapsed": false,
    "scrolled": true
   },
   "outputs": [],
   "source": [
    "counted_tags = Counter(all_tags)\n",
    "counted_tags.most_common(40)"
   ]
  },
  {
   "cell_type": "markdown",
   "metadata": {},
   "source": [
    "### location"
   ]
  },
  {
   "cell_type": "code",
   "execution_count": null,
   "metadata": {
    "collapsed": false,
    "scrolled": true
   },
   "outputs": [],
   "source": [
    "# check if the object - m - has a location attribute\n",
    "location_names = set([m.location.name for m in all_media if hasattr(m, 'location')])\n",
    "len(location_names)\n",
    "location_names"
   ]
  },
  {
   "cell_type": "code",
   "execution_count": null,
   "metadata": {
    "collapsed": false
   },
   "outputs": [],
   "source": [
    "locations = {m.user.username:m.location for m in all_media if hasattr(m, 'location')}"
   ]
  },
  {
   "cell_type": "code",
   "execution_count": null,
   "metadata": {
    "collapsed": false
   },
   "outputs": [],
   "source": [
    "for u,loc in locations.items()[:10]:\n",
    "    print u,loc"
   ]
  },
  {
   "cell_type": "code",
   "execution_count": null,
   "metadata": {
    "collapsed": false
   },
   "outputs": [],
   "source": [
    "user_loc = locations['laverony']\n",
    "\n",
    "print user_loc.id\n",
    "print user_loc.name\n",
    "print user_loc.point.latitude\n",
    "print user_loc.point.longitude"
   ]
  },
  {
   "cell_type": "code",
   "execution_count": null,
   "metadata": {
    "collapsed": false
   },
   "outputs": [],
   "source": [
    "# pip install geopy\n",
    "# reverse geo-lookup -> for more geographic information\n",
    "import json\n",
    "from geopy.geocoders import Nominatim\n",
    "geolocator = Nominatim()\n",
    "\n",
    "location = geolocator.reverse((user_loc.point.latitude, user_loc.point.longitude))\n",
    "print location.address\n",
    "print json.dumps(location.raw, indent=1)\n"
   ]
  }
 ],
 "metadata": {
  "kernelspec": {
   "display_name": "Python 2",
   "language": "python",
   "name": "python2"
  },
  "language_info": {
   "codemirror_mode": {
    "name": "ipython",
    "version": 2
   },
   "file_extension": ".py",
   "mimetype": "text/x-python",
   "name": "python",
   "nbconvert_exporter": "python",
   "pygments_lexer": "ipython2",
   "version": "2.7.6"
  }
 },
 "nbformat": 4,
 "nbformat_minor": 0
}
