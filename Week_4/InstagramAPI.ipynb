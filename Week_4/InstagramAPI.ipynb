{
 "cells": [
  {
   "cell_type": "markdown",
   "metadata": {},
   "source": [
    "POST vs. GET methods\n",
    "\n",
    "- two HTTP request methods commonly used for a request-response between a client and a server\n",
    "- GET: query string sent in the URL\n",
    "- POST: query string sent in the HTTP message body\n",
    "\n",
    "Other differences\n",
    "\n",
    "- POST requests are never cached\n",
    "- POST requests do not remain in the browser history\n",
    "- POST requests cannot be bookmarked\n",
    "- POST requests have no restrictions on data length"
   ]
  },
  {
   "cell_type": "markdown",
   "metadata": {},
   "source": [
    "### Instagram API"
   ]
  },
  {
   "cell_type": "markdown",
   "metadata": {},
   "source": [
    "Go here to register your application - http://instagram.com/developer/\n",
    "We need to generate an Oauth token and use the client_id, client_secret when making calls to the IG API.\n",
    "\n",
    "We'll be using a python wrapper (makes things much simpler) which you should intall by running the following\n",
    "command in your remote machine:\n",
    "\n",
    "\n",
    "pip install python-instagram\n",
    "\n",
    "\n",
    "Full documentation of the python library here: https://github.com/Instagram/python-instagram"
   ]
  },
  {
   "cell_type": "code",
   "execution_count": 1,
   "metadata": {
    "collapsed": false
   },
   "outputs": [],
   "source": [
    "#client_id = ''\n",
    "#client_secret = ''\n",
    "\n",
    "client_id = '0db0c30814c14ac48a58c8e27a7b4a5a'\n",
    "client_secret = '8681192578424d78aea183f1bf05f465'\n",
    "\n",
    "from instagram.client import InstagramAPI\n",
    "\n",
    "api = InstagramAPI(client_id=client_id, client_secret=client_secret)"
   ]
  },
  {
   "cell_type": "markdown",
   "metadata": {},
   "source": [
    "### Instagram Tag Count"
   ]
  },
  {
   "cell_type": "code",
   "execution_count": 6,
   "metadata": {
    "collapsed": false
   },
   "outputs": [
    {
     "name": "stdout",
     "output_type": "stream",
     "text": [
      "100\n"
     ]
    }
   ],
   "source": [
    "# get ig tag info -> how many IG posts have the given hashtag\n",
    "used_tag = 'itpnyu'\n",
    "num_media_tag = api.tag(used_tag).media_count\n",
    "print num_media_tag"
   ]
  },
  {
   "cell_type": "code",
   "execution_count": 7,
   "metadata": {
    "collapsed": false
   },
   "outputs": [
    {
     "name": "stdout",
     "output_type": "stream",
     "text": [
      "24626\n"
     ]
    }
   ],
   "source": [
    "# get ig tag info\n",
    "used_tag = 'GOPdebate'\n",
    "num_media_tag = api.tag(used_tag).media_count\n",
    "print num_media_tag"
   ]
  },
  {
   "cell_type": "code",
   "execution_count": 8,
   "metadata": {
    "collapsed": false
   },
   "outputs": [
    {
     "name": "stdout",
     "output_type": "stream",
     "text": [
      "35190\n"
     ]
    }
   ],
   "source": [
    "# get ig tag info\n",
    "used_tag = 'IStandWithAhmed'\n",
    "num_media_tag = api.tag(used_tag).media_count\n",
    "print num_media_tag"
   ]
  },
  {
   "cell_type": "code",
   "execution_count": 10,
   "metadata": {
    "collapsed": false
   },
   "outputs": [
    {
     "name": "stdout",
     "output_type": "stream",
     "text": [
      "1173102\n"
     ]
    }
   ],
   "source": [
    "# get ig tag info\n",
    "used_tag = 'BlackLivesMatter'\n",
    "num_media_tag = api.tag(used_tag).media_count\n",
    "print num_media_tag"
   ]
  },
  {
   "cell_type": "code",
   "execution_count": 11,
   "metadata": {
    "collapsed": false
   },
   "outputs": [
    {
     "name": "stdout",
     "output_type": "stream",
     "text": [
      "4554\n"
     ]
    }
   ],
   "source": [
    "# get ig tag info\n",
    "used_tag = 'PopeInNYC'\n",
    "num_media_tag = api.tag(used_tag).media_count\n",
    "print num_media_tag"
   ]
  },
  {
   "cell_type": "markdown",
   "metadata": {},
   "source": [
    "### Instagram Media"
   ]
  },
  {
   "cell_type": "code",
   "execution_count": 12,
   "metadata": {
    "collapsed": false,
    "scrolled": true
   },
   "outputs": [],
   "source": [
    "# get ig media based on tag\n",
    "\n",
    "max_tag_id = 0\n",
    "media_per_query = 33\n",
    "media, _next = api.tag_recent_media(media_per_query, max_tag_id, used_tag)"
   ]
  },
  {
   "cell_type": "code",
   "execution_count": 13,
   "metadata": {
    "collapsed": false
   },
   "outputs": [
    {
     "name": "stdout",
     "output_type": "stream",
     "text": [
      "[Media: 1081922764966144557_1974288529, Media: 1081922750519248105_483496856, Media: 1081922628407851078_9538389, Media: 1081922485616259301_1197167699, Media: 1081922440041182186_226132923, Media: 1081922317307752027_40438210, Media: 1081922257060656414_365523100, Media: 1081922041967484367_6072246, Media: 1081922034106377918_178276288, Media: 1081921799133660362_483496856, Media: 1081921751890945399_1081208736, Media: 1081921684891745267_189249333, Media: 1081921594978848938_1288540627, Media: 1081921534322237942_31537007, Media: 1081921433820262134_2150913898, Media: 1081921124263812810_1082138862, Media: 1081921101162670576_235284921, Media: 1081920982680270424_1995398260, Media: 1081920950242083441_314568807, Media: 1081920888057041898_23833523, Media: 1081920830059199115_320959493, Media: 1081920823876106993_2338821, Media: 1081920672634414261_225145424, Media: 1081920611895164011_1532808022, Media: 1081920600394391825_1003138031, Media: 1081920536876599664_670768761, Media: 1081920511995071215_2097137865, Media: 1081920507105438039_11348769, Media: 1081920505176121849_6093831, Media: 1081920493592185339_18009545, Media: 1081920272232324645_10423302, Media: 1081920174799216306_1082138862, Media: 1081920146535048694_20480984]\n"
     ]
    }
   ],
   "source": [
    "print media"
   ]
  },
  {
   "cell_type": "code",
   "execution_count": 14,
   "metadata": {
    "collapsed": false
   },
   "outputs": [
    {
     "name": "stdout",
     "output_type": "stream",
     "text": [
      "33\n"
     ]
    }
   ],
   "source": [
    "print len(media)"
   ]
  },
  {
   "cell_type": "code",
   "execution_count": 15,
   "metadata": {
    "collapsed": false
   },
   "outputs": [
    {
     "data": {
      "text/plain": [
       "Media: 1081922764966144557_1974288529"
      ]
     },
     "execution_count": 15,
     "metadata": {},
     "output_type": "execute_result"
    }
   ],
   "source": [
    "m = media[0]\n",
    "m"
   ]
  },
  {
   "cell_type": "code",
   "execution_count": 16,
   "metadata": {
    "collapsed": false
   },
   "outputs": [
    {
     "data": {
      "text/plain": [
       "instagram.models.Media"
      ]
     },
     "execution_count": 16,
     "metadata": {},
     "output_type": "execute_result"
    }
   ],
   "source": [
    "# object of type: IG media\n",
    "\n",
    "type(m)"
   ]
  },
  {
   "cell_type": "code",
   "execution_count": 17,
   "metadata": {
    "collapsed": false,
    "scrolled": true
   },
   "outputs": [
    {
     "data": {
      "text/plain": [
       "['__class__',\n",
       " '__delattr__',\n",
       " '__dict__',\n",
       " '__doc__',\n",
       " '__format__',\n",
       " '__getattribute__',\n",
       " '__hash__',\n",
       " '__init__',\n",
       " '__module__',\n",
       " '__new__',\n",
       " '__reduce__',\n",
       " '__reduce_ex__',\n",
       " '__repr__',\n",
       " '__setattr__',\n",
       " '__sizeof__',\n",
       " '__str__',\n",
       " '__subclasshook__',\n",
       " '__unicode__',\n",
       " '__weakref__',\n",
       " 'caption',\n",
       " 'comment_count',\n",
       " 'comments',\n",
       " 'created_time',\n",
       " 'filter',\n",
       " 'get_low_resolution_url',\n",
       " 'get_standard_resolution_url',\n",
       " 'get_thumbnail_url',\n",
       " 'id',\n",
       " 'images',\n",
       " 'like_count',\n",
       " 'likes',\n",
       " 'link',\n",
       " 'object_from_dictionary',\n",
       " 'tags',\n",
       " 'type',\n",
       " 'user',\n",
       " 'users_in_photo',\n",
       " 'videos']"
      ]
     },
     "execution_count": 17,
     "metadata": {},
     "output_type": "execute_result"
    }
   ],
   "source": [
    "# returns a list of valid attributes for the given object -> IG media object / class\n",
    "\n",
    "dir(m)"
   ]
  },
  {
   "cell_type": "code",
   "execution_count": 18,
   "metadata": {
    "collapsed": false
   },
   "outputs": [
    {
     "name": "stdout",
     "output_type": "stream",
     "text": [
      "https://instagram.com/p/8DwwXANyot/\n",
      "[Tag: globalgoals, Tag: unga, Tag: 2030now, Tag: popeinnyc, Tag: repost]\n",
      "[]\n"
     ]
    }
   ],
   "source": [
    "print m.link\n",
    "print m.tags\n",
    "print m.likes"
   ]
  },
  {
   "cell_type": "code",
   "execution_count": 20,
   "metadata": {
    "collapsed": false
   },
   "outputs": [
    {
     "name": "stdout",
     "output_type": "stream",
     "text": [
      "2015-09-25 15:34:25\n",
      "1081922764966144557_1974288529\n",
      "User: unwomen_unitedstates\n",
      "https://instagram.com/p/8DwwXANyot/\n",
      "\n",
      "2015-09-25 15:34:24\n",
      "1081922750519248105_483496856\n",
      "User: washarchdiocese\n",
      "https://instagram.com/p/8DwwJjHQTp/\n",
      "\n",
      "2015-09-25 15:34:09\n",
      "1081922628407851078_9538389\n",
      "User: nanneruba\n",
      "https://instagram.com/p/8DwuX0tPhG/\n",
      "\n",
      "2015-09-25 15:33:52\n",
      "1081922485616259301_1197167699\n",
      "User: anjalitvak\n",
      "https://instagram.com/p/8DwsS1qjDl/\n",
      "\n",
      "2015-09-25 15:33:47\n",
      "1081922440041182186_226132923\n",
      "User: massibru\n",
      "https://instagram.com/p/8DwroZLbPq/\n",
      "\n",
      "2015-09-25 15:33:32\n",
      "1081922317307752027_40438210\n",
      "User: danmannarinotv\n",
      "https://instagram.com/p/8Dwp2Fsi5b/\n",
      "\n",
      "2015-09-25 15:33:25\n",
      "1081922257060656414_365523100\n",
      "User: stpatrickscathedral\n",
      "https://instagram.com/p/8Dwo9-sHUe/\n",
      "\n",
      "2015-09-25 15:32:59\n",
      "1081922041967484367_6072246\n",
      "User: americanair\n",
      "https://instagram.com/p/8Dwl1qIx3P/\n",
      "\n",
      "2015-09-25 15:32:58\n",
      "1081922034106377918_178276288\n",
      "User: aishabickford\n",
      "https://instagram.com/p/8DwluVlCa-/\n",
      "\n",
      "2015-09-25 15:32:30\n",
      "1081921799133660362_483496856\n",
      "User: washarchdiocese\n",
      "https://instagram.com/p/8DwiTgHQTK/\n",
      "\n",
      "2015-09-25 15:32:25\n",
      "1081921751890945399_1081208736\n",
      "User: simrancolumbia\n",
      "https://instagram.com/p/8DwhngOmV3/\n",
      "\n",
      "2015-09-25 15:32:17\n",
      "1081921684891745267_189249333\n",
      "User: gmanews\n",
      "https://instagram.com/p/8DwgpGw7vz/\n",
      "\n",
      "2015-09-25 15:32:06\n",
      "1081921594978848938_1288540627\n",
      "User: agranek\n",
      "https://instagram.com/p/8DwfVXidCq/\n",
      "\n",
      "2015-09-25 15:31:59\n",
      "1081921534322237942_31537007\n",
      "User: zuaohenrique\n",
      "https://instagram.com/p/8Dwec4H2H2/\n",
      "\n",
      "2015-09-25 15:31:47\n",
      "1081921433820262134_2150913898\n",
      "User: spywholoved\n",
      "https://instagram.com/p/8Dwc_RvO72/\n",
      "\n",
      "2015-09-25 15:31:10\n",
      "1081921124263812810_1082138862\n",
      "User: siobhanbonnouvrier\n",
      "https://instagram.com/p/8DwYe-vF7K/\n",
      "\n",
      "2015-09-25 15:31:07\n",
      "1081921101162670576_235284921\n",
      "User: bainches\n",
      "https://instagram.com/p/8DwYJdzOnw/\n",
      "\n",
      "2015-09-25 15:30:53\n",
      "1081920982680270424_1995398260\n",
      "User: acistampa\n",
      "https://instagram.com/p/8DwWbHsvZY/\n",
      "\n",
      "2015-09-25 15:30:49\n",
      "1081920950242083441_314568807\n",
      "User: ashwoodmeadow\n",
      "https://instagram.com/p/8DwV86O4Jx/\n",
      "\n",
      "2015-09-25 15:30:42\n",
      "1081920888057041898_23833523\n",
      "User: paulcelona\n",
      "https://instagram.com/p/8DwVC_txPq/\n",
      "\n",
      "2015-09-25 15:30:35\n",
      "1081920830059199115_320959493\n",
      "User: thetomlin\n",
      "https://instagram.com/p/8DwUM-xjqL/\n",
      "\n",
      "2015-09-25 15:30:34\n",
      "1081920823876106993_2338821\n",
      "User: hae1kye\n",
      "https://instagram.com/p/8DwUHOO7rx/\n",
      "\n",
      "2015-09-25 15:30:16\n",
      "1081920672634414261_225145424\n",
      "User: vfbeauty\n",
      "https://instagram.com/p/8DwR6XhqS1/\n",
      "\n",
      "2015-09-25 15:30:09\n",
      "1081920611895164011_1532808022\n",
      "User: newromama\n",
      "https://instagram.com/p/8DwRBzLzxr/\n",
      "\n",
      "2015-09-25 15:30:07\n",
      "1081920600394391825_1003138031\n",
      "User: williamandpark\n",
      "https://instagram.com/p/8DwQ3Fr2ER/\n",
      "\n",
      "2015-09-25 15:30:00\n",
      "1081920536876599664_670768761\n",
      "User: b_e_a_m_\n",
      "https://instagram.com/p/8DwP77uslw/\n",
      "\n",
      "2015-09-25 15:29:57\n",
      "1081920511995071215_2097137865\n",
      "User: ptdiocese\n",
      "https://instagram.com/p/8DwPkwrMrv/\n",
      "\n",
      "2015-09-25 15:29:56\n",
      "1081920507105438039_11348769\n",
      "User: james_luisi\n",
      "https://instagram.com/p/8DwPgNOulX/\n",
      "\n",
      "2015-09-25 15:29:56\n",
      "1081920505176121849_6093831\n",
      "User: carolpinta\n",
      "https://instagram.com/p/8DwPeaO-H5/\n",
      "\n",
      "2015-09-25 15:29:55\n",
      "1081920493592185339_18009545\n",
      "User: nicogmz\n",
      "https://instagram.com/p/8DwPTnxwn7/\n",
      "\n",
      "2015-09-25 15:29:28\n",
      "1081920272232324645_10423302\n",
      "User: dan_r\n",
      "https://instagram.com/p/8DwMFds54l/\n",
      "\n",
      "2015-09-25 15:29:17\n",
      "1081920174799216306_1082138862\n",
      "User: siobhanbonnouvrier\n",
      "https://instagram.com/p/8DwKquPF6y/\n",
      "\n",
      "2015-09-25 15:29:13\n",
      "1081920146535048694_20480984\n",
      "User: don_ox\n",
      "https://instagram.com/p/8DwKQZj2X2/\n",
      "\n"
     ]
    }
   ],
   "source": [
    "# let's save all media items into an array called 'all_media'\n",
    "\n",
    "all_media = []\n",
    "\n",
    "for m in media:\n",
    "    print m.created_time\n",
    "    print m.id\n",
    "    print m.user\n",
    "    print m.link\n",
    "    print ''\n",
    "    all_media.append(m)"
   ]
  },
  {
   "cell_type": "code",
   "execution_count": 21,
   "metadata": {
    "collapsed": false
   },
   "outputs": [
    {
     "name": "stdout",
     "output_type": "stream",
     "text": [
      "https://api.instagram.com/v1/tags/popeinnyc/media/recent?count=33&sig=ea1be6326ecebbacd0f0fe5c0ad7bba20c4c867731d20f0f700c9352b364e974&client_id=0db0c30814c14ac48a58c8e27a7b4a5a&max_tag_id=1081919935706299744\n"
     ]
    }
   ],
   "source": [
    "# this item helps us paginate through the IG media results\n",
    "\n",
    "print _next"
   ]
  },
  {
   "cell_type": "code",
   "execution_count": null,
   "metadata": {
    "collapsed": false
   },
   "outputs": [],
   "source": [
    "# one way to parse data from the '_next_' object\n",
    "\n",
    "from urlparse import urlparse\n",
    "\n",
    "parsed = urlparse(next_)\n",
    "print parsed\n",
    "print ''\n",
    "print parsed.query"
   ]
  },
  {
   "cell_type": "code",
   "execution_count": null,
   "metadata": {
    "collapsed": false
   },
   "outputs": [],
   "source": [
    "# splitting the query portion of the parsed URL by '&' character\n",
    "\n",
    "parsed.query.split('&')"
   ]
  },
  {
   "cell_type": "code",
   "execution_count": null,
   "metadata": {
    "collapsed": false
   },
   "outputs": [],
   "source": [
    "# now splitting by the '=' character\n",
    "\n",
    "[x.split('=') for x in parsed.query.split('&')]"
   ]
  },
  {
   "cell_type": "code",
   "execution_count": null,
   "metadata": {
    "collapsed": false
   },
   "outputs": [],
   "source": [
    "# creating a dictionary \n",
    "\n",
    "print {a:b for a,b in [x.split('=') for x in parsed.query.split('&')]}"
   ]
  },
  {
   "cell_type": "code",
   "execution_count": null,
   "metadata": {
    "collapsed": false
   },
   "outputs": [],
   "source": [
    "# lets make a function out of this -> parse out the max_tag_id parameter\n",
    "\n",
    "def extract_max_tag_id(txt):\n",
    "    parsed = urlparse(txt)\n",
    "    params = {a:b for a,b in [x.split('=') for x in parsed.query.split('&')]}\n",
    "    return params['max_tag_id']\n"
   ]
  },
  {
   "cell_type": "code",
   "execution_count": 22,
   "metadata": {
    "collapsed": false,
    "scrolled": true
   },
   "outputs": [
    {
     "name": "stdout",
     "output_type": "stream",
     "text": [
      "66\n",
      "99\n",
      "132\n",
      "165\n",
      "198\n",
      "231\n",
      "264\n",
      "297\n",
      "330\n",
      "363\n",
      "396\n",
      "429\n",
      "462\n",
      "495\n",
      "528\n",
      "561\n",
      "594\n",
      "627\n",
      "660\n",
      "693\n",
      "726\n",
      "759\n",
      "792\n",
      "825\n",
      "858\n",
      "891\n",
      "924\n",
      "957\n",
      "990\n",
      "1023\n",
      "1056\n",
      "1089\n",
      "1122\n",
      "1155\n",
      "1188\n",
      "1221\n",
      "1254\n",
      "1287\n",
      "1320\n",
      "1353\n",
      "1386\n",
      "1419\n",
      "1452\n",
      "1485\n",
      "1518\n",
      "1551\n",
      "1584\n",
      "1617\n",
      "1650\n",
      "1683\n",
      "1716\n",
      "1749\n",
      "1782\n",
      "1815\n",
      "1848\n",
      "1881\n",
      "1914\n",
      "1947\n",
      "1980\n",
      "2013\n",
      "2046\n",
      "2079\n",
      "2112\n",
      "2145\n",
      "2178\n",
      "2211\n",
      "2244\n",
      "2277\n",
      "2310\n",
      "2343\n",
      "2376\n",
      "2409\n",
      "2442\n",
      "2475\n",
      "2508\n",
      "2541\n",
      "2574\n",
      "2607\n",
      "2640\n",
      "2673\n",
      "2706\n",
      "2739\n",
      "2772\n",
      "2805\n",
      "2838\n",
      "2871\n",
      "2904\n",
      "2937\n",
      "2970\n",
      "3003\n",
      "3036\n",
      "3069\n",
      "3102\n",
      "3135\n",
      "3168\n",
      "3201\n",
      "3234\n",
      "3267\n",
      "3300\n",
      "3333\n",
      "3366\n",
      "3399\n",
      "3432\n",
      "3465\n",
      "3498\n",
      "3531\n",
      "3564\n",
      "3576\n"
     ]
    }
   ],
   "source": [
    "max_tag_id = 0\n",
    "media_per_query = 33\n",
    "MAX_ITEMS = 10000\n",
    "\n",
    "all_media, next_ = api.tag_recent_media(media_per_query, max_tag_id, used_tag)\n",
    "\n",
    "while next_:\n",
    "    more_media, next_ = api.tag_recent_media(count=media_per_query, tag_name=used_tag, with_next_url=next_)\n",
    "    all_media.extend(more_media)\n",
    "        \n",
    "    print len(all_media)\n",
    "    if len(all_media)>MAX_ITEMS:\n",
    "        break"
   ]
  },
  {
   "cell_type": "code",
   "execution_count": null,
   "metadata": {
    "collapsed": false
   },
   "outputs": [],
   "source": [
    "len(all_media)"
   ]
  },
  {
   "cell_type": "code",
   "execution_count": 23,
   "metadata": {
    "collapsed": false
   },
   "outputs": [],
   "source": [
    "# save our data in pickled format (this is in case our notebook crashes __gasp__ - so that we don't ahve to grab it again)\n",
    "\n",
    "import pickle\n",
    "path = '/class/itpmssd/datasets/'\n",
    "\n",
    "pickle.dump(all_media, open(path+'%s_ig.p' % used_tag,'wb'))"
   ]
  },
  {
   "cell_type": "code",
   "execution_count": null,
   "metadata": {
    "collapsed": false
   },
   "outputs": [],
   "source": [
    "import pickle\n",
    "path = '/class/itpmssd/datasets/'\n",
    "\n",
    "all_media = pickle.load(open(path+'%s_ig.p' % used_tag,'rb'))"
   ]
  },
  {
   "cell_type": "markdown",
   "metadata": {},
   "source": [
    "### Let's look at our data"
   ]
  },
  {
   "cell_type": "code",
   "execution_count": 24,
   "metadata": {
    "collapsed": false
   },
   "outputs": [
    {
     "data": {
      "text/plain": [
       "2507"
      ]
     },
     "execution_count": 24,
     "metadata": {},
     "output_type": "execute_result"
    }
   ],
   "source": [
    "# Number of unique users\n",
    "\n",
    "users = set([m.user.username for m in all_media])\n",
    "len(users)"
   ]
  },
  {
   "cell_type": "code",
   "execution_count": 25,
   "metadata": {
    "collapsed": false,
    "scrolled": true
   },
   "outputs": [
    {
     "name": "stdout",
     "output_type": "stream",
     "text": [
      "13490\n",
      "Comment: todayshow said \"Pope Francis's visit is bringing so much joy to so many people! #PopeinUS #PopeInDC #PopeinNYC #pope #pontifex (photos via @gettyimages)\"\n",
      "https://instagram.com/p/8CHENvwLTF/ \n",
      "\n",
      "11089\n",
      "Comment: nytimes said \"#PopeFrancis smiled and waved as the #popemobile headed for @stpatrickscathedral this evening during a short procession down #FifthAvenue. As the #pope (@newsva) arrived, only those closest to the sidewalk got a clear view. But that didn’t stop people from trying to capture the moment on cellphones raised high above the crowd. The pope is leading an evening prayer service before calling it a night in the city that never sleeps. Photo by @nytchangster, one of a number of @nytimes photographers covering the #popeinnyc. Follow @bengiville and @samuelhodgson to see more photos from the papal visit in New York today.\"\n",
      "https://instagram.com/p/8CCZkSr2zq/ \n",
      "\n",
      "8540\n",
      "Comment: fitness_meals said \"Fo real..😂😂DOUBLE TAP IF THIS IS YOU✔✔ TAG a friend! -\n",
      "-\n",
      "VISIT US ON TOPPHYSIQUES.COM\n",
      ".\n",
      "Also follow:\n",
      "@FoodBenefits\n",
      "@FoodBenefits\n",
      ".\n",
      "#FITNESS_MEALS\n",
      "#nationaldaughterday #confidence #popeinnyc lol #tiuretreat #tbt\"\n",
      "https://instagram.com/p/8BxvlYpUD_/ \n",
      "\n",
      "7965\n",
      "Comment: biggangvh1 said \"I was just able to share a special moment in the middle of the crowd here in midtown NYC. The pope arrived in his pope mobile at the cathedral, and waved in my direction. For once I felt like everyone else, no picture taking, no getting mobbed, just being one with other New Yorkers for history. It's truly a blessing to be in his presence, and everyone knows, the blessings are definitely needed! It's a great day to be a New Yorker. #popeinnyc\"\n",
      "https://instagram.com/p/8CAcmJPSqc/ \n",
      "\n",
      "5750\n",
      "Comment: ps.ny said \"©\n",
      "You better watch out, Pope Francis is coming to town! #cookienun\"\n",
      "https://instagram.com/p/8A4qLHCgnY/ \n",
      "\n",
      "5433\n",
      "Comment: peoplemag said \"Pope just met the Pope! #PopeInNYC #TGIT #OliviaPope #Scandal | 📷: @mariayagz\"\n",
      "https://instagram.com/p/8B91hNRF5x/ \n",
      "\n",
      "5005\n",
      "Comment: cancaonova said \"#PapaFrancisco está por toda parte, difícil não ser contagiado com sua simplicidade #popeinus #popeinnyc #juntocompapa #maispertodopapa\"\n",
      "https://instagram.com/p/8B_0kVxwwN/ \n",
      "\n",
      "4570\n",
      "Comment: nytimes said \"Pope John Paul II visiting Queens in October 1979. As long as there have been popes, popes have needed transportation. Footmen used to shoulder his holiness on portable thrones, known as sedia gestatoria, to greet the public. But papal movers evolved with the times. The unofficial term #popemobile came into vogue in the 1970s with the creation of a series of white all-terrain vehicles with bubble tops. A Lincoln Continental was first customized with a clear folding top and a thronelike seat in the back for #Pope Paul VI's trip to New York City in 1965. It and later models were then modified by the coach-building company Lehmann-Peterson, which outfitted limousines with security features for presidents, dignitaries and rock stars. Photo by @nytimes staff photographer Paul Hosefros. #popeinnyc #tbt\"\n",
      "https://instagram.com/p/8Bm8-cr207/ \n",
      "\n",
      "3936\n",
      "Comment: unitednations said \"Pope Francis is at the #UnitedNations! and the opening of the Summit to adopt the #GlobalGoals for Sustainable Development. \n",
      "The Pope is at the #UN to address world leaders at the 70th #UN General Assembly, ahead of the opening of the historic #GlobalGoals Summit, and to meet with Secretary-General Ban Ki-moon and the President of the General Assembly, as well as other UN leaders. \n",
      "The Pope also greeted UN staff, and laid a wreath-laying to honour UN personnel who have fallen in the line of duty.\n",
      "\n",
      "#UNGA #PopeInUSA #PopeInNYC #PopeAtUN #action2015\"\n",
      "https://instagram.com/p/8DipTJzDB1/ \n",
      "\n",
      "3672\n",
      "Comment: unitednations said \"A giant #UNGA hashtag has arrived at #UnitedNations Headquarters in #NYC in time for the start of the high-level segment of the 70th #UN General Assembly on Friday. \n",
      "From security to interpretation to protocol to social media, preparations are in full swing for what promises to be one of the largest and most important gatherings in the UN's 70-year history. His Holiness Pope Francis will join world leaders and luminaries to agree on action for sustainable future and address a wide range of global issues.\n",
      "\n",
      "Photos: @lindseythoeng / UN Social Media \n",
      "#globalgoals #action2015 #PopeInUSA #PopeInNYC\"\n",
      "https://instagram.com/p/7-maYqTDEq/ \n",
      "\n"
     ]
    }
   ],
   "source": [
    "# Show ten most liked IG posts\n",
    "\n",
    "for m in sorted(all_media, key=lambda x: -x.like_count)[:10]:\n",
    "    print m.like_count\n",
    "    print m.caption\n",
    "    print m.link, '\\n'"
   ]
  },
  {
   "cell_type": "code",
   "execution_count": 26,
   "metadata": {
    "collapsed": false,
    "scrolled": true
   },
   "outputs": [
    {
     "name": "stdout",
     "output_type": "stream",
     "text": [
      "8540 Comment: fitness_meals said \"Fo real..😂😂DOUBLE TAP IF THIS IS YOU✔✔ TAG a friend! -\n",
      "-\n",
      "VISIT US ON TOPPHYSIQUES.COM\n",
      ".\n",
      "Also follow:\n",
      "@FoodBenefits\n",
      "@FoodBenefits\n",
      ".\n",
      "#FITNESS_MEALS\n",
      "#nationaldaughterday #confidence #popeinnyc lol #tiuretreat #tbt\" https://instagram.com/p/8BxvlYpUD_/ \n",
      "\n",
      "5750 Comment: ps.ny said \"©\n",
      "You better watch out, Pope Francis is coming to town! #cookienun\" https://instagram.com/p/8A4qLHCgnY/ \n",
      "\n",
      "11089 Comment: nytimes said \"#PopeFrancis smiled and waved as the #popemobile headed for @stpatrickscathedral this evening during a short procession down #FifthAvenue. As the #pope (@newsva) arrived, only those closest to the sidewalk got a clear view. But that didn’t stop people from trying to capture the moment on cellphones raised high above the crowd. The pope is leading an evening prayer service before calling it a night in the city that never sleeps. Photo by @nytchangster, one of a number of @nytimes photographers covering the #popeinnyc. Follow @bengiville and @samuelhodgson to see more photos from the papal visit in New York today.\" https://instagram.com/p/8CCZkSr2zq/ \n",
      "\n",
      "3323 Comment: sternshow said \"Everyone's excited for the Pope's visit to America. #PopeFrancis #PopeInUsa #PopeInNYC @beetlepimp\" https://instagram.com/p/7-N2YgDCJH/ \n",
      "\n",
      "3066 Comment: sternshow said \"#TBT to the time the Pope got Baba Booeyed! #BabaBooey #PopeInNYC #PopeInUSA\" https://instagram.com/p/8BT6t1jCK4/ \n",
      "\n",
      "5433 Comment: peoplemag said \"Pope just met the Pope! #PopeInNYC #TGIT #OliviaPope #Scandal | 📷: @mariayagz\" https://instagram.com/p/8B91hNRF5x/ \n",
      "\n",
      "13490 Comment: todayshow said \"Pope Francis's visit is bringing so much joy to so many people! #PopeinUS #PopeInDC #PopeinNYC #pope #pontifex (photos via @gettyimages)\" https://instagram.com/p/8CHENvwLTF/ \n",
      "\n",
      "7965 Comment: biggangvh1 said \"I was just able to share a special moment in the middle of the crowd here in midtown NYC. The pope arrived in his pope mobile at the cathedral, and waved in my direction. For once I felt like everyone else, no picture taking, no getting mobbed, just being one with other New Yorkers for history. It's truly a blessing to be in his presence, and everyone knows, the blessings are definitely needed! It's a great day to be a New Yorker. #popeinnyc\" https://instagram.com/p/8CAcmJPSqc/ \n",
      "\n",
      "150 Comment: warrioroftherebelion said \"Evil.....Absolutely  disturbing.  #popefrancis #nwo  #vatican #popeindc  #popeinus #popeinnyc\" https://instagram.com/p/78qguXjDcx/ \n",
      "\n",
      "379 Comment: talkthirtytome said \"Sorry I missed your bridal shower, pope traffic! \n",
      "Sorry I didn't come to work today, pope traffic! \n",
      "Sorry I told your kids that you were a huge whore in college, pope traffic!\n",
      "#PopeTraffic \n",
      "#PopeTraffic\n",
      "#PopeTraffic\n",
      "#TalkThirtyToMe\" https://instagram.com/p/8CX1K-q3gl/ \n",
      "\n"
     ]
    }
   ],
   "source": [
    "# comments - 10 most commented on post\n",
    "\n",
    "for m in sorted(all_media, key=lambda x: -x.comment_count)[:10]:\n",
    "    print m.like_count, m.caption, m.link, '\\n'"
   ]
  },
  {
   "cell_type": "code",
   "execution_count": 27,
   "metadata": {
    "collapsed": false,
    "scrolled": true
   },
   "outputs": [
    {
     "name": "stdout",
     "output_type": "stream",
     "text": [
      "13490 182 https://instagram.com/p/8CHENvwLTF/\n",
      "11089 276 https://instagram.com/p/8CCZkSr2zq/\n",
      "8540 966 https://instagram.com/p/8BxvlYpUD_/\n",
      "7965 102 https://instagram.com/p/8CAcmJPSqc/\n",
      "5750 360 https://instagram.com/p/8A4qLHCgnY/\n",
      "5433 211 https://instagram.com/p/8B91hNRF5x/\n",
      "5005 57 https://instagram.com/p/8B_0kVxwwN/\n",
      "4570 30 https://instagram.com/p/8Bm8-cr207/\n",
      "3936 40 https://instagram.com/p/8DipTJzDB1/\n",
      "3672 31 https://instagram.com/p/7-maYqTDEq/\n",
      "3583 30 https://instagram.com/p/8Dp0YrwLRO/\n",
      "3323 271 https://instagram.com/p/7-N2YgDCJH/\n",
      "3307 39 https://instagram.com/p/8CMON9u01X/\n",
      "3188 35 https://instagram.com/p/8Cj1JBL20Q/\n",
      "3066 250 https://instagram.com/p/8BT6t1jCK4/\n",
      "3018 75 https://instagram.com/p/8CPBFPOg6o/\n",
      "2899 42 https://instagram.com/p/8Dk4jpuBGd/\n",
      "2523 21 https://instagram.com/p/8CGvYmJ2q4/\n",
      "2341 22 https://instagram.com/p/8CVgUKpFmp/\n",
      "2319 59 https://instagram.com/p/8DdBXsivTf/\n"
     ]
    }
   ],
   "source": [
    "# comments - most commented on post\n",
    "\n",
    "for m in sorted(all_media, key=lambda x: -x.like_count)[:20]:\n",
    "    print m.like_count, m.comment_count, m.link"
   ]
  },
  {
   "cell_type": "code",
   "execution_count": 28,
   "metadata": {
    "collapsed": false,
    "scrolled": true
   },
   "outputs": [],
   "source": [
    "# use pandas - plot over time\n",
    "\n",
    "import pandas as pd\n",
    "\n",
    "df = pd.DataFrame({'times':[m.created_time for m in all_media], 'users':[m.user.username for m in all_media], 'posts':[m.link for m in all_media]})"
   ]
  },
  {
   "cell_type": "code",
   "execution_count": 29,
   "metadata": {
    "collapsed": false
   },
   "outputs": [],
   "source": [
    "def make_date(d):\n",
    "    d = d.replace(second=0, minute=0)\n",
    "    return d\n",
    "\n",
    "df['dt']=df[['times']].apply(lambda x: make_date(x['times']), axis=1)"
   ]
  },
  {
   "cell_type": "code",
   "execution_count": 30,
   "metadata": {
    "collapsed": false,
    "scrolled": true
   },
   "outputs": [
    {
     "data": {
      "text/html": [
       "<div>\n",
       "<table border=\"1\" class=\"dataframe\">\n",
       "  <thead>\n",
       "    <tr style=\"text-align: right;\">\n",
       "      <th></th>\n",
       "      <th>posts</th>\n",
       "      <th>times</th>\n",
       "      <th>users</th>\n",
       "    </tr>\n",
       "    <tr>\n",
       "      <th>dt</th>\n",
       "      <th></th>\n",
       "      <th></th>\n",
       "      <th></th>\n",
       "    </tr>\n",
       "  </thead>\n",
       "  <tbody>\n",
       "    <tr>\n",
       "      <th>2015-09-25 15:00:00</th>\n",
       "      <td>https://instagram.com/p/8DxchmqVCF/</td>\n",
       "      <td>2015-09-25 15:40:27</td>\n",
       "      <td>stjosemaria</td>\n",
       "    </tr>\n",
       "    <tr>\n",
       "      <th>2015-09-25 15:00:00</th>\n",
       "      <td>https://instagram.com/p/8DxYSRnKkN/</td>\n",
       "      <td>2015-09-25 15:39:52</td>\n",
       "      <td>lemoncece</td>\n",
       "    </tr>\n",
       "    <tr>\n",
       "      <th>2015-09-25 15:00:00</th>\n",
       "      <td>https://instagram.com/p/8DxXgFI54c/</td>\n",
       "      <td>2015-09-25 15:39:46</td>\n",
       "      <td>tdgc58</td>\n",
       "    </tr>\n",
       "    <tr>\n",
       "      <th>2015-09-25 15:00:00</th>\n",
       "      <td>https://instagram.com/p/8DxRdgTW6L/</td>\n",
       "      <td>2015-09-25 15:38:57</td>\n",
       "      <td>stevontae</td>\n",
       "    </tr>\n",
       "    <tr>\n",
       "      <th>2015-09-25 15:00:00</th>\n",
       "      <td>https://instagram.com/p/8DxRaFPF83/</td>\n",
       "      <td>2015-09-25 15:38:56</td>\n",
       "      <td>siobhanbonnouvrier</td>\n",
       "    </tr>\n",
       "    <tr>\n",
       "      <th>2015-09-25 15:00:00</th>\n",
       "      <td>https://instagram.com/p/8DxRYMJfa-/</td>\n",
       "      <td>2015-09-25 15:38:56</td>\n",
       "      <td>terlaw10</td>\n",
       "    </tr>\n",
       "    <tr>\n",
       "      <th>2015-09-25 15:00:00</th>\n",
       "      <td>https://instagram.com/p/8DxPm2Dgr2/</td>\n",
       "      <td>2015-09-25 15:38:41</td>\n",
       "      <td>mi.viaje.experiencia</td>\n",
       "    </tr>\n",
       "    <tr>\n",
       "      <th>2015-09-25 15:00:00</th>\n",
       "      <td>https://instagram.com/p/8DxM91Sq7R/</td>\n",
       "      <td>2015-09-25 15:38:20</td>\n",
       "      <td>manguititi</td>\n",
       "    </tr>\n",
       "    <tr>\n",
       "      <th>2015-09-25 15:00:00</th>\n",
       "      <td>https://instagram.com/p/8DxKZfv6RI/</td>\n",
       "      <td>2015-09-25 15:37:59</td>\n",
       "      <td>its_chris212</td>\n",
       "    </tr>\n",
       "    <tr>\n",
       "      <th>2015-09-25 15:00:00</th>\n",
       "      <td>https://instagram.com/p/8DxKKkE94k/</td>\n",
       "      <td>2015-09-25 15:37:57</td>\n",
       "      <td>pppremee</td>\n",
       "    </tr>\n",
       "    <tr>\n",
       "      <th>2015-09-25 15:00:00</th>\n",
       "      <td>https://instagram.com/p/8DxFXeBqUd/</td>\n",
       "      <td>2015-09-25 15:37:17</td>\n",
       "      <td>vfbeauty</td>\n",
       "    </tr>\n",
       "    <tr>\n",
       "      <th>2015-09-25 15:00:00</th>\n",
       "      <td>https://instagram.com/p/8DxBL_H2JC/</td>\n",
       "      <td>2015-09-25 15:36:43</td>\n",
       "      <td>zuaohenrique</td>\n",
       "    </tr>\n",
       "    <tr>\n",
       "      <th>2015-09-25 15:00:00</th>\n",
       "      <td>https://instagram.com/p/8Dw49ej3B8/</td>\n",
       "      <td>2015-09-25 15:35:36</td>\n",
       "      <td>davehillernbc</td>\n",
       "    </tr>\n",
       "    <tr>\n",
       "      <th>2015-09-25 15:00:00</th>\n",
       "      <td>https://instagram.com/p/8Dw4iQykBs/</td>\n",
       "      <td>2015-09-25 15:35:32</td>\n",
       "      <td>jakehunterdhe</td>\n",
       "    </tr>\n",
       "    <tr>\n",
       "      <th>2015-09-25 15:00:00</th>\n",
       "      <td>https://instagram.com/p/8DwwXANyot/</td>\n",
       "      <td>2015-09-25 15:34:25</td>\n",
       "      <td>unwomen_unitedstates</td>\n",
       "    </tr>\n",
       "    <tr>\n",
       "      <th>2015-09-25 15:00:00</th>\n",
       "      <td>https://instagram.com/p/8DwwJjHQTp/</td>\n",
       "      <td>2015-09-25 15:34:24</td>\n",
       "      <td>washarchdiocese</td>\n",
       "    </tr>\n",
       "    <tr>\n",
       "      <th>2015-09-25 15:00:00</th>\n",
       "      <td>https://instagram.com/p/8DwuX0tPhG/</td>\n",
       "      <td>2015-09-25 15:34:09</td>\n",
       "      <td>nanneruba</td>\n",
       "    </tr>\n",
       "    <tr>\n",
       "      <th>2015-09-25 15:00:00</th>\n",
       "      <td>https://instagram.com/p/8DwtBwpK42/</td>\n",
       "      <td>2015-09-25 15:33:58</td>\n",
       "      <td>theindustijori</td>\n",
       "    </tr>\n",
       "    <tr>\n",
       "      <th>2015-09-25 15:00:00</th>\n",
       "      <td>https://instagram.com/p/8DwsS1qjDl/</td>\n",
       "      <td>2015-09-25 15:33:52</td>\n",
       "      <td>anjalitvak</td>\n",
       "    </tr>\n",
       "    <tr>\n",
       "      <th>2015-09-25 15:00:00</th>\n",
       "      <td>https://instagram.com/p/8DwroZLbPq/</td>\n",
       "      <td>2015-09-25 15:33:47</td>\n",
       "      <td>massibru</td>\n",
       "    </tr>\n",
       "    <tr>\n",
       "      <th>2015-09-25 15:00:00</th>\n",
       "      <td>https://instagram.com/p/8Dwp2Fsi5b/</td>\n",
       "      <td>2015-09-25 15:33:32</td>\n",
       "      <td>danmannarinotv</td>\n",
       "    </tr>\n",
       "    <tr>\n",
       "      <th>2015-09-25 15:00:00</th>\n",
       "      <td>https://instagram.com/p/8Dwo9-sHUe/</td>\n",
       "      <td>2015-09-25 15:33:25</td>\n",
       "      <td>stpatrickscathedral</td>\n",
       "    </tr>\n",
       "    <tr>\n",
       "      <th>2015-09-25 15:00:00</th>\n",
       "      <td>https://instagram.com/p/8Dwl1qIx3P/</td>\n",
       "      <td>2015-09-25 15:32:59</td>\n",
       "      <td>americanair</td>\n",
       "    </tr>\n",
       "    <tr>\n",
       "      <th>2015-09-25 15:00:00</th>\n",
       "      <td>https://instagram.com/p/8DwluVlCa-/</td>\n",
       "      <td>2015-09-25 15:32:58</td>\n",
       "      <td>aishabickford</td>\n",
       "    </tr>\n",
       "    <tr>\n",
       "      <th>2015-09-25 15:00:00</th>\n",
       "      <td>https://instagram.com/p/8DwiTgHQTK/</td>\n",
       "      <td>2015-09-25 15:32:30</td>\n",
       "      <td>washarchdiocese</td>\n",
       "    </tr>\n",
       "    <tr>\n",
       "      <th>2015-09-25 15:00:00</th>\n",
       "      <td>https://instagram.com/p/8DwhngOmV3/</td>\n",
       "      <td>2015-09-25 15:32:25</td>\n",
       "      <td>simrancolumbia</td>\n",
       "    </tr>\n",
       "    <tr>\n",
       "      <th>2015-09-25 15:00:00</th>\n",
       "      <td>https://instagram.com/p/8DwgpGw7vz/</td>\n",
       "      <td>2015-09-25 15:32:17</td>\n",
       "      <td>gmanews</td>\n",
       "    </tr>\n",
       "    <tr>\n",
       "      <th>2015-09-25 15:00:00</th>\n",
       "      <td>https://instagram.com/p/8DwfVXidCq/</td>\n",
       "      <td>2015-09-25 15:32:06</td>\n",
       "      <td>agranek</td>\n",
       "    </tr>\n",
       "    <tr>\n",
       "      <th>2015-09-25 15:00:00</th>\n",
       "      <td>https://instagram.com/p/8Dwec4H2H2/</td>\n",
       "      <td>2015-09-25 15:31:59</td>\n",
       "      <td>zuaohenrique</td>\n",
       "    </tr>\n",
       "    <tr>\n",
       "      <th>2015-09-25 15:00:00</th>\n",
       "      <td>https://instagram.com/p/8Dwc_RvO72/</td>\n",
       "      <td>2015-09-25 15:31:47</td>\n",
       "      <td>spywholoved</td>\n",
       "    </tr>\n",
       "    <tr>\n",
       "      <th>...</th>\n",
       "      <td>...</td>\n",
       "      <td>...</td>\n",
       "      <td>...</td>\n",
       "    </tr>\n",
       "    <tr>\n",
       "      <th>2015-09-01 22:00:00</th>\n",
       "      <td>https://instagram.com/p/7GqmD-J8jZ/</td>\n",
       "      <td>2015-09-01 22:06:55</td>\n",
       "      <td>rememberthepope</td>\n",
       "    </tr>\n",
       "    <tr>\n",
       "      <th>2015-09-01 01:00:00</th>\n",
       "      <td>https://instagram.com/p/7Ecum7J8ig/</td>\n",
       "      <td>2015-09-01 01:27:16</td>\n",
       "      <td>rememberthepope</td>\n",
       "    </tr>\n",
       "    <tr>\n",
       "      <th>2015-08-31 22:00:00</th>\n",
       "      <td>https://instagram.com/p/7EKhSyERKs/</td>\n",
       "      <td>2015-08-31 22:48:10</td>\n",
       "      <td>andyhotcakes</td>\n",
       "    </tr>\n",
       "    <tr>\n",
       "      <th>2015-08-29 23:00:00</th>\n",
       "      <td>https://instagram.com/p/6_DVlyKsPn/</td>\n",
       "      <td>2015-08-29 23:09:12</td>\n",
       "      <td>gtatar2329</td>\n",
       "    </tr>\n",
       "    <tr>\n",
       "      <th>2015-08-29 22:00:00</th>\n",
       "      <td>https://instagram.com/p/6-_aquxrBa/</td>\n",
       "      <td>2015-08-29 22:34:56</td>\n",
       "      <td>marion.berns</td>\n",
       "    </tr>\n",
       "    <tr>\n",
       "      <th>2015-08-29 15:00:00</th>\n",
       "      <td>https://instagram.com/p/6-L8uyqsBe/</td>\n",
       "      <td>2015-08-29 15:05:12</td>\n",
       "      <td>gtatar2329</td>\n",
       "    </tr>\n",
       "    <tr>\n",
       "      <th>2015-08-29 11:00:00</th>\n",
       "      <td>https://instagram.com/p/69zOHvQf8B/</td>\n",
       "      <td>2015-08-29 11:29:07</td>\n",
       "      <td>izziemendez</td>\n",
       "    </tr>\n",
       "    <tr>\n",
       "      <th>2015-08-29 03:00:00</th>\n",
       "      <td>https://instagram.com/p/688lZ8uN_g/</td>\n",
       "      <td>2015-08-29 03:31:42</td>\n",
       "      <td>readynj</td>\n",
       "    </tr>\n",
       "    <tr>\n",
       "      <th>2015-08-28 05:00:00</th>\n",
       "      <td>https://instagram.com/p/66m4ZSKyq2/</td>\n",
       "      <td>2015-08-28 05:43:35</td>\n",
       "      <td>popuppope</td>\n",
       "    </tr>\n",
       "    <tr>\n",
       "      <th>2015-08-26 22:00:00</th>\n",
       "      <td>https://instagram.com/p/63QwHJA1wq/</td>\n",
       "      <td>2015-08-26 22:32:29</td>\n",
       "      <td>vanessabarokas</td>\n",
       "    </tr>\n",
       "    <tr>\n",
       "      <th>2015-08-26 13:00:00</th>\n",
       "      <td>https://instagram.com/p/62Urb-qyiV/</td>\n",
       "      <td>2015-08-26 13:47:34</td>\n",
       "      <td>popuppope</td>\n",
       "    </tr>\n",
       "    <tr>\n",
       "      <th>2015-08-25 23:00:00</th>\n",
       "      <td>https://instagram.com/p/60v4UeJ8nI/</td>\n",
       "      <td>2015-08-25 23:06:46</td>\n",
       "      <td>rememberthepope</td>\n",
       "    </tr>\n",
       "    <tr>\n",
       "      <th>2015-08-25 17:00:00</th>\n",
       "      <td>https://instagram.com/p/60Gn-wi39e/</td>\n",
       "      <td>2015-08-25 17:06:17</td>\n",
       "      <td>roxanakhazai</td>\n",
       "    </tr>\n",
       "    <tr>\n",
       "      <th>2015-08-25 11:00:00</th>\n",
       "      <td>https://instagram.com/p/6zjSSiKsPV/</td>\n",
       "      <td>2015-08-25 11:57:29</td>\n",
       "      <td>gtatar2329</td>\n",
       "    </tr>\n",
       "    <tr>\n",
       "      <th>2015-08-25 03:00:00</th>\n",
       "      <td>https://instagram.com/p/6yr5uRi35y/</td>\n",
       "      <td>2015-08-25 03:53:32</td>\n",
       "      <td>roxanakhazai</td>\n",
       "    </tr>\n",
       "    <tr>\n",
       "      <th>2015-08-23 03:00:00</th>\n",
       "      <td>https://instagram.com/p/6tfdWbHMZ2/</td>\n",
       "      <td>2015-08-23 03:28:36</td>\n",
       "      <td>kathybousquet</td>\n",
       "    </tr>\n",
       "    <tr>\n",
       "      <th>2015-08-21 00:00:00</th>\n",
       "      <td>https://instagram.com/p/6oAzbICFhx/</td>\n",
       "      <td>2015-08-21 00:24:31</td>\n",
       "      <td>johnnyboyy159</td>\n",
       "    </tr>\n",
       "    <tr>\n",
       "      <th>2015-08-11 18:00:00</th>\n",
       "      <td>https://instagram.com/p/6QKdSlqsAU/</td>\n",
       "      <td>2015-08-11 18:07:07</td>\n",
       "      <td>gtatar2329</td>\n",
       "    </tr>\n",
       "    <tr>\n",
       "      <th>2015-08-10 15:00:00</th>\n",
       "      <td>https://instagram.com/p/6NSRTfKsDn/</td>\n",
       "      <td>2015-08-10 15:17:39</td>\n",
       "      <td>gtatar2329</td>\n",
       "    </tr>\n",
       "    <tr>\n",
       "      <th>2015-08-05 15:00:00</th>\n",
       "      <td>https://instagram.com/p/6AcAnaR27w/</td>\n",
       "      <td>2015-08-05 15:32:38</td>\n",
       "      <td>dethelmateo</td>\n",
       "    </tr>\n",
       "    <tr>\n",
       "      <th>2015-08-03 11:00:00</th>\n",
       "      <td>https://instagram.com/p/5610tsqsJM/</td>\n",
       "      <td>2015-08-03 11:22:45</td>\n",
       "      <td>gtatar2329</td>\n",
       "    </tr>\n",
       "    <tr>\n",
       "      <th>2015-08-01 18:00:00</th>\n",
       "      <td>https://instagram.com/p/52blGtFxpz/</td>\n",
       "      <td>2015-08-01 18:16:28</td>\n",
       "      <td>mariselmoralesnyc</td>\n",
       "    </tr>\n",
       "    <tr>\n",
       "      <th>2015-08-01 05:00:00</th>\n",
       "      <td>https://instagram.com/p/51Gr7mNC2i/</td>\n",
       "      <td>2015-08-01 05:54:40</td>\n",
       "      <td>sanagate1</td>\n",
       "    </tr>\n",
       "    <tr>\n",
       "      <th>2015-07-30 21:00:00</th>\n",
       "      <td>https://instagram.com/p/5xqxGyKsLO/</td>\n",
       "      <td>2015-07-30 21:52:59</td>\n",
       "      <td>gtatar2329</td>\n",
       "    </tr>\n",
       "    <tr>\n",
       "      <th>2015-07-28 03:00:00</th>\n",
       "      <td>https://instagram.com/p/5qhyu3NqBu/</td>\n",
       "      <td>2015-07-28 03:19:52</td>\n",
       "      <td>recognizemariony</td>\n",
       "    </tr>\n",
       "    <tr>\n",
       "      <th>2015-07-20 22:00:00</th>\n",
       "      <td>https://instagram.com/p/5X97cuH0MB/</td>\n",
       "      <td>2015-07-20 22:20:10</td>\n",
       "      <td>youngfaithfulcatholics</td>\n",
       "    </tr>\n",
       "    <tr>\n",
       "      <th>2015-07-03 13:00:00</th>\n",
       "      <td>https://instagram.com/p/4rN2k5NEmf/</td>\n",
       "      <td>2015-07-03 13:13:29</td>\n",
       "      <td>catholicmennj</td>\n",
       "    </tr>\n",
       "    <tr>\n",
       "      <th>2015-06-30 16:00:00</th>\n",
       "      <td>https://instagram.com/p/4jzws2CmqV/</td>\n",
       "      <td>2015-06-30 16:10:48</td>\n",
       "      <td>catholic_news_service</td>\n",
       "    </tr>\n",
       "    <tr>\n",
       "      <th>2015-01-19 21:00:00</th>\n",
       "      <td>https://instagram.com/p/yDQ9uuE_dV/</td>\n",
       "      <td>2015-01-19 21:42:41</td>\n",
       "      <td>marklevinenyc</td>\n",
       "    </tr>\n",
       "    <tr>\n",
       "      <th>2015-01-19 21:00:00</th>\n",
       "      <td>https://instagram.com/p/yDPooSAIbF/</td>\n",
       "      <td>2015-01-19 21:31:04</td>\n",
       "      <td>nyccouncil</td>\n",
       "    </tr>\n",
       "  </tbody>\n",
       "</table>\n",
       "<p>3576 rows × 3 columns</p>\n",
       "</div>"
      ],
      "text/plain": [
       "                                                   posts               times  \\\n",
       "dt                                                                             \n",
       "2015-09-25 15:00:00  https://instagram.com/p/8DxchmqVCF/ 2015-09-25 15:40:27   \n",
       "2015-09-25 15:00:00  https://instagram.com/p/8DxYSRnKkN/ 2015-09-25 15:39:52   \n",
       "2015-09-25 15:00:00  https://instagram.com/p/8DxXgFI54c/ 2015-09-25 15:39:46   \n",
       "2015-09-25 15:00:00  https://instagram.com/p/8DxRdgTW6L/ 2015-09-25 15:38:57   \n",
       "2015-09-25 15:00:00  https://instagram.com/p/8DxRaFPF83/ 2015-09-25 15:38:56   \n",
       "2015-09-25 15:00:00  https://instagram.com/p/8DxRYMJfa-/ 2015-09-25 15:38:56   \n",
       "2015-09-25 15:00:00  https://instagram.com/p/8DxPm2Dgr2/ 2015-09-25 15:38:41   \n",
       "2015-09-25 15:00:00  https://instagram.com/p/8DxM91Sq7R/ 2015-09-25 15:38:20   \n",
       "2015-09-25 15:00:00  https://instagram.com/p/8DxKZfv6RI/ 2015-09-25 15:37:59   \n",
       "2015-09-25 15:00:00  https://instagram.com/p/8DxKKkE94k/ 2015-09-25 15:37:57   \n",
       "2015-09-25 15:00:00  https://instagram.com/p/8DxFXeBqUd/ 2015-09-25 15:37:17   \n",
       "2015-09-25 15:00:00  https://instagram.com/p/8DxBL_H2JC/ 2015-09-25 15:36:43   \n",
       "2015-09-25 15:00:00  https://instagram.com/p/8Dw49ej3B8/ 2015-09-25 15:35:36   \n",
       "2015-09-25 15:00:00  https://instagram.com/p/8Dw4iQykBs/ 2015-09-25 15:35:32   \n",
       "2015-09-25 15:00:00  https://instagram.com/p/8DwwXANyot/ 2015-09-25 15:34:25   \n",
       "2015-09-25 15:00:00  https://instagram.com/p/8DwwJjHQTp/ 2015-09-25 15:34:24   \n",
       "2015-09-25 15:00:00  https://instagram.com/p/8DwuX0tPhG/ 2015-09-25 15:34:09   \n",
       "2015-09-25 15:00:00  https://instagram.com/p/8DwtBwpK42/ 2015-09-25 15:33:58   \n",
       "2015-09-25 15:00:00  https://instagram.com/p/8DwsS1qjDl/ 2015-09-25 15:33:52   \n",
       "2015-09-25 15:00:00  https://instagram.com/p/8DwroZLbPq/ 2015-09-25 15:33:47   \n",
       "2015-09-25 15:00:00  https://instagram.com/p/8Dwp2Fsi5b/ 2015-09-25 15:33:32   \n",
       "2015-09-25 15:00:00  https://instagram.com/p/8Dwo9-sHUe/ 2015-09-25 15:33:25   \n",
       "2015-09-25 15:00:00  https://instagram.com/p/8Dwl1qIx3P/ 2015-09-25 15:32:59   \n",
       "2015-09-25 15:00:00  https://instagram.com/p/8DwluVlCa-/ 2015-09-25 15:32:58   \n",
       "2015-09-25 15:00:00  https://instagram.com/p/8DwiTgHQTK/ 2015-09-25 15:32:30   \n",
       "2015-09-25 15:00:00  https://instagram.com/p/8DwhngOmV3/ 2015-09-25 15:32:25   \n",
       "2015-09-25 15:00:00  https://instagram.com/p/8DwgpGw7vz/ 2015-09-25 15:32:17   \n",
       "2015-09-25 15:00:00  https://instagram.com/p/8DwfVXidCq/ 2015-09-25 15:32:06   \n",
       "2015-09-25 15:00:00  https://instagram.com/p/8Dwec4H2H2/ 2015-09-25 15:31:59   \n",
       "2015-09-25 15:00:00  https://instagram.com/p/8Dwc_RvO72/ 2015-09-25 15:31:47   \n",
       "...                                                  ...                 ...   \n",
       "2015-09-01 22:00:00  https://instagram.com/p/7GqmD-J8jZ/ 2015-09-01 22:06:55   \n",
       "2015-09-01 01:00:00  https://instagram.com/p/7Ecum7J8ig/ 2015-09-01 01:27:16   \n",
       "2015-08-31 22:00:00  https://instagram.com/p/7EKhSyERKs/ 2015-08-31 22:48:10   \n",
       "2015-08-29 23:00:00  https://instagram.com/p/6_DVlyKsPn/ 2015-08-29 23:09:12   \n",
       "2015-08-29 22:00:00  https://instagram.com/p/6-_aquxrBa/ 2015-08-29 22:34:56   \n",
       "2015-08-29 15:00:00  https://instagram.com/p/6-L8uyqsBe/ 2015-08-29 15:05:12   \n",
       "2015-08-29 11:00:00  https://instagram.com/p/69zOHvQf8B/ 2015-08-29 11:29:07   \n",
       "2015-08-29 03:00:00  https://instagram.com/p/688lZ8uN_g/ 2015-08-29 03:31:42   \n",
       "2015-08-28 05:00:00  https://instagram.com/p/66m4ZSKyq2/ 2015-08-28 05:43:35   \n",
       "2015-08-26 22:00:00  https://instagram.com/p/63QwHJA1wq/ 2015-08-26 22:32:29   \n",
       "2015-08-26 13:00:00  https://instagram.com/p/62Urb-qyiV/ 2015-08-26 13:47:34   \n",
       "2015-08-25 23:00:00  https://instagram.com/p/60v4UeJ8nI/ 2015-08-25 23:06:46   \n",
       "2015-08-25 17:00:00  https://instagram.com/p/60Gn-wi39e/ 2015-08-25 17:06:17   \n",
       "2015-08-25 11:00:00  https://instagram.com/p/6zjSSiKsPV/ 2015-08-25 11:57:29   \n",
       "2015-08-25 03:00:00  https://instagram.com/p/6yr5uRi35y/ 2015-08-25 03:53:32   \n",
       "2015-08-23 03:00:00  https://instagram.com/p/6tfdWbHMZ2/ 2015-08-23 03:28:36   \n",
       "2015-08-21 00:00:00  https://instagram.com/p/6oAzbICFhx/ 2015-08-21 00:24:31   \n",
       "2015-08-11 18:00:00  https://instagram.com/p/6QKdSlqsAU/ 2015-08-11 18:07:07   \n",
       "2015-08-10 15:00:00  https://instagram.com/p/6NSRTfKsDn/ 2015-08-10 15:17:39   \n",
       "2015-08-05 15:00:00  https://instagram.com/p/6AcAnaR27w/ 2015-08-05 15:32:38   \n",
       "2015-08-03 11:00:00  https://instagram.com/p/5610tsqsJM/ 2015-08-03 11:22:45   \n",
       "2015-08-01 18:00:00  https://instagram.com/p/52blGtFxpz/ 2015-08-01 18:16:28   \n",
       "2015-08-01 05:00:00  https://instagram.com/p/51Gr7mNC2i/ 2015-08-01 05:54:40   \n",
       "2015-07-30 21:00:00  https://instagram.com/p/5xqxGyKsLO/ 2015-07-30 21:52:59   \n",
       "2015-07-28 03:00:00  https://instagram.com/p/5qhyu3NqBu/ 2015-07-28 03:19:52   \n",
       "2015-07-20 22:00:00  https://instagram.com/p/5X97cuH0MB/ 2015-07-20 22:20:10   \n",
       "2015-07-03 13:00:00  https://instagram.com/p/4rN2k5NEmf/ 2015-07-03 13:13:29   \n",
       "2015-06-30 16:00:00  https://instagram.com/p/4jzws2CmqV/ 2015-06-30 16:10:48   \n",
       "2015-01-19 21:00:00  https://instagram.com/p/yDQ9uuE_dV/ 2015-01-19 21:42:41   \n",
       "2015-01-19 21:00:00  https://instagram.com/p/yDPooSAIbF/ 2015-01-19 21:31:04   \n",
       "\n",
       "                                      users  \n",
       "dt                                           \n",
       "2015-09-25 15:00:00             stjosemaria  \n",
       "2015-09-25 15:00:00               lemoncece  \n",
       "2015-09-25 15:00:00                  tdgc58  \n",
       "2015-09-25 15:00:00               stevontae  \n",
       "2015-09-25 15:00:00      siobhanbonnouvrier  \n",
       "2015-09-25 15:00:00                terlaw10  \n",
       "2015-09-25 15:00:00    mi.viaje.experiencia  \n",
       "2015-09-25 15:00:00              manguititi  \n",
       "2015-09-25 15:00:00            its_chris212  \n",
       "2015-09-25 15:00:00                pppremee  \n",
       "2015-09-25 15:00:00                vfbeauty  \n",
       "2015-09-25 15:00:00            zuaohenrique  \n",
       "2015-09-25 15:00:00           davehillernbc  \n",
       "2015-09-25 15:00:00           jakehunterdhe  \n",
       "2015-09-25 15:00:00    unwomen_unitedstates  \n",
       "2015-09-25 15:00:00         washarchdiocese  \n",
       "2015-09-25 15:00:00               nanneruba  \n",
       "2015-09-25 15:00:00          theindustijori  \n",
       "2015-09-25 15:00:00              anjalitvak  \n",
       "2015-09-25 15:00:00                massibru  \n",
       "2015-09-25 15:00:00          danmannarinotv  \n",
       "2015-09-25 15:00:00     stpatrickscathedral  \n",
       "2015-09-25 15:00:00             americanair  \n",
       "2015-09-25 15:00:00           aishabickford  \n",
       "2015-09-25 15:00:00         washarchdiocese  \n",
       "2015-09-25 15:00:00          simrancolumbia  \n",
       "2015-09-25 15:00:00                 gmanews  \n",
       "2015-09-25 15:00:00                 agranek  \n",
       "2015-09-25 15:00:00            zuaohenrique  \n",
       "2015-09-25 15:00:00             spywholoved  \n",
       "...                                     ...  \n",
       "2015-09-01 22:00:00         rememberthepope  \n",
       "2015-09-01 01:00:00         rememberthepope  \n",
       "2015-08-31 22:00:00            andyhotcakes  \n",
       "2015-08-29 23:00:00              gtatar2329  \n",
       "2015-08-29 22:00:00            marion.berns  \n",
       "2015-08-29 15:00:00              gtatar2329  \n",
       "2015-08-29 11:00:00             izziemendez  \n",
       "2015-08-29 03:00:00                 readynj  \n",
       "2015-08-28 05:00:00               popuppope  \n",
       "2015-08-26 22:00:00          vanessabarokas  \n",
       "2015-08-26 13:00:00               popuppope  \n",
       "2015-08-25 23:00:00         rememberthepope  \n",
       "2015-08-25 17:00:00            roxanakhazai  \n",
       "2015-08-25 11:00:00              gtatar2329  \n",
       "2015-08-25 03:00:00            roxanakhazai  \n",
       "2015-08-23 03:00:00           kathybousquet  \n",
       "2015-08-21 00:00:00           johnnyboyy159  \n",
       "2015-08-11 18:00:00              gtatar2329  \n",
       "2015-08-10 15:00:00              gtatar2329  \n",
       "2015-08-05 15:00:00             dethelmateo  \n",
       "2015-08-03 11:00:00              gtatar2329  \n",
       "2015-08-01 18:00:00       mariselmoralesnyc  \n",
       "2015-08-01 05:00:00               sanagate1  \n",
       "2015-07-30 21:00:00              gtatar2329  \n",
       "2015-07-28 03:00:00        recognizemariony  \n",
       "2015-07-20 22:00:00  youngfaithfulcatholics  \n",
       "2015-07-03 13:00:00           catholicmennj  \n",
       "2015-06-30 16:00:00   catholic_news_service  \n",
       "2015-01-19 21:00:00           marklevinenyc  \n",
       "2015-01-19 21:00:00              nyccouncil  \n",
       "\n",
       "[3576 rows x 3 columns]"
      ]
     },
     "execution_count": 30,
     "metadata": {},
     "output_type": "execute_result"
    }
   ],
   "source": [
    "df.set_index('dt')"
   ]
  },
  {
   "cell_type": "code",
   "execution_count": 31,
   "metadata": {
    "collapsed": false
   },
   "outputs": [
    {
     "name": "stdout",
     "output_type": "stream",
     "text": [
      "Populating the interactive namespace from numpy and matplotlib\n"
     ]
    },
    {
     "data": {
      "text/plain": [
       "<matplotlib.text.Text at 0x7f589c29cc90>"
      ]
     },
     "execution_count": 31,
     "metadata": {},
     "output_type": "execute_result"
    },
    {
     "data": {
      "image/png": "[encoded data removed]",
      "text/plain": [
       "<matplotlib.figure.Figure at 0x7f589c160810>"
      ]
     },
     "metadata": {},
     "output_type": "display_data"
    }
   ],
   "source": [
    "%pylab inline\n",
    "\n",
    "df.groupby(df.dt).size().plot(figsize=(20,6))\n",
    "title('#%s - IG posts over time' % used_tag)"
   ]
  },
  {
   "cell_type": "code",
   "execution_count": 32,
   "metadata": {
    "collapsed": false
   },
   "outputs": [
    {
     "data": {
      "text/html": [
       "<div>\n",
       "<table border=\"1\" class=\"dataframe\">\n",
       "  <thead>\n",
       "    <tr style=\"text-align: right;\">\n",
       "      <th></th>\n",
       "      <th>posts</th>\n",
       "      <th>times</th>\n",
       "      <th>users</th>\n",
       "      <th>dt</th>\n",
       "    </tr>\n",
       "  </thead>\n",
       "  <tbody>\n",
       "    <tr>\n",
       "      <th>3566</th>\n",
       "      <td>https://instagram.com/p/5610tsqsJM/</td>\n",
       "      <td>2015-08-03 11:22:45</td>\n",
       "      <td>gtatar2329</td>\n",
       "      <td>2015-08-03 11:00:00</td>\n",
       "    </tr>\n",
       "    <tr>\n",
       "      <th>3567</th>\n",
       "      <td>https://instagram.com/p/52blGtFxpz/</td>\n",
       "      <td>2015-08-01 18:16:28</td>\n",
       "      <td>mariselmoralesnyc</td>\n",
       "      <td>2015-08-01 18:00:00</td>\n",
       "    </tr>\n",
       "    <tr>\n",
       "      <th>3568</th>\n",
       "      <td>https://instagram.com/p/51Gr7mNC2i/</td>\n",
       "      <td>2015-08-01 05:54:40</td>\n",
       "      <td>sanagate1</td>\n",
       "      <td>2015-08-01 05:00:00</td>\n",
       "    </tr>\n",
       "    <tr>\n",
       "      <th>3569</th>\n",
       "      <td>https://instagram.com/p/5xqxGyKsLO/</td>\n",
       "      <td>2015-07-30 21:52:59</td>\n",
       "      <td>gtatar2329</td>\n",
       "      <td>2015-07-30 21:00:00</td>\n",
       "    </tr>\n",
       "    <tr>\n",
       "      <th>3570</th>\n",
       "      <td>https://instagram.com/p/5qhyu3NqBu/</td>\n",
       "      <td>2015-07-28 03:19:52</td>\n",
       "      <td>recognizemariony</td>\n",
       "      <td>2015-07-28 03:00:00</td>\n",
       "    </tr>\n",
       "    <tr>\n",
       "      <th>3571</th>\n",
       "      <td>https://instagram.com/p/5X97cuH0MB/</td>\n",
       "      <td>2015-07-20 22:20:10</td>\n",
       "      <td>youngfaithfulcatholics</td>\n",
       "      <td>2015-07-20 22:00:00</td>\n",
       "    </tr>\n",
       "    <tr>\n",
       "      <th>3572</th>\n",
       "      <td>https://instagram.com/p/4rN2k5NEmf/</td>\n",
       "      <td>2015-07-03 13:13:29</td>\n",
       "      <td>catholicmennj</td>\n",
       "      <td>2015-07-03 13:00:00</td>\n",
       "    </tr>\n",
       "    <tr>\n",
       "      <th>3573</th>\n",
       "      <td>https://instagram.com/p/4jzws2CmqV/</td>\n",
       "      <td>2015-06-30 16:10:48</td>\n",
       "      <td>catholic_news_service</td>\n",
       "      <td>2015-06-30 16:00:00</td>\n",
       "    </tr>\n",
       "    <tr>\n",
       "      <th>3574</th>\n",
       "      <td>https://instagram.com/p/yDQ9uuE_dV/</td>\n",
       "      <td>2015-01-19 21:42:41</td>\n",
       "      <td>marklevinenyc</td>\n",
       "      <td>2015-01-19 21:00:00</td>\n",
       "    </tr>\n",
       "    <tr>\n",
       "      <th>3575</th>\n",
       "      <td>https://instagram.com/p/yDPooSAIbF/</td>\n",
       "      <td>2015-01-19 21:31:04</td>\n",
       "      <td>nyccouncil</td>\n",
       "      <td>2015-01-19 21:00:00</td>\n",
       "    </tr>\n",
       "  </tbody>\n",
       "</table>\n",
       "</div>"
      ],
      "text/plain": [
       "                                    posts               times  \\\n",
       "3566  https://instagram.com/p/5610tsqsJM/ 2015-08-03 11:22:45   \n",
       "3567  https://instagram.com/p/52blGtFxpz/ 2015-08-01 18:16:28   \n",
       "3568  https://instagram.com/p/51Gr7mNC2i/ 2015-08-01 05:54:40   \n",
       "3569  https://instagram.com/p/5xqxGyKsLO/ 2015-07-30 21:52:59   \n",
       "3570  https://instagram.com/p/5qhyu3NqBu/ 2015-07-28 03:19:52   \n",
       "3571  https://instagram.com/p/5X97cuH0MB/ 2015-07-20 22:20:10   \n",
       "3572  https://instagram.com/p/4rN2k5NEmf/ 2015-07-03 13:13:29   \n",
       "3573  https://instagram.com/p/4jzws2CmqV/ 2015-06-30 16:10:48   \n",
       "3574  https://instagram.com/p/yDQ9uuE_dV/ 2015-01-19 21:42:41   \n",
       "3575  https://instagram.com/p/yDPooSAIbF/ 2015-01-19 21:31:04   \n",
       "\n",
       "                       users                  dt  \n",
       "3566              gtatar2329 2015-08-03 11:00:00  \n",
       "3567       mariselmoralesnyc 2015-08-01 18:00:00  \n",
       "3568               sanagate1 2015-08-01 05:00:00  \n",
       "3569              gtatar2329 2015-07-30 21:00:00  \n",
       "3570        recognizemariony 2015-07-28 03:00:00  \n",
       "3571  youngfaithfulcatholics 2015-07-20 22:00:00  \n",
       "3572           catholicmennj 2015-07-03 13:00:00  \n",
       "3573   catholic_news_service 2015-06-30 16:00:00  \n",
       "3574           marklevinenyc 2015-01-19 21:00:00  \n",
       "3575              nyccouncil 2015-01-19 21:00:00  "
      ]
     },
     "execution_count": 32,
     "metadata": {},
     "output_type": "execute_result"
    }
   ],
   "source": [
    "df[-10:]"
   ]
  },
  {
   "cell_type": "code",
   "execution_count": 33,
   "metadata": {
    "collapsed": false
   },
   "outputs": [
    {
     "data": {
      "text/plain": [
       "<matplotlib.text.Text at 0x7f589c5581d0>"
      ]
     },
     "execution_count": 33,
     "metadata": {},
     "output_type": "execute_result"
    },
    {
     "data": {
      "image/png": "[encoded data removed]",
      "text/plain": [
       "<matplotlib.figure.Figure at 0x7f589ca47c90>"
      ]
     },
     "metadata": {},
     "output_type": "display_data"
    }
   ],
   "source": [
    "df.groupby(df.dt).size()['2015-09-20':].plot(figsize=(20,6))\n",
    "title('#%s - IG posts over time' % used_tag)"
   ]
  },
  {
   "cell_type": "markdown",
   "metadata": {
    "collapsed": true
   },
   "source": [
    "### Scatter Plot"
   ]
  },
  {
   "cell_type": "code",
   "execution_count": null,
   "metadata": {
    "collapsed": false
   },
   "outputs": [],
   "source": [
    "%pylab inline\n",
    "\n",
    "l = [m.like_count for m in all_media]\n",
    "c = [m.comment_count for m in all_media]\n",
    "\n",
    "# let's plot the relationship between these two variables\n",
    "\n",
    "scatter(l,c,s=50,alpha=.1)\n",
    "title('likes vs. comments')\n",
    "ylabel('comment count')\n",
    "xlabel('like count')\n"
   ]
  },
  {
   "cell_type": "code",
   "execution_count": null,
   "metadata": {
    "collapsed": false
   },
   "outputs": [],
   "source": [
    "l_log = [log(m.like_count) for m in all_media]\n",
    "c_log = [log(m.comment_count) for m in all_media]\n",
    "\n",
    "# let's plot the relationship between these two variables\n",
    "rcParams['figure.figsize'] = 12,6\n",
    "scatter(l_log,c_log,s=50,alpha=.1)\n",
    "title('likes vs. comments')\n",
    "ylabel('comment count')\n",
    "xlabel('like count')\n"
   ]
  },
  {
   "cell_type": "raw",
   "metadata": {},
   "source": [
    "In the future we'll want to be able to describe the relationship between the two variables -> is there a general patterns? Given one can we predict the other?\n",
    "\n",
    "We will come back to:\n",
    "- curve fitting\n",
    "- least squares regression"
   ]
  },
  {
   "cell_type": "markdown",
   "metadata": {},
   "source": [
    "### tags"
   ]
  },
  {
   "cell_type": "code",
   "execution_count": null,
   "metadata": {
    "collapsed": false
   },
   "outputs": [],
   "source": [
    "from collections import Counter\n",
    "\n",
    "#all_tags = [t.name for t in m.tags for m in all_media if hasattr(m, 'tags')]"
   ]
  },
  {
   "cell_type": "code",
   "execution_count": null,
   "metadata": {
    "collapsed": false
   },
   "outputs": [],
   "source": [
    "all_tags = []\n",
    "for m in all_media:\n",
    "    if hasattr(m, 'tags'):\n",
    "        all_tags += [t.name for t in m.tags]"
   ]
  },
  {
   "cell_type": "code",
   "execution_count": null,
   "metadata": {
    "collapsed": false,
    "scrolled": true
   },
   "outputs": [],
   "source": [
    "counted_tags = Counter(all_tags)\n",
    "counted_tags.most_common(40)"
   ]
  },
  {
   "cell_type": "markdown",
   "metadata": {},
   "source": [
    "### location"
   ]
  },
  {
   "cell_type": "code",
   "execution_count": null,
   "metadata": {
    "collapsed": false,
    "scrolled": true
   },
   "outputs": [],
   "source": [
    "# check if the object - m - has a location attribute\n",
    "location_names = set([m.location.name for m in all_media if hasattr(m, 'location')])\n",
    "len(location_names)\n",
    "location_names"
   ]
  },
  {
   "cell_type": "code",
   "execution_count": null,
   "metadata": {
    "collapsed": false
   },
   "outputs": [],
   "source": [
    "locations = {m.user.username:m.location for m in all_media if hasattr(m, 'location')}"
   ]
  },
  {
   "cell_type": "code",
   "execution_count": null,
   "metadata": {
    "collapsed": false
   },
   "outputs": [],
   "source": [
    "for u,loc in locations.items()[:10]:\n",
    "    print u,loc"
   ]
  },
  {
   "cell_type": "code",
   "execution_count": null,
   "metadata": {
    "collapsed": false
   },
   "outputs": [],
   "source": [
    "user_loc = locations['laverony']\n",
    "\n",
    "print user_loc.id\n",
    "print user_loc.name\n",
    "print user_loc.point.latitude\n",
    "print user_loc.point.longitude"
   ]
  },
  {
   "cell_type": "code",
   "execution_count": null,
   "metadata": {
    "collapsed": false
   },
   "outputs": [],
   "source": [
    "# pip install geopy\n",
    "# reverse geo-lookup -> for more geographic information\n",
    "import json\n",
    "from geopy.geocoders import Nominatim\n",
    "geolocator = Nominatim()\n",
    "\n",
    "location = geolocator.reverse((user_loc.point.latitude, user_loc.point.longitude))\n",
    "print location.address\n",
    "print json.dumps(location.raw, indent=1)\n"
   ]
  }
 ],
 "metadata": {
  "kernelspec": {
   "display_name": "Python 2",
   "language": "python",
   "name": "python2"
  },
  "language_info": {
   "codemirror_mode": {
    "name": "ipython",
    "version": 2
   },
   "file_extension": ".py",
   "mimetype": "text/x-python",
   "name": "python",
   "nbconvert_exporter": "python",
   "pygments_lexer": "ipython2",
   "version": "2.7.6"
  }
 },
 "nbformat": 4,
 "nbformat_minor": 0
}
