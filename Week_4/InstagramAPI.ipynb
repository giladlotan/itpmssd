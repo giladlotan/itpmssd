{
 "cells": [
  {
   "cell_type": "markdown",
   "metadata": {},
   "source": [
    "POST vs. GET methods\n",
    "\n",
    "- two HTTP request methods commonly used for a request-response between a client and a server\n",
    "- GET: query string sent in the URL\n",
    "- POST: query string sent in the HTTP message body\n",
    "\n",
    "Other differences\n",
    "\n",
    "- POST requests are never cached\n",
    "- POST requests do not remain in the browser history\n",
    "- POST requests cannot be bookmarked\n",
    "- POST requests have no restrictions on data length"
   ]
  },
  {
   "cell_type": "markdown",
   "metadata": {},
   "source": [
    "### Instagram API"
   ]
  },
  {
   "cell_type": "raw",
   "metadata": {},
   "source": [
    "Go here to register your application - http://instagram.com/developer/\n",
    "We need to generate an Oauth token and use the client_id, client_secret when making calls to the IG api.\n",
    "\n",
    "We'll be using a python wrapper (makes things much simpler) which you should intall by running the following\n",
    "command in your remote machine:\n",
    "\n",
    "pip install python-instagram\n",
    "\n",
    "Full documentation of the python library here: https://github.com/Instagram/python-instagram"
   ]
  },
  {
   "cell_type": "code",
   "execution_count": 36,
   "metadata": {
    "collapsed": false
   },
   "outputs": [],
   "source": [
    "#client_id = ''\n",
    "#client_secret = ''\n",
    "\n",
    "\n",
    "\n",
    "from instagram.client import InstagramAPI\n",
    "\n",
    "api = InstagramAPI(client_id=client_id, client_secret=client_secret)"
   ]
  },
  {
   "cell_type": "markdown",
   "metadata": {},
   "source": [
    "### Instagram Tag Count"
   ]
  },
  {
   "cell_type": "code",
   "execution_count": 2,
   "metadata": {
    "collapsed": false
   },
   "outputs": [
    {
     "name": "stdout",
     "output_type": "stream",
     "text": [
      "100\n"
     ]
    }
   ],
   "source": [
    "# get ig tag info -> how many IG posts have the given hashtag\n",
    "used_tag = 'itpnyu'\n",
    "num_media_tag = api.tag(used_tag).media_count\n",
    "print num_media_tag"
   ]
  },
  {
   "cell_type": "code",
   "execution_count": 8,
   "metadata": {
    "collapsed": false
   },
   "outputs": [
    {
     "name": "stdout",
     "output_type": "stream",
     "text": [
      "24628\n"
     ]
    }
   ],
   "source": [
    "# get ig tag info\n",
    "used_tag = 'GOPdebate'\n",
    "num_media_tag = api.tag(used_tag).media_count\n",
    "print num_media_tag"
   ]
  },
  {
   "cell_type": "code",
   "execution_count": 2,
   "metadata": {
    "collapsed": false
   },
   "outputs": [
    {
     "name": "stdout",
     "output_type": "stream",
     "text": [
      "34981\n"
     ]
    }
   ],
   "source": [
    "# get ig tag info\n",
    "used_tag = 'IStandWithAhmed'\n",
    "num_media_tag = api.tag(used_tag).media_count\n",
    "print num_media_tag"
   ]
  },
  {
   "cell_type": "code",
   "execution_count": 8,
   "metadata": {
    "collapsed": false
   },
   "outputs": [
    {
     "name": "stdout",
     "output_type": "stream",
     "text": [
      "4831\n"
     ]
    }
   ],
   "source": [
    "# get ig tag info\n",
    "used_tag = 'PrayForMina'\n",
    "num_media_tag = api.tag(used_tag).media_count\n",
    "print num_media_tag"
   ]
  },
  {
   "cell_type": "code",
   "execution_count": 38,
   "metadata": {
    "collapsed": false
   },
   "outputs": [
    {
     "name": "stdout",
     "output_type": "stream",
     "text": [
      "3222\n"
     ]
    }
   ],
   "source": [
    "# get ig tag info\n",
    "used_tag = 'PopeInNYC'\n",
    "num_media_tag = api.tag(used_tag).media_count\n",
    "print num_media_tag"
   ]
  },
  {
   "cell_type": "markdown",
   "metadata": {},
   "source": [
    "### Instagram Media"
   ]
  },
  {
   "cell_type": "code",
   "execution_count": 31,
   "metadata": {
    "collapsed": false,
    "scrolled": true
   },
   "outputs": [],
   "source": [
    "# get ig media based on tag\n",
    "\n",
    "max_tag_id = 0\n",
    "media_per_query = 33\n",
    "media, _next = api.tag_recent_media(media_per_query, max_tag_id, used_tag)"
   ]
  },
  {
   "cell_type": "code",
   "execution_count": 32,
   "metadata": {
    "collapsed": false
   },
   "outputs": [
    {
     "name": "stdout",
     "output_type": "stream",
     "text": [
      "[Media: 1081505471151203858_1791426784, Media: 1081504748447458816_1791426784, Media: 1081503641495135710_1791426784, Media: 1081503160796152370_1911958551, Media: 1081500929678089597_1905558558, Media: 1081497421394444714_1911958551, Media: 1081495726247896387_1791426784, Media: 1081495398674570507_1905558558, Media: 1081492075888214328_1911958551, Media: 1081490664756583569_1905558558, Media: 1081488988694111381_1791426784, Media: 1081488524443378819_1791426784, Media: 1081487945696535666_1791426784, Media: 1081487013422006460_1911958551, Media: 1081486366775960652_1791426784, Media: 1081484957191105120_228019985, Media: 1081484866944998410_1905558558, Media: 1081481457865031725_1911958551, Media: 1081481294990010345_1791426784, Media: 1081479249656258427_1905558558, Media: 1081475785823847328_1911958551, Media: 1081474458955783942_1905558558, Media: 1081470116920001295_1911958551, Media: 1081469296908410511_1905558558, Media: 1081464376863982208_1911958551, Media: 1081464107505786371_1905558558, Media: 1081460670515946552_2150082600, Media: 1081459761829347804_1911958551, Media: 1081458051979386248_1905558558, Media: 1081453751802757424_1911958551, Media: 1081452311084506391_1905558558, Media: 1081450235724506240_507226992, Media: 1081448516917100699_1911958551]\n"
     ]
    }
   ],
   "source": [
    "print media"
   ]
  },
  {
   "cell_type": "code",
   "execution_count": 19,
   "metadata": {
    "collapsed": false
   },
   "outputs": [
    {
     "name": "stdout",
     "output_type": "stream",
     "text": [
      "33\n"
     ]
    }
   ],
   "source": [
    "print len(media)"
   ]
  },
  {
   "cell_type": "code",
   "execution_count": 22,
   "metadata": {
    "collapsed": false
   },
   "outputs": [
    {
     "data": {
      "text/plain": [
       "Media: 1081503641495135710_1791426784"
      ]
     },
     "execution_count": 22,
     "metadata": {},
     "output_type": "execute_result"
    }
   ],
   "source": [
    "m = media[0]\n",
    "m"
   ]
  },
  {
   "cell_type": "code",
   "execution_count": 23,
   "metadata": {
    "collapsed": false
   },
   "outputs": [
    {
     "data": {
      "text/plain": [
       "instagram.models.Media"
      ]
     },
     "execution_count": 23,
     "metadata": {},
     "output_type": "execute_result"
    }
   ],
   "source": [
    "# object of type: IG media\n",
    "\n",
    "type(m)"
   ]
  },
  {
   "cell_type": "code",
   "execution_count": 24,
   "metadata": {
    "collapsed": false,
    "scrolled": true
   },
   "outputs": [
    {
     "data": {
      "text/plain": [
       "['__class__',\n",
       " '__delattr__',\n",
       " '__dict__',\n",
       " '__doc__',\n",
       " '__format__',\n",
       " '__getattribute__',\n",
       " '__hash__',\n",
       " '__init__',\n",
       " '__module__',\n",
       " '__new__',\n",
       " '__reduce__',\n",
       " '__reduce_ex__',\n",
       " '__repr__',\n",
       " '__setattr__',\n",
       " '__sizeof__',\n",
       " '__str__',\n",
       " '__subclasshook__',\n",
       " '__unicode__',\n",
       " '__weakref__',\n",
       " 'caption',\n",
       " 'comment_count',\n",
       " 'comments',\n",
       " 'created_time',\n",
       " 'filter',\n",
       " 'get_low_resolution_url',\n",
       " 'get_standard_resolution_url',\n",
       " 'get_thumbnail_url',\n",
       " 'id',\n",
       " 'images',\n",
       " 'like_count',\n",
       " 'likes',\n",
       " 'link',\n",
       " 'object_from_dictionary',\n",
       " 'tags',\n",
       " 'type',\n",
       " 'user',\n",
       " 'users_in_photo',\n",
       " 'videos']"
      ]
     },
     "execution_count": 24,
     "metadata": {},
     "output_type": "execute_result"
    }
   ],
   "source": [
    "# returns a list of valid attributes for the given object -> IG media object / class\n",
    "\n",
    "dir(m)"
   ]
  },
  {
   "cell_type": "code",
   "execution_count": 30,
   "metadata": {
    "collapsed": false
   },
   "outputs": [
    {
     "name": "stdout",
     "output_type": "stream",
     "text": [
      "https://instagram.com/p/8CRdT2m-Xe/\n",
      "[Tag: artistlive, Tag: artistlivetv, Tag: screamqueens, Tag: mixtape, Tag: millionmanmarch, Tag: therealdaytime, Tag: justiceformikebrown, Tag: allincle, Tag: allin, Tag: cleveland, Tag: justicefortrayvon, Tag: freshprince, Tag: droz, Tag: undergroundrailroad, Tag: millionmaskmarch, Tag: mix, Tag: iamwithahmed, Tag: underground, Tag: ohio, Tag: fallfashion, Tag: istandwithahmed, Tag: seeyouatthepole]\n",
      "[User: screamqueenfan]\n"
     ]
    }
   ],
   "source": [
    "print m.link\n",
    "print m.tags\n",
    "print m.likes"
   ]
  },
  {
   "cell_type": "code",
   "execution_count": 16,
   "metadata": {
    "collapsed": false
   },
   "outputs": [
    {
     "name": "stdout",
     "output_type": "stream",
     "text": [
      "2015-09-24 16:34:46\n",
      "1081228361295786586_1560676851\n",
      "User: thenightlyshow\n",
      "https://instagram.com/p/8BS3dMHPJa/\n",
      "\n",
      "2015-09-24 16:22:39\n",
      "1081222263925117450_515090003\n",
      "User: duder2020\n",
      "https://instagram.com/p/8BReukgBIK/\n",
      "\n",
      "2015-09-24 16:21:51\n",
      "1081221856836183297_1791426784\n",
      "User: stclairborn105\n",
      "https://instagram.com/p/8BRYzcG-UB/\n",
      "\n",
      "2015-09-24 16:14:51\n",
      "1081218338662376601_1791426784\n",
      "User: stclairborn105\n",
      "https://instagram.com/p/8BQlm4m-SZ/\n",
      "\n",
      "2015-09-24 16:12:34\n",
      "1081217186923275381_1791426784\n",
      "User: stclairborn105\n",
      "https://instagram.com/p/8BQU2Pm-R1/\n",
      "\n",
      "2015-09-24 16:11:47\n",
      "1081216789320033384_1791426784\n",
      "User: stclairborn105\n",
      "https://instagram.com/p/8BQPD8m-Ro/\n",
      "\n",
      "2015-09-24 16:10:36\n",
      "1081216195515638868_1791426784\n",
      "User: stclairborn105\n",
      "https://instagram.com/p/8BQGa7G-RU/\n",
      "\n",
      "2015-09-24 16:06:30\n",
      "1081214137202893861_1791426784\n",
      "User: stclairborn105\n",
      "https://instagram.com/p/8BPod-G-Ql/\n",
      "\n",
      "2015-09-24 16:03:40\n",
      "1081212707920893379_1940929308\n",
      "User: wifikeep2015\n",
      "https://instagram.com/p/8BPTq2Q1XD/\n",
      "\n",
      "2015-09-24 16:01:51\n",
      "1081211796104361875_1922529300\n",
      "User: wifikeep_2015\n",
      "https://instagram.com/p/8BPGZpwzeT/\n",
      "\n",
      "2015-09-24 16:01:11\n",
      "1081211455576692912_1634498797\n",
      "User: deadcharacterssociety\n",
      "https://instagram.com/p/8BPBcgu1iw/\n",
      "\n",
      "2015-09-24 15:53:28\n",
      "1081207577104307491_1940929308\n",
      "User: wifikeep2015\n",
      "https://instagram.com/p/8BOJAZw1Uj/\n",
      "\n",
      "2015-09-24 15:43:58\n",
      "1081202795580970132_1940929308\n",
      "User: wifikeep2015\n",
      "https://instagram.com/p/8BNDbQw1SU/\n",
      "\n",
      "2015-09-24 15:32:27\n",
      "1081196994271336431_1940929308\n",
      "User: wifikeep2015\n",
      "https://instagram.com/p/8BLvAXw1fv/\n",
      "\n",
      "2015-09-24 15:22:44\n",
      "1081192104199411521_1940929308\n",
      "User: wifikeep2015\n",
      "https://instagram.com/p/8BKn2Iw1dB/\n",
      "\n",
      "2015-09-24 15:20:09\n",
      "1081190801321247160_218477831\n",
      "User: t_fatima_\n",
      "https://instagram.com/p/8BKU4vLEG4/\n",
      "\n",
      "2015-09-24 15:15:42\n",
      "1081188568347953236_1977901521\n",
      "User: bellagaia1\n",
      "https://instagram.com/p/8BJ0ZHl8hU/\n",
      "\n",
      "2015-09-24 15:10:54\n",
      "1081186148229011080_1940929308\n",
      "User: wifikeep2015\n",
      "https://instagram.com/p/8BJRLNQ1aI/\n",
      "\n",
      "2015-09-24 15:00:29\n",
      "1081180909778195962_1940929308\n",
      "User: wifikeep2015\n",
      "https://instagram.com/p/8BIE8hQ1X6/\n",
      "\n",
      "2015-09-24 14:51:18\n",
      "1081176285096662422_1940929308\n",
      "User: wifikeep2015\n",
      "https://instagram.com/p/8BHBpcw1WW/\n",
      "\n",
      "2015-09-24 14:36:11\n",
      "1081168675879711654_2204836467\n",
      "User: _christian_american_\n",
      "https://instagram.com/p/8BFS60FvOm/\n",
      "\n",
      "2015-09-24 14:28:48\n",
      "1081164961957230728_970210973\n",
      "User: jax11ister\n",
      "https://instagram.com/p/8BEc39DziI/\n",
      "\n",
      "2015-09-24 14:20:27\n",
      "1081160753555396579_1940929308\n",
      "User: wifikeep2015\n",
      "https://instagram.com/p/8BDfokw1fj/\n",
      "\n",
      "2015-09-24 14:11:08\n",
      "1081156070573037385_1940929308\n",
      "User: wifikeep2015\n",
      "https://instagram.com/p/8BCbfNQ1dJ/\n",
      "\n",
      "2015-09-24 14:02:52\n",
      "1081151906199581774_1922529300\n",
      "User: wifikeep_2015\n",
      "https://instagram.com/p/8BBe41QzRO/\n",
      "\n",
      "2015-09-24 14:01:20\n",
      "1081151136433555501_208907161\n",
      "User: dr_oz\n",
      "https://instagram.com/p/8BBTr7ocgt/\n",
      "\n",
      "2015-09-24 13:59:08\n",
      "1081150026287371922_1940929308\n",
      "User: wifikeep2015\n",
      "https://instagram.com/p/8BBDiBw1aS/\n",
      "\n",
      "2015-09-24 13:48:12\n",
      "1081144527764542969_1940929308\n",
      "User: wifikeep2015\n",
      "https://instagram.com/p/8A_zhIQ1X5/\n",
      "\n",
      "2015-09-24 13:37:08\n",
      "1081138952209126759_1940929308\n",
      "User: wifikeep2015\n",
      "https://instagram.com/p/8A-iYfQ1Vn/\n",
      "\n",
      "2015-09-24 13:27:20\n",
      "1081134021787997422_1940929308\n",
      "User: wifikeep2015\n",
      "https://instagram.com/p/8A9aorQ1Tu/\n",
      "\n",
      "2015-09-24 13:21:49\n",
      "1081131247348477717_1506149602\n",
      "User: brownwomanist\n",
      "https://instagram.com/p/8A8yQxx-8V/\n",
      "\n",
      "2015-09-24 13:17:02\n",
      "1081128838534222955_1940929308\n",
      "User: wifikeep2015\n",
      "https://instagram.com/p/8A8PNZQ1Rr/\n",
      "\n",
      "2015-09-24 13:04:54\n",
      "1081122729513670607_1940929308\n",
      "User: wifikeep2015\n",
      "https://instagram.com/p/8A62T7Q1fP/\n",
      "\n"
     ]
    }
   ],
   "source": [
    "# let's save all media items into an array called 'all_media'\n",
    "\n",
    "all_media = []\n",
    "\n",
    "for m in ans_media:\n",
    "    print m.created_time\n",
    "    print m.id\n",
    "    print m.user\n",
    "    print m.link\n",
    "    print ''\n",
    "    all_media.append(m)"
   ]
  },
  {
   "cell_type": "code",
   "execution_count": 33,
   "metadata": {
    "collapsed": false
   },
   "outputs": [
    {
     "name": "stdout",
     "output_type": "stream",
     "text": [
      "https://api.instagram.com/v1/tags/istandwithahmed/media/recent?count=33&sig=0b88cb93af49040eaa106b78d543011200efc00ca9531389322d5c87bc494c94&client_id=0db0c30814c14ac48a58c8e27a7b4a5a&max_tag_id=1081447312413662365\n"
     ]
    }
   ],
   "source": [
    "# this item helps us paginate through the IG media results\n",
    "\n",
    "print _next"
   ]
  },
  {
   "cell_type": "code",
   "execution_count": 36,
   "metadata": {
    "collapsed": false
   },
   "outputs": [
    {
     "name": "stdout",
     "output_type": "stream",
     "text": [
      "ParseResult(scheme='https', netloc='api.instagram.com', path='/v1/tags/istandwithahmed/media/recent', params='', query='count=33&sig=0b88cb93af49040eaa106b78d543011200efc00ca9531389322d5c87bc494c94&client_id=0db0c30814c14ac48a58c8e27a7b4a5a&max_tag_id=1075580407772443293', fragment='')\n",
      "\n",
      "count=33&sig=0b88cb93af49040eaa106b78d543011200efc00ca9531389322d5c87bc494c94&client_id=0db0c30814c14ac48a58c8e27a7b4a5a&max_tag_id=1075580407772443293\n"
     ]
    }
   ],
   "source": [
    "# one way to parse data from the '_next_' object\n",
    "\n",
    "from urlparse import urlparse\n",
    "\n",
    "parsed = urlparse(next_)\n",
    "print parsed\n",
    "print ''\n",
    "print parsed.query"
   ]
  },
  {
   "cell_type": "code",
   "execution_count": 39,
   "metadata": {
    "collapsed": false
   },
   "outputs": [
    {
     "data": {
      "text/plain": [
       "['count=33',\n",
       " 'sig=0b88cb93af49040eaa106b78d543011200efc00ca9531389322d5c87bc494c94',\n",
       " 'client_id=0db0c30814c14ac48a58c8e27a7b4a5a',\n",
       " 'max_tag_id=1075580407772443293']"
      ]
     },
     "execution_count": 39,
     "metadata": {},
     "output_type": "execute_result"
    }
   ],
   "source": [
    "# splitting the query portion of the parsed URL by '&' character\n",
    "\n",
    "parsed.query.split('&')"
   ]
  },
  {
   "cell_type": "code",
   "execution_count": 38,
   "metadata": {
    "collapsed": false
   },
   "outputs": [
    {
     "data": {
      "text/plain": [
       "[['count', '33'],\n",
       " ['sig', '0b88cb93af49040eaa106b78d543011200efc00ca9531389322d5c87bc494c94'],\n",
       " ['client_id', '0db0c30814c14ac48a58c8e27a7b4a5a'],\n",
       " ['max_tag_id', '1075580407772443293']]"
      ]
     },
     "execution_count": 38,
     "metadata": {},
     "output_type": "execute_result"
    }
   ],
   "source": [
    "# now splitting by the '=' character\n",
    "\n",
    "[x.split('=') for x in parsed.query.split('&')]"
   ]
  },
  {
   "cell_type": "code",
   "execution_count": 37,
   "metadata": {
    "collapsed": false
   },
   "outputs": [
    {
     "name": "stdout",
     "output_type": "stream",
     "text": [
      "{'count': '33', 'sig': '0b88cb93af49040eaa106b78d543011200efc00ca9531389322d5c87bc494c94', 'client_id': '0db0c30814c14ac48a58c8e27a7b4a5a', 'max_tag_id': '1075580407772443293'}\n"
     ]
    }
   ],
   "source": [
    "# creating a dictionary \n",
    "\n",
    "print {a:b for a,b in [x.split('=') for x in parsed.query.split('&')]}"
   ]
  },
  {
   "cell_type": "code",
   "execution_count": 40,
   "metadata": {
    "collapsed": false
   },
   "outputs": [],
   "source": [
    "# lets make a function out of this -> parse out the max_tag_id parameter\n",
    "\n",
    "def extract_max_tag_id(txt):\n",
    "    parsed = urlparse(txt)\n",
    "    params = {a:b for a,b in [x.split('=') for x in parsed.query.split('&')]}\n",
    "    return params['max_tag_id']\n"
   ]
  },
  {
   "cell_type": "code",
   "execution_count": 39,
   "metadata": {
    "collapsed": false,
    "scrolled": true
   },
   "outputs": [
    {
     "name": "stdout",
     "output_type": "stream",
     "text": [
      "66\n",
      "99\n",
      "132\n",
      "165\n",
      "198\n",
      "231\n",
      "264\n",
      "297\n",
      "330\n",
      "363\n",
      "396\n",
      "429\n",
      "462\n",
      "495\n",
      "528\n",
      "561\n",
      "594\n",
      "627\n",
      "660\n",
      "693\n",
      "726\n",
      "759\n",
      "792\n",
      "825\n",
      "858\n",
      "891\n",
      "924\n",
      "957\n",
      "990\n",
      "1023\n",
      "1056\n",
      "1089\n",
      "1122\n",
      "1155\n",
      "1188\n",
      "1221\n",
      "1254\n",
      "1287\n",
      "1320\n",
      "1353\n",
      "1386\n",
      "1419\n",
      "1452\n",
      "1485\n",
      "1518\n",
      "1551\n",
      "1584\n",
      "1617\n",
      "1650\n",
      "1683\n",
      "1716\n",
      "1749\n",
      "1782\n",
      "1815\n",
      "1848\n",
      "1881\n",
      "1914\n",
      "1947\n",
      "1980\n",
      "2013\n",
      "2046\n",
      "2079\n",
      "2112\n",
      "2145\n",
      "2178\n",
      "2211\n",
      "2244\n",
      "2277\n",
      "2310\n",
      "2343\n",
      "2376\n",
      "2409\n",
      "2442\n",
      "2469\n"
     ]
    }
   ],
   "source": [
    "max_tag_id = 0\n",
    "media_per_query = 33\n",
    "MAX_ITEMS = 10000\n",
    "\n",
    "all_media, next_ = api.tag_recent_media(media_per_query, max_tag_id, used_tag)\n",
    "\n",
    "while next_:\n",
    "    more_media, next_ = api.tag_recent_media(count=media_per_query, tag_name=used_tag, with_next_url=next_)\n",
    "    all_media.extend(more_media)\n",
    "        \n",
    "    print len(all_media)\n",
    "    if len(all_media)>MAX_ITEMS:\n",
    "        break"
   ]
  },
  {
   "cell_type": "code",
   "execution_count": 40,
   "metadata": {
    "collapsed": false
   },
   "outputs": [
    {
     "data": {
      "text/plain": [
       "2469"
      ]
     },
     "execution_count": 40,
     "metadata": {},
     "output_type": "execute_result"
    }
   ],
   "source": [
    "len(all_media)"
   ]
  },
  {
   "cell_type": "code",
   "execution_count": 41,
   "metadata": {
    "collapsed": false
   },
   "outputs": [],
   "source": [
    "# save our data in pickled format (this is in case our notebook crashes __gasp__ - so that we don't ahve to grab it again)\n",
    "\n",
    "import pickle\n",
    "path = '/class/itpmssd/datasets/'\n",
    "\n",
    "pickle.dump(all_media, open(path+'%s_ig.p' % used_tag,'wb'))"
   ]
  },
  {
   "cell_type": "code",
   "execution_count": 8,
   "metadata": {
    "collapsed": false
   },
   "outputs": [],
   "source": [
    "import pickle\n",
    "path = '/class/itpmssd/datasets/'\n",
    "\n",
    "all_media = pickle.load(open(path+'%s_ig.p' % used_tag,'rb'))"
   ]
  },
  {
   "cell_type": "markdown",
   "metadata": {},
   "source": [
    "### Let's look at our data"
   ]
  },
  {
   "cell_type": "code",
   "execution_count": 42,
   "metadata": {
    "collapsed": false
   },
   "outputs": [
    {
     "data": {
      "text/plain": [
       "1817"
      ]
     },
     "execution_count": 42,
     "metadata": {},
     "output_type": "execute_result"
    }
   ],
   "source": [
    "# Number of unique users\n",
    "\n",
    "users = set([m.user.username for m in all_media])\n",
    "len(users)"
   ]
  },
  {
   "cell_type": "code",
   "execution_count": 63,
   "metadata": {
    "collapsed": false,
    "scrolled": true
   },
   "outputs": [
    {
     "name": "stdout",
     "output_type": "stream",
     "text": [
      "10246\n",
      "Comment: todayshow said \"Pope Francis's visit is bringing so much joy to so many people! #PopeinUS #PopeInDC #PopeinNYC #pope #pontifex (photos via @gettyimages)\"\n",
      "https://instagram.com/p/8CHENvwLTF/ \n",
      "\n",
      "8030\n",
      "Comment: nytimes said \"#PopeFrancis smiled and waved as the #popemobile headed for @stpatrickscathedral this evening during a short procession down #FifthAvenue. As the #pope (@newsva) arrived, only those closest to the sidewalk got a clear view. But that didn’t stop people from trying to capture the moment on cellphones raised high above the crowd. The pope is leading an evening prayer service before calling it a night in the city that never sleeps. Photo by @nytchangster, one of a number of @nytimes photographers covering the #popeinnyc. Follow @bengiville and @samuelhodgson to see more photos from the papal visit in New York today.\"\n",
      "https://instagram.com/p/8CCZkSr2zq/ \n",
      "\n",
      "7248\n",
      "Comment: fitness_meals said \"Fo real..😂😂DOUBLE TAP IF THIS IS YOU✔✔ TAG a friend! -\n",
      "-\n",
      "VISIT US ON TOPPHYSIQUES.COM\n",
      ".\n",
      "Also follow:\n",
      "@FoodBenefits\n",
      "@FoodBenefits\n",
      ".\n",
      "#FITNESS_MEALS\n",
      "#nationaldaughterday #confidence #popeinnyc lol #tiuretreat #tbt\"\n",
      "https://instagram.com/p/8BxvlYpUD_/ \n",
      "\n",
      "6784\n",
      "Comment: biggangvh1 said \"I was just able to share a special moment in the middle of the crowd here in midtown NYC. The pope arrived in his pope mobile at the cathedral, and waved in my direction. For once I felt like everyone else, no picture taking, no getting mobbed, just being one with other New Yorkers for history. It's truly a blessing to be in his presence, and everyone knows, the blessings are definitely needed! It's a great day to be a New Yorker. #popeinnyc\"\n",
      "https://instagram.com/p/8CAcmJPSqc/ \n",
      "\n",
      "5372\n",
      "Comment: ps.ny said \"©\n",
      "You better watch out, Pope Francis is coming to town!\"\n",
      "https://instagram.com/p/8A4qLHCgnY/ \n",
      "\n",
      "4575\n",
      "Comment: peoplemag said \"Pope just met the Pope! #PopeInNYC #TGIT #OliviaPope #Scandal | 📷: @mariayagz\"\n",
      "https://instagram.com/p/8B91hNRF5x/ \n",
      "\n",
      "4237\n",
      "Comment: cancaonova said \"#PapaFrancisco está por toda parte, difícil não ser contagiado com sua simplicidade #popeinus #popeinnyc #juntocompapa #maispertodopapa\"\n",
      "https://instagram.com/p/8B_0kVxwwN/ \n",
      "\n",
      "4088\n",
      "Comment: nytimes said \"Pope John Paul II visiting Queens in October 1979. As long as there have been popes, popes have needed transportation. Footmen used to shoulder his holiness on portable thrones, known as sedia gestatoria, to greet the public. But papal movers evolved with the times. The unofficial term #popemobile came into vogue in the 1970s with the creation of a series of white all-terrain vehicles with bubble tops. A Lincoln Continental was first customized with a clear folding top and a thronelike seat in the back for #Pope Paul VI's trip to New York City in 1965. It and later models were then modified by the coach-building company Lehmann-Peterson, which outfitted limousines with security features for presidents, dignitaries and rock stars. Photo by @nytimes staff photographer Paul Hosefros. #popeinnyc #tbt\"\n",
      "https://instagram.com/p/8Bm8-cr207/ \n",
      "\n",
      "3647\n",
      "Comment: unitednations said \"A giant #UNGA hashtag has arrived at #UnitedNations Headquarters in #NYC in time for the start of the high-level segment of the 70th #UN General Assembly on Friday. \n",
      "From security to interpretation to protocol to social media, preparations are in full swing for what promises to be one of the largest and most important gatherings in the UN's 70-year history. His Holiness Pope Francis will join world leaders and luminaries to agree on action for sustainable future and address a wide range of global issues.\n",
      "\n",
      "Photos: @lindseythoeng / UN Social Media \n",
      "#globalgoals #action2015 #PopeInUSA #PopeInNYC\"\n",
      "https://instagram.com/p/7-maYqTDEq/ \n",
      "\n",
      "3303\n",
      "Comment: sternshow said \"Everyone's excited for the Pope's visit to America. #PopeFrancis #PopeInUsa #PopeInNYC @beetlepimp\"\n",
      "https://instagram.com/p/7-N2YgDCJH/ \n",
      "\n"
     ]
    }
   ],
   "source": [
    "# Show ten most liked IG posts\n",
    "\n",
    "for m in sorted(all_media, key=lambda x: -x.like_count)[:10]:\n",
    "    print m.like_count\n",
    "    print m.caption\n",
    "    print m.link, '\\n'"
   ]
  },
  {
   "cell_type": "code",
   "execution_count": 61,
   "metadata": {
    "collapsed": false,
    "scrolled": true
   },
   "outputs": [
    {
     "name": "stdout",
     "output_type": "stream",
     "text": [
      "7248 Comment: fitness_meals said \"Fo real..😂😂DOUBLE TAP IF THIS IS YOU✔✔ TAG a friend! -\n",
      "-\n",
      "VISIT US ON TOPPHYSIQUES.COM\n",
      ".\n",
      "Also follow:\n",
      "@FoodBenefits\n",
      "@FoodBenefits\n",
      ".\n",
      "#FITNESS_MEALS\n",
      "#nationaldaughterday #confidence #popeinnyc lol #tiuretreat #tbt\" https://instagram.com/p/8BxvlYpUD_/ \n",
      "\n",
      "5372 Comment: ps.ny said \"©\n",
      "You better watch out, Pope Francis is coming to town!\" https://instagram.com/p/8A4qLHCgnY/ \n",
      "\n",
      "3303 Comment: sternshow said \"Everyone's excited for the Pope's visit to America. #PopeFrancis #PopeInUsa #PopeInNYC @beetlepimp\" https://instagram.com/p/7-N2YgDCJH/ \n",
      "\n",
      "2827 Comment: sternshow said \"#TBT to the time the Pope got Baba Booeyed! #BabaBooey #PopeInNYC #PopeInUSA\" https://instagram.com/p/8BT6t1jCK4/ \n",
      "\n",
      "8030 Comment: nytimes said \"#PopeFrancis smiled and waved as the #popemobile headed for @stpatrickscathedral this evening during a short procession down #FifthAvenue. As the #pope (@newsva) arrived, only those closest to the sidewalk got a clear view. But that didn’t stop people from trying to capture the moment on cellphones raised high above the crowd. The pope is leading an evening prayer service before calling it a night in the city that never sleeps. Photo by @nytchangster, one of a number of @nytimes photographers covering the #popeinnyc. Follow @bengiville and @samuelhodgson to see more photos from the papal visit in New York today.\" https://instagram.com/p/8CCZkSr2zq/ \n",
      "\n",
      "4575 Comment: peoplemag said \"Pope just met the Pope! #PopeInNYC #TGIT #OliviaPope #Scandal | 📷: @mariayagz\" https://instagram.com/p/8B91hNRF5x/ \n",
      "\n",
      "10246 Comment: todayshow said \"Pope Francis's visit is bringing so much joy to so many people! #PopeinUS #PopeInDC #PopeinNYC #pope #pontifex (photos via @gettyimages)\" https://instagram.com/p/8CHENvwLTF/ \n",
      "\n",
      "6784 Comment: biggangvh1 said \"I was just able to share a special moment in the middle of the crowd here in midtown NYC. The pope arrived in his pope mobile at the cathedral, and waved in my direction. For once I felt like everyone else, no picture taking, no getting mobbed, just being one with other New Yorkers for history. It's truly a blessing to be in his presence, and everyone knows, the blessings are definitely needed! It's a great day to be a New Yorker. #popeinnyc\" https://instagram.com/p/8CAcmJPSqc/ \n",
      "\n",
      "148 Comment: warrioroftherebelion said \"Evil.....Absolutely  disturbing.  #popefrancis #nwo  #vatican #popeindc  #popeinus #popeinnyc\" https://instagram.com/p/78qguXjDcx/ \n",
      "\n",
      "983 Comment: ruffpost said \"Ruff Pope! 🐶💛 @ellen_cole14  #popeinnyc\" https://instagram.com/p/8BrStLNWQR/ \n",
      "\n"
     ]
    }
   ],
   "source": [
    "# comments - 10 most commented on post\n",
    "\n",
    "for m in sorted(all_media, key=lambda x: -x.comment_count)[:10]:\n",
    "    print m.like_count, m.caption, m.link, '\\n'"
   ]
  },
  {
   "cell_type": "code",
   "execution_count": 62,
   "metadata": {
    "collapsed": false,
    "scrolled": true
   },
   "outputs": [
    {
     "name": "stdout",
     "output_type": "stream",
     "text": [
      "10246 143 https://instagram.com/p/8CHENvwLTF/\n",
      "8030 194 https://instagram.com/p/8CCZkSr2zq/\n",
      "7248 848 https://instagram.com/p/8BxvlYpUD_/\n",
      "6784 89 https://instagram.com/p/8CAcmJPSqc/\n",
      "5372 340 https://instagram.com/p/8A4qLHCgnY/\n",
      "4575 193 https://instagram.com/p/8B91hNRF5x/\n",
      "4237 44 https://instagram.com/p/8B_0kVxwwN/\n",
      "4088 24 https://instagram.com/p/8Bm8-cr207/\n",
      "3647 31 https://instagram.com/p/7-maYqTDEq/\n",
      "3303 268 https://instagram.com/p/7-N2YgDCJH/\n",
      "2827 240 https://instagram.com/p/8BT6t1jCK4/\n",
      "1997 27 https://instagram.com/p/8CMON9u01X/\n",
      "1955 4 https://instagram.com/p/8BFTFpxw61/\n",
      "1950 23 https://instagram.com/p/71C4G6BI4W/\n",
      "1913 16 https://instagram.com/p/8CGvYmJ2q4/\n",
      "1665 4 https://instagram.com/p/8B_q2mxw_9/\n",
      "1551 6 https://instagram.com/p/8BAPCIRwwy/\n",
      "1526 4 https://instagram.com/p/8B_bSJxw_o/\n",
      "1498 9 https://instagram.com/p/8Bldutxwzn/\n",
      "1487 14 https://instagram.com/p/7w3o87BI1W/\n"
     ]
    }
   ],
   "source": [
    "# comments - most commented on post\n",
    "\n",
    "for m in sorted(all_media, key=lambda x: -x.like_count)[:20]:\n",
    "    print m.like_count, m.comment_count, m.link"
   ]
  },
  {
   "cell_type": "code",
   "execution_count": 44,
   "metadata": {
    "collapsed": false,
    "scrolled": true
   },
   "outputs": [],
   "source": [
    "# use pandas - plot over time\n",
    "\n",
    "import pandas as pd\n",
    "\n",
    "df = pd.DataFrame({'times':[m.created_time for m in all_media], 'users':[m.user.username for m in all_media], 'posts':[m.link for m in all_media]})"
   ]
  },
  {
   "cell_type": "code",
   "execution_count": 45,
   "metadata": {
    "collapsed": false
   },
   "outputs": [],
   "source": [
    "def make_date(d):\n",
    "    d = d.replace(second=0, minute=0)\n",
    "    return d\n",
    "\n",
    "df['dt']=df[['times']].apply(lambda x: make_date(x['times']), axis=1)"
   ]
  },
  {
   "cell_type": "code",
   "execution_count": 46,
   "metadata": {
    "collapsed": false,
    "scrolled": true
   },
   "outputs": [
    {
     "data": {
      "text/html": [
       "<div>\n",
       "<table border=\"1\" class=\"dataframe\">\n",
       "  <thead>\n",
       "    <tr style=\"text-align: right;\">\n",
       "      <th></th>\n",
       "      <th>posts</th>\n",
       "      <th>times</th>\n",
       "      <th>users</th>\n",
       "    </tr>\n",
       "    <tr>\n",
       "      <th>dt</th>\n",
       "      <th></th>\n",
       "      <th></th>\n",
       "      <th></th>\n",
       "    </tr>\n",
       "  </thead>\n",
       "  <tbody>\n",
       "    <tr>\n",
       "      <th>2015-09-25 02:00:00</th>\n",
       "      <td>https://instagram.com/p/8CZGzzNqpF/</td>\n",
       "      <td>2015-09-25 02:48:32</td>\n",
       "      <td>andysartori1</td>\n",
       "    </tr>\n",
       "    <tr>\n",
       "      <th>2015-09-25 02:00:00</th>\n",
       "      <td>https://instagram.com/p/8CZDAGs0jN/</td>\n",
       "      <td>2015-09-25 02:48:01</td>\n",
       "      <td>goceaninc</td>\n",
       "    </tr>\n",
       "    <tr>\n",
       "      <th>2015-09-25 02:00:00</th>\n",
       "      <td>https://instagram.com/p/8CZCMtGWpm/</td>\n",
       "      <td>2015-09-25 02:47:54</td>\n",
       "      <td>bcarrillo06</td>\n",
       "    </tr>\n",
       "    <tr>\n",
       "      <th>2015-09-25 02:00:00</th>\n",
       "      <td>https://instagram.com/p/8CY4dtK0yt/</td>\n",
       "      <td>2015-09-25 02:46:34</td>\n",
       "      <td>papii_chulooo</td>\n",
       "    </tr>\n",
       "    <tr>\n",
       "      <th>2015-09-25 02:00:00</th>\n",
       "      <td>https://instagram.com/p/8CY3ydrHYw/</td>\n",
       "      <td>2015-09-25 02:46:29</td>\n",
       "      <td>lauracocivera</td>\n",
       "    </tr>\n",
       "    <tr>\n",
       "      <th>2015-09-25 02:00:00</th>\n",
       "      <td>https://instagram.com/p/8CYoJtMzT-/</td>\n",
       "      <td>2015-09-25 02:44:21</td>\n",
       "      <td>cruxnow</td>\n",
       "    </tr>\n",
       "    <tr>\n",
       "      <th>2015-09-25 02:00:00</th>\n",
       "      <td>https://instagram.com/p/8CYnZiCyPk/</td>\n",
       "      <td>2015-09-25 02:44:15</td>\n",
       "      <td>darenandbella</td>\n",
       "    </tr>\n",
       "    <tr>\n",
       "      <th>2015-09-25 02:00:00</th>\n",
       "      <td>https://instagram.com/p/8CYhF-LBbO/</td>\n",
       "      <td>2015-09-25 02:43:23</td>\n",
       "      <td>dustintomes</td>\n",
       "    </tr>\n",
       "    <tr>\n",
       "      <th>2015-09-25 02:00:00</th>\n",
       "      <td>https://instagram.com/p/8CYfU-M0-G/</td>\n",
       "      <td>2015-09-25 02:43:09</td>\n",
       "      <td>nelsonlerd</td>\n",
       "    </tr>\n",
       "    <tr>\n",
       "      <th>2015-09-25 02:00:00</th>\n",
       "      <td>https://instagram.com/p/8CYbbQrBbJ/</td>\n",
       "      <td>2015-09-25 02:42:37</td>\n",
       "      <td>dustintomes</td>\n",
       "    </tr>\n",
       "    <tr>\n",
       "      <th>2015-09-25 02:00:00</th>\n",
       "      <td>https://instagram.com/p/8CYZIQpiwT/</td>\n",
       "      <td>2015-09-25 02:42:18</td>\n",
       "      <td>neyshamelissa</td>\n",
       "    </tr>\n",
       "    <tr>\n",
       "      <th>2015-09-25 02:00:00</th>\n",
       "      <td>https://instagram.com/p/8CYVhJjpUn/</td>\n",
       "      <td>2015-09-25 02:41:48</td>\n",
       "      <td>totherout</td>\n",
       "    </tr>\n",
       "    <tr>\n",
       "      <th>2015-09-25 02:00:00</th>\n",
       "      <td>https://instagram.com/p/8CYRBbHuGN/</td>\n",
       "      <td>2015-09-25 02:41:11</td>\n",
       "      <td>jaalouf</td>\n",
       "    </tr>\n",
       "    <tr>\n",
       "      <th>2015-09-25 02:00:00</th>\n",
       "      <td>https://instagram.com/p/8CYNtNiqZJ/</td>\n",
       "      <td>2015-09-25 02:40:44</td>\n",
       "      <td>kareen_williams</td>\n",
       "    </tr>\n",
       "    <tr>\n",
       "      <th>2015-09-25 02:00:00</th>\n",
       "      <td>https://instagram.com/p/8CYMxMjDcC/</td>\n",
       "      <td>2015-09-25 02:40:36</td>\n",
       "      <td>warrioroftherebelion</td>\n",
       "    </tr>\n",
       "    <tr>\n",
       "      <th>2015-09-25 02:00:00</th>\n",
       "      <td>https://instagram.com/p/8CYJnrk2Zo/</td>\n",
       "      <td>2015-09-25 02:40:11</td>\n",
       "      <td>when2laugh</td>\n",
       "    </tr>\n",
       "    <tr>\n",
       "      <th>2015-09-25 02:00:00</th>\n",
       "      <td>https://instagram.com/p/8CX7NBqGis/</td>\n",
       "      <td>2015-09-25 02:38:13</td>\n",
       "      <td>jsmendoza</td>\n",
       "    </tr>\n",
       "    <tr>\n",
       "      <th>2015-09-25 02:00:00</th>\n",
       "      <td>https://instagram.com/p/8CX1K-q3gl/</td>\n",
       "      <td>2015-09-25 02:37:23</td>\n",
       "      <td>talkthirtytome</td>\n",
       "    </tr>\n",
       "    <tr>\n",
       "      <th>2015-09-25 02:00:00</th>\n",
       "      <td>https://instagram.com/p/8CXy-QrBaL/</td>\n",
       "      <td>2015-09-25 02:37:05</td>\n",
       "      <td>dustintomes</td>\n",
       "    </tr>\n",
       "    <tr>\n",
       "      <th>2015-09-25 02:00:00</th>\n",
       "      <td>https://instagram.com/p/8CXyFUkhXh/</td>\n",
       "      <td>2015-09-25 02:36:58</td>\n",
       "      <td>her_story1</td>\n",
       "    </tr>\n",
       "    <tr>\n",
       "      <th>2015-09-25 02:00:00</th>\n",
       "      <td>https://instagram.com/p/8CXx7BNFfn/</td>\n",
       "      <td>2015-09-25 02:36:57</td>\n",
       "      <td>vidanalata</td>\n",
       "    </tr>\n",
       "    <tr>\n",
       "      <th>2015-09-25 02:00:00</th>\n",
       "      <td>https://instagram.com/p/8CXlqFHG_J/</td>\n",
       "      <td>2015-09-25 02:35:16</td>\n",
       "      <td>midtowngazette</td>\n",
       "    </tr>\n",
       "    <tr>\n",
       "      <th>2015-09-25 02:00:00</th>\n",
       "      <td>https://instagram.com/p/8CXlTNrBZu/</td>\n",
       "      <td>2015-09-25 02:35:13</td>\n",
       "      <td>dustintomes</td>\n",
       "    </tr>\n",
       "    <tr>\n",
       "      <th>2015-09-25 02:00:00</th>\n",
       "      <td>https://instagram.com/p/8CXiBnQpZY/</td>\n",
       "      <td>2015-09-25 02:34:46</td>\n",
       "      <td>fitxlyfe</td>\n",
       "    </tr>\n",
       "    <tr>\n",
       "      <th>2015-09-25 02:00:00</th>\n",
       "      <td>https://instagram.com/p/8CXfeZPsyw/</td>\n",
       "      <td>2015-09-25 02:34:25</td>\n",
       "      <td>saraholtman</td>\n",
       "    </tr>\n",
       "    <tr>\n",
       "      <th>2015-09-25 02:00:00</th>\n",
       "      <td>https://instagram.com/p/8CXe4YCqYD/</td>\n",
       "      <td>2015-09-25 02:34:21</td>\n",
       "      <td>kareen_williams</td>\n",
       "    </tr>\n",
       "    <tr>\n",
       "      <th>2015-09-25 02:00:00</th>\n",
       "      <td>https://instagram.com/p/8CXecUrBZk/</td>\n",
       "      <td>2015-09-25 02:34:17</td>\n",
       "      <td>dustintomes</td>\n",
       "    </tr>\n",
       "    <tr>\n",
       "      <th>2015-09-25 02:00:00</th>\n",
       "      <td>https://instagram.com/p/8CXeYqpfcx/</td>\n",
       "      <td>2015-09-25 02:34:16</td>\n",
       "      <td>javicarusotti</td>\n",
       "    </tr>\n",
       "    <tr>\n",
       "      <th>2015-09-25 02:00:00</th>\n",
       "      <td>https://instagram.com/p/8CXcTKrWQf/</td>\n",
       "      <td>2015-09-25 02:33:59</td>\n",
       "      <td>ricardotamura</td>\n",
       "    </tr>\n",
       "    <tr>\n",
       "      <th>2015-09-25 02:00:00</th>\n",
       "      <td>https://instagram.com/p/8CXcOqu8ma/</td>\n",
       "      <td>2015-09-25 02:33:59</td>\n",
       "      <td>nicolaskarman</td>\n",
       "    </tr>\n",
       "    <tr>\n",
       "      <th>...</th>\n",
       "      <td>...</td>\n",
       "      <td>...</td>\n",
       "      <td>...</td>\n",
       "    </tr>\n",
       "    <tr>\n",
       "      <th>2015-09-01 22:00:00</th>\n",
       "      <td>https://instagram.com/p/7GqmD-J8jZ/</td>\n",
       "      <td>2015-09-01 22:06:55</td>\n",
       "      <td>rememberthepope</td>\n",
       "    </tr>\n",
       "    <tr>\n",
       "      <th>2015-09-01 01:00:00</th>\n",
       "      <td>https://instagram.com/p/7Ecum7J8ig/</td>\n",
       "      <td>2015-09-01 01:27:16</td>\n",
       "      <td>rememberthepope</td>\n",
       "    </tr>\n",
       "    <tr>\n",
       "      <th>2015-08-31 22:00:00</th>\n",
       "      <td>https://instagram.com/p/7EKhSyERKs/</td>\n",
       "      <td>2015-08-31 22:48:10</td>\n",
       "      <td>andyhotcakes</td>\n",
       "    </tr>\n",
       "    <tr>\n",
       "      <th>2015-08-29 23:00:00</th>\n",
       "      <td>https://instagram.com/p/6_DVlyKsPn/</td>\n",
       "      <td>2015-08-29 23:09:12</td>\n",
       "      <td>gtatar2329</td>\n",
       "    </tr>\n",
       "    <tr>\n",
       "      <th>2015-08-29 22:00:00</th>\n",
       "      <td>https://instagram.com/p/6-_aquxrBa/</td>\n",
       "      <td>2015-08-29 22:34:56</td>\n",
       "      <td>marion.berns</td>\n",
       "    </tr>\n",
       "    <tr>\n",
       "      <th>2015-08-29 15:00:00</th>\n",
       "      <td>https://instagram.com/p/6-L8uyqsBe/</td>\n",
       "      <td>2015-08-29 15:05:12</td>\n",
       "      <td>gtatar2329</td>\n",
       "    </tr>\n",
       "    <tr>\n",
       "      <th>2015-08-29 11:00:00</th>\n",
       "      <td>https://instagram.com/p/69zOHvQf8B/</td>\n",
       "      <td>2015-08-29 11:29:07</td>\n",
       "      <td>izziemendez</td>\n",
       "    </tr>\n",
       "    <tr>\n",
       "      <th>2015-08-29 03:00:00</th>\n",
       "      <td>https://instagram.com/p/688lZ8uN_g/</td>\n",
       "      <td>2015-08-29 03:31:42</td>\n",
       "      <td>readynj</td>\n",
       "    </tr>\n",
       "    <tr>\n",
       "      <th>2015-08-28 05:00:00</th>\n",
       "      <td>https://instagram.com/p/66m4ZSKyq2/</td>\n",
       "      <td>2015-08-28 05:43:35</td>\n",
       "      <td>popuppope</td>\n",
       "    </tr>\n",
       "    <tr>\n",
       "      <th>2015-08-26 22:00:00</th>\n",
       "      <td>https://instagram.com/p/63QwHJA1wq/</td>\n",
       "      <td>2015-08-26 22:32:29</td>\n",
       "      <td>vanessabarokas</td>\n",
       "    </tr>\n",
       "    <tr>\n",
       "      <th>2015-08-26 13:00:00</th>\n",
       "      <td>https://instagram.com/p/62Urb-qyiV/</td>\n",
       "      <td>2015-08-26 13:47:34</td>\n",
       "      <td>popuppope</td>\n",
       "    </tr>\n",
       "    <tr>\n",
       "      <th>2015-08-25 23:00:00</th>\n",
       "      <td>https://instagram.com/p/60v4UeJ8nI/</td>\n",
       "      <td>2015-08-25 23:06:46</td>\n",
       "      <td>rememberthepope</td>\n",
       "    </tr>\n",
       "    <tr>\n",
       "      <th>2015-08-25 17:00:00</th>\n",
       "      <td>https://instagram.com/p/60Gn-wi39e/</td>\n",
       "      <td>2015-08-25 17:06:17</td>\n",
       "      <td>roxanakhazai</td>\n",
       "    </tr>\n",
       "    <tr>\n",
       "      <th>2015-08-25 11:00:00</th>\n",
       "      <td>https://instagram.com/p/6zjSSiKsPV/</td>\n",
       "      <td>2015-08-25 11:57:29</td>\n",
       "      <td>gtatar2329</td>\n",
       "    </tr>\n",
       "    <tr>\n",
       "      <th>2015-08-25 03:00:00</th>\n",
       "      <td>https://instagram.com/p/6yr5uRi35y/</td>\n",
       "      <td>2015-08-25 03:53:32</td>\n",
       "      <td>roxanakhazai</td>\n",
       "    </tr>\n",
       "    <tr>\n",
       "      <th>2015-08-23 03:00:00</th>\n",
       "      <td>https://instagram.com/p/6tfdWbHMZ2/</td>\n",
       "      <td>2015-08-23 03:28:36</td>\n",
       "      <td>kathybousquet</td>\n",
       "    </tr>\n",
       "    <tr>\n",
       "      <th>2015-08-21 00:00:00</th>\n",
       "      <td>https://instagram.com/p/6oAzbICFhx/</td>\n",
       "      <td>2015-08-21 00:24:31</td>\n",
       "      <td>johnnyboyy159</td>\n",
       "    </tr>\n",
       "    <tr>\n",
       "      <th>2015-08-11 18:00:00</th>\n",
       "      <td>https://instagram.com/p/6QKdSlqsAU/</td>\n",
       "      <td>2015-08-11 18:07:07</td>\n",
       "      <td>gtatar2329</td>\n",
       "    </tr>\n",
       "    <tr>\n",
       "      <th>2015-08-10 15:00:00</th>\n",
       "      <td>https://instagram.com/p/6NSRTfKsDn/</td>\n",
       "      <td>2015-08-10 15:17:39</td>\n",
       "      <td>gtatar2329</td>\n",
       "    </tr>\n",
       "    <tr>\n",
       "      <th>2015-08-05 15:00:00</th>\n",
       "      <td>https://instagram.com/p/6AcAnaR27w/</td>\n",
       "      <td>2015-08-05 15:32:38</td>\n",
       "      <td>dethelmateo</td>\n",
       "    </tr>\n",
       "    <tr>\n",
       "      <th>2015-08-03 11:00:00</th>\n",
       "      <td>https://instagram.com/p/5610tsqsJM/</td>\n",
       "      <td>2015-08-03 11:22:45</td>\n",
       "      <td>gtatar2329</td>\n",
       "    </tr>\n",
       "    <tr>\n",
       "      <th>2015-08-01 18:00:00</th>\n",
       "      <td>https://instagram.com/p/52blGtFxpz/</td>\n",
       "      <td>2015-08-01 18:16:28</td>\n",
       "      <td>mariselmoralesnyc</td>\n",
       "    </tr>\n",
       "    <tr>\n",
       "      <th>2015-08-01 05:00:00</th>\n",
       "      <td>https://instagram.com/p/51Gr7mNC2i/</td>\n",
       "      <td>2015-08-01 05:54:40</td>\n",
       "      <td>sanagate1</td>\n",
       "    </tr>\n",
       "    <tr>\n",
       "      <th>2015-07-30 21:00:00</th>\n",
       "      <td>https://instagram.com/p/5xqxGyKsLO/</td>\n",
       "      <td>2015-07-30 21:52:59</td>\n",
       "      <td>gtatar2329</td>\n",
       "    </tr>\n",
       "    <tr>\n",
       "      <th>2015-07-28 03:00:00</th>\n",
       "      <td>https://instagram.com/p/5qhyu3NqBu/</td>\n",
       "      <td>2015-07-28 03:19:52</td>\n",
       "      <td>recognizemariony</td>\n",
       "    </tr>\n",
       "    <tr>\n",
       "      <th>2015-07-20 22:00:00</th>\n",
       "      <td>https://instagram.com/p/5X97cuH0MB/</td>\n",
       "      <td>2015-07-20 22:20:10</td>\n",
       "      <td>youngfaithfulcatholics</td>\n",
       "    </tr>\n",
       "    <tr>\n",
       "      <th>2015-07-03 13:00:00</th>\n",
       "      <td>https://instagram.com/p/4rN2k5NEmf/</td>\n",
       "      <td>2015-07-03 13:13:29</td>\n",
       "      <td>catholicmennj</td>\n",
       "    </tr>\n",
       "    <tr>\n",
       "      <th>2015-06-30 16:00:00</th>\n",
       "      <td>https://instagram.com/p/4jzws2CmqV/</td>\n",
       "      <td>2015-06-30 16:10:48</td>\n",
       "      <td>catholic_news_service</td>\n",
       "    </tr>\n",
       "    <tr>\n",
       "      <th>2015-01-19 21:00:00</th>\n",
       "      <td>https://instagram.com/p/yDQ9uuE_dV/</td>\n",
       "      <td>2015-01-19 21:42:41</td>\n",
       "      <td>marklevinenyc</td>\n",
       "    </tr>\n",
       "    <tr>\n",
       "      <th>2015-01-19 21:00:00</th>\n",
       "      <td>https://instagram.com/p/yDPooSAIbF/</td>\n",
       "      <td>2015-01-19 21:31:04</td>\n",
       "      <td>nyccouncil</td>\n",
       "    </tr>\n",
       "  </tbody>\n",
       "</table>\n",
       "<p>2469 rows × 3 columns</p>\n",
       "</div>"
      ],
      "text/plain": [
       "                                                   posts               times  \\\n",
       "dt                                                                             \n",
       "2015-09-25 02:00:00  https://instagram.com/p/8CZGzzNqpF/ 2015-09-25 02:48:32   \n",
       "2015-09-25 02:00:00  https://instagram.com/p/8CZDAGs0jN/ 2015-09-25 02:48:01   \n",
       "2015-09-25 02:00:00  https://instagram.com/p/8CZCMtGWpm/ 2015-09-25 02:47:54   \n",
       "2015-09-25 02:00:00  https://instagram.com/p/8CY4dtK0yt/ 2015-09-25 02:46:34   \n",
       "2015-09-25 02:00:00  https://instagram.com/p/8CY3ydrHYw/ 2015-09-25 02:46:29   \n",
       "2015-09-25 02:00:00  https://instagram.com/p/8CYoJtMzT-/ 2015-09-25 02:44:21   \n",
       "2015-09-25 02:00:00  https://instagram.com/p/8CYnZiCyPk/ 2015-09-25 02:44:15   \n",
       "2015-09-25 02:00:00  https://instagram.com/p/8CYhF-LBbO/ 2015-09-25 02:43:23   \n",
       "2015-09-25 02:00:00  https://instagram.com/p/8CYfU-M0-G/ 2015-09-25 02:43:09   \n",
       "2015-09-25 02:00:00  https://instagram.com/p/8CYbbQrBbJ/ 2015-09-25 02:42:37   \n",
       "2015-09-25 02:00:00  https://instagram.com/p/8CYZIQpiwT/ 2015-09-25 02:42:18   \n",
       "2015-09-25 02:00:00  https://instagram.com/p/8CYVhJjpUn/ 2015-09-25 02:41:48   \n",
       "2015-09-25 02:00:00  https://instagram.com/p/8CYRBbHuGN/ 2015-09-25 02:41:11   \n",
       "2015-09-25 02:00:00  https://instagram.com/p/8CYNtNiqZJ/ 2015-09-25 02:40:44   \n",
       "2015-09-25 02:00:00  https://instagram.com/p/8CYMxMjDcC/ 2015-09-25 02:40:36   \n",
       "2015-09-25 02:00:00  https://instagram.com/p/8CYJnrk2Zo/ 2015-09-25 02:40:11   \n",
       "2015-09-25 02:00:00  https://instagram.com/p/8CX7NBqGis/ 2015-09-25 02:38:13   \n",
       "2015-09-25 02:00:00  https://instagram.com/p/8CX1K-q3gl/ 2015-09-25 02:37:23   \n",
       "2015-09-25 02:00:00  https://instagram.com/p/8CXy-QrBaL/ 2015-09-25 02:37:05   \n",
       "2015-09-25 02:00:00  https://instagram.com/p/8CXyFUkhXh/ 2015-09-25 02:36:58   \n",
       "2015-09-25 02:00:00  https://instagram.com/p/8CXx7BNFfn/ 2015-09-25 02:36:57   \n",
       "2015-09-25 02:00:00  https://instagram.com/p/8CXlqFHG_J/ 2015-09-25 02:35:16   \n",
       "2015-09-25 02:00:00  https://instagram.com/p/8CXlTNrBZu/ 2015-09-25 02:35:13   \n",
       "2015-09-25 02:00:00  https://instagram.com/p/8CXiBnQpZY/ 2015-09-25 02:34:46   \n",
       "2015-09-25 02:00:00  https://instagram.com/p/8CXfeZPsyw/ 2015-09-25 02:34:25   \n",
       "2015-09-25 02:00:00  https://instagram.com/p/8CXe4YCqYD/ 2015-09-25 02:34:21   \n",
       "2015-09-25 02:00:00  https://instagram.com/p/8CXecUrBZk/ 2015-09-25 02:34:17   \n",
       "2015-09-25 02:00:00  https://instagram.com/p/8CXeYqpfcx/ 2015-09-25 02:34:16   \n",
       "2015-09-25 02:00:00  https://instagram.com/p/8CXcTKrWQf/ 2015-09-25 02:33:59   \n",
       "2015-09-25 02:00:00  https://instagram.com/p/8CXcOqu8ma/ 2015-09-25 02:33:59   \n",
       "...                                                  ...                 ...   \n",
       "2015-09-01 22:00:00  https://instagram.com/p/7GqmD-J8jZ/ 2015-09-01 22:06:55   \n",
       "2015-09-01 01:00:00  https://instagram.com/p/7Ecum7J8ig/ 2015-09-01 01:27:16   \n",
       "2015-08-31 22:00:00  https://instagram.com/p/7EKhSyERKs/ 2015-08-31 22:48:10   \n",
       "2015-08-29 23:00:00  https://instagram.com/p/6_DVlyKsPn/ 2015-08-29 23:09:12   \n",
       "2015-08-29 22:00:00  https://instagram.com/p/6-_aquxrBa/ 2015-08-29 22:34:56   \n",
       "2015-08-29 15:00:00  https://instagram.com/p/6-L8uyqsBe/ 2015-08-29 15:05:12   \n",
       "2015-08-29 11:00:00  https://instagram.com/p/69zOHvQf8B/ 2015-08-29 11:29:07   \n",
       "2015-08-29 03:00:00  https://instagram.com/p/688lZ8uN_g/ 2015-08-29 03:31:42   \n",
       "2015-08-28 05:00:00  https://instagram.com/p/66m4ZSKyq2/ 2015-08-28 05:43:35   \n",
       "2015-08-26 22:00:00  https://instagram.com/p/63QwHJA1wq/ 2015-08-26 22:32:29   \n",
       "2015-08-26 13:00:00  https://instagram.com/p/62Urb-qyiV/ 2015-08-26 13:47:34   \n",
       "2015-08-25 23:00:00  https://instagram.com/p/60v4UeJ8nI/ 2015-08-25 23:06:46   \n",
       "2015-08-25 17:00:00  https://instagram.com/p/60Gn-wi39e/ 2015-08-25 17:06:17   \n",
       "2015-08-25 11:00:00  https://instagram.com/p/6zjSSiKsPV/ 2015-08-25 11:57:29   \n",
       "2015-08-25 03:00:00  https://instagram.com/p/6yr5uRi35y/ 2015-08-25 03:53:32   \n",
       "2015-08-23 03:00:00  https://instagram.com/p/6tfdWbHMZ2/ 2015-08-23 03:28:36   \n",
       "2015-08-21 00:00:00  https://instagram.com/p/6oAzbICFhx/ 2015-08-21 00:24:31   \n",
       "2015-08-11 18:00:00  https://instagram.com/p/6QKdSlqsAU/ 2015-08-11 18:07:07   \n",
       "2015-08-10 15:00:00  https://instagram.com/p/6NSRTfKsDn/ 2015-08-10 15:17:39   \n",
       "2015-08-05 15:00:00  https://instagram.com/p/6AcAnaR27w/ 2015-08-05 15:32:38   \n",
       "2015-08-03 11:00:00  https://instagram.com/p/5610tsqsJM/ 2015-08-03 11:22:45   \n",
       "2015-08-01 18:00:00  https://instagram.com/p/52blGtFxpz/ 2015-08-01 18:16:28   \n",
       "2015-08-01 05:00:00  https://instagram.com/p/51Gr7mNC2i/ 2015-08-01 05:54:40   \n",
       "2015-07-30 21:00:00  https://instagram.com/p/5xqxGyKsLO/ 2015-07-30 21:52:59   \n",
       "2015-07-28 03:00:00  https://instagram.com/p/5qhyu3NqBu/ 2015-07-28 03:19:52   \n",
       "2015-07-20 22:00:00  https://instagram.com/p/5X97cuH0MB/ 2015-07-20 22:20:10   \n",
       "2015-07-03 13:00:00  https://instagram.com/p/4rN2k5NEmf/ 2015-07-03 13:13:29   \n",
       "2015-06-30 16:00:00  https://instagram.com/p/4jzws2CmqV/ 2015-06-30 16:10:48   \n",
       "2015-01-19 21:00:00  https://instagram.com/p/yDQ9uuE_dV/ 2015-01-19 21:42:41   \n",
       "2015-01-19 21:00:00  https://instagram.com/p/yDPooSAIbF/ 2015-01-19 21:31:04   \n",
       "\n",
       "                                      users  \n",
       "dt                                           \n",
       "2015-09-25 02:00:00            andysartori1  \n",
       "2015-09-25 02:00:00               goceaninc  \n",
       "2015-09-25 02:00:00             bcarrillo06  \n",
       "2015-09-25 02:00:00           papii_chulooo  \n",
       "2015-09-25 02:00:00           lauracocivera  \n",
       "2015-09-25 02:00:00                 cruxnow  \n",
       "2015-09-25 02:00:00           darenandbella  \n",
       "2015-09-25 02:00:00             dustintomes  \n",
       "2015-09-25 02:00:00              nelsonlerd  \n",
       "2015-09-25 02:00:00             dustintomes  \n",
       "2015-09-25 02:00:00           neyshamelissa  \n",
       "2015-09-25 02:00:00               totherout  \n",
       "2015-09-25 02:00:00                 jaalouf  \n",
       "2015-09-25 02:00:00         kareen_williams  \n",
       "2015-09-25 02:00:00    warrioroftherebelion  \n",
       "2015-09-25 02:00:00              when2laugh  \n",
       "2015-09-25 02:00:00               jsmendoza  \n",
       "2015-09-25 02:00:00          talkthirtytome  \n",
       "2015-09-25 02:00:00             dustintomes  \n",
       "2015-09-25 02:00:00              her_story1  \n",
       "2015-09-25 02:00:00              vidanalata  \n",
       "2015-09-25 02:00:00          midtowngazette  \n",
       "2015-09-25 02:00:00             dustintomes  \n",
       "2015-09-25 02:00:00                fitxlyfe  \n",
       "2015-09-25 02:00:00             saraholtman  \n",
       "2015-09-25 02:00:00         kareen_williams  \n",
       "2015-09-25 02:00:00             dustintomes  \n",
       "2015-09-25 02:00:00           javicarusotti  \n",
       "2015-09-25 02:00:00           ricardotamura  \n",
       "2015-09-25 02:00:00           nicolaskarman  \n",
       "...                                     ...  \n",
       "2015-09-01 22:00:00         rememberthepope  \n",
       "2015-09-01 01:00:00         rememberthepope  \n",
       "2015-08-31 22:00:00            andyhotcakes  \n",
       "2015-08-29 23:00:00              gtatar2329  \n",
       "2015-08-29 22:00:00            marion.berns  \n",
       "2015-08-29 15:00:00              gtatar2329  \n",
       "2015-08-29 11:00:00             izziemendez  \n",
       "2015-08-29 03:00:00                 readynj  \n",
       "2015-08-28 05:00:00               popuppope  \n",
       "2015-08-26 22:00:00          vanessabarokas  \n",
       "2015-08-26 13:00:00               popuppope  \n",
       "2015-08-25 23:00:00         rememberthepope  \n",
       "2015-08-25 17:00:00            roxanakhazai  \n",
       "2015-08-25 11:00:00              gtatar2329  \n",
       "2015-08-25 03:00:00            roxanakhazai  \n",
       "2015-08-23 03:00:00           kathybousquet  \n",
       "2015-08-21 00:00:00           johnnyboyy159  \n",
       "2015-08-11 18:00:00              gtatar2329  \n",
       "2015-08-10 15:00:00              gtatar2329  \n",
       "2015-08-05 15:00:00             dethelmateo  \n",
       "2015-08-03 11:00:00              gtatar2329  \n",
       "2015-08-01 18:00:00       mariselmoralesnyc  \n",
       "2015-08-01 05:00:00               sanagate1  \n",
       "2015-07-30 21:00:00              gtatar2329  \n",
       "2015-07-28 03:00:00        recognizemariony  \n",
       "2015-07-20 22:00:00  youngfaithfulcatholics  \n",
       "2015-07-03 13:00:00           catholicmennj  \n",
       "2015-06-30 16:00:00   catholic_news_service  \n",
       "2015-01-19 21:00:00           marklevinenyc  \n",
       "2015-01-19 21:00:00              nyccouncil  \n",
       "\n",
       "[2469 rows x 3 columns]"
      ]
     },
     "execution_count": 46,
     "metadata": {},
     "output_type": "execute_result"
    }
   ],
   "source": [
    "df.set_index('dt')"
   ]
  },
  {
   "cell_type": "code",
   "execution_count": 47,
   "metadata": {
    "collapsed": false
   },
   "outputs": [
    {
     "name": "stdout",
     "output_type": "stream",
     "text": [
      "Populating the interactive namespace from numpy and matplotlib\n"
     ]
    },
    {
     "data": {
      "text/plain": [
       "<matplotlib.text.Text at 0x7f5b3a12b1d0>"
      ]
     },
     "execution_count": 47,
     "metadata": {},
     "output_type": "execute_result"
    },
    {
     "data": {
      "image/png": "[encoded data removed]",
      "text/plain": [
       "<matplotlib.figure.Figure at 0x7f5b399b89d0>"
      ]
     },
     "metadata": {},
     "output_type": "display_data"
    }
   ],
   "source": [
    "%pylab inline\n",
    "\n",
    "df.groupby(df.dt).size().plot(figsize=(20,6))\n",
    "title('#%s - IG posts over time' % used_tag)"
   ]
  },
  {
   "cell_type": "code",
   "execution_count": 48,
   "metadata": {
    "collapsed": false
   },
   "outputs": [
    {
     "data": {
      "text/html": [
       "<div>\n",
       "<table border=\"1\" class=\"dataframe\">\n",
       "  <thead>\n",
       "    <tr style=\"text-align: right;\">\n",
       "      <th></th>\n",
       "      <th>posts</th>\n",
       "      <th>times</th>\n",
       "      <th>users</th>\n",
       "      <th>dt</th>\n",
       "    </tr>\n",
       "  </thead>\n",
       "  <tbody>\n",
       "    <tr>\n",
       "      <th>2459</th>\n",
       "      <td>https://instagram.com/p/5610tsqsJM/</td>\n",
       "      <td>2015-08-03 11:22:45</td>\n",
       "      <td>gtatar2329</td>\n",
       "      <td>2015-08-03 11:00:00</td>\n",
       "    </tr>\n",
       "    <tr>\n",
       "      <th>2460</th>\n",
       "      <td>https://instagram.com/p/52blGtFxpz/</td>\n",
       "      <td>2015-08-01 18:16:28</td>\n",
       "      <td>mariselmoralesnyc</td>\n",
       "      <td>2015-08-01 18:00:00</td>\n",
       "    </tr>\n",
       "    <tr>\n",
       "      <th>2461</th>\n",
       "      <td>https://instagram.com/p/51Gr7mNC2i/</td>\n",
       "      <td>2015-08-01 05:54:40</td>\n",
       "      <td>sanagate1</td>\n",
       "      <td>2015-08-01 05:00:00</td>\n",
       "    </tr>\n",
       "    <tr>\n",
       "      <th>2462</th>\n",
       "      <td>https://instagram.com/p/5xqxGyKsLO/</td>\n",
       "      <td>2015-07-30 21:52:59</td>\n",
       "      <td>gtatar2329</td>\n",
       "      <td>2015-07-30 21:00:00</td>\n",
       "    </tr>\n",
       "    <tr>\n",
       "      <th>2463</th>\n",
       "      <td>https://instagram.com/p/5qhyu3NqBu/</td>\n",
       "      <td>2015-07-28 03:19:52</td>\n",
       "      <td>recognizemariony</td>\n",
       "      <td>2015-07-28 03:00:00</td>\n",
       "    </tr>\n",
       "    <tr>\n",
       "      <th>2464</th>\n",
       "      <td>https://instagram.com/p/5X97cuH0MB/</td>\n",
       "      <td>2015-07-20 22:20:10</td>\n",
       "      <td>youngfaithfulcatholics</td>\n",
       "      <td>2015-07-20 22:00:00</td>\n",
       "    </tr>\n",
       "    <tr>\n",
       "      <th>2465</th>\n",
       "      <td>https://instagram.com/p/4rN2k5NEmf/</td>\n",
       "      <td>2015-07-03 13:13:29</td>\n",
       "      <td>catholicmennj</td>\n",
       "      <td>2015-07-03 13:00:00</td>\n",
       "    </tr>\n",
       "    <tr>\n",
       "      <th>2466</th>\n",
       "      <td>https://instagram.com/p/4jzws2CmqV/</td>\n",
       "      <td>2015-06-30 16:10:48</td>\n",
       "      <td>catholic_news_service</td>\n",
       "      <td>2015-06-30 16:00:00</td>\n",
       "    </tr>\n",
       "    <tr>\n",
       "      <th>2467</th>\n",
       "      <td>https://instagram.com/p/yDQ9uuE_dV/</td>\n",
       "      <td>2015-01-19 21:42:41</td>\n",
       "      <td>marklevinenyc</td>\n",
       "      <td>2015-01-19 21:00:00</td>\n",
       "    </tr>\n",
       "    <tr>\n",
       "      <th>2468</th>\n",
       "      <td>https://instagram.com/p/yDPooSAIbF/</td>\n",
       "      <td>2015-01-19 21:31:04</td>\n",
       "      <td>nyccouncil</td>\n",
       "      <td>2015-01-19 21:00:00</td>\n",
       "    </tr>\n",
       "  </tbody>\n",
       "</table>\n",
       "</div>"
      ],
      "text/plain": [
       "                                    posts               times  \\\n",
       "2459  https://instagram.com/p/5610tsqsJM/ 2015-08-03 11:22:45   \n",
       "2460  https://instagram.com/p/52blGtFxpz/ 2015-08-01 18:16:28   \n",
       "2461  https://instagram.com/p/51Gr7mNC2i/ 2015-08-01 05:54:40   \n",
       "2462  https://instagram.com/p/5xqxGyKsLO/ 2015-07-30 21:52:59   \n",
       "2463  https://instagram.com/p/5qhyu3NqBu/ 2015-07-28 03:19:52   \n",
       "2464  https://instagram.com/p/5X97cuH0MB/ 2015-07-20 22:20:10   \n",
       "2465  https://instagram.com/p/4rN2k5NEmf/ 2015-07-03 13:13:29   \n",
       "2466  https://instagram.com/p/4jzws2CmqV/ 2015-06-30 16:10:48   \n",
       "2467  https://instagram.com/p/yDQ9uuE_dV/ 2015-01-19 21:42:41   \n",
       "2468  https://instagram.com/p/yDPooSAIbF/ 2015-01-19 21:31:04   \n",
       "\n",
       "                       users                  dt  \n",
       "2459              gtatar2329 2015-08-03 11:00:00  \n",
       "2460       mariselmoralesnyc 2015-08-01 18:00:00  \n",
       "2461               sanagate1 2015-08-01 05:00:00  \n",
       "2462              gtatar2329 2015-07-30 21:00:00  \n",
       "2463        recognizemariony 2015-07-28 03:00:00  \n",
       "2464  youngfaithfulcatholics 2015-07-20 22:00:00  \n",
       "2465           catholicmennj 2015-07-03 13:00:00  \n",
       "2466   catholic_news_service 2015-06-30 16:00:00  \n",
       "2467           marklevinenyc 2015-01-19 21:00:00  \n",
       "2468              nyccouncil 2015-01-19 21:00:00  "
      ]
     },
     "execution_count": 48,
     "metadata": {},
     "output_type": "execute_result"
    }
   ],
   "source": [
    "df[-10:]"
   ]
  },
  {
   "cell_type": "code",
   "execution_count": 50,
   "metadata": {
    "collapsed": false
   },
   "outputs": [
    {
     "data": {
      "text/plain": [
       "<matplotlib.text.Text at 0x7f5b39566a10>"
      ]
     },
     "execution_count": 50,
     "metadata": {},
     "output_type": "execute_result"
    },
    {
     "data": {
      "image/png": "[encoded data removed]",
      "text/plain": [
       "<matplotlib.figure.Figure at 0x7f5b38551c90>"
      ]
     },
     "metadata": {},
     "output_type": "display_data"
    }
   ],
   "source": [
    "df.groupby(df.dt).size()['2015-09-20':].plot(figsize=(20,6))\n",
    "title('#%s - IG posts over time' % used_tag)"
   ]
  },
  {
   "cell_type": "markdown",
   "metadata": {
    "collapsed": true
   },
   "source": [
    "### Scatter Plot"
   ]
  },
  {
   "cell_type": "code",
   "execution_count": 51,
   "metadata": {
    "collapsed": false
   },
   "outputs": [
    {
     "name": "stdout",
     "output_type": "stream",
     "text": [
      "Populating the interactive namespace from numpy and matplotlib\n"
     ]
    },
    {
     "data": {
      "text/plain": [
       "<matplotlib.text.Text at 0x7f5b395a2a10>"
      ]
     },
     "execution_count": 51,
     "metadata": {},
     "output_type": "execute_result"
    },
    {
     "data": {
      "image/png": "[encoded data removed]",
      "text/plain": [
       "<matplotlib.figure.Figure at 0x7f5b23960290>"
      ]
     },
     "metadata": {},
     "output_type": "display_data"
    }
   ],
   "source": [
    "%pylab inline\n",
    "\n",
    "l = [m.like_count for m in all_media]\n",
    "c = [m.comment_count for m in all_media]\n",
    "\n",
    "# let's plot the relationship between these two variables\n",
    "\n",
    "scatter(l,c,s=50,alpha=.1)\n",
    "title('likes vs. comments')\n",
    "ylabel('comment count')\n",
    "xlabel('like count')\n"
   ]
  },
  {
   "cell_type": "code",
   "execution_count": 52,
   "metadata": {
    "collapsed": false
   },
   "outputs": [
    {
     "data": {
      "text/plain": [
       "<matplotlib.text.Text at 0x7f5b38098b50>"
      ]
     },
     "execution_count": 52,
     "metadata": {},
     "output_type": "execute_result"
    },
    {
     "data": {
      "image/png": "[encoded data removed]",
      "text/plain": [
       "<matplotlib.figure.Figure at 0x7f5b2f10ec90>"
      ]
     },
     "metadata": {},
     "output_type": "display_data"
    }
   ],
   "source": [
    "l_log = [log(m.like_count) for m in all_media]\n",
    "c_log = [log(m.comment_count) for m in all_media]\n",
    "\n",
    "# let's plot the relationship between these two variables\n",
    "rcParams['figure.figsize'] = 12,6\n",
    "scatter(l_log,c_log,s=50,alpha=.1)\n",
    "title('likes vs. comments')\n",
    "ylabel('comment count')\n",
    "xlabel('like count')\n"
   ]
  },
  {
   "cell_type": "raw",
   "metadata": {},
   "source": [
    "In the future we'll want to be able to describe the relationship between the two variables -> is there a general patterns? Given one can we predict the other?\n",
    "\n",
    "We will come back to:\n",
    "- curve fitting\n",
    "- least squares regression"
   ]
  },
  {
   "cell_type": "markdown",
   "metadata": {},
   "source": [
    "### tags"
   ]
  },
  {
   "cell_type": "code",
   "execution_count": 53,
   "metadata": {
    "collapsed": false
   },
   "outputs": [],
   "source": [
    "from collections import Counter\n",
    "\n",
    "#all_tags = [t.name for t in m.tags for m in all_media if hasattr(m, 'tags')]"
   ]
  },
  {
   "cell_type": "code",
   "execution_count": 54,
   "metadata": {
    "collapsed": false
   },
   "outputs": [],
   "source": [
    "all_tags = []\n",
    "for m in all_media:\n",
    "    if hasattr(m, 'tags'):\n",
    "        all_tags += [t.name for t in m.tags]"
   ]
  },
  {
   "cell_type": "code",
   "execution_count": 55,
   "metadata": {
    "collapsed": false,
    "scrolled": true
   },
   "outputs": [
    {
     "data": {
      "text/plain": [
       "[('popeinnyc', 2468),\n",
       " ('popefrancis', 1034),\n",
       " ('nyc', 587),\n",
       " ('pope', 475),\n",
       " ('popeinus', 401),\n",
       " ('popeinusa', 279),\n",
       " ('popeindc', 243),\n",
       " ('popeinphilly', 183),\n",
       " ('newyork', 164),\n",
       " ('catholic', 148),\n",
       " ('stpatrickscathedral', 134),\n",
       " ('newyorkcity', 117),\n",
       " ('papalvisit', 108),\n",
       " ('papafrancisco', 91),\n",
       " ('manhattan', 85),\n",
       " ('blessed', 67),\n",
       " ('repost', 63),\n",
       " ('love', 61),\n",
       " ('popemobile', 58),\n",
       " ('pontifex', 58),\n",
       " ('tbt', 56),\n",
       " ('vatican', 52),\n",
       " ('papaenusa', 52),\n",
       " ('instagood', 51),\n",
       " ('tgit', 47),\n",
       " ('ny', 46),\n",
       " ('popevisit', 44),\n",
       " ('faith', 43),\n",
       " ('fifthavenue', 42),\n",
       " ('nypd', 42),\n",
       " ('church', 41),\n",
       " ('popefrancisnyc', 37),\n",
       " ('francis', 37),\n",
       " ('thepope', 36),\n",
       " ('prayer', 35),\n",
       " ('papalvisit2015', 34),\n",
       " ('midtown', 34),\n",
       " ('popeinny', 34),\n",
       " ('jesus', 33),\n",
       " ('stpatricks', 32)]"
      ]
     },
     "execution_count": 55,
     "metadata": {},
     "output_type": "execute_result"
    }
   ],
   "source": [
    "counted_tags = Counter(all_tags)\n",
    "counted_tags.most_common(40)"
   ]
  },
  {
   "cell_type": "markdown",
   "metadata": {},
   "source": [
    "### location"
   ]
  },
  {
   "cell_type": "code",
   "execution_count": 56,
   "metadata": {
    "collapsed": false,
    "scrolled": true
   },
   "outputs": [
    {
     "data": {
      "text/plain": [
       "{'1 New York Plaza',\n",
       " '106.1 BLI',\n",
       " '2 Penn Plaza',\n",
       " '30  Rockefeller Plaza  New York City',\n",
       " '30 Rockefeller Center',\n",
       " '34 Street NYC .',\n",
       " u'34th Street \\u2013 Penn Station',\n",
       " '40 East 66 St',\n",
       " '42nd Street',\n",
       " u'42nd Street \\u2013 Port Authority Bus Terminal',\n",
       " '5 Fifth Ave Manhathan New York',\n",
       " '5 Train...MTA Subway',\n",
       " '52nd Street (Manhattan)',\n",
       " '54th & 5th Ave NYC',\n",
       " '55th And 6th Ave',\n",
       " '57th St, NYC',\n",
       " '57th Street',\n",
       " '57th Street, Midtown',\n",
       " u'59th Street \\u2013 Columbus Circle',\n",
       " '5th Ave',\n",
       " '5th Ave and 46th Street',\n",
       " '5th Ave in Manhatan',\n",
       " '5th Avenue',\n",
       " '5th Avenue - NYC',\n",
       " '5th Avenue, Manhattan, NY',\n",
       " '620 5th Ave Garden Loft And Rooftop',\n",
       " '66th & 3rd',\n",
       " '66th Street (Manhattan)',\n",
       " '69th Street Pier',\n",
       " '7-Eleven',\n",
       " '712 Fifth Avenue',\n",
       " '72nd Street',\n",
       " '8th Avenue',\n",
       " '9/11 Ground Zero Memorial - NYC',\n",
       " '911 Memorial',\n",
       " '9th Ave - Food Avenue',\n",
       " 'ABC News',\n",
       " 'ACLU National Office - New York, NY',\n",
       " 'Abington House on the High Line',\n",
       " 'Abraham Lincoln Memorial',\n",
       " 'Action News Wpvi TV 6-Abc',\n",
       " 'Andrews AFB, Andrews Air Force Base, Maryland',\n",
       " 'Animal Pantry Ozone Park',\n",
       " 'Apple Store, Fifth Avenue',\n",
       " 'Arsenal (Central Park)',\n",
       " 'Astoria, Queens',\n",
       " 'Avenue D Mini Market',\n",
       " 'Avenue of the Americas, New York City',\n",
       " 'BARKER',\n",
       " 'BLADE Lounge West',\n",
       " 'BLANC Gifts and Home Accents',\n",
       " 'Bar Boulud New York',\n",
       " 'Bar eolo',\n",
       " 'Beast of Bourbon',\n",
       " 'Bergdorf Goodman',\n",
       " 'Bleecker Street Pizza',\n",
       " 'Blendo',\n",
       " 'Blue Mediterranean Restaurant',\n",
       " 'Brass Monkey',\n",
       " 'Brick Township, New Jersey',\n",
       " 'Brighton Beach Area',\n",
       " 'Bronx, NY',\n",
       " 'Bronxville',\n",
       " 'Brooklyn  Greenpoint NY',\n",
       " 'Brooklyn Bridge',\n",
       " 'Brooklyn Bridge Board Walk',\n",
       " 'Brooklyn Bridge Park',\n",
       " 'Brooklyn Bridge Park (Pier 5)',\n",
       " 'Brooklyn Bridge Park Pier 6',\n",
       " 'Burger & Lobster',\n",
       " 'CBS News',\n",
       " 'Castlebraid',\n",
       " 'Cathedral Basilica of Saints Peter & Paul',\n",
       " 'Cathedral Seminary House of Formation',\n",
       " 'Catholic Center - Archdiocese of Baltinore',\n",
       " 'Catholic Underground NYC',\n",
       " 'Catholic Worker',\n",
       " 'Central Park',\n",
       " 'Central Park At Columbus Circle',\n",
       " 'Central Park West',\n",
       " 'Central Park West Side Manhattan, New York',\n",
       " 'Chelsea Market',\n",
       " \"Children's Hospital Los Angeles\",\n",
       " 'Columbia University',\n",
       " 'Columbus Circle',\n",
       " 'Comcast NBC Universal',\n",
       " 'Convent of the Sacred Heart',\n",
       " \"Core's Tavern\",\n",
       " 'Delaney Chicken',\n",
       " 'Diocese of Rockville Centre',\n",
       " 'Downtown Manhattan Heliport',\n",
       " 'Droga5',\n",
       " 'E 110th Street, Upper East Side, Manhattan, New York City.',\n",
       " 'EATS',\n",
       " 'East 51st St, NYC',\n",
       " 'East 63rd Street And York Avenue',\n",
       " 'East 66th',\n",
       " 'East 72nd Street and Fifth Avenue',\n",
       " 'East 72nd Street and Madison Avenue',\n",
       " 'East Harlem',\n",
       " 'East River Park FDR Drive',\n",
       " 'East River Running Path',\n",
       " 'East Village, Manhattan',\n",
       " 'East Williamsburg, Brooklyn',\n",
       " 'Ed Sullivan Theater',\n",
       " 'Eighth Avenue',\n",
       " 'Emily',\n",
       " 'Emirates Airline JFK Airport',\n",
       " 'Empire Biscuit',\n",
       " 'Empire State Building',\n",
       " 'Essex and Delancey',\n",
       " 'Fifth Avenue',\n",
       " 'Fifth Avenue & 57th Street, NYC',\n",
       " 'Fifth Avenue / 53rd Street',\n",
       " 'Fifth Avenue Presbyterian Church',\n",
       " u'Fifth Avenue \\u2013 59th Street',\n",
       " 'Fifth Avenue, Manhattan',\n",
       " 'Financial District, Manhattan',\n",
       " 'Flatiron Building',\n",
       " 'Flatiron District',\n",
       " 'Fox 5 Television Station',\n",
       " 'Friends of Nativity Church - NYC',\n",
       " 'Ft. Greene Park',\n",
       " 'Fun Home on Broadway',\n",
       " 'German Consulate General New York',\n",
       " 'Gramercy, NY',\n",
       " 'Grand Central Terminal',\n",
       " 'Great Bridge Battlefield & Waterways Park',\n",
       " 'Greenwich Village',\n",
       " 'Guardian US',\n",
       " 'H&M World Flagship Fifth & 48',\n",
       " 'Hamilton Park, Weehawken, New Jersey',\n",
       " \"Hammock Grove - Governor's Island\",\n",
       " 'Havana Cuba Revolution Square',\n",
       " 'Heliport at East River',\n",
       " 'Henri Bendel',\n",
       " 'Hollywood Casino Gulf Coast',\n",
       " 'Holy Innocents Church',\n",
       " 'Horizon Media',\n",
       " 'I-95 Washington dc',\n",
       " 'Invitroch Producciones y Comunicaciones',\n",
       " 'Iraq and Afghanistan Veterans of America',\n",
       " 'JFK New York Intl. Airport',\n",
       " 'JKF International Airport New York City',\n",
       " 'JS Paluch',\n",
       " \"Jack's Restaurant and Bar\",\n",
       " 'Jacksonville Beach, Jacksonville Beach, Florida',\n",
       " 'Jersey Spirits Distilling Company',\n",
       " 'John F. Kennedy International Airport',\n",
       " 'Joint Base Andrews',\n",
       " \"Junior's Time Square NYC\",\n",
       " 'Kellenberg Memorial High School',\n",
       " \"L'Oreal USA - Corporate\",\n",
       " 'LA|Fitness Northridge',\n",
       " 'LVMH Tower',\n",
       " 'Las Vegas, Nevada',\n",
       " 'Lincoln Center',\n",
       " 'Los Angeles, California',\n",
       " 'Louis Vuitton NA',\n",
       " 'Lower Manhattan',\n",
       " 'MTA Subway 47-50 Rockefeller Center Station',\n",
       " \"Macy's Herald Square\",\n",
       " 'Madame Tussauds New York',\n",
       " 'Madison Ave And72n',\n",
       " 'Madison Avenue',\n",
       " 'Madison Avenue and 52nd Street',\n",
       " 'Madison Avenue, NY',\n",
       " 'Madison Square Garden',\n",
       " 'Manhattan House',\n",
       " 'Manhattan Upper Eastside',\n",
       " 'Manhattan, New York',\n",
       " 'Meatpacking District',\n",
       " 'MetLife Stadium',\n",
       " 'Metlife Stadium Meadowlands',\n",
       " 'Metropolitan Hospital Center - NYC HHC',\n",
       " 'Mid-Manhattan Library, New York Public Library (NYPL)',\n",
       " 'Midtown East',\n",
       " 'Midtown Manhattan',\n",
       " 'Midtown, New York, New York',\n",
       " 'MoMA The Museum of Modern Art',\n",
       " 'Music Box Supper Club',\n",
       " 'Myrtle Beach Convention Center',\n",
       " 'NBCUniversal',\n",
       " 'NBCUniversal Careers',\n",
       " 'NY Waterway Pier 11 Wall Street.',\n",
       " 'NY1 News',\n",
       " 'NYPL The New York Public Library',\n",
       " 'Naruto RAMEN',\n",
       " 'Nespresso Madison Boutique',\n",
       " 'New York City',\n",
       " 'New York City - Upper East Side',\n",
       " 'New York City Halloween Parade',\n",
       " 'New York Daily News',\n",
       " 'New York Health and Raquet Club 56th St',\n",
       " 'New York Marriott Marquis',\n",
       " 'New York Stock Exchange',\n",
       " 'New York Times Square',\n",
       " 'New York, New York',\n",
       " 'New Yorker Hotel',\n",
       " 'Newport Beach, California',\n",
       " 'Nyu-Hayden',\n",
       " 'One Dag Hammarskjold Plaza',\n",
       " 'One Penn Plaza',\n",
       " 'One World Trade Center',\n",
       " 'Our Lady Queen Of Angels School',\n",
       " 'Our Lady Queen of Martyrs RC Church - Forest Hills, NY',\n",
       " 'Our Lady of Good Counsel Church',\n",
       " \"P J Moran's\",\n",
       " 'PIX11 Media Solutions',\n",
       " 'Paley Center for Media (Museum of Television & Radio)',\n",
       " 'Park Avenue Armory',\n",
       " 'Park Avenue, NYC',\n",
       " 'Park Slope Brooklyn N,Y,',\n",
       " 'Parsons School of Design',\n",
       " 'Patacon Pisao NYC',\n",
       " 'Pennsylvania 6 NYC',\n",
       " 'Pennsylvania Convention Center - Philadelphia, PA (Philly)',\n",
       " 'Pennsylvania Station',\n",
       " 'Philadelphia, Pennsylvania',\n",
       " 'Physical Equilibrium',\n",
       " 'Pier 25',\n",
       " 'Pier6 Helicopter Port',\n",
       " 'Polo Ralph Lauren',\n",
       " 'Prospect Heights, Brooklyn',\n",
       " 'Public House NYC',\n",
       " 'Queen of Peace High School',\n",
       " 'Radio City Music Hall',\n",
       " 'Rapidbodywraps.com',\n",
       " 'Ribalta Pizza',\n",
       " 'Riverpark',\n",
       " 'Rockefeller Center',\n",
       " 'Rockefeller Center, New York, NY',\n",
       " 'Rockefeller Lookout',\n",
       " 'Rockwood Stage 3',\n",
       " 'Rolex Boutique by Wempe',\n",
       " 'SIR Stage37',\n",
       " 'Saint Crispin Friary',\n",
       " 'Saint Patrick Catheral New York',\n",
       " 'Saint Patrick Church, Manhattan Newyork',\n",
       " \"Saint Patrick's Cathedral, New York . The Biggest Cathedral In USA\",\n",
       " \"Saint Raymond's Roman Catholic Church\",\n",
       " 'Salon KiKlo',\n",
       " 'San Francisco, California',\n",
       " \"San Gennaro's Feast - Little Italy\",\n",
       " 'Seven Eleven',\n",
       " u'Shanghai Caf\\xe9',\n",
       " 'Silver Towers At Kew Gardens..',\n",
       " 'Sixth Avenue',\n",
       " u'South Ferry \\u2013 Whitehall Street',\n",
       " 'South Street Seaport',\n",
       " 'St Margaret Mary Church',\n",
       " 'St Patricks Cathedral',\n",
       " 'St. Jean Baptiste Roman Catholic Church',\n",
       " \"St. Mary's Church, Long Island City, NY\",\n",
       " \"St. Patrick's Cathedral\",\n",
       " \"St. Patrick's Cathedral (Manhattan)\",\n",
       " 'St. Patricks Cathederal on 5th Ave. NYC',\n",
       " \"St. Peter's Basilica\",\n",
       " \"St. Peter's Square\",\n",
       " 'St. Vincent  Ferrer Church & Priory (Dominican Friars) New York City',\n",
       " 'Statue of Liberty National Monument',\n",
       " 'Sullivan & Cromwell',\n",
       " 'Sweet Generation',\n",
       " 'TBWA\\\\Chiat\\\\Day NY',\n",
       " 'Tag your friends',\n",
       " 'Temple Emanu-El',\n",
       " 'The Bronx',\n",
       " 'The Bronx, New York, USA',\n",
       " 'The Catholic Review',\n",
       " 'The Catholic University of America',\n",
       " 'The Empire Hotel',\n",
       " 'The FDR Drive',\n",
       " 'The Franklin Institute',\n",
       " 'The Frick Collection',\n",
       " 'The Great Lawn',\n",
       " 'The High Line',\n",
       " 'The Late Late Bar NYC',\n",
       " 'The Late Show with Stephen Colbert',\n",
       " 'The Metropolitan Museum of Art, New York',\n",
       " 'The Pierre, A Taj Hotel, New York',\n",
       " 'The Plaza Hotel',\n",
       " 'The Ritz Carlton New York, Battery Park',\n",
       " 'The St. Regis New York',\n",
       " 'The Standard, High Line',\n",
       " 'The Stanton Social',\n",
       " 'The Stone',\n",
       " 'The Vatican City, St. Peters Basilica And Sistine Chapel',\n",
       " 'The Wall Street Journal',\n",
       " 'The White House',\n",
       " 'Tiffany & Co.',\n",
       " 'Time-Life Building',\n",
       " 'Times Center',\n",
       " 'Times Square',\n",
       " 'Times Square Arts Center',\n",
       " 'Times Square, New York City',\n",
       " 'Tompkins Square Park',\n",
       " 'Tourneau Offices',\n",
       " 'Tribeca',\n",
       " 'Triomphe Restaurant',\n",
       " 'Trump Tower New York',\n",
       " 'Tumblr',\n",
       " 'United Nations Headquarters',\n",
       " 'United States',\n",
       " 'United States Capitol',\n",
       " 'Unleashed Spa, Full Grooming and Self Service Dog Wash',\n",
       " 'Upper East Side',\n",
       " 'Upper West Side Manhatten, NY',\n",
       " 'Vatican - Rome',\n",
       " 'Vatican City',\n",
       " 'Vatican City, Italy',\n",
       " u'Verrazano\\u2013Narrows Bridge',\n",
       " 'W. 57th And 5th',\n",
       " 'Waldorf Astoria New York',\n",
       " 'Wall St/Pier 11 Terminal',\n",
       " 'Wall Street - Financial District NYC',\n",
       " 'Washington, DC',\n",
       " 'Washington, District of Columbia',\n",
       " 'Waterside Plaza',\n",
       " 'Wcbd-Tv Count On News 2',\n",
       " 'Williamsburg, Brooklyn',\n",
       " 'Williamsburg, Brooklyn, NYC',\n",
       " 'Wine Disciples',\n",
       " 'World Maker Faire',\n",
       " 'Worldtrade Center 9/11 Memorial',\n",
       " 'Yankee Stadium',\n",
       " 'Yodle',\n",
       " 'Yorkers',\n",
       " 'lightbox'}"
      ]
     },
     "execution_count": 56,
     "metadata": {},
     "output_type": "execute_result"
    }
   ],
   "source": [
    "# check if the object - m - has a location attribute\n",
    "location_names = set([m.location.name for m in all_media if hasattr(m, 'location')])\n",
    "len(location_names)\n",
    "location_names"
   ]
  },
  {
   "cell_type": "code",
   "execution_count": 57,
   "metadata": {
    "collapsed": false
   },
   "outputs": [],
   "source": [
    "locations = {m.user.username:m.location for m in all_media if hasattr(m, 'location')}"
   ]
  },
  {
   "cell_type": "code",
   "execution_count": 58,
   "metadata": {
    "collapsed": false
   },
   "outputs": [
    {
     "name": "stdout",
     "output_type": "stream",
     "text": [
      "laverony Location: 235344995 (Point: (40.774, -73.966))\n",
      "cimplesurf Location: 3000346 (Point: (40.758684623, -73.976522469))\n",
      "emilyvdriscoll Location: 240688762 (Point: (40.771606205, -73.965122612))\n",
      "adamwiener Location: 693546 (Point: (40.758824747, -73.978917319))\n",
      "nativitynyc Location: 243068390 (Point: (40.7275, -73.985833333))\n",
      "thepierreny Location: 21288 (Point: (40.765096495, -73.971556966))\n",
      "jennifertravels3 Location: 212988663 (Point: (40.7142, -74.0064))\n",
      "que215 Location: 214228753 (Point: (39.998, -75.1448))\n",
      "ladyhattan Location: 235344995 (Point: (40.774, -73.966))\n",
      "ronnay21 Location: 241968552 (Point: (40.7624588, -73.9741211))\n"
     ]
    }
   ],
   "source": [
    "for u,loc in locations.items()[:10]:\n",
    "    print u,loc"
   ]
  },
  {
   "cell_type": "code",
   "execution_count": 59,
   "metadata": {
    "collapsed": false
   },
   "outputs": [
    {
     "name": "stdout",
     "output_type": "stream",
     "text": [
      "235344995\n",
      "Fifth Avenue\n",
      "40.774\n",
      "-73.966\n"
     ]
    }
   ],
   "source": [
    "user_loc = locations['laverony']\n",
    "\n",
    "print user_loc.id\n",
    "print user_loc.name\n",
    "print user_loc.point.latitude\n",
    "print user_loc.point.longitude"
   ]
  },
  {
   "cell_type": "code",
   "execution_count": 60,
   "metadata": {
    "collapsed": false
   },
   "outputs": [
    {
     "name": "stdout",
     "output_type": "stream",
     "text": [
      "931, 5th Avenue, Upper East Side, Manhattan, New York County, NYC, New York, 10021, United States of America\n",
      "{\n",
      " \"display_name\": \"931, 5th Avenue, Upper East Side, Manhattan, New York County, NYC, New York, 10021, United States of America\", \n",
      " \"place_id\": \"29729729\", \n",
      " \"lon\": \"-73.9657674\", \n",
      " \"osm_type\": \"node\", \n",
      " \"licence\": \"Data \\u00a9 OpenStreetMap contributors, ODbL 1.0. http://www.openstreetmap.org/copyright\", \n",
      " \"osm_id\": \"2723924788\", \n",
      " \"lat\": \"40.773901\", \n",
      " \"address\": {\n",
      "  \"city\": \"NYC\", \n",
      "  \"house_number\": \"931\", \n",
      "  \"country\": \"United States of America\", \n",
      "  \"county\": \"New York County\", \n",
      "  \"suburb\": \"Manhattan\", \n",
      "  \"state\": \"New York\", \n",
      "  \"road\": \"5th Avenue\", \n",
      "  \"country_code\": \"us\", \n",
      "  \"neighbourhood\": \"Upper East Side\", \n",
      "  \"postcode\": \"10021\"\n",
      " }\n",
      "}\n"
     ]
    }
   ],
   "source": [
    "# pip install geopy\n",
    "# reverse geo-lookup -> for more geographic information\n",
    "import json\n",
    "from geopy.geocoders import Nominatim\n",
    "geolocator = Nominatim()\n",
    "\n",
    "location = geolocator.reverse((user_loc.point.latitude, user_loc.point.longitude))\n",
    "print location.address\n",
    "print json.dumps(location.raw, indent=1)\n"
   ]
  }
 ],
 "metadata": {
  "kernelspec": {
   "display_name": "Python 2",
   "language": "python",
   "name": "python2"
  },
  "language_info": {
   "codemirror_mode": {
    "name": "ipython",
    "version": 2
   },
   "file_extension": ".py",
   "mimetype": "text/x-python",
   "name": "python",
   "nbconvert_exporter": "python",
   "pygments_lexer": "ipython2",
   "version": "2.7.6"
  }
 },
 "nbformat": 4,
 "nbformat_minor": 0
}
