{
 "metadata": {
  "name": "InstagramAPI.ipynb"
 },
 "nbformat": 3,
 "nbformat_minor": 0,
 "worksheets": [
  {
   "cells": [
    {
     "cell_type": "heading",
     "level": 3,
     "metadata": {},
     "source": [
      "Instagram API"
     ]
    },
    {
     "cell_type": "code",
     "collapsed": false,
     "input": [
      "# Instagram API - get client_id, client_secret - for your app\n",
      "# go here to register your application - http://instagram.com/developer/\n",
      "# pip install python-instagram\n",
      "# full documentation here - https://github.com/Instagram/python-instagram\n",
      "\n",
      "client_id = ''\n",
      "client_secret = ''\n",
      "\n",
      "from instagram.client import InstagramAPI\n",
      "\n",
      "# documentation here - https://github.com/Instagram/python-instagram\n",
      "api = InstagramAPI(client_id=client_id, client_secret=client_secret)"
     ],
     "language": "python",
     "metadata": {},
     "outputs": []
    },
    {
     "cell_type": "heading",
     "level": 3,
     "metadata": {},
     "source": [
      "Instagram Tag Count"
     ]
    },
    {
     "cell_type": "code",
     "collapsed": false,
     "input": [
      "# get ig tag info\n",
      "used_tag = 'nyu'\n",
      "ans = api.tag(used_tag).media_count\n",
      "print ans"
     ],
     "language": "python",
     "metadata": {},
     "outputs": []
    },
    {
     "cell_type": "code",
     "collapsed": false,
     "input": [
      "# get ig tag info\n",
      "used_tag = 'secretapp'\n",
      "ans = api.tag(used_tag).media_count\n",
      "print ans"
     ],
     "language": "python",
     "metadata": {},
     "outputs": []
    },
    {
     "cell_type": "code",
     "collapsed": false,
     "input": [
      "# get ig tag info\n",
      "used_tag = 'occupycentral'\n",
      "ans = api.tag(used_tag).media_count\n",
      "print ans"
     ],
     "language": "python",
     "metadata": {},
     "outputs": []
    },
    {
     "cell_type": "heading",
     "level": 3,
     "metadata": {},
     "source": [
      "Instagram Media"
     ]
    },
    {
     "cell_type": "code",
     "collapsed": false,
     "input": [
      "# get ig media based on tag\n",
      "max_tag_id = 0\n",
      "ans = api.tag_recent_media(200, max_tag_id, used_tag)\n",
      "ans"
     ],
     "language": "python",
     "metadata": {},
     "outputs": []
    },
    {
     "cell_type": "code",
     "collapsed": false,
     "input": [
      "all_media = []\n",
      "\n",
      "for m in ans[0]:\n",
      "    print m.created_time\n",
      "    print m.id\n",
      "    print m.user\n",
      "    print m.link\n",
      "    print ''\n",
      "    all_media.append(m)"
     ],
     "language": "python",
     "metadata": {},
     "outputs": []
    },
    {
     "cell_type": "code",
     "collapsed": false,
     "input": [
      "ans[1]"
     ],
     "language": "python",
     "metadata": {},
     "outputs": []
    },
    {
     "cell_type": "code",
     "collapsed": false,
     "input": [
      "from urlparse import urlparse\n",
      "\n",
      "parsed = urlparse(ans[1])\n",
      "print parsed\n",
      "print parsed.query\n",
      "print ''"
     ],
     "language": "python",
     "metadata": {},
     "outputs": []
    },
    {
     "cell_type": "code",
     "collapsed": false,
     "input": [
      "params = {a:b for a,b in [x.split('=') for x in parsed.query.split('&')]}\n",
      "params"
     ],
     "language": "python",
     "metadata": {},
     "outputs": []
    },
    {
     "cell_type": "code",
     "collapsed": false,
     "input": [
      "for i in range(1000):\n",
      "    max_tag_id = int(params['max_tag_id'])\n",
      "    ans = api.tag_recent_media(200, max_tag_id-1, used_tag)\n",
      "    for m in ans[0]:\n",
      "        all_media.append(m)\n",
      "\n",
      "    # get next max_tag_id\n",
      "    parsed = urlparse(ans[1])\n",
      "    params = {a:b for a,b in [x.split('=') for x in parsed.query.split('&')]}"
     ],
     "language": "python",
     "metadata": {},
     "outputs": []
    },
    {
     "cell_type": "code",
     "collapsed": false,
     "input": [
      "len(all_media)"
     ],
     "language": "python",
     "metadata": {},
     "outputs": []
    },
    {
     "cell_type": "code",
     "collapsed": false,
     "input": [
      "import pickle\n",
      "path = '/Users/giladlotan/Documents/ITP Course/code/Week6/'\n",
      "pickle.dump(all_media, open(path+'%s_ig.p' % used_tag,'wb'))"
     ],
     "language": "python",
     "metadata": {},
     "outputs": []
    },
    {
     "cell_type": "code",
     "collapsed": false,
     "input": [
      "all_media = pickle.load(open(path+'%s_ig.p' % used_tag,'rb'))"
     ],
     "language": "python",
     "metadata": {},
     "outputs": []
    },
    {
     "cell_type": "heading",
     "level": 3,
     "metadata": {},
     "source": [
      "Let's look at our data"
     ]
    },
    {
     "cell_type": "code",
     "collapsed": false,
     "input": [
      "dir(all_media[0])"
     ],
     "language": "python",
     "metadata": {},
     "outputs": []
    },
    {
     "cell_type": "code",
     "collapsed": false,
     "input": [
      "# users\n",
      "users = set([m.user.username for m in all_media])\n",
      "len(users)"
     ],
     "language": "python",
     "metadata": {},
     "outputs": []
    },
    {
     "cell_type": "code",
     "collapsed": false,
     "input": [
      "# likes - most liked post\n",
      "for m in sorted(all_media, key=lambda x: -x.like_count)[:10]:\n",
      "    print m.like_count, m.caption, m.link, '\\n'"
     ],
     "language": "python",
     "metadata": {},
     "outputs": []
    },
    {
     "cell_type": "code",
     "collapsed": false,
     "input": [
      "# comments - most commented on post\n",
      "for m in sorted(all_media, key=lambda x: -x.comment_count)[:10]:\n",
      "    print m.like_count, m.caption, m.link, '\\n'"
     ],
     "language": "python",
     "metadata": {},
     "outputs": []
    },
    {
     "cell_type": "code",
     "collapsed": false,
     "input": [
      "# comments - most commented on post\n",
      "for m in sorted(all_media, key=lambda x: -x.like_count)[:20]:\n",
      "    print m.like_count, m.comment_count, m.link"
     ],
     "language": "python",
     "metadata": {},
     "outputs": []
    },
    {
     "cell_type": "code",
     "collapsed": false,
     "input": [
      "%pylab inline\n",
      "\n",
      "l = [m.like_count for m in all_media]\n",
      "c = [m.comment_count for m in all_media]\n",
      "\n",
      "# let's plot the relationship between these two variables\n",
      "\n",
      "scatter(l,c,s=50,alpha=.1)\n",
      "title('likes vs. comments')\n",
      "ylabel('comment count')\n",
      "xlabel('like count')\n"
     ],
     "language": "python",
     "metadata": {},
     "outputs": []
    },
    {
     "cell_type": "code",
     "collapsed": false,
     "input": [
      "l_log = [log(m.like_count) for m in all_media]\n",
      "c_log = [log(m.comment_count) for m in all_media]\n",
      "\n",
      "# let's plot the relationship between these two variables\n",
      "rcParams['figure.figsize'] = 12,6\n",
      "scatter(l_log,c_log,s=50,alpha=.1)\n",
      "title('likes vs. comments')\n",
      "ylabel('comment count')\n",
      "xlabel('like count')\n"
     ],
     "language": "python",
     "metadata": {},
     "outputs": []
    },
    {
     "cell_type": "raw",
     "metadata": {},
     "source": [
      "In the future we'll want to be able to describe the relationship between the two variables -> is there a general patterns? Given one can we predict the other?\n",
      "\n",
      "We will com back to:\n",
      "- curve fitting\n",
      "- least squares regression"
     ]
    },
    {
     "cell_type": "heading",
     "level": 3,
     "metadata": {},
     "source": [
      "tags"
     ]
    },
    {
     "cell_type": "code",
     "collapsed": false,
     "input": [
      "from collections import Counter\n",
      "\n",
      "#all_tags = [t.name for t in m.tags for m in all_media if hasattr(m, 'tags')]"
     ],
     "language": "python",
     "metadata": {},
     "outputs": []
    },
    {
     "cell_type": "code",
     "collapsed": false,
     "input": [
      "all_tags = []\n",
      "for m in all_media:\n",
      "    if hasattr(m, 'tags'):\n",
      "        all_tags += [t.name for t in m.tags]"
     ],
     "language": "python",
     "metadata": {},
     "outputs": []
    },
    {
     "cell_type": "code",
     "collapsed": false,
     "input": [
      "counted_tags = Counter(all_tags)\n",
      "counted_tags.most_common(40)"
     ],
     "language": "python",
     "metadata": {},
     "outputs": []
    },
    {
     "cell_type": "heading",
     "level": 3,
     "metadata": {},
     "source": [
      "location"
     ]
    },
    {
     "cell_type": "code",
     "collapsed": false,
     "input": [
      "# check if the object - m - has a location attribute\n",
      "location_names = set([m.location.name for m in all_media if hasattr(m, 'location')])\n",
      "len(location_names)\n",
      "location_names"
     ],
     "language": "python",
     "metadata": {},
     "outputs": []
    },
    {
     "cell_type": "code",
     "collapsed": false,
     "input": [
      "locations = {m.user.username:m.location for m in all_media if hasattr(m, 'location')}"
     ],
     "language": "python",
     "metadata": {},
     "outputs": []
    },
    {
     "cell_type": "code",
     "collapsed": false,
     "input": [
      "for u,loc in locations.items()[:10]:\n",
      "    print u,loc"
     ],
     "language": "python",
     "metadata": {},
     "outputs": []
    },
    {
     "cell_type": "code",
     "collapsed": false,
     "input": [
      "user_loc = locations['garyjrobinson']\n",
      "\n",
      "print user_loc.id\n",
      "print user_loc.name\n",
      "print user_loc.point.latitude\n",
      "print user_loc.point.longitude"
     ],
     "language": "python",
     "metadata": {},
     "outputs": []
    },
    {
     "cell_type": "code",
     "collapsed": false,
     "input": [
      "# pip install geopy\n",
      "# reverse geo-lookup -> for more geographic information\n",
      "import json\n",
      "from geopy.geocoders import Nominatim\n",
      "geolocator = Nominatim()\n",
      "\n",
      "location = geolocator.reverse((user_loc.point.latitude, user_loc.point.longitude))\n",
      "print location.address\n",
      "print json.dumps(location.raw, indent=1)\n"
     ],
     "language": "python",
     "metadata": {},
     "outputs": []
    },
    {
     "cell_type": "heading",
     "level": 3,
     "metadata": {},
     "source": [
      "Building an Instagram co-tag graph"
     ]
    },
    {
     "cell_type": "code",
     "collapsed": false,
     "input": [
      "import networkx as nx\n",
      "\n",
      "# functions that help us construct the graph\n",
      "def graph_add_node(n, g):\n",
      "    try:\n",
      "        if g.has_node(n):\n",
      "            g.node[n]['weight']+=1\n",
      "        else:\n",
      "            g.add_node(n)\n",
      "            g.node[n]['label'] = n\n",
      "            g.node[n]['weight'] = 1\n",
      "    except:\n",
      "        return\n",
      "            \n",
      "def graph_add_edge(n1, n2, g):\n",
      "    if g.has_edge(n1, n2):\n",
      "        g[n1][n2]['weight']+=1\n",
      "    else:\n",
      "        g.add_edge(n1,n2)\n",
      "        g[n1][n2]['weight']=1"
     ],
     "language": "python",
     "metadata": {},
     "outputs": []
    },
    {
     "cell_type": "code",
     "collapsed": false,
     "input": [
      "from itertools import combinations\n",
      "\n",
      "g = nx.Graph()\n",
      "\n",
      "for m in all_media:\n",
      "    if not hasattr(m, 'tags'):\n",
      "        continue\n",
      "        \n",
      "    cur_tags = [t.name for t in m.tags]\n",
      "    for t in m.tags:\n",
      "        graph_add_node(t.name, g)\n",
      "        \n",
      "    for t1, t2 in combinations(cur_tags, 2):\n",
      "        graph_add_edge(t1, t2, g)"
     ],
     "language": "python",
     "metadata": {},
     "outputs": []
    },
    {
     "cell_type": "code",
     "collapsed": false,
     "input": [
      "print 'num nodes:', nx.number_of_nodes(g)\n",
      "print 'num edges:', nx.number_of_edges(g)"
     ],
     "language": "python",
     "metadata": {},
     "outputs": []
    },
    {
     "cell_type": "code",
     "collapsed": false,
     "input": [
      "from community import *"
     ],
     "language": "python",
     "metadata": {},
     "outputs": []
    },
    {
     "cell_type": "code",
     "collapsed": false,
     "input": [
      "part = best_partition(g)\n",
      "part_vals = sorted(set(part.values()))\n",
      "part_hist = [part.values().count(x) for x in part_vals]"
     ],
     "language": "python",
     "metadata": {},
     "outputs": []
    },
    {
     "cell_type": "code",
     "collapsed": false,
     "input": [
      "plot(part_vals, part_hist, 'ro-')\n",
      "title('membership to cluster group')\n",
      "xlabel('cluster group #')\n",
      "ylabel('membership size')\n",
      "rcParams['figure.figsize'] = 16,8\n",
      "\n",
      "top_clusters = []\n",
      "limit = 10\n",
      "print 'top %s clusters:' % limit\n",
      "for i in sorted(part_hist, reverse=True)[:limit]:\n",
      "    print 'cluster %s has %s members' % (part_hist.index(i), i)\n",
      "    top_clusters.append(part_hist.index(i))"
     ],
     "language": "python",
     "metadata": {},
     "outputs": []
    },
    {
     "cell_type": "code",
     "collapsed": false,
     "input": [
      "gc_sub = {}\n",
      "avg_cc_sub = {}\n",
      "clo_sub = {}\n",
      "cl_cen = {}\n",
      "\n",
      "for c in top_clusters:\n",
      "    gc_sub[c]=g.subgraph(g.nbunch_iter([x for x,y in part.items() if y==c]))\n",
      "    avg_cc_sub[c] = round(nx.average_clustering(gc_sub[c]),5)\n",
      "    avg_deg = round(mean(nx.degree(gc_sub[c]).values()),5)\n",
      "    med_deg = round(median(nx.degree(gc_sub[c]).values()),5)\n",
      "    num_triangles = sum(nx.triangles(gc_sub[c]).values())\n",
      "    cl_cen[c] = nx.degree_centrality(gc_sub[c])\n",
      "\n",
      "    print '%s) avg_cc:%s, avg_deg:%s, med_deg:%s, num_triangles:%s [%s,%s]' % (c, avg_cc_sub[c], avg_deg, med_deg, num_triangles, gc_sub[c].order() ,gc_sub[c].size())"
     ],
     "language": "python",
     "metadata": {},
     "outputs": []
    },
    {
     "cell_type": "code",
     "collapsed": false,
     "input": [
      "# show top words from within clusters, sorted by centrality\n",
      "for c in top_clusters:\n",
      "\n",
      "    members = {}    \n",
      "    for m_id in [x for x,y in part.items() if y==c]:\n",
      "        cur_sn = g.node[m_id]['label']\n",
      "        #cur_weight = g.node[m_id]['weight']\n",
      "        cur_deg = round(cl_cen[c][cur_sn],4)\n",
      "        \n",
      "        members[cur_sn]=cur_deg\n",
      "    \n",
      "    print 'cluster %s' % c\n",
      "    print sorted(members.items(), key=lambda x: -x[1])[:30]\n",
      "    print ''\n"
     ],
     "language": "python",
     "metadata": {},
     "outputs": []
    },
    {
     "cell_type": "code",
     "collapsed": false,
     "input": [
      "path = '/Users/giladlotan/Documents/ITP Course/code/Week6/'\n",
      "nx.write_gexf(g, path+'%s_insta_tags.gexf' % used_tag)\n",
      "print path+'%s_insta_tags.gexf' % used_tag"
     ],
     "language": "python",
     "metadata": {},
     "outputs": []
    },
    {
     "cell_type": "heading",
     "level": 3,
     "metadata": {},
     "source": [
      "Now let's add location"
     ]
    },
    {
     "cell_type": "code",
     "collapsed": false,
     "input": [
      "import networkx as nx\n",
      "\n",
      "def graph_add_node(n, g, params):\n",
      "    \n",
      "    try:\n",
      "        if g.has_node(n):\n",
      "            g.node[n]['weight']+=1\n",
      "        else:\n",
      "            g.add_node(n)\n",
      "            g.node[n]['weight'] = 1\n",
      "            for k,v in params.items():\n",
      "                g.node[n][k]=v\n",
      "    except:\n",
      "        return\n",
      "            \n",
      "def graph_add_edge(n1, n2, g):\n",
      "    if g.has_edge(n1, n2):\n",
      "        g[n1][n2]['weight']+=1\n",
      "    else:\n",
      "        g.add_edge(n1,n2)\n",
      "        g[n1][n2]['weight']=1"
     ],
     "language": "python",
     "metadata": {},
     "outputs": []
    },
    {
     "cell_type": "code",
     "collapsed": false,
     "input": [
      "g = nx.DiGraph()\n",
      "\n",
      "for m in all_media:\n",
      "    if not hasattr(m, 'location'):\n",
      "        continue\n",
      "        \n",
      "    try:\n",
      "        params = {'label':m.user.username, \n",
      "                  'likes':m.like_count, \n",
      "                  'comments':m.comment_count,\n",
      "                  'location_name':m.location.name, \n",
      "                  'lat':m.location.point.latitude, \n",
      "                  'lng':m.location.point.longitude\n",
      "                  }\n",
      "    \n",
      "        graph_add_node(m.user.id, g, params)\n",
      "    except:\n",
      "        continue"
     ],
     "language": "python",
     "metadata": {},
     "outputs": []
    },
    {
     "cell_type": "code",
     "collapsed": false,
     "input": [
      "print g.number_of_nodes()\n",
      "print g.number_of_edges()"
     ],
     "language": "python",
     "metadata": {},
     "outputs": []
    },
    {
     "cell_type": "code",
     "collapsed": false,
     "input": [
      "nx.write_gexf(g, path+'%s_insta_location.gexf' % used_tag)\n",
      "print path+'%s_insta_location.gexf' % used_tag"
     ],
     "language": "python",
     "metadata": {},
     "outputs": []
    },
    {
     "cell_type": "heading",
     "level": 3,
     "metadata": {},
     "source": [
      "Now add edges to this graph"
     ]
    },
    {
     "cell_type": "raw",
     "metadata": {},
     "source": [
      "I'd love to see something like this:"
     ]
    },
    {
     "cell_type": "markdown",
     "metadata": {},
     "source": [
      "<img src=\"http://i.imgur.com/06mvfnK.png\"/>"
     ]
    },
    {
     "cell_type": "raw",
     "metadata": {},
     "source": [
      "Or these:"
     ]
    },
    {
     "cell_type": "markdown",
     "metadata": {},
     "source": [
      "<img src=\"http://i.imgur.com/lChkrbz.png\"/>"
     ]
    },
    {
     "cell_type": "markdown",
     "metadata": {},
     "source": [
      "<img src=\"http://i.imgur.com/tGpaULp.png\"/>"
     ]
    },
    {
     "cell_type": "raw",
     "metadata": {},
     "source": [
      "This one's up to you to figure out guys. \n",
      "Hints below:"
     ]
    },
    {
     "cell_type": "code",
     "collapsed": false,
     "input": [
      "# each IG media object comes with a list of a few ppl who liked it (unfortunately not all)\n",
      "\n",
      "for u in all_media[5].likes:\n",
      "    print u.username, u.id, u.full_name, u.profile_picture"
     ],
     "language": "python",
     "metadata": {},
     "outputs": []
    },
    {
     "cell_type": "code",
     "collapsed": false,
     "input": [
      "# but you might be able to get other interesting user information directly from the IG API\n",
      "# for user relationship information we're going to have to make authenticated calls\n",
      "# get your instagram access_token here - http://www.pinceladasdaweb.com.br/instagram/access-token/\n",
      "# copy the string from the access token generator\n",
      "# or you can implement it yourself - https://github.com/Instagram/python-instagram/blob/master/get_access_token.py\n",
      "\n",
      "access_token = 'YOUR_ACCESS_TOKEN'\n",
      "access_token = '960993.5b9e1e6.a70300be24474c08ba03de217c1f6abf'\n",
      "api = InstagramAPI(access_token=access_token)"
     ],
     "language": "python",
     "metadata": {},
     "outputs": []
    },
    {
     "cell_type": "code",
     "collapsed": false,
     "input": [
      "ans = api.user_follows(user_id=6222601)\n",
      "ans"
     ],
     "language": "python",
     "metadata": {},
     "outputs": []
    },
    {
     "cell_type": "code",
     "collapsed": false,
     "input": [
      "for u in ans[0]:\n",
      "    print u.username, u.id"
     ],
     "language": "python",
     "metadata": {},
     "outputs": []
    },
    {
     "cell_type": "code",
     "collapsed": false,
     "input": [
      "# need to paginate through results\n",
      "ans[1]"
     ],
     "language": "python",
     "metadata": {},
     "outputs": []
    },
    {
     "cell_type": "code",
     "collapsed": false,
     "input": [
      "ans = api.user_follows(user_id=6222601, cursor=1408269332996)\n",
      "ans"
     ],
     "language": "python",
     "metadata": {},
     "outputs": []
    },
    {
     "cell_type": "code",
     "collapsed": false,
     "input": [
      "# remember - we did a similar thing above, with media"
     ],
     "language": "python",
     "metadata": {},
     "outputs": []
    },
    {
     "cell_type": "code",
     "collapsed": false,
     "input": [],
     "language": "python",
     "metadata": {},
     "outputs": []
    },
    {
     "cell_type": "raw",
     "metadata": {},
     "source": [
      "PRO-TIP:\n",
      "- start collecting data AS SOON AS POSSIBLE!"
     ]
    }
   ],
   "metadata": {}
  }
 ]
}