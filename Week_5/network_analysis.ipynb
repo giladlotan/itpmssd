{
 "cells": [
  {
   "cell_type": "markdown",
   "metadata": {},
   "source": [
    "## Getting Started with Networkx"
   ]
  },
  {
   "cell_type": "markdown",
   "metadata": {},
   "source": [
    "NetworkX documentation: https://networkx.github.io/documentation/latest/"
   ]
  },
  {
   "cell_type": "code",
   "execution_count": 7,
   "metadata": {
    "collapsed": false
   },
   "outputs": [
    {
     "data": {
      "text/plain": [
       "<networkx.classes.graph.Graph at 0x7ffba6b07990>"
      ]
     },
     "execution_count": 7,
     "metadata": {},
     "output_type": "execute_result"
    }
   ],
   "source": [
    "# sudo pip install networkx\n",
    "\n",
    "import networkx as nx\n",
    "\n",
    "g = nx.Graph()\n",
    "g"
   ]
  },
  {
   "cell_type": "code",
   "execution_count": 2,
   "metadata": {
    "collapsed": false
   },
   "outputs": [
    {
     "name": "stdout",
     "output_type": "stream",
     "text": [
      "[]\n",
      "[]\n"
     ]
    }
   ],
   "source": [
    "print g.nodes()\n",
    "print g.edges()"
   ]
  },
  {
   "cell_type": "code",
   "execution_count": 8,
   "metadata": {
    "collapsed": false
   },
   "outputs": [
    {
     "name": "stdout",
     "output_type": "stream",
     "text": [
      "[1]\n"
     ]
    }
   ],
   "source": [
    "import numpy as np\n",
    "\n",
    "g.add_node(1)\n",
    "print g.nodes()"
   ]
  },
  {
   "cell_type": "code",
   "execution_count": 9,
   "metadata": {
    "collapsed": false
   },
   "outputs": [
    {
     "name": "stdout",
     "output_type": "stream",
     "text": [
      "[1, 2, 3]\n"
     ]
    }
   ],
   "source": [
    "g.add_nodes_from([2,3])\n",
    "print g.nodes()"
   ]
  },
  {
   "cell_type": "code",
   "execution_count": 10,
   "metadata": {
    "collapsed": false
   },
   "outputs": [
    {
     "data": {
      "text/plain": [
       "[4, 5, 6, 7, 8, 9, 10]"
      ]
     },
     "execution_count": 10,
     "metadata": {},
     "output_type": "execute_result"
    }
   ],
   "source": [
    "range(4,11,1)"
   ]
  },
  {
   "cell_type": "code",
   "execution_count": 11,
   "metadata": {
    "collapsed": false
   },
   "outputs": [
    {
     "name": "stdout",
     "output_type": "stream",
     "text": [
      "[1, 2, 3, 4, 5, 6, 7, 8, 9, 10]\n"
     ]
    }
   ],
   "source": [
    "g.add_nodes_from(range(4,11,1))\n",
    "print g.nodes()"
   ]
  },
  {
   "cell_type": "markdown",
   "metadata": {},
   "source": [
    "A node can be any hashable object (immutable), such as strings, numbers, files, functions and more. "
   ]
  },
  {
   "cell_type": "code",
   "execution_count": null,
   "metadata": {
    "collapsed": false
   },
   "outputs": [],
   "source": [
    "g2 = nx.Graph()\n",
    "import numpy as np\n",
    "\n",
    "g2.add_node(np.mean)\n",
    "g2.add_node('x')\n",
    "g2.nodes()"
   ]
  },
  {
   "cell_type": "markdown",
   "metadata": {},
   "source": [
    "Now let's add edges"
   ]
  },
  {
   "cell_type": "code",
   "execution_count": 12,
   "metadata": {
    "collapsed": true
   },
   "outputs": [],
   "source": [
    "g.add_edge(1,2)"
   ]
  },
  {
   "cell_type": "code",
   "execution_count": 16,
   "metadata": {
    "collapsed": false
   },
   "outputs": [
    {
     "name": "stdout",
     "output_type": "stream",
     "text": [
      "[(1, 2)]\n",
      "{2: {}}\n"
     ]
    }
   ],
   "source": [
    "print g.edges()\n",
    "print g.edge[1]"
   ]
  },
  {
   "cell_type": "code",
   "execution_count": 17,
   "metadata": {
    "collapsed": false
   },
   "outputs": [
    {
     "data": {
      "text/plain": [
       "[(1, 2), (2, 3), (3, 4), (4, 5), (5, 6), (6, 7), (7, 8), (8, 9), (9, 10)]"
      ]
     },
     "execution_count": 17,
     "metadata": {},
     "output_type": "execute_result"
    }
   ],
   "source": [
    "g.add_edges_from([(2,3),(3,4)])\n",
    "for i in range(4,10,1):\n",
    "    g.add_edge(i,i+1)\n",
    "g.edges()"
   ]
  },
  {
   "cell_type": "code",
   "execution_count": 18,
   "metadata": {
    "collapsed": false
   },
   "outputs": [
    {
     "name": "stdout",
     "output_type": "stream",
     "text": [
      "nodes: 10\n",
      "edges: 9\n"
     ]
    }
   ],
   "source": [
    "print 'nodes:',g.number_of_nodes()\n",
    "print 'edges:',g.number_of_edges()"
   ]
  },
  {
   "cell_type": "markdown",
   "metadata": {},
   "source": [
    "We can annotate nodes and edges with attributes"
   ]
  },
  {
   "cell_type": "code",
   "execution_count": 19,
   "metadata": {
    "collapsed": false
   },
   "outputs": [
    {
     "data": {
      "text/plain": [
       "{'weight': 1.0}"
      ]
     },
     "execution_count": 19,
     "metadata": {},
     "output_type": "execute_result"
    }
   ],
   "source": [
    "g[1][2]['weight'] = 1.0\n",
    "g[1][2]"
   ]
  },
  {
   "cell_type": "code",
   "execution_count": 23,
   "metadata": {
    "collapsed": false
   },
   "outputs": [],
   "source": [
    "g.node[1]['name']='Melissa'"
   ]
  },
  {
   "cell_type": "code",
   "execution_count": 25,
   "metadata": {
    "collapsed": false
   },
   "outputs": [
    {
     "name": "stdout",
     "output_type": "stream",
     "text": [
      "{'name': 'Melissa'}\n",
      "{2: {'weight': 1.0}}\n"
     ]
    }
   ],
   "source": [
    "print g.node[1]\n",
    "print g[1]"
   ]
  },
  {
   "cell_type": "code",
   "execution_count": 26,
   "metadata": {
    "collapsed": false
   },
   "outputs": [
    {
     "name": "stdout",
     "output_type": "stream",
     "text": [
      "edge info: {2: {'weight': 1.0}}\n",
      "node info: {'name': 'Melissa'}\n"
     ]
    }
   ],
   "source": [
    "for i in range(2,10,1):\n",
    "    g[i][i+1]['weight'] = i*1.0\n",
    "\n",
    "# shows all edges + attributes (same as running g[1])\n",
    "print 'edge info:',g.edge[1]\n",
    "print 'node info:',g.node[1]"
   ]
  },
  {
   "cell_type": "code",
   "execution_count": 27,
   "metadata": {
    "collapsed": false
   },
   "outputs": [
    {
     "name": "stdout",
     "output_type": "stream",
     "text": [
      "node info: {'name': 'one'}\n"
     ]
    }
   ],
   "source": [
    "g.node[1]['name']='one'\n",
    "print 'node info:',g.node[1]"
   ]
  },
  {
   "cell_type": "markdown",
   "metadata": {},
   "source": [
    "And it is easy to iterate over the nodes and edges of a graph"
   ]
  },
  {
   "cell_type": "code",
   "execution_count": null,
   "metadata": {
    "collapsed": false
   },
   "outputs": [],
   "source": [
    "# naming every node in the graph\n",
    "names = ['one','two','three','four','five','six','seven','eight','nine','ten']\n",
    "for node in g.nodes():\n",
    "    g.node[node]['name'] = names[node-1]"
   ]
  },
  {
   "cell_type": "code",
   "execution_count": null,
   "metadata": {
    "collapsed": false
   },
   "outputs": [],
   "source": [
    "# print all edge weights\n",
    "for u,v in g.edges():\n",
    "    print g.node[u]['name'],v, g[u][v]['weight']"
   ]
  },
  {
   "cell_type": "code",
   "execution_count": null,
   "metadata": {
    "collapsed": false
   },
   "outputs": [],
   "source": [
    "# find neighbors of a particular node\n",
    "for node in g.nodes():\n",
    "    print node, g.neighbors(node)"
   ]
  },
  {
   "cell_type": "markdown",
   "metadata": {},
   "source": [
    "## Class Graph"
   ]
  },
  {
   "cell_type": "code",
   "execution_count": 31,
   "metadata": {
    "collapsed": false
   },
   "outputs": [
    {
     "name": "stdout",
     "output_type": "stream",
     "text": [
      "1 2\n",
      "1 3\n",
      "1 4\n",
      "1 5\n",
      "2 3\n",
      "2 4\n",
      "2 5\n",
      "3 4\n",
      "3 5\n",
      "4 5\n"
     ]
    }
   ],
   "source": [
    "# handy library that helps us get all combinations of pairs, given an array of items\n",
    "from itertools import combinations\n",
    "\n",
    "arr = [1,2,3,4,5]\n",
    "for i,j in combinations(arr,2):\n",
    "    print i,j"
   ]
  },
  {
   "cell_type": "code",
   "execution_count": 41,
   "metadata": {
    "collapsed": false
   },
   "outputs": [],
   "source": [
    "g = nx.Graph()\n",
    "\n",
    "floc = '/class/itpmssd/datasets/student_classes.txt'\n",
    "f = open(floc)\n",
    "\n",
    "for row in f:\n",
    "    r = row.strip().split(',')\n",
    "    class_name = r[0]\n",
    "    class_students = r[1:]\n",
    "    #print class_name, class_students\n",
    "    \n",
    "    # add nodes\n",
    "    for student in class_students:\n",
    "        if student!='':\n",
    "            g.add_node(student)\n",
    "        \n",
    "    # add edges\n",
    "    for s1,s2 in combinations(class_students,2):\n",
    "        g.add_edge(s1,s2)"
   ]
  },
  {
   "cell_type": "code",
   "execution_count": 43,
   "metadata": {
    "collapsed": false
   },
   "outputs": [
    {
     "name": "stdout",
     "output_type": "stream",
     "text": [
      "['Ainsley', 'Shaun', 'Eli', 'Jason', 'Song', 'Lutfiadi', 'Hugo', 'Zhen', 'Denny', 'Jin Woo', 'Kat', 'Ashley', 'Paul', 'Caroline', 'Shan', 'Maria'] 16\n"
     ]
    }
   ],
   "source": [
    "# all our nodes\n",
    "print g.nodes(), len(g.nodes())"
   ]
  },
  {
   "cell_type": "code",
   "execution_count": 44,
   "metadata": {
    "collapsed": false
   },
   "outputs": [
    {
     "name": "stdout",
     "output_type": "stream",
     "text": [
      "[('Ainsley', 'Jin Woo'), ('Ainsley', 'Paul'), ('Ainsley', 'Maria'), ('Shaun', 'Paul'), ('Shaun', 'Eli'), ('Shaun', 'Lutfiadi'), ('Shaun', 'Zhen'), ('Shaun', 'Denny'), ('Eli', 'Kat'), ('Eli', 'Shan'), ('Eli', 'Denny'), ('Eli', 'Song'), ('Jason', 'Hugo'), ('Jason', 'Caroline'), ('Jason', 'Shan'), ('Jason', 'Zhen'), ('Jason', 'Kat'), ('Song', 'Ashley'), ('Song', 'Shan'), ('Song', 'Maria'), ('Song', 'Kat'), ('Lutfiadi', 'Kat'), ('Lutfiadi', 'Shan'), ('Lutfiadi', 'Denny'), ('Hugo', 'Caroline'), ('Zhen', 'Jin Woo'), ('Zhen', 'Shan'), ('Zhen', 'Kat'), ('Denny', 'Ashley'), ('Jin Woo', 'Kat'), ('Jin Woo', 'Paul'), ('Jin Woo', 'Caroline'), ('Jin Woo', 'Maria'), ('Kat', 'Shan'), ('Paul', 'Caroline'), ('Paul', 'Maria')]\n"
     ]
    }
   ],
   "source": [
    "# all our edges\n",
    "print g.edges()"
   ]
  },
  {
   "cell_type": "code",
   "execution_count": 45,
   "metadata": {
    "collapsed": false
   },
   "outputs": [
    {
     "name": "stdout",
     "output_type": "stream",
     "text": [
      "Populating the interactive namespace from numpy and matplotlib\n"
     ]
    },
    {
     "name": "stderr",
     "output_type": "stream",
     "text": [
      "WARNING: pylab import has clobbered these variables: ['f']\n",
      "`%matplotlib` prevents importing * from pylab and numpy\n"
     ]
    },
    {
     "data": {
      "image/png": "[encoded data removed]",
      "text/plain": [
       "<matplotlib.figure.Figure at 0x7ffba6aaab50>"
      ]
     },
     "metadata": {},
     "output_type": "display_data"
    }
   ],
   "source": [
    "%pylab inline\n",
    "nx.draw(g, node_color='#A0CBE2', with_labels=True)"
   ]
  },
  {
   "cell_type": "markdown",
   "metadata": {},
   "source": [
    "### Centrality Measures"
   ]
  },
  {
   "cell_type": "markdown",
   "metadata": {},
   "source": [
    "Documentation of various centrality measures here - https://networkx.github.io/documentation/latest/reference/algorithms.centrality.html"
   ]
  },
  {
   "cell_type": "code",
   "execution_count": 46,
   "metadata": {
    "collapsed": false
   },
   "outputs": [
    {
     "data": {
      "text/plain": [
       "{'Ainsley': 3,\n",
       " 'Ashley': 2,\n",
       " 'Caroline': 4,\n",
       " 'Denny': 4,\n",
       " 'Eli': 5,\n",
       " 'Hugo': 2,\n",
       " 'Jason': 5,\n",
       " 'Jin Woo': 6,\n",
       " 'Kat': 7,\n",
       " 'Lutfiadi': 4,\n",
       " 'Maria': 4,\n",
       " 'Paul': 5,\n",
       " 'Shan': 6,\n",
       " 'Shaun': 5,\n",
       " 'Song': 5,\n",
       " 'Zhen': 5}"
      ]
     },
     "execution_count": 46,
     "metadata": {},
     "output_type": "execute_result"
    }
   ],
   "source": [
    "nx.degree(g)"
   ]
  },
  {
   "cell_type": "code",
   "execution_count": 47,
   "metadata": {
    "collapsed": false
   },
   "outputs": [
    {
     "data": {
      "text/plain": [
       "[0, 0, 2, 1, 4, 6, 2, 1]"
      ]
     },
     "execution_count": 47,
     "metadata": {},
     "output_type": "execute_result"
    }
   ],
   "source": [
    "# list of frequency of each degree value\n",
    "y = nx.degree_histogram(g)\n",
    "y"
   ]
  },
  {
   "cell_type": "code",
   "execution_count": 48,
   "metadata": {
    "collapsed": false
   },
   "outputs": [
    {
     "data": {
      "text/plain": [
       "[0, 1, 2, 3, 4, 5, 6, 7]"
      ]
     },
     "execution_count": 48,
     "metadata": {},
     "output_type": "execute_result"
    }
   ],
   "source": [
    "# needed to plot the histogram -> effectively number of \"buckets\"\n",
    "x = range(len(nx.degree_histogram(g)))\n",
    "x"
   ]
  },
  {
   "cell_type": "code",
   "execution_count": 49,
   "metadata": {
    "collapsed": false
   },
   "outputs": [
    {
     "data": {
      "text/plain": [
       "<matplotlib.text.Text at 0x7ffba4bc6810>"
      ]
     },
     "execution_count": 49,
     "metadata": {},
     "output_type": "execute_result"
    },
    {
     "data": {
      "image/png": "[encoded data removed]",
      "text/plain": [
       "<matplotlib.figure.Figure at 0x7ffba4a33090>"
      ]
     },
     "metadata": {},
     "output_type": "display_data"
    }
   ],
   "source": [
    "plot(x,y)\n",
    "title('degree histogram')\n",
    "ylabel('number of students')\n",
    "xlabel('degree')"
   ]
  },
  {
   "cell_type": "code",
   "execution_count": 50,
   "metadata": {
    "collapsed": false
   },
   "outputs": [
    {
     "data": {
      "text/plain": [
       "{'Ainsley': 0.2,\n",
       " 'Ashley': 0.13333333333333333,\n",
       " 'Caroline': 0.26666666666666666,\n",
       " 'Denny': 0.26666666666666666,\n",
       " 'Eli': 0.3333333333333333,\n",
       " 'Hugo': 0.13333333333333333,\n",
       " 'Jason': 0.3333333333333333,\n",
       " 'Jin Woo': 0.4,\n",
       " 'Kat': 0.4666666666666667,\n",
       " 'Lutfiadi': 0.26666666666666666,\n",
       " 'Maria': 0.26666666666666666,\n",
       " 'Paul': 0.3333333333333333,\n",
       " 'Shan': 0.4,\n",
       " 'Shaun': 0.3333333333333333,\n",
       " 'Song': 0.3333333333333333,\n",
       " 'Zhen': 0.3333333333333333}"
      ]
     },
     "execution_count": 50,
     "metadata": {},
     "output_type": "execute_result"
    }
   ],
   "source": [
    "# degree centrality for node v is the fraction of nodes it is connected to\n",
    "deg = nx.degree_centrality(g)\n",
    "deg"
   ]
  },
  {
   "cell_type": "code",
   "execution_count": 51,
   "metadata": {
    "collapsed": false
   },
   "outputs": [
    {
     "data": {
      "text/plain": [
       "[('Kat', 0.4666666666666667),\n",
       " ('Jin Woo', 0.4),\n",
       " ('Shan', 0.4),\n",
       " ('Shaun', 0.3333333333333333),\n",
       " ('Eli', 0.3333333333333333),\n",
       " ('Song', 0.3333333333333333),\n",
       " ('Zhen', 0.3333333333333333),\n",
       " ('Jason', 0.3333333333333333),\n",
       " ('Paul', 0.3333333333333333),\n",
       " ('Lutfiadi', 0.26666666666666666)]"
      ]
     },
     "execution_count": 51,
     "metadata": {},
     "output_type": "execute_result"
    }
   ],
   "source": [
    "# top 10 most central students\n",
    "sorted(deg.items(), key=lambda x:-x[1])[:10]"
   ]
  },
  {
   "cell_type": "code",
   "execution_count": 52,
   "metadata": {
    "collapsed": false
   },
   "outputs": [
    {
     "name": "stdout",
     "output_type": "stream",
     "text": [
      "{'Ainsley': 0.0, 'Shaun': 0.1123356009070295, 'Eli': 0.04405895691609978, 'Lutfiadi': 0.02659863945578232, 'Maria': 0.05755102040816327, 'Song': 0.13628117913832202, 'Hugo': 0.0, 'Zhen': 0.04907029478458051, 'Ashley': 0.007936507936507936, 'Jin Woo': 0.11922902494331068, 'Kat': 0.1470748299319728, 'Jason': 0.116281179138322, 'Paul': 0.10746031746031745, 'Denny': 0.03571428571428572, 'Shan': 0.07873015873015873, 'Caroline': 0.06643990929705215}\n"
     ]
    }
   ],
   "source": [
    "# betweenness centrality is equal to the number of shortest paths from all vertices to all others \n",
    "# that pass through that node. A node with high betweenness centrality has a large influence on the transfer\n",
    "# of items through the network, under the assumption that item transfer follows the shortest paths.\n",
    "\n",
    "betweenness = nx.betweenness_centrality(g)\n",
    "print betweenness"
   ]
  },
  {
   "cell_type": "code",
   "execution_count": null,
   "metadata": {
    "collapsed": false
   },
   "outputs": [],
   "source": [
    "sorted(betweenness.items(), key=lambda x:-x[1])[:10]"
   ]
  },
  {
   "cell_type": "markdown",
   "metadata": {},
   "source": [
    "### Graph Properties"
   ]
  },
  {
   "cell_type": "code",
   "execution_count": 53,
   "metadata": {
    "collapsed": false
   },
   "outputs": [
    {
     "name": "stdout",
     "output_type": "stream",
     "text": [
      "radius: 2\n",
      "diameter: 4\n",
      "eccentricity: {'Ainsley': 3, 'Shaun': 3, 'Eli': 3, 'Lutfiadi': 3, 'Maria': 3, 'Song': 3, 'Hugo': 4, 'Zhen': 3, 'Ashley': 4, 'Jin Woo': 3, 'Kat': 2, 'Jason': 3, 'Paul': 3, 'Denny': 4, 'Shan': 3, 'Caroline': 4}\n",
      "center: ['Kat']\n",
      "periphery: ['Hugo', 'Ashley', 'Denny', 'Caroline']\n",
      "density: 0.3\n"
     ]
    }
   ],
   "source": [
    "print(\"radius: %d\" % nx.radius(g)) # min graph eccentricity \n",
    "print(\"diameter: %d\" % nx.diameter(g)) # longest shortest path\n",
    "print(\"eccentricity: %s\" % nx.eccentricity(g)) # max graph distance between node and other vertex of the graph\n",
    "print(\"center: %s\" % nx.center(g)) # max degree\n",
    "print(\"periphery: %s\" % nx.periphery(g)) # subgraph induced by vertices that have graph eccentricities equal to the graph diameter\n",
    "print(\"density: %s\" % nx.density(g)) # number of edges is close to the maximal number of edges"
   ]
  },
  {
   "cell_type": "markdown",
   "metadata": {},
   "source": [
    "## Assignment"
   ]
  },
  {
   "cell_type": "markdown",
   "metadata": {},
   "source": [
    "1. Take a look at the series of code blocks below. The same action is taken on our class graph over a number of iterations. Explain in 1-2 paragraphs what's going on here.\n",
    "\n",
    "2. Describe what happens in the end. Do you have an explanation for why this would happen to the graph? What's the significance? (1-2 paragraphs)"
   ]
  },
  {
   "cell_type": "code",
   "execution_count": null,
   "metadata": {
    "collapsed": false
   },
   "outputs": [],
   "source": [
    "# Betweenness Centrality -> what is this calculating?\n",
    "\n",
    "eb = nx.edge_betweenness_centrality(g)\n",
    "eb_il = eb.items()\n",
    "eb_il.sort(key=lambda x: x[1], reverse=True)\n",
    "print eb_il[0][0]"
   ]
  },
  {
   "cell_type": "code",
   "execution_count": null,
   "metadata": {
    "collapsed": false
   },
   "outputs": [],
   "source": [
    "# Calculating positioning of nodes, so that we can plot the next graphs in exactly the same place\n",
    "\n",
    "pos=nx.spring_layout(g)\n",
    "nx.draw(g, pos, with_labels=True) \n",
    "print g.number_of_edges()"
   ]
  },
  {
   "cell_type": "code",
   "execution_count": null,
   "metadata": {
    "collapsed": false
   },
   "outputs": [],
   "source": [
    "g.remove_edge('Shaun', 'Paul')\n",
    "nx.draw(g, pos, with_labels=True)\n",
    "print g.number_of_edges()"
   ]
  },
  {
   "cell_type": "code",
   "execution_count": null,
   "metadata": {
    "collapsed": false
   },
   "outputs": [],
   "source": [
    "eb = nx.edge_betweenness_centrality(g)\n",
    "eb_il = eb.items()\n",
    "eb_il.sort(key=lambda x: x[1], reverse=True)\n",
    "n1,n2 = eb_il[0][0]\n",
    "g.remove_edge(n1,n2)\n",
    "nx.draw(g, pos, with_labels=True)\n",
    "print g.number_of_edges()"
   ]
  },
  {
   "cell_type": "code",
   "execution_count": null,
   "metadata": {
    "collapsed": false
   },
   "outputs": [],
   "source": [
    "eb = nx.edge_betweenness_centrality(g)\n",
    "eb_il = eb.items()\n",
    "eb_il.sort(key=lambda x: x[1], reverse=True)\n",
    "n1,n2 = eb_il[0][0]\n",
    "g.remove_edge(n1,n2)\n",
    "nx.draw(g, pos, with_labels=True)\n",
    "print g.number_of_edges()"
   ]
  },
  {
   "cell_type": "code",
   "execution_count": null,
   "metadata": {
    "collapsed": false
   },
   "outputs": [],
   "source": [
    "eb = nx.edge_betweenness_centrality(g)\n",
    "eb_il = eb.items()\n",
    "eb_il.sort(key=lambda x: x[1], reverse=True)\n",
    "n1,n2 = eb_il[0][0]\n",
    "g.remove_edge(n1,n2)\n",
    "nx.draw(g, pos, with_labels=True)\n",
    "print g.number_of_edges()"
   ]
  },
  {
   "cell_type": "code",
   "execution_count": null,
   "metadata": {
    "collapsed": false
   },
   "outputs": [],
   "source": [
    "eb = nx.edge_betweenness_centrality(g)\n",
    "eb_il = eb.items()\n",
    "eb_il.sort(key=lambda x: x[1], reverse=True)\n",
    "n1,n2 = eb_il[0][0]\n",
    "g.remove_edge(n1,n2)\n",
    "nx.draw(g, pos, with_labels=True)\n",
    "print g.number_of_edges()"
   ]
  },
  {
   "cell_type": "code",
   "execution_count": null,
   "metadata": {
    "collapsed": false
   },
   "outputs": [],
   "source": [
    "eb = nx.edge_betweenness_centrality(g)\n",
    "eb_il = eb.items()\n",
    "eb_il.sort(key=lambda x: x[1], reverse=True)\n",
    "n1,n2 = eb_il[0][0]\n",
    "g.remove_edge(n1,n2)\n",
    "nx.draw(g, pos, with_labels=True)\n",
    "print g.number_of_edges()"
   ]
  },
  {
   "cell_type": "code",
   "execution_count": null,
   "metadata": {
    "collapsed": false
   },
   "outputs": [],
   "source": [
    "components = sorted(nx.connected_component_subgraphs(g), key=len, reverse=True)"
   ]
  },
  {
   "cell_type": "code",
   "execution_count": null,
   "metadata": {
    "collapsed": false
   },
   "outputs": [],
   "source": [
    "for c in components:\n",
    "    print c.number_of_nodes()"
   ]
  },
  {
   "cell_type": "code",
   "execution_count": null,
   "metadata": {
    "collapsed": true
   },
   "outputs": [],
   "source": []
  },
  {
   "cell_type": "markdown",
   "metadata": {},
   "source": [
    "### For your reference: other graph analysis tools implemented in networkx"
   ]
  },
  {
   "cell_type": "markdown",
   "metadata": {},
   "source": [
    "- edge_betweenness(G): Illustrated below in the the Girvan-Newman example.\n",
    "\n",
    "- eigenvector_centrality(G): (also eigenvector_centrality_numpy). Explaining this concept of centrality is beyond the scope of this course. It requires computing the eigenvectors of the adjacency matrix of the graph, and is closely related to pagerank score used by Google to rank the centrality of websites on the Internet.\n",
    "\n",
    "- nx.closeness_centrality(G). Closeness centrality of a node u is the reciprocal of the sum of the shortest path distances from u to all n-1 other nodes. Since the sum of distances depends on the number of nodes in the graph, closeness is normalized by the sum of minimum possible distances n-1. So if node n is a neighbor of all n-1 other nodes in the graph, closeness_centrality is 1.\n",
    "\n",
    "- current_flow_betweenness_centrality. This kind of centrality was first discussed in [NEWMAN2003] . Newman calls it “random walk centrality”. The current flow centrality of a node n can be defined as the probability of passing through n on a random walk starting at some node s and ending at some other node t (neither equal to n), Newman argues that betweenness for some social networks should not be computed just as a function of shortest paths, but of all paths, assigning the shortest the greatest weight. This is because messages in in such networks may get to where they’re going not by the shortest path, but by a random path, such as that of sexual disease through a sexual contact network.\n",
    "\n",
    "- nx.clustering coefficient(G): clustering(G, nbunch=None, with_labels=False, weights=False) Clustering coefficient for each node in nbunch.\n",
    "\n",
    "- nx.average_clustering(G): Average clustering coefficient for a graph. Note: this is a space saving function ; It might be faster to use clustering to get a list and then take average.\n",
    "\n",
    "- nx.triangles(G, nbunch=None, with_labels=False): Returns number of triangles for nbunch of nodes as a dictionary. If nbunch is None, then return triangles for every node. If with_labels is True, return a dict keyed by node. Note: Each triangle is counted three times: once at each vertex. Note if G is the graph, and t is thenumber triangles of a node n, and d is its degree, then :math: nx.clustering_coefficient(G,n) = frac{t}{d(d-1)}\n",
    "\n",
    "- nx.connected_component_subgraphs(G): Used in the Girvan-Newman implementation below. This returns a list of the fully connected components of graph G. If the graph is fully connected it returns a list containing the graph\n",
    "\n",
    "- nx.number_connected_components(G): This just returns the length of the list returned by nx.connected_component_subgraphs(G)."
   ]
  }
 ],
 "metadata": {
  "kernelspec": {
   "display_name": "Python 2",
   "language": "python",
   "name": "python2"
  },
  "language_info": {
   "codemirror_mode": {
    "name": "ipython",
    "version": 2
   },
   "file_extension": ".py",
   "mimetype": "text/x-python",
   "name": "python",
   "nbconvert_exporter": "python",
   "pygments_lexer": "ipython2",
   "version": "2.7.6"
  }
 },
 "nbformat": 4,
 "nbformat_minor": 0
}
