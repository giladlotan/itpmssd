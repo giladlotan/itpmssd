{
 "cells": [
  {
   "cell_type": "markdown",
   "metadata": {},
   "source": [
    "## Getting Started with Networkx"
   ]
  },
  {
   "cell_type": "markdown",
   "metadata": {},
   "source": [
    "NetworkX documentation: https://networkx.github.io/documentation/latest/"
   ]
  },
  {
   "cell_type": "code",
   "execution_count": null,
   "metadata": {
    "collapsed": false
   },
   "outputs": [],
   "source": [
    "import networkx as nx\n",
    "\n",
    "g = nx.Graph()\n",
    "g"
   ]
  },
  {
   "cell_type": "code",
   "execution_count": null,
   "metadata": {
    "collapsed": false
   },
   "outputs": [],
   "source": [
    "print g.nodes()\n",
    "print g.edges()"
   ]
  },
  {
   "cell_type": "code",
   "execution_count": null,
   "metadata": {
    "collapsed": false
   },
   "outputs": [],
   "source": [
    "g.add_node(1)\n",
    "g.add_nodes_from([2,3])\n",
    "print g.nodes()"
   ]
  },
  {
   "cell_type": "code",
   "execution_count": null,
   "metadata": {
    "collapsed": false
   },
   "outputs": [],
   "source": [
    "g.add_nodes_from(range(4,11,1))\n",
    "print g.nodes()"
   ]
  },
  {
   "cell_type": "markdown",
   "metadata": {},
   "source": [
    "A node can be any hashable object (immutable), such as strings, numbers, files, functions and more. "
   ]
  },
  {
   "cell_type": "code",
   "execution_count": null,
   "metadata": {
    "collapsed": false
   },
   "outputs": [],
   "source": [
    "g2 = nx.Graph()\n",
    "import numpy as np\n",
    "\n",
    "g2.add_node(np.mean)\n",
    "g2.add_node('x')\n",
    "g2.nodes()"
   ]
  },
  {
   "cell_type": "markdown",
   "metadata": {},
   "source": [
    "Now let's add edges"
   ]
  },
  {
   "cell_type": "code",
   "execution_count": null,
   "metadata": {
    "collapsed": true
   },
   "outputs": [],
   "source": [
    "g.add_edge(1,2)"
   ]
  },
  {
   "cell_type": "code",
   "execution_count": null,
   "metadata": {
    "collapsed": false
   },
   "outputs": [],
   "source": [
    "print g.edge[1]\n",
    "print g.edge[2]"
   ]
  },
  {
   "cell_type": "code",
   "execution_count": null,
   "metadata": {
    "collapsed": false
   },
   "outputs": [],
   "source": [
    "g.add_edges_from([(2,3),(3,4)])\n",
    "for i in range(4,10,1):\n",
    "    g.add_edge(i,i+1)\n",
    "g.edges()"
   ]
  },
  {
   "cell_type": "code",
   "execution_count": null,
   "metadata": {
    "collapsed": false
   },
   "outputs": [],
   "source": [
    "print 'nodes:',g.number_of_nodes()\n",
    "print 'edges:',g.number_of_edges()"
   ]
  },
  {
   "cell_type": "markdown",
   "metadata": {},
   "source": [
    "We can annotate nodes and edges with attributes"
   ]
  },
  {
   "cell_type": "code",
   "execution_count": null,
   "metadata": {
    "collapsed": false
   },
   "outputs": [],
   "source": [
    "g[1][2]['weight'] = 1.0\n",
    "g[1][2]"
   ]
  },
  {
   "cell_type": "code",
   "execution_count": null,
   "metadata": {
    "collapsed": false
   },
   "outputs": [],
   "source": [
    "for i in range(2,10,1):\n",
    "    g[i][i+1]['weight'] = i*1.0\n",
    "\n",
    "# shows all edges + attributes (same as running g[1])\n",
    "print 'edge info:',g.edge[1]\n",
    "print 'node info:',g.node[1]"
   ]
  },
  {
   "cell_type": "code",
   "execution_count": null,
   "metadata": {
    "collapsed": false
   },
   "outputs": [],
   "source": [
    "g.node[1]['name']='one'\n",
    "print 'node info:',g.node[1]"
   ]
  },
  {
   "cell_type": "markdown",
   "metadata": {},
   "source": [
    "And it is easy to iterate over the nodes and edges of a graph"
   ]
  },
  {
   "cell_type": "code",
   "execution_count": null,
   "metadata": {
    "collapsed": false
   },
   "outputs": [],
   "source": [
    "# naming every node in the graph\n",
    "names = ['one','two','three','four','five','six','seven','eight','nine','ten']\n",
    "for node in g.nodes():\n",
    "    g.node[node]['name'] = names[node-1]"
   ]
  },
  {
   "cell_type": "code",
   "execution_count": null,
   "metadata": {
    "collapsed": false
   },
   "outputs": [],
   "source": [
    "# print all edge weights\n",
    "for u,v in g.edges():\n",
    "    print g.node[u]['name'],v, g[u][v]['weight']"
   ]
  },
  {
   "cell_type": "code",
   "execution_count": null,
   "metadata": {
    "collapsed": false
   },
   "outputs": [],
   "source": [
    "# find neighbors of a particular node\n",
    "for node in g.nodes():\n",
    "    print node, g.neighbors(node)"
   ]
  },
  {
   "cell_type": "markdown",
   "metadata": {},
   "source": [
    "## Class Graph"
   ]
  },
  {
   "cell_type": "code",
   "execution_count": null,
   "metadata": {
    "collapsed": false
   },
   "outputs": [],
   "source": [
    "# handy library that helps us get all combinations of pairs, given an array of items\n",
    "from itertools import combinations\n",
    "\n",
    "arr = [1,2,3,4,5]\n",
    "for i,j in combinations(arr,2):\n",
    "    print i,j"
   ]
  },
  {
   "cell_type": "code",
   "execution_count": null,
   "metadata": {
    "collapsed": false
   },
   "outputs": [],
   "source": [
    "g = nx.Graph()\n",
    "\n",
    "floc = '/class/itpmssd/datasets/student_classes.txt'\n",
    "f = open(floc)\n",
    "\n",
    "for row in f:\n",
    "    r = row.strip().split(',')\n",
    "    class_name = r[0]\n",
    "    class_students = r[1:]\n",
    "    #print class_name, class_students\n",
    "    \n",
    "    # add nodes\n",
    "    for student in class_students:\n",
    "        g.add_node(student)\n",
    "        \n",
    "    # add edges\n",
    "    for s1,s2 in combinations(class_students,2):\n",
    "        g.add_edge(s1,s2)"
   ]
  },
  {
   "cell_type": "code",
   "execution_count": null,
   "metadata": {
    "collapsed": false
   },
   "outputs": [],
   "source": [
    "# all our nodes\n",
    "print g.nodes(), len(g.nodes())"
   ]
  },
  {
   "cell_type": "code",
   "execution_count": null,
   "metadata": {
    "collapsed": false
   },
   "outputs": [],
   "source": [
    "# all our edges\n",
    "print g.edges()"
   ]
  },
  {
   "cell_type": "code",
   "execution_count": null,
   "metadata": {
    "collapsed": false
   },
   "outputs": [],
   "source": [
    "%pylab inline\n",
    "nx.draw(g, node_color='#A0CBE2', with_labels=True)"
   ]
  },
  {
   "cell_type": "markdown",
   "metadata": {},
   "source": [
    "### Centrality Measures"
   ]
  },
  {
   "cell_type": "markdown",
   "metadata": {},
   "source": [
    "Documentation of various centrality measures here - https://networkx.github.io/documentation/latest/reference/algorithms.centrality.html"
   ]
  },
  {
   "cell_type": "code",
   "execution_count": null,
   "metadata": {
    "collapsed": false
   },
   "outputs": [],
   "source": [
    "nx.degree(g)"
   ]
  },
  {
   "cell_type": "code",
   "execution_count": null,
   "metadata": {
    "collapsed": false
   },
   "outputs": [],
   "source": [
    "# list of frequency of each degree value\n",
    "y = nx.degree_histogram(g)\n",
    "y"
   ]
  },
  {
   "cell_type": "code",
   "execution_count": null,
   "metadata": {
    "collapsed": false
   },
   "outputs": [],
   "source": [
    "# needed to plot the histogram -> effectively number of \"buckets\"\n",
    "x = range(len(nx.degree_histogram(g)))\n",
    "x"
   ]
  },
  {
   "cell_type": "code",
   "execution_count": null,
   "metadata": {
    "collapsed": false
   },
   "outputs": [],
   "source": [
    "plot(x,y)\n",
    "title('degree histogram')\n",
    "ylabel('number of students')\n",
    "xlabel('degree')"
   ]
  },
  {
   "cell_type": "code",
   "execution_count": null,
   "metadata": {
    "collapsed": false
   },
   "outputs": [],
   "source": [
    "# degree centrality for node v is the fraction of nodes it is connected to\n",
    "deg = nx.degree_centrality(g)\n",
    "deg"
   ]
  },
  {
   "cell_type": "code",
   "execution_count": null,
   "metadata": {
    "collapsed": false
   },
   "outputs": [],
   "source": [
    "# top 10 most central students\n",
    "sorted(deg.items(), key=lambda x:-x[1])[:10]"
   ]
  },
  {
   "cell_type": "code",
   "execution_count": null,
   "metadata": {
    "collapsed": false
   },
   "outputs": [],
   "source": [
    "# betweenness centrality is equal to the number of shortest paths from all vertices to all others \n",
    "# that pass through that node. A node with high betweenness centrality has a large influence on the transfer\n",
    "# of items through the network, under the assumption that item transfer follows the shortest paths.\n",
    "\n",
    "betweenness = nx.betweenness_centrality(g)\n",
    "print betweenness"
   ]
  },
  {
   "cell_type": "code",
   "execution_count": null,
   "metadata": {
    "collapsed": false
   },
   "outputs": [],
   "source": [
    "sorted(betweenness.items(), key=lambda x:-x[1])[:10]"
   ]
  },
  {
   "cell_type": "markdown",
   "metadata": {},
   "source": [
    "### Graph Properties"
   ]
  },
  {
   "cell_type": "code",
   "execution_count": null,
   "metadata": {
    "collapsed": false
   },
   "outputs": [],
   "source": [
    "print(\"radius: %d\" % nx.radius(g)) # min graph eccentricity \n",
    "print(\"diameter: %d\" % nx.diameter(g)) # longest shortest path\n",
    "print(\"eccentricity: %s\" % nx.eccentricity(g)) # max graph distance between node and other vertex of the graph\n",
    "print(\"center: %s\" % nx.center(g)) # max degree\n",
    "print(\"periphery: %s\" % nx.periphery(g)) # subgraph induced by vertices that have graph eccentricities equal to the graph diameter\n",
    "print(\"density: %s\" % nx.density(g)) # number of edges is close to the maximal number of edges"
   ]
  },
  {
   "cell_type": "markdown",
   "metadata": {},
   "source": [
    "## Assignment"
   ]
  },
  {
   "cell_type": "markdown",
   "metadata": {},
   "source": [
    "1. Take a look at the series of code blocks below. The same action is taken on our class graph over a number of iterations. Explain in 1-2 paragraphs what's going on here.\n",
    "\n",
    "2. Describe what happens in the end. Do you have an explanation for why this would happen to the graph? What's the significance? (1-2 paragraphs)"
   ]
  },
  {
   "cell_type": "code",
   "execution_count": null,
   "metadata": {
    "collapsed": false
   },
   "outputs": [],
   "source": [
    "# Betweenness Centrality -> what is this calculating?\n",
    "\n",
    "eb = nx.edge_betweenness_centrality(g)\n",
    "eb_il = eb.items()\n",
    "eb_il.sort(key=lambda x: x[1], reverse=True)\n",
    "print eb_il[0][0]"
   ]
  },
  {
   "cell_type": "code",
   "execution_count": null,
   "metadata": {
    "collapsed": false
   },
   "outputs": [],
   "source": [
    "# Calculating positioning of nodes, so that we can plot the next graphs in exactly the same place\n",
    "\n",
    "pos=nx.spring_layout(g)\n",
    "nx.draw(g, pos, with_labels=True) \n",
    "print g.number_of_edges()"
   ]
  },
  {
   "cell_type": "code",
   "execution_count": null,
   "metadata": {
    "collapsed": false
   },
   "outputs": [],
   "source": [
    "g.remove_edge('Shaun', 'Paul')\n",
    "nx.draw(g, pos, with_labels=True)\n",
    "print g.number_of_edges()"
   ]
  },
  {
   "cell_type": "code",
   "execution_count": null,
   "metadata": {
    "collapsed": false
   },
   "outputs": [],
   "source": [
    "eb = nx.edge_betweenness_centrality(g)\n",
    "eb_il = eb.items()\n",
    "eb_il.sort(key=lambda x: x[1], reverse=True)\n",
    "n1,n2 = eb_il[0][0]\n",
    "g.remove_edge(n1,n2)\n",
    "nx.draw(g, pos, with_labels=True)\n",
    "print g.number_of_edges()"
   ]
  },
  {
   "cell_type": "code",
   "execution_count": null,
   "metadata": {
    "collapsed": false
   },
   "outputs": [],
   "source": [
    "eb = nx.edge_betweenness_centrality(g)\n",
    "eb_il = eb.items()\n",
    "eb_il.sort(key=lambda x: x[1], reverse=True)\n",
    "n1,n2 = eb_il[0][0]\n",
    "g.remove_edge(n1,n2)\n",
    "nx.draw(g, pos, with_labels=True)\n",
    "print g.number_of_edges()"
   ]
  },
  {
   "cell_type": "code",
   "execution_count": null,
   "metadata": {
    "collapsed": false
   },
   "outputs": [],
   "source": [
    "eb = nx.edge_betweenness_centrality(g)\n",
    "eb_il = eb.items()\n",
    "eb_il.sort(key=lambda x: x[1], reverse=True)\n",
    "n1,n2 = eb_il[0][0]\n",
    "g.remove_edge(n1,n2)\n",
    "nx.draw(g, pos, with_labels=True)\n",
    "print g.number_of_edges()"
   ]
  },
  {
   "cell_type": "code",
   "execution_count": null,
   "metadata": {
    "collapsed": false
   },
   "outputs": [],
   "source": [
    "eb = nx.edge_betweenness_centrality(g)\n",
    "eb_il = eb.items()\n",
    "eb_il.sort(key=lambda x: x[1], reverse=True)\n",
    "n1,n2 = eb_il[0][0]\n",
    "g.remove_edge(n1,n2)\n",
    "nx.draw(g, pos, with_labels=True)\n",
    "print g.number_of_edges()"
   ]
  },
  {
   "cell_type": "code",
   "execution_count": null,
   "metadata": {
    "collapsed": false
   },
   "outputs": [],
   "source": [
    "eb = nx.edge_betweenness_centrality(g)\n",
    "eb_il = eb.items()\n",
    "eb_il.sort(key=lambda x: x[1], reverse=True)\n",
    "n1,n2 = eb_il[0][0]\n",
    "g.remove_edge(n1,n2)\n",
    "nx.draw(g, pos, with_labels=True)\n",
    "print g.number_of_edges()"
   ]
  },
  {
   "cell_type": "code",
   "execution_count": null,
   "metadata": {
    "collapsed": false
   },
   "outputs": [],
   "source": [
    "components = sorted(nx.connected_component_subgraphs(g), key=len, reverse=True)"
   ]
  },
  {
   "cell_type": "code",
   "execution_count": null,
   "metadata": {
    "collapsed": false
   },
   "outputs": [],
   "source": [
    "for c in components:\n",
    "    print c.number_of_nodes()"
   ]
  },
  {
   "cell_type": "code",
   "execution_count": null,
   "metadata": {
    "collapsed": true
   },
   "outputs": [],
   "source": []
  },
  {
   "cell_type": "markdown",
   "metadata": {},
   "source": [
    "### For your reference: other graph analysis tools implemented in networkx"
   ]
  },
  {
   "cell_type": "markdown",
   "metadata": {},
   "source": [
    "- edge_betweenness(G): Illustrated below in the the Girvan-Newman example.\n",
    "\n",
    "- eigenvector_centrality(G): (also eigenvector_centrality_numpy). Explaining this concept of centrality is beyond the scope of this course. It requires computing the eigenvectors of the adjacency matrix of the graph, and is closely related to pagerank score used by Google to rank the centrality of websites on the Internet.\n",
    "\n",
    "- nx.closeness_centrality(G). Closeness centrality of a node u is the reciprocal of the sum of the shortest path distances from u to all n-1 other nodes. Since the sum of distances depends on the number of nodes in the graph, closeness is normalized by the sum of minimum possible distances n-1. So if node n is a neighbor of all n-1 other nodes in the graph, closeness_centrality is 1.\n",
    "\n",
    "- current_flow_betweenness_centrality. This kind of centrality was first discussed in [NEWMAN2003] . Newman calls it “random walk centrality”. The current flow centrality of a node n can be defined as the probability of passing through n on a random walk starting at some node s and ending at some other node t (neither equal to n), Newman argues that betweenness for some social networks should not be computed just as a function of shortest paths, but of all paths, assigning the shortest the greatest weight. This is because messages in in such networks may get to where they’re going not by the shortest path, but by a random path, such as that of sexual disease through a sexual contact network.\n",
    "\n",
    "- nx.clustering coefficient(G): clustering(G, nbunch=None, with_labels=False, weights=False) Clustering coefficient for each node in nbunch.\n",
    "\n",
    "- nx.average_clustering(G): Average clustering coefficient for a graph. Note: this is a space saving function ; It might be faster to use clustering to get a list and then take average.\n",
    "\n",
    "- nx.triangles(G, nbunch=None, with_labels=False): Returns number of triangles for nbunch of nodes as a dictionary. If nbunch is None, then return triangles for every node. If with_labels is True, return a dict keyed by node. Note: Each triangle is counted three times: once at each vertex. Note if G is the graph, and t is thenumber triangles of a node n, and d is its degree, then :math: nx.clustering_coefficient(G,n) = frac{t}{d(d-1)}\n",
    "\n",
    "- nx.connected_component_subgraphs(G): Used in the Girvan-Newman implementation below. This returns a list of the fully connected components of graph G. If the graph is fully connected it returns a list containing the graph\n",
    "\n",
    "- nx.number_connected_components(G): This just returns the length of the list returned by nx.connected_component_subgraphs(G)."
   ]
  }
 ],
 "metadata": {
  "kernelspec": {
   "display_name": "Python 2",
   "language": "python",
   "name": "python2"
  },
  "language_info": {
   "codemirror_mode": {
    "name": "ipython",
    "version": 2
   },
   "file_extension": ".py",
   "mimetype": "text/x-python",
   "name": "python",
   "nbconvert_exporter": "python",
   "pygments_lexer": "ipython2",
   "version": "2.7.6"
  }
 },
 "nbformat": 4,
 "nbformat_minor": 0
}
