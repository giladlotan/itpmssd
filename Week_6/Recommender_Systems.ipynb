{
 "cells": [
  {
   "cell_type": "markdown",
   "metadata": {},
   "source": [
    "### Recommending"
   ]
  },
  {
   "cell_type": "code",
   "execution_count": null,
   "metadata": {
    "collapsed": false
   },
   "outputs": [],
   "source": [
    "users = {\"Angelica\": {\"Blues Traveler\": 3.5, \"Broken Bells\": 2.0, \n",
    "                      \"Norah Jones\": 4.5, \"Phoenix\": 5.0, \n",
    "                      \"Slightly Stoopid\": 1.5, \n",
    "                      \"The Strokes\": 2.5, \"Vampire Weekend\": 2.0}, \n",
    "         \"Bill\":     {\"Blues Traveler\": 2.0, \"Broken Bells\": 3.5, \n",
    "                      \"Deadmau5\": 4.0, \n",
    "                      \"Phoenix\": 2.0, \"Slightly Stoopid\": 3.5, \n",
    "                      \"Vampire Weekend\": 3.0}, \n",
    "         \"Chan\":     {\"Blues Traveler\": 5.0, \"Broken Bells\": 1.0, \n",
    "                      \"Deadmau5\": 1.0, \"Norah Jones\": 3.0, \n",
    "                      \"Phoenix\": 5, \"Slightly Stoopid\": 1.0}, \n",
    "         \"Dan\":      {\"Blues Traveler\": 3.0, \"Broken Bells\": 4.0, \n",
    "                      \"Deadmau5\": 4.5, \"Phoenix\": 3.0, \n",
    "                      \"Slightly Stoopid\": 4.5, \"The Strokes\": 4.0, \n",
    "                      \"Vampire Weekend\": 2.0}, \n",
    "         \"Hailey\":   {\"Broken Bells\": 4.0, \"Deadmau5\": 1.0, \n",
    "                      \"Norah Jones\": 4.0, \"The Strokes\": 4.0, \n",
    "                      \"Vampire Weekend\": 1.0}, \n",
    "         \"Jordyn\":   {\"Broken Bells\": 4.5, \"Deadmau5\": 4.0, \"Norah Jones\": 5.0, \n",
    "                      \"Phoenix\": 5.0, \"Slightly Stoopid\": 4.5, \n",
    "                      \"The Strokes\": 4.0, \"Vampire Weekend\": 4.0}, \n",
    "         \"Sam\":      {\"Blues Traveler\": 5.0, \"Broken Bells\": 2.0, \n",
    "                      \"Norah Jones\": 3.0, \"Phoenix\": 5.0, \n",
    "                      \"Slightly Stoopid\": 4.0, \"The Strokes\": 5.0}, \n",
    "         \"Veronica\": {\"Blues Traveler\": 3.0, \"Norah Jones\": 5.0, \n",
    "                      \"Phoenix\": 4.0, \"Slightly Stoopid\": 2.5, \n",
    "                      \"The Strokes\": 3.0}}"
   ]
  },
  {
   "cell_type": "code",
   "execution_count": null,
   "metadata": {
    "collapsed": false
   },
   "outputs": [],
   "source": [
    "users[\"Veronica\"]"
   ]
  },
  {
   "cell_type": "code",
   "execution_count": null,
   "metadata": {
    "collapsed": false
   },
   "outputs": [],
   "source": [
    "users[\"Hailey\"]"
   ]
  },
  {
   "cell_type": "code",
   "execution_count": null,
   "metadata": {
    "collapsed": false
   },
   "outputs": [],
   "source": [
    "def manhattan(rating1, rating2): \n",
    "    \"\"\"Computes the Manhattan distance. Both rating1 and rating2 are \n",
    "    dictionaries of the form {'The Strokes': 3.0, 'Slightly \n",
    "    Stoopid': 2.5}\"\"\"\n",
    "    distance = 0 \n",
    "    commonRatings = False\n",
    "\n",
    "    for key in rating1: \n",
    "        if key in rating2: \n",
    "            distance += abs(rating1[key] - rating2[key]) \n",
    "            commonRatings = True\n",
    "        if commonRatings: \n",
    "            return distance \n",
    "        else: \n",
    "            return -1 #Indicates no ratings in common"
   ]
  },
  {
   "cell_type": "code",
   "execution_count": null,
   "metadata": {
    "collapsed": false
   },
   "outputs": [],
   "source": [
    "manhattan(users['Hailey'], users['Veronica']) "
   ]
  },
  {
   "cell_type": "code",
   "execution_count": null,
   "metadata": {
    "collapsed": false
   },
   "outputs": [],
   "source": [
    "manhattan(users['Hailey'], users['Jordyn'])"
   ]
  },
  {
   "cell_type": "raw",
   "metadata": {},
   "source": [
    "Now a function to find the closest person (actually this returns a sorted list with the closest person first):"
   ]
  },
  {
   "cell_type": "code",
   "execution_count": null,
   "metadata": {
    "collapsed": false
   },
   "outputs": [],
   "source": [
    "def compute_nearest_neighbor(username, users):\n",
    "    \"\"\"\n",
    "    creates a sorted list of users based on their distance to username\n",
    "    \"\"\" \n",
    "    distances = [] \n",
    "    for user in users: \n",
    "        if user != username: \n",
    "            distance = manhattan(users[user], users[username]) \n",
    "            distances.append((distance, user)) \n",
    "            # sort based on distance -- closest first\n",
    "            distances.sort() \n",
    "            return distances"
   ]
  },
  {
   "cell_type": "code",
   "execution_count": null,
   "metadata": {
    "collapsed": false
   },
   "outputs": [],
   "source": [
    "compute_nearest_neighbor('Hailey', users)"
   ]
  },
  {
   "cell_type": "raw",
   "metadata": {},
   "source": [
    "Now we can make recommendations. If we do this for Hailey:\n",
    "1. find nearest neighbor—Veronica. \n",
    "2. find bands that Veronica has rated but Hailey has not (assume that Hailey would have rated the bands the same as (or at least very similar to) Veronica). \n",
    "3. Hailey has not rated the band Phoenix. Veronica has rated Phoenix a '4' so we will assume Hailey is likely to enjoy the band as well."
   ]
  },
  {
   "cell_type": "code",
   "execution_count": null,
   "metadata": {
    "collapsed": false
   },
   "outputs": [],
   "source": [
    "def recommend(username, users):\n",
    "    \"\"\"\n",
    "    Give list of recommendations\n",
    "    \"\"\"\n",
    "    # first find nearest neighbor\n",
    "    nearest = compute_nearest_neighbor(username, users)[0][1] \n",
    "    recommendations = [] \n",
    "    # now find bands neighbor rated that user didn't \n",
    "    neighborRatings = users[nearest] \n",
    "    userRatings = users[username] \n",
    "    for artist in neighborRatings: \n",
    "        if not artist in userRatings:\n",
    "            recommendations.append((artist, neighborRatings[artist]))\n",
    "            recommendations.sort(key=lambda artistTuple: artistTuple[1], \n",
    "            reverse = True)\n",
    "            return recommendations"
   ]
  },
  {
   "cell_type": "code",
   "execution_count": null,
   "metadata": {
    "collapsed": false
   },
   "outputs": [],
   "source": [
    "recommend('Hailey', users)"
   ]
  },
  {
   "cell_type": "markdown",
   "metadata": {},
   "source": [
    "### Pearson Correlation Coefficient"
   ]
  },
  {
   "cell_type": "raw",
   "metadata": {},
   "source": [
    "Grade Inflation: Does Hailey's '4' mean the same as Jordyn's '4'?\n",
    "We can use Pearson Correlation Coefficient to help fix this.\n",
    "\n",
    "Pearson Correlation Coefficient is a measure of correlation between two variables. Ranges between -1 (disagreement) and 1 (agreement). \n"
   ]
  },
  {
   "cell_type": "code",
   "execution_count": null,
   "metadata": {
    "collapsed": false
   },
   "outputs": [],
   "source": [
    "import math\n",
    "\n",
    "def pearson(rating1, rating2):\n",
    "    sum_xy = 0 \n",
    "    sum_x = 0 \n",
    "    sum_y = 0 \n",
    "    sum_x2 = 0 \n",
    "    sum_y2 = 0 \n",
    "    n = 0 \n",
    "    for key in rating1: \n",
    "        if key in rating2: \n",
    "            n += 1 \n",
    "            x = rating1[key] \n",
    "            y = rating2[key] \n",
    "            sum_xy += x * y \n",
    "            sum_x += x \n",
    "            sum_y += y \n",
    "            sum_x2 += x**2 \n",
    "            sum_y2 += y**2 \n",
    "    # now compute denominator \n",
    "    denominator = math.sqrt(sum_x2 - (sum_x**2) / n) * math.sqrt(sum_y2 -(sum_y**2) / n) \n",
    "    if denominator == 0: \n",
    "        return 0 \n",
    "    else: \n",
    "        return (sum_xy - (sum_x * sum_y) / n) / denominator"
   ]
  },
  {
   "cell_type": "code",
   "execution_count": null,
   "metadata": {
    "collapsed": false
   },
   "outputs": [],
   "source": [
    "pearson(users['Angelica'], users['Bill']) "
   ]
  },
  {
   "cell_type": "code",
   "execution_count": null,
   "metadata": {
    "collapsed": false
   },
   "outputs": [],
   "source": [
    "pearson(users['Angelica'], users['Hailey']) "
   ]
  },
  {
   "cell_type": "code",
   "execution_count": null,
   "metadata": {
    "collapsed": false
   },
   "outputs": [],
   "source": [
    "pearson(users['Angelica'], users['Jordyn']) "
   ]
  },
  {
   "cell_type": "markdown",
   "metadata": {},
   "source": [
    "### Cosine Similarity & K-nearest neighbor"
   ]
  },
  {
   "cell_type": "code",
   "execution_count": 1,
   "metadata": {
    "collapsed": false
   },
   "outputs": [],
   "source": [
    "import pickle\n",
    "path = '/class/datasets/'\n",
    "used_tag = 'halloween'\n",
    "\n",
    "all_media = pickle.load(open(path+'%s_ig.p' % used_tag,'rb'))"
   ]
  },
  {
   "cell_type": "code",
   "execution_count": 2,
   "metadata": {
    "collapsed": false
   },
   "outputs": [],
   "source": [
    "all_tags_nonunique = []\n",
    "for m in all_media:\n",
    "    if hasattr(m, 'tags'):\n",
    "        all_tags_nonunique += [t.name for t in m.tags]\n",
    "all_tags = set(all_tags_nonunique)"
   ]
  },
  {
   "cell_type": "code",
   "execution_count": 3,
   "metadata": {
    "collapsed": false
   },
   "outputs": [
    {
     "data": {
      "text/plain": [
       "25159"
      ]
     },
     "execution_count": 3,
     "metadata": {},
     "output_type": "execute_result"
    }
   ],
   "source": [
    "len(all_tags)"
   ]
  },
  {
   "cell_type": "code",
   "execution_count": 4,
   "metadata": {
    "collapsed": false
   },
   "outputs": [
    {
     "data": {
      "text/plain": [
       "['fawn',\n",
       " 'terrificpicscolor',\n",
       " 'mustachio',\n",
       " 'zombieschool',\n",
       " 'spiders',\n",
       " 'vscominsk',\n",
       " 'hanging',\n",
       " 'woody',\n",
       " 'videogram',\n",
       " 'bradloree']"
      ]
     },
     "execution_count": 4,
     "metadata": {},
     "output_type": "execute_result"
    }
   ],
   "source": [
    "all_tags = list(all_tags)\n",
    "all_tags[:10]"
   ]
  },
  {
   "cell_type": "code",
   "execution_count": 5,
   "metadata": {
    "collapsed": false
   },
   "outputs": [],
   "source": [
    "all_users = list(set([m.user.username for m in all_media]))"
   ]
  },
  {
   "cell_type": "code",
   "execution_count": 6,
   "metadata": {
    "collapsed": false
   },
   "outputs": [
    {
     "data": {
      "text/plain": [
       "8530"
      ]
     },
     "execution_count": 6,
     "metadata": {},
     "output_type": "execute_result"
    }
   ],
   "source": [
    "len(all_users)"
   ]
  },
  {
   "cell_type": "code",
   "execution_count": 7,
   "metadata": {
    "collapsed": false
   },
   "outputs": [
    {
     "data": {
      "text/plain": [
       "['twinvogue',\n",
       " 'yutazu',\n",
       " 'ruthatchley1428',\n",
       " 'dallasliketexas',\n",
       " 'spooky_minecraft__pokemon_',\n",
       " 'yhasydneyharbour',\n",
       " 'ckr_y16',\n",
       " 'melly_lara',\n",
       " 'maddecourcey',\n",
       " 'michaelsoy89']"
      ]
     },
     "execution_count": 7,
     "metadata": {},
     "output_type": "execute_result"
    }
   ],
   "source": [
    "all_users[:10]"
   ]
  },
  {
   "cell_type": "code",
   "execution_count": 8,
   "metadata": {
    "collapsed": false
   },
   "outputs": [],
   "source": [
    "from collections import Counter\n",
    "\n",
    "c = Counter(all_tags_nonunique)"
   ]
  },
  {
   "cell_type": "code",
   "execution_count": 9,
   "metadata": {
    "collapsed": false
   },
   "outputs": [
    {
     "data": {
      "text/plain": [
       "[('halloween', 9920),\n",
       " ('pumpkin', 792),\n",
       " ('october', 686),\n",
       " ('makeup', 662),\n",
       " ('fall', 542),\n",
       " ('scary', 541),\n",
       " ('costume', 508),\n",
       " ('horror', 453),\n",
       " ('love', 450),\n",
       " ('art', 420)]"
      ]
     },
     "execution_count": 9,
     "metadata": {},
     "output_type": "execute_result"
    }
   ],
   "source": [
    "c.most_common(10)"
   ]
  },
  {
   "cell_type": "code",
   "execution_count": null,
   "metadata": {
    "collapsed": false
   },
   "outputs": [],
   "source": [
    "t = 'costume'\n",
    "all_tags.index(t)"
   ]
  },
  {
   "cell_type": "code",
   "execution_count": null,
   "metadata": {
    "collapsed": false
   },
   "outputs": [],
   "source": [
    "users_to_tags = {}\n",
    "for u in all_users:\n",
    "    users_to_tags[u]=[0]*len(all_tags)"
   ]
  },
  {
   "cell_type": "code",
   "execution_count": null,
   "metadata": {
    "collapsed": false
   },
   "outputs": [],
   "source": [
    "for m in all_media:\n",
    "    if hasattr(m, 'tags'):\n",
    "        for t in m.tags:\n",
    "            #if t.name in all_tags:\n",
    "            cur_index = all_tags.index(t.name)\n",
    "            users_to_tags[m.user.username][cur_index]+=1"
   ]
  },
  {
   "cell_type": "raw",
   "metadata": {},
   "source": [
    "Now we have a matrix (dict of lists) where IG usernames are the keys and hashtag usage are values (as a very sparse vector)"
   ]
  },
  {
   "cell_type": "code",
   "execution_count": null,
   "metadata": {
    "collapsed": false
   },
   "outputs": [],
   "source": [
    "len(users_to_tags['spooky_minecraft__pokemon_'])"
   ]
  },
  {
   "cell_type": "code",
   "execution_count": null,
   "metadata": {
    "collapsed": false
   },
   "outputs": [],
   "source": [
    "import numpy as np\n",
    "np.sum(np.array(users_to_tags['spooky_minecraft__pokemon_']))"
   ]
  },
  {
   "cell_type": "code",
   "execution_count": null,
   "metadata": {
    "collapsed": false
   },
   "outputs": [],
   "source": [
    "np.array([x for x in users_to_tags['spooky_minecraft__pokemon_'] if x > 0])"
   ]
  },
  {
   "cell_type": "code",
   "execution_count": null,
   "metadata": {
    "collapsed": false
   },
   "outputs": [],
   "source": [
    "[x for x in users_to_tags['maddecourcey'] if x > 0]"
   ]
  },
  {
   "cell_type": "code",
   "execution_count": null,
   "metadata": {
    "collapsed": false
   },
   "outputs": [],
   "source": [
    "import numpy.linalg as LA\n",
    "import numpy as np\n",
    "\n",
    "cx = lambda a, b : round(np.inner(a, b)/(LA.norm(a)*LA.norm(b)), 3)"
   ]
  },
  {
   "cell_type": "code",
   "execution_count": null,
   "metadata": {
    "collapsed": false
   },
   "outputs": [],
   "source": [
    "v1 = users_to_tags['spooky_minecraft__pokemon_']\n",
    "v2 = users_to_tags['maddecourcey']\n",
    "\n",
    "cos = cx(v1,v2)\n",
    "cos"
   ]
  },
  {
   "cell_type": "code",
   "execution_count": null,
   "metadata": {
    "collapsed": false
   },
   "outputs": [],
   "source": [
    "# get top matches\n",
    "k = 5\n",
    "person = 'spooky_minecraft__pokemon_'\n",
    "scores = [(cx(users_to_tags[person], users_to_tags[other]),other) for other in all_users if other != person]"
   ]
  },
  {
   "cell_type": "code",
   "execution_count": null,
   "metadata": {
    "collapsed": false
   },
   "outputs": [],
   "source": [
    "max(scores)"
   ]
  },
  {
   "cell_type": "code",
   "execution_count": null,
   "metadata": {
    "collapsed": false
   },
   "outputs": [],
   "source": [
    "scores.sort()\n",
    "scores.reverse()\n",
    "print scores[:k]"
   ]
  },
  {
   "cell_type": "markdown",
   "metadata": {},
   "source": [
    "### Item-based (tag)"
   ]
  },
  {
   "cell_type": "code",
   "execution_count": null,
   "metadata": {
    "collapsed": false
   },
   "outputs": [],
   "source": [
    "tags_to_users = {}\n",
    "for t in all_tags:\n",
    "    tags_to_users[t]=[0]*len(all_users)"
   ]
  },
  {
   "cell_type": "code",
   "execution_count": null,
   "metadata": {
    "collapsed": false
   },
   "outputs": [],
   "source": [
    "for m in all_media:\n",
    "    if hasattr(m, 'tags'):\n",
    "        for t in m.tags:\n",
    "            #if t.name in all_tags:\n",
    "            cur_index = all_users.index(m.user.username)\n",
    "            tags_to_users[t.name][cur_index]+=1"
   ]
  },
  {
   "cell_type": "code",
   "execution_count": null,
   "metadata": {
    "collapsed": false
   },
   "outputs": [],
   "source": [
    "len(tags_to_users['horror'])"
   ]
  },
  {
   "cell_type": "code",
   "execution_count": null,
   "metadata": {
    "collapsed": false
   },
   "outputs": [],
   "source": [
    "# get top matches\n",
    "k = 5\n",
    "tag = 'horror'\n",
    "scores = [(cx(tags_to_users[tag], tags_to_users[other]),other) for other in all_tags if other != tag]\n",
    "\n",
    "scores.sort()\n",
    "scores.reverse()\n",
    "print scores[:k]"
   ]
  },
  {
   "cell_type": "code",
   "execution_count": null,
   "metadata": {
    "collapsed": false
   },
   "outputs": [],
   "source": [
    "# get top matches\n",
    "k = 5\n",
    "tag = 'vampire'\n",
    "scores = [(cx(tags_to_users[tag], tags_to_users[other]),other) for other in all_tags if other != tag]\n",
    "\n",
    "scores.sort()\n",
    "scores.reverse()\n",
    "print scores[:k]"
   ]
  },
  {
   "cell_type": "code",
   "execution_count": null,
   "metadata": {
    "collapsed": false
   },
   "outputs": [],
   "source": [
    "# get top matches\n",
    "k = 5\n",
    "tag = 'spider'\n",
    "scores = [(cx(tags_to_users[tag], tags_to_users[other]),other) for other in all_tags if other != tag]\n",
    "\n",
    "scores.sort()\n",
    "scores.reverse()\n",
    "print scores[:k]"
   ]
  },
  {
   "cell_type": "markdown",
   "metadata": {},
   "source": [
    "### Assignment"
   ]
  },
  {
   "cell_type": "raw",
   "metadata": {},
   "source": [
    "1. Run both user-based and item-based Collaborative Filtering on a chosen dataset (Twitter, Instagram)\n",
    "\n",
    "2. Pick which signals you're using in order to compare (users, instagram_media, hashtags, mentions, RTs)\n",
    "\n",
    "3. Try out two different similarity metrics. How do they compare? What are the advantage/disadvantages of each?\n",
    "\n",
    "4. Bonus: Use a graph to compute similarities between items and make recommendations. How different are these?\n",
    "\n",
    "5. Email me your work... sorry - sitedrop is dying"
   ]
  },
  {
   "cell_type": "code",
   "execution_count": null,
   "metadata": {
    "collapsed": false
   },
   "outputs": [],
   "source": []
  },
  {
   "cell_type": "code",
   "execution_count": null,
   "metadata": {
    "collapsed": false
   },
   "outputs": [],
   "source": []
  },
  {
   "cell_type": "code",
   "execution_count": null,
   "metadata": {
    "collapsed": false
   },
   "outputs": [],
   "source": []
  },
  {
   "cell_type": "code",
   "execution_count": null,
   "metadata": {
    "collapsed": false
   },
   "outputs": [],
   "source": []
  },
  {
   "cell_type": "code",
   "execution_count": null,
   "metadata": {
    "collapsed": false
   },
   "outputs": [],
   "source": []
  },
  {
   "cell_type": "code",
   "execution_count": null,
   "metadata": {
    "collapsed": false
   },
   "outputs": [],
   "source": []
  },
  {
   "cell_type": "code",
   "execution_count": null,
   "metadata": {
    "collapsed": false
   },
   "outputs": [],
   "source": []
  },
  {
   "cell_type": "markdown",
   "metadata": {},
   "source": [
    "### Jaccard Distance"
   ]
  },
  {
   "cell_type": "markdown",
   "metadata": {},
   "source": [
    "Jaccard Distance calculates the relative overlap of two vectors ( a single row of the above user/item matrix). "
   ]
  },
  {
   "cell_type": "code",
   "execution_count": null,
   "metadata": {
    "collapsed": false
   },
   "outputs": [],
   "source": [
    "from IPython.core.display import Image \n",
    "path = '/Users/giladlotan/Documents/ITP Course/code/Week7/'\n",
    "Image(filename=path+'jaccard.png')"
   ]
  },
  {
   "cell_type": "markdown",
   "metadata": {},
   "source": [
    "The overlap (Intersect) is scaled by the overall set size (the union): So let us look at an example two sets from our example data-set X6 and X7\n",
    "\n",
    "x=[1001111010] and y=[0111111111]\n",
    "\n",
    "The intersect is x∩y=5\n",
    "\n",
    "The union is x∪y=10\n",
    "\n",
    "Jacc(x,y)=1−0.5=0.5"
   ]
  },
  {
   "cell_type": "code",
   "execution_count": null,
   "metadata": {
    "collapsed": false
   },
   "outputs": [],
   "source": []
  },
  {
   "cell_type": "raw",
   "metadata": {},
   "source": [
    "Thanks - http://guidetodatamining.com/guide/ch2/DataMining-ch2.pdf"
   ]
  }
 ],
 "metadata": {
  "kernelspec": {
   "display_name": "Python 2",
   "language": "python",
   "name": "python2"
  },
  "language_info": {
   "codemirror_mode": {
    "name": "ipython",
    "version": 2
   },
   "file_extension": ".py",
   "mimetype": "text/x-python",
   "name": "python",
   "nbconvert_exporter": "python",
   "pygments_lexer": "ipython2",
   "version": "2.7.6"
  }
 },
 "nbformat": 4,
 "nbformat_minor": 0
}
