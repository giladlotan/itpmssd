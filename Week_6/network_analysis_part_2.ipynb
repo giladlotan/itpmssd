{
 "cells": [
  {
   "cell_type": "markdown",
   "metadata": {},
   "source": [
    "## Karate Club"
   ]
  },
  {
   "cell_type": "raw",
   "metadata": {},
   "source": [
    "In 1977, anthropologist Wayne Zachary published his study of a small karate club [ZACHARY 1977]. He represented the findings of his ethnographic study as a graph, defined as follows: A line is drawn between two points when the two individuals being represented consistently interacted in contexts outside those of karate classes, workouts, and club meetings.\n",
    "\n",
    "The diagrams below shows two views of the network he constructed, one using an algorithm that simply positions the nodes on a circle, the other using Fruchterman-Reingold (FR), are shown below."
   ]
  },
  {
   "cell_type": "markdown",
   "metadata": {},
   "source": [
    "<img src=\"http://www-rohan.sdsu.edu/~gawron/python_for_ss/course_core/book_draft/_images/karate_club_circular.png\"/>\n",
    "\n",
    "Zachary’s karate club network: View 1 (Circular layout)"
   ]
  },
  {
   "cell_type": "markdown",
   "metadata": {},
   "source": [
    "<img src=\"http://www-rohan.sdsu.edu/~gawron/python_for_ss/course_core/book_draft/_images/karate_club_spring.png\"/>\n",
    "\n",
    "Zachary’s karate club network: View 2 (Fruchterman-Reingold layout)"
   ]
  },
  {
   "cell_type": "raw",
   "metadata": {},
   "source": [
    "Again, choosing the appropriate layout for a graph proves to be revealing. What the figure laid out by FR shows is that there are two key nodes, node 1 (actually the karate club instructor) and node 34, (actually the club president), which are central to different groups within the club. The next figure uses the same layout and colors the two groups differently, based on Zachary’s data. As can be seen, the two subgroups Zachary found (which he called factions) correspond closely to the grouping the force-spring algorithm finds, based on the interconnectedness of the nodes. "
   ]
  },
  {
   "cell_type": "markdown",
   "metadata": {},
   "source": [
    "<img src=\"http://www-rohan.sdsu.edu/~gawron/python_for_ss/course_core/book_draft/_images/karate_factions.png\"/>\n",
    "\n",
    "Zachary’s karate club network: The 2 factions (using community detection)"
   ]
  },
  {
   "cell_type": "code",
   "execution_count": null,
   "metadata": {
    "collapsed": false,
    "scrolled": true
   },
   "outputs": [],
   "source": [
    "import networkx as nx\n",
    "\n",
    "kn=nx.karate_club_graph()\n",
    "print(\"Node Degree\")\n",
    "for v in kn:\n",
    "    print('%s %s' % (v,kn.degree(v)))"
   ]
  },
  {
   "cell_type": "code",
   "execution_count": null,
   "metadata": {
    "collapsed": false,
    "scrolled": true
   },
   "outputs": [],
   "source": [
    "print(\"radius: %d\" % nx.radius(kn)) # min graph eccentricity \n",
    "print(\"diameter: %d\" % nx.diameter(kn)) # longest shortest path\n",
    "print(\"eccentricity: %s\" % nx.eccentricity(kn)) # max graph distance between node and other node of the graph\n",
    "print(\"center: %s\" % nx.center(kn)) # set of nodes with minimum eccentricity\n",
    "print(\"periphery: %s\" % nx.periphery(kn)) # subgraph induced by vertices that have graph eccentricities equal to the graph diameter\n",
    "print(\"density: %s\" % nx.density(kn)) # number of edges is close to the maximal number of edges"
   ]
  },
  {
   "cell_type": "code",
   "execution_count": null,
   "metadata": {
    "collapsed": false
   },
   "outputs": [],
   "source": [
    "# Betweenness Centrality: number of short paths a node is on\n",
    "\n",
    "betweenness = nx.betweenness_centrality(kn)\n",
    "sorted(betweenness.items(), key=lambda x:-x[1])[:10]"
   ]
  },
  {
   "cell_type": "code",
   "execution_count": null,
   "metadata": {
    "collapsed": false
   },
   "outputs": [],
   "source": [
    "# nodes 0 and 33 have highest betweenness scores - thought to be most central people in \n",
    "# this social organization. lets compare with degree centrality\n",
    "# -> results aren't very different\n",
    "\n",
    "deg = nx.degree_centrality(kn)\n",
    "sorted(deg.items(), key=lambda x:-x[1])[:10]"
   ]
  },
  {
   "cell_type": "markdown",
   "metadata": {},
   "source": [
    "## Girvan-Newman Algorithm"
   ]
  },
  {
   "cell_type": "raw",
   "metadata": {},
   "source": [
    "For any node i, vertex betweenness is defined as the number of shortest paths between pairs of nodes that run through it. It is relevant to models where the network modulates transfer of goods between known start/end points, under the assumption that such transfer seeks the shortest available route.\n",
    "\n",
    "The Girvan Newman algorithm extends this defninition to the case of edges - defining the \"edge betweenness\" of an edge as teh number of shortest paths between paris of nodes that run along it. "
   ]
  },
  {
   "cell_type": "code",
   "execution_count": null,
   "metadata": {
    "collapsed": true
   },
   "outputs": [],
   "source": [
    "# Let's implement the algorithm (based off what we did for homework last week)\n",
    "\n",
    "import networkx as nx\n",
    "\n",
    "def find_best_edge(G0):\n",
    "        \"\"\"\n",
    "        Networkx implementation of edge_betweenness\n",
    "        returns a dictionary. Make this into a list,\n",
    "        sort it and return the edge with highest betweenness.\n",
    "        \"\"\"\n",
    "        eb = nx.edge_betweenness_centrality(G0)\n",
    "        eb_il = eb.items()\n",
    "        eb_il.sort(key=lambda x: x[1], reverse=True)\n",
    "        return eb_il[0][0]\n",
    "\n",
    "def girvan_newman(G):\n",
    "\n",
    "    if len(G.nodes()) == 1:\n",
    "        return [G.nodes()]\n",
    "\n",
    "    components = list(nx.connected_component_subgraphs(G))\n",
    "    while len(components) == 1:\n",
    "        G.remove_edge(*find_best_edge(G))\n",
    "        components = list(nx.connected_component_subgraphs(G))\n",
    "\n",
    "    result = [c.nodes() for c in components]\n",
    "\n",
    "    for c in components:\n",
    "        result.extend(girvan_newman(c))\n",
    "\n",
    "    return result"
   ]
  },
  {
   "cell_type": "raw",
   "metadata": {},
   "source": [
    "Note the use of a while loop in line 21. This keeps removing the remaining edge with highest betweenness. Each time an edge is removed we recompute the edge with highest betweenness as well as the components in the graph. When we get two components, the condition for re-entering the while loop fails, and we exit the loop, having succeeded in splitting the graph. For densely connected graphs, many edges may have to be removed to split the graph."
   ]
  },
  {
   "cell_type": "code",
   "execution_count": null,
   "metadata": {
    "collapsed": true
   },
   "outputs": [],
   "source": [
    "gn = girvan_newman(kn)"
   ]
  },
  {
   "cell_type": "code",
   "execution_count": null,
   "metadata": {
    "collapsed": false,
    "scrolled": true
   },
   "outputs": [],
   "source": [
    "gn"
   ]
  },
  {
   "cell_type": "code",
   "execution_count": null,
   "metadata": {
    "collapsed": false
   },
   "outputs": [],
   "source": [
    "print gn[0]\n",
    "print gn[1]"
   ]
  },
  {
   "cell_type": "markdown",
   "metadata": {},
   "source": [
    "## Louvain Modularity"
   ]
  },
  {
   "cell_type": "code",
   "execution_count": null,
   "metadata": {
    "collapsed": false,
    "scrolled": true
   },
   "outputs": [],
   "source": [
    "# pip install python-louvain\n",
    "from community import *\n",
    "\n",
    "part = best_partition(kn) # mapping of node_id -> cluster_id\n",
    "part"
   ]
  },
  {
   "cell_type": "code",
   "execution_count": null,
   "metadata": {
    "collapsed": false
   },
   "outputs": [],
   "source": [
    "# find modularity\n",
    "part = best_partition(kn)\n",
    "mod = modularity(part, kn)\n",
    "print mod"
   ]
  },
  {
   "cell_type": "code",
   "execution_count": null,
   "metadata": {
    "collapsed": false,
    "scrolled": true
   },
   "outputs": [],
   "source": [
    "%pylab inline\n",
    "# color maps here - http://matplotlib.org/examples/color/colormaps_reference.html\n",
    "\n",
    "values = [part.get(node) for node in kn.nodes()]\n",
    "values"
   ]
  },
  {
   "cell_type": "code",
   "execution_count": null,
   "metadata": {
    "collapsed": false
   },
   "outputs": [],
   "source": [
    "pos = nx.spring_layout(kn)\n",
    "nx.draw(kn, pos, cmap = plt.get_cmap('jet'), node_color = values, node_size=800, with_labels=True)"
   ]
  },
  {
   "cell_type": "code",
   "execution_count": null,
   "metadata": {
    "collapsed": false
   },
   "outputs": [],
   "source": [
    "# create histogram of membership to modularity group\n",
    "part_vals = sorted(set(part.values()))\n",
    "part_hist = [part.values().count(x) for x in part_vals]\n",
    "\n",
    "plot(part_vals, part_hist, 'ro-')\n",
    "title('membership to cluster group')\n",
    "xlabel('cluster group #')\n",
    "ylabel('membership size')\n",
    "rcParams['figure.figsize'] = 10,3\n"
   ]
  },
  {
   "cell_type": "markdown",
   "metadata": {},
   "source": [
    "## Onto...  #NationalKaleDay"
   ]
  }
 ],
 "metadata": {
  "kernelspec": {
   "display_name": "Python 2",
   "language": "python",
   "name": "python2"
  },
  "language_info": {
   "codemirror_mode": {
    "name": "ipython",
    "version": 2
   },
   "file_extension": ".py",
   "mimetype": "text/x-python",
   "name": "python",
   "nbconvert_exporter": "python",
   "pygments_lexer": "ipython2",
   "version": "2.7.6"
  }
 },
 "nbformat": 4,
 "nbformat_minor": 0
}
