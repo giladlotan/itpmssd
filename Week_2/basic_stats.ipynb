{
 "cells": [
  {
   "cell_type": "markdown",
   "metadata": {},
   "source": [
    "## Basic Stats"
   ]
  },
  {
   "cell_type": "code",
   "execution_count": null,
   "metadata": {
    "collapsed": false
   },
   "outputs": [],
   "source": [
    "# lets create a normal distribution\n",
    "\n",
    "d = np.random.normal(loc=70.0, scale=3, size=400)"
   ]
  },
  {
   "cell_type": "code",
   "execution_count": null,
   "metadata": {
    "collapsed": false
   },
   "outputs": [],
   "source": [
    "# get the max/min values from our data\n",
    "\n",
    "print 'minimum value:',min(d)\n",
    "print 'maximum value:',max(d)"
   ]
  },
  {
   "cell_type": "code",
   "execution_count": null,
   "metadata": {
    "collapsed": false
   },
   "outputs": [],
   "source": [
    "# print the average\n",
    "print 'avg:', round(sum(d)/len(d),2)"
   ]
  },
  {
   "cell_type": "code",
   "execution_count": null,
   "metadata": {
    "collapsed": false
   },
   "outputs": [],
   "source": [
    "# we can do the same using numpy (very very very useful python library)\n",
    "import numpy as np\n",
    "\n",
    "print 'mean:',np.mean(d)\n",
    "print 'median:',np.median(d)"
   ]
  },
  {
   "cell_type": "code",
   "execution_count": null,
   "metadata": {
    "collapsed": false
   },
   "outputs": [],
   "source": [
    "# lets plot the data\n",
    "%pylab inline\n",
    "figure(figsize=(10,6))\n",
    "\n",
    "plot(d)"
   ]
  },
  {
   "cell_type": "code",
   "execution_count": null,
   "metadata": {
    "collapsed": false
   },
   "outputs": [],
   "source": [
    "figure(figsize=(10,6))\n",
    "plot(sorted(d))"
   ]
  },
  {
   "cell_type": "code",
   "execution_count": null,
   "metadata": {
    "collapsed": false
   },
   "outputs": [],
   "source": [
    "# add mean/media - dotted lines - to our plot\n",
    "\n",
    "figure(figsize=(10,6))\n",
    "hist(d, bins=20, color='c')\n",
    "axvline(np.mean(d), color='b', linestyle='dashed', linewidth=2)\n",
    "axvline(np.median(d), color='r', linestyle='dashed', linewidth=2)"
   ]
  },
  {
   "cell_type": "code",
   "execution_count": null,
   "metadata": {
    "collapsed": false
   },
   "outputs": [],
   "source": [
    "# Let's use standard deviation to measure the spread of the data\n",
    "\n",
    "sqrt(sum([(item-np.mean(d))**2 for item in d])/len(d))"
   ]
  },
  {
   "cell_type": "code",
   "execution_count": null,
   "metadata": {
    "collapsed": false
   },
   "outputs": [],
   "source": [
    "# or simply using numpy\n",
    "\n",
    "print 'std:',np.std(d)"
   ]
  },
  {
   "cell_type": "raw",
   "metadata": {},
   "source": [
    "What does this mean?\n",
    "\n",
    "- because we know our data is normally distributed, we also know that 38.2% of the data sits within 1 std away from the mean. While 95% sit 2std away (2*2.8)"
   ]
  },
  {
   "cell_type": "markdown",
   "metadata": {},
   "source": [
    "## Women's Height"
   ]
  },
  {
   "cell_type": "raw",
   "metadata": {},
   "source": [
    "I grabbed this dataset that contains the heights in inches for 428 women taking an introductory statistics course at a Midwestern college.\n",
    "\n",
    "Source: https://www.statcrunch.com/app/index.php?dataid=1251939"
   ]
  },
  {
   "cell_type": "code",
   "execution_count": null,
   "metadata": {
    "collapsed": false
   },
   "outputs": [],
   "source": [
    "# load the file into a list/array\n",
    "path = '/class/itpmssd/datasets/'\n",
    "filename = 'women_height.txt'\n",
    "f = open(path+filename,'r')\n",
    "\n",
    "d = []\n",
    "for row in f.readlines():\n",
    "    d.append(float(row.strip()))\n",
    "\n",
    "print 'number of items:',len(d)"
   ]
  },
  {
   "cell_type": "code",
   "execution_count": null,
   "metadata": {
    "collapsed": false
   },
   "outputs": [],
   "source": [
    "# get the max/min values from our data\n",
    "\n",
    "print 'minimum value:',min(d)\n",
    "print 'maximum value:',max(d)\n",
    "print 'mean:',np.mean(d)\n",
    "print 'median:',np.median(d)\n",
    "print 'std:',np.std(d)"
   ]
  },
  {
   "cell_type": "code",
   "execution_count": null,
   "metadata": {
    "collapsed": false
   },
   "outputs": [],
   "source": [
    "# add mean/media - dotted lines - to our plot\n",
    "\n",
    "figure(figsize=(10,6))\n",
    "hist(d, bins=20, color='c')\n",
    "axvline(np.mean(d), color='b', linestyle='dashed', linewidth=2)\n",
    "axvline(np.median(d), color='r', linestyle='dashed', linewidth=2)"
   ]
  },
  {
   "cell_type": "markdown",
   "metadata": {},
   "source": [
    "### Box Plot"
   ]
  },
  {
   "cell_type": "raw",
   "metadata": {},
   "source": [
    "Box Plots (\"Box and Whisker plot\" or \"Five Number Summary\") \n",
    "- is a helpful way to find skews in the data; see which way our data sways.\n",
    "\n",
    "- Middle red line: median\n",
    "- The two black lines (top, bottom) represent the min and max values from our data (excluding outliers)\n",
    "- The dotted areas are the lower (25%) and upper (25%) quartiles. \n",
    "- And the middle (above and below the middle red line) represents the center, 50% (or IQR: Inter Quartile Range)"
   ]
  },
  {
   "cell_type": "code",
   "execution_count": null,
   "metadata": {
    "collapsed": false
   },
   "outputs": [],
   "source": [
    "figure(figsize=(10,6))\n",
    "boxplot(d)"
   ]
  },
  {
   "cell_type": "raw",
   "metadata": {},
   "source": [
    "John Tukey, inventor of the Box Plot (1977) picked 1.5xIQR as the demarkation like for outliers\n",
    "points below Q1-1.5xIQR or above Q3+1.5xIQR will be marked as outliers"
   ]
  },
  {
   "cell_type": "code",
   "execution_count": null,
   "metadata": {
    "collapsed": false
   },
   "outputs": [],
   "source": [
    "# if we change values of our data, how does everything change?\n",
    "\n",
    "d+=[84,81,89]"
   ]
  },
  {
   "cell_type": "code",
   "execution_count": null,
   "metadata": {
    "collapsed": false
   },
   "outputs": [],
   "source": [
    "print np.mean(d)\n",
    "print np.median(d)\n",
    "\n",
    "figure(figsize=(10,6))\n",
    "hist(d, bins=20, color='c')\n",
    "\n",
    "# mean in blue, median in red - dashed lines\n",
    "axvline(np.mean(d), color='b', linestyle='dashed', linewidth=2)\n",
    "axvline(np.median(d), color='r', linestyle='dashed', linewidth=2)"
   ]
  },
  {
   "cell_type": "code",
   "execution_count": null,
   "metadata": {
    "collapsed": false
   },
   "outputs": [],
   "source": [
    "figure(figsize=(10,6))\n",
    "boxplot(d)"
   ]
  },
  {
   "cell_type": "code",
   "execution_count": null,
   "metadata": {
    "collapsed": true
   },
   "outputs": [],
   "source": []
  }
 ],
 "metadata": {
  "kernelspec": {
   "display_name": "Python 2",
   "language": "python",
   "name": "python2"
  },
  "language_info": {
   "codemirror_mode": {
    "name": "ipython",
    "version": 2
   },
   "file_extension": ".py",
   "mimetype": "text/x-python",
   "name": "python",
   "nbconvert_exporter": "python",
   "pygments_lexer": "ipython2",
   "version": "2.7.6"
  }
 },
 "nbformat": 4,
 "nbformat_minor": 0
}
