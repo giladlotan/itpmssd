{
 "cells": [
  {
   "cell_type": "markdown",
   "metadata": {},
   "source": [
    "### Instagram API"
   ]
  },
  {
   "cell_type": "raw",
   "metadata": {},
   "source": [
    "Go here to register your application - http://instagram.com/developer/\n",
    "We need to generate an Oauth token and use the client_id, client_secret when making calls to the IG api.\n",
    "\n",
    "We'll be using a python wrapper (makes things much simpler) which you should intall by running the following\n",
    "command in your remote machine:\n",
    "\n",
    "pip install python-instagram\n",
    "\n",
    "Full documentation of the python library here: https://github.com/Instagram/python-instagram"
   ]
  },
  {
   "cell_type": "code",
   "execution_count": null,
   "metadata": {
    "collapsed": false
   },
   "outputs": [],
   "source": [
    "client_id = ''\n",
    "client_secret = ''\n",
    "\n",
    "from instagram.client import InstagramAPI\n",
    "\n",
    "api = InstagramAPI(client_id=client_id, client_secret=client_secret)"
   ]
  },
  {
   "cell_type": "markdown",
   "metadata": {},
   "source": [
    "### Instagram Tag Count"
   ]
  },
  {
   "cell_type": "code",
   "execution_count": null,
   "metadata": {
    "collapsed": false
   },
   "outputs": [],
   "source": [
    "# get ig tag info -> how many IG posts have the given hashtag\n",
    "used_tag = 'itpnyu'\n",
    "num_media_tag = api.tag(used_tag).media_count\n",
    "print num_media_tag"
   ]
  },
  {
   "cell_type": "code",
   "execution_count": null,
   "metadata": {
    "collapsed": false
   },
   "outputs": [],
   "source": [
    "# get ig tag info\n",
    "used_tag = 'GOPdebate'\n",
    "num_media_tag = api.tag(used_tag).media_count\n",
    "print num_media_tag"
   ]
  },
  {
   "cell_type": "code",
   "execution_count": null,
   "metadata": {
    "collapsed": false
   },
   "outputs": [],
   "source": [
    "# get ig tag info\n",
    "used_tag = 'IStandWithAhmed'\n",
    "num_media_tag = api.tag(used_tag).media_count\n",
    "print num_media_tag"
   ]
  },
  {
   "cell_type": "markdown",
   "metadata": {},
   "source": [
    "### Instagram Media"
   ]
  },
  {
   "cell_type": "code",
   "execution_count": null,
   "metadata": {
    "collapsed": false,
    "scrolled": true
   },
   "outputs": [],
   "source": [
    "# get ig media based on tag\n",
    "\n",
    "max_tag_id = 0\n",
    "media_per_query = 33\n",
    "ans = api.tag_recent_media(media_per_query, max_tag_id, used_tag)\n",
    "ans"
   ]
  },
  {
   "cell_type": "code",
   "execution_count": null,
   "metadata": {
    "collapsed": false
   },
   "outputs": [],
   "source": [
    "print len(ans[0])"
   ]
  },
  {
   "cell_type": "code",
   "execution_count": null,
   "metadata": {
    "collapsed": false
   },
   "outputs": [],
   "source": [
    "print ans[1]"
   ]
  },
  {
   "cell_type": "code",
   "execution_count": null,
   "metadata": {
    "collapsed": true
   },
   "outputs": [],
   "source": [
    "# a more intuitive way to store the results is by using multiple variables\n",
    "\n",
    "ans_media, next_ = api.tag_recent_media(media_per_query, max_tag_id, used_tag)"
   ]
  },
  {
   "cell_type": "code",
   "execution_count": null,
   "metadata": {
    "collapsed": false
   },
   "outputs": [],
   "source": [
    "print next_"
   ]
  },
  {
   "cell_type": "code",
   "execution_count": null,
   "metadata": {
    "collapsed": false
   },
   "outputs": [],
   "source": [
    "# attributes that our IG media object has:\n",
    "\n",
    "all_media = []\n",
    "\n",
    "for m in ans_media:\n",
    "    print m.created_time\n",
    "    print m.id\n",
    "    print m.user\n",
    "    print m.link\n",
    "    print ''\n",
    "    all_media.append(m)"
   ]
  },
  {
   "cell_type": "code",
   "execution_count": null,
   "metadata": {
    "collapsed": false
   },
   "outputs": [],
   "source": [
    "ans[1]"
   ]
  },
  {
   "cell_type": "code",
   "execution_count": null,
   "metadata": {
    "collapsed": false
   },
   "outputs": [],
   "source": [
    "from urlparse import urlparse\n",
    "\n",
    "parsed = urlparse(next_)\n",
    "print parsed\n",
    "print parsed.query\n",
    "print ''\n",
    "print {a:b for a,b in [x.split('=') for x in parsed.query.split('&')]}"
   ]
  },
  {
   "cell_type": "code",
   "execution_count": null,
   "metadata": {
    "collapsed": false
   },
   "outputs": [],
   "source": [
    "# lets make a function out of this -> parse out the max_tag_id parameter\n",
    "\n",
    "def extract_max_tag_id(txt):\n",
    "    parsed = urlparse(txt)\n",
    "    params = {a:b for a,b in [x.split('=') for x in parsed.query.split('&')]}\n",
    "    return params['max_tag_id']\n"
   ]
  },
  {
   "cell_type": "code",
   "execution_count": null,
   "metadata": {
    "collapsed": false
   },
   "outputs": [],
   "source": [
    "max_tag_id = 0\n",
    "media_per_query = 33\n",
    "\n",
    "all_media, next_ = api.tag_recent_media(media_per_query, max_tag_id, used_tag)\n",
    "\n",
    "while next_:\n",
    "    more_media, next_ = api.tag_recent_media(count=media_per_query, tag_name=used_tag, with_next_url=next_)\n",
    "    all_media.extend(more_media)\n",
    "        \n",
    "    print len(all_media)\n",
    "\n",
    "    # get next max_tag_id\n",
    "    #max_tag_id = extract_max_tag_id(ans[1])\n",
    "    "
   ]
  },
  {
   "cell_type": "code",
   "execution_count": null,
   "metadata": {
    "collapsed": false
   },
   "outputs": [],
   "source": [
    "len(all_media)"
   ]
  },
  {
   "cell_type": "code",
   "execution_count": null,
   "metadata": {
    "collapsed": false
   },
   "outputs": [],
   "source": [
    "import pickle\n",
    "path = '/class/itpmssd/datasets/'\n",
    "\n",
    "pickle.dump(all_media, open(path+'%s_ig.p' % used_tag,'wb'))"
   ]
  },
  {
   "cell_type": "code",
   "execution_count": null,
   "metadata": {
    "collapsed": false
   },
   "outputs": [],
   "source": [
    "import pickle\n",
    "path = '/class/itpmssd/datasets/'\n",
    "\n",
    "all_media = pickle.load(open(path+'%s_ig.p' % used_tag,'rb'))"
   ]
  },
  {
   "cell_type": "markdown",
   "metadata": {},
   "source": [
    "### Let's look at our data"
   ]
  },
  {
   "cell_type": "code",
   "execution_count": null,
   "metadata": {
    "collapsed": false,
    "scrolled": true
   },
   "outputs": [],
   "source": [
    "# returns a list of valid attributes for the given object -> IG media object / class\n",
    "\n",
    "dir(all_media[0])"
   ]
  },
  {
   "cell_type": "code",
   "execution_count": null,
   "metadata": {
    "collapsed": false
   },
   "outputs": [],
   "source": [
    "# users\n",
    "users = set([m.user.username for m in all_media])\n",
    "len(users)"
   ]
  },
  {
   "cell_type": "code",
   "execution_count": null,
   "metadata": {
    "collapsed": false
   },
   "outputs": [],
   "source": [
    "# Show ten most liked IG posts\n",
    "\n",
    "for m in sorted(all_media, key=lambda x: -x.like_count)[:10]:\n",
    "    print m.like_count, m.caption, m.link, '\\n'"
   ]
  },
  {
   "cell_type": "code",
   "execution_count": null,
   "metadata": {
    "collapsed": false
   },
   "outputs": [],
   "source": [
    "# comments - 10 most commented on post\n",
    "\n",
    "for m in sorted(all_media, key=lambda x: -x.comment_count)[:10]:\n",
    "    print m.like_count, m.caption, m.link, '\\n'"
   ]
  },
  {
   "cell_type": "code",
   "execution_count": null,
   "metadata": {
    "collapsed": false
   },
   "outputs": [],
   "source": [
    "# comments - most commented on post\n",
    "\n",
    "for m in sorted(all_media, key=lambda x: -x.like_count)[:20]:\n",
    "    print m.like_count, m.comment_count, m.link"
   ]
  },
  {
   "cell_type": "code",
   "execution_count": null,
   "metadata": {
    "collapsed": false,
    "scrolled": true
   },
   "outputs": [],
   "source": [
    "# use pandas - plot over time\n",
    "import pandas as pd\n",
    "\n",
    "df = pd.DataFrame({'times':[m.created_time for m in all_media], 'users':[m.user.username for m in all_media], 'posts':[m.link for m in all_media]})"
   ]
  },
  {
   "cell_type": "code",
   "execution_count": null,
   "metadata": {
    "collapsed": false
   },
   "outputs": [],
   "source": [
    "def make_date(d):\n",
    "    d = d.replace(second=0, minute=0)\n",
    "    return d\n",
    "\n",
    "df['dt']=df[['times']].apply(lambda x: make_date(x['times']), axis=1)"
   ]
  },
  {
   "cell_type": "code",
   "execution_count": null,
   "metadata": {
    "collapsed": false,
    "scrolled": true
   },
   "outputs": [],
   "source": [
    "df.set_index('dt')"
   ]
  },
  {
   "cell_type": "code",
   "execution_count": null,
   "metadata": {
    "collapsed": false
   },
   "outputs": [],
   "source": [
    "%pylab inline\n",
    "\n",
    "df.groupby(df.dt).size().plot(figsize=(20,6))"
   ]
  },
  {
   "cell_type": "code",
   "execution_count": null,
   "metadata": {
    "collapsed": true
   },
   "outputs": [],
   "source": [
    "df[-10:]"
   ]
  },
  {
   "cell_type": "code",
   "execution_count": null,
   "metadata": {
    "collapsed": false
   },
   "outputs": [],
   "source": [
    "df.groupby(df.dt).size()['2015-09-15':].plot(figsize=(20,6))"
   ]
  },
  {
   "cell_type": "code",
   "execution_count": null,
   "metadata": {
    "collapsed": true
   },
   "outputs": [],
   "source": []
  },
  {
   "cell_type": "code",
   "execution_count": null,
   "metadata": {
    "collapsed": false
   },
   "outputs": [],
   "source": [
    "%pylab inline\n",
    "\n",
    "l = [m.like_count for m in all_media]\n",
    "c = [m.comment_count for m in all_media]\n",
    "\n",
    "# let's plot the relationship between these two variables\n",
    "\n",
    "scatter(l,c,s=50,alpha=.1)\n",
    "title('likes vs. comments')\n",
    "ylabel('comment count')\n",
    "xlabel('like count')\n"
   ]
  },
  {
   "cell_type": "code",
   "execution_count": null,
   "metadata": {
    "collapsed": false
   },
   "outputs": [],
   "source": [
    "l_log = [log(m.like_count) for m in all_media]\n",
    "c_log = [log(m.comment_count) for m in all_media]\n",
    "\n",
    "# let's plot the relationship between these two variables\n",
    "rcParams['figure.figsize'] = 12,6\n",
    "scatter(l_log,c_log,s=50,alpha=.1)\n",
    "title('likes vs. comments')\n",
    "ylabel('comment count')\n",
    "xlabel('like count')\n"
   ]
  },
  {
   "cell_type": "raw",
   "metadata": {},
   "source": [
    "In the future we'll want to be able to describe the relationship between the two variables -> is there a general patterns? Given one can we predict the other?\n",
    "\n",
    "We will come back to:\n",
    "- curve fitting\n",
    "- least squares regression"
   ]
  },
  {
   "cell_type": "markdown",
   "metadata": {},
   "source": [
    "### tags"
   ]
  },
  {
   "cell_type": "code",
   "execution_count": null,
   "metadata": {
    "collapsed": false
   },
   "outputs": [],
   "source": [
    "from collections import Counter\n",
    "\n",
    "#all_tags = [t.name for t in m.tags for m in all_media if hasattr(m, 'tags')]"
   ]
  },
  {
   "cell_type": "code",
   "execution_count": null,
   "metadata": {
    "collapsed": false
   },
   "outputs": [],
   "source": [
    "all_tags = []\n",
    "for m in all_media:\n",
    "    if hasattr(m, 'tags'):\n",
    "        all_tags += [t.name for t in m.tags]"
   ]
  },
  {
   "cell_type": "code",
   "execution_count": null,
   "metadata": {
    "collapsed": false
   },
   "outputs": [],
   "source": [
    "counted_tags = Counter(all_tags)\n",
    "counted_tags.most_common(40)"
   ]
  },
  {
   "cell_type": "markdown",
   "metadata": {},
   "source": [
    "### location"
   ]
  },
  {
   "cell_type": "code",
   "execution_count": null,
   "metadata": {
    "collapsed": false
   },
   "outputs": [],
   "source": [
    "# check if the object - m - has a location attribute\n",
    "location_names = set([m.location.name for m in all_media if hasattr(m, 'location')])\n",
    "len(location_names)\n",
    "location_names"
   ]
  },
  {
   "cell_type": "code",
   "execution_count": null,
   "metadata": {
    "collapsed": false
   },
   "outputs": [],
   "source": [
    "locations = {m.user.username:m.location for m in all_media if hasattr(m, 'location')}"
   ]
  },
  {
   "cell_type": "code",
   "execution_count": null,
   "metadata": {
    "collapsed": false
   },
   "outputs": [],
   "source": [
    "for u,loc in locations.items()[:10]:\n",
    "    print u,loc"
   ]
  },
  {
   "cell_type": "code",
   "execution_count": null,
   "metadata": {
    "collapsed": false
   },
   "outputs": [],
   "source": [
    "user_loc = locations['kashie333']\n",
    "\n",
    "print user_loc.id\n",
    "print user_loc.name\n",
    "print user_loc.point.latitude\n",
    "print user_loc.point.longitude"
   ]
  },
  {
   "cell_type": "code",
   "execution_count": null,
   "metadata": {
    "collapsed": false
   },
   "outputs": [],
   "source": [
    "# pip install geopy\n",
    "# reverse geo-lookup -> for more geographic information\n",
    "import json\n",
    "from geopy.geocoders import Nominatim\n",
    "geolocator = Nominatim()\n",
    "\n",
    "location = geolocator.reverse((user_loc.point.latitude, user_loc.point.longitude))\n",
    "print location.address\n",
    "print json.dumps(location.raw, indent=1)\n"
   ]
  },
  {
   "cell_type": "code",
   "execution_count": null,
   "metadata": {
    "collapsed": true
   },
   "outputs": [],
   "source": []
  },
  {
   "cell_type": "code",
   "execution_count": null,
   "metadata": {
    "collapsed": true
   },
   "outputs": [],
   "source": []
  },
  {
   "cell_type": "code",
   "execution_count": null,
   "metadata": {
    "collapsed": true
   },
   "outputs": [],
   "source": []
  }
 ],
 "metadata": {
  "kernelspec": {
   "display_name": "Python 2",
   "language": "python",
   "name": "python2"
  },
  "language_info": {
   "codemirror_mode": {
    "name": "ipython",
    "version": 2
   },
   "file_extension": ".py",
   "mimetype": "text/x-python",
   "name": "python",
   "nbconvert_exporter": "python",
   "pygments_lexer": "ipython2",
   "version": "2.7.6"
  }
 },
 "nbformat": 4,
 "nbformat_minor": 0
}
